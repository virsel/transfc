{
 "cells": [
  {
   "cell_type": "code",
   "execution_count": 10,
   "metadata": {},
   "outputs": [
    {
     "name": "stdout",
     "output_type": "stream",
     "text": [
      "<class 'pandas.core.frame.DataFrame'>\n",
      "RangeIndex: 157789 entries, 0 to 157788\n",
      "Data columns (total 3 columns):\n",
      " #   Column  Non-Null Count   Dtype \n",
      "---  ------  --------------   ----- \n",
      " 0   id      157789 non-null  object\n",
      " 1   text    157789 non-null  object\n",
      " 2   label   157789 non-null  int64 \n",
      "dtypes: int64(1), object(2)\n",
      "memory usage: 3.6+ MB\n"
     ]
    }
   ],
   "source": [
    "# read csv with pandas\n",
    "import pandas as pd\n",
    "\n",
    "data_path = '../data_input/train.csv'\n",
    "df = pd.read_csv(data_path, usecols=['id', 'text', 'label'])\n",
    "df.info()"
   ]
  },
  {
   "cell_type": "code",
   "execution_count": 4,
   "metadata": {},
   "outputs": [],
   "source": [
    "import lightning as L\n",
    "import torch.nn as nn\n",
    "import torch\n",
    "import torch.nn.functional as F"
   ]
  },
  {
   "cell_type": "code",
   "execution_count": 13,
   "metadata": {},
   "outputs": [],
   "source": [
    "from dataclasses import dataclass\n",
    "from pathlib import Path\n",
    "\n",
    "@dataclass\n",
    "class Config:\n",
    "    vocab_size: int\n",
    "    n_embd: int\n",
    "    n_hidden: int\n",
    "    batch_size: int\n",
    "    context_length: int\n",
    "    n_workers: int\n",
    "    # /path/to/save/checkpoints\n",
    "    ckpt_path = None\n",
    "    dropout = 0.1\n",
    "    checkpoint_dir: Path = Path(\"../output/checkpoints/\").absolute()\n",
    "\n",
    "\n",
    "def get_default_config() -> Config:\n",
    "    cfg =  Config(\n",
    "        n_workers=1,\n",
    "        vocab_size=5001,\n",
    "        n_embd=16,\n",
    "        n_hidden=64,\n",
    "        batch_size=32,\n",
    "        context_length=32,\n",
    "    )\n",
    "\n",
    "    # Get the latest checkpoint file path\n",
    "    latest_ckpt_file = sorted(cfg.checkpoint_dir.glob('*.ckpt'), key=lambda x: x.stat().st_mtime, reverse=True)\n",
    "    cfg.ckpt_path = None if latest_ckpt_file == [] else latest_ckpt_file[0]\n",
    "    return cfg\n",
    "\n",
    "cfg = get_default_config()"
   ]
  },
  {
   "cell_type": "code",
   "execution_count": 36,
   "metadata": {},
   "outputs": [],
   "source": [
    "class Head(nn.Module):\n",
    "    \"\"\" one head of self-attention \"\"\"\n",
    "\n",
    "    def __init__(self, head_size):\n",
    "        super().__init__()\n",
    "        self.key = nn.Linear(cfg.n_embd, head_size, bias=False)\n",
    "        self.query = nn.Linear(cfg.n_embd, head_size, bias=False)\n",
    "        self.value = nn.Linear(cfg.n_embd, head_size, bias=False)\n",
    "        self.register_buffer('tril', torch.tril(torch.ones(cfg.context_length, cfg.context_length)))\n",
    "\n",
    "        self.dropout = nn.Dropout(cfg.dropout)\n",
    "\n",
    "    def forward(self, x):\n",
    "        B,T,C = x.shape\n",
    "        k = self.key(x)   # (B,T,C)\n",
    "        q = self.query(x) # (B,T,C)\n",
    "        # compute attention scores (\"affinities\")\n",
    "        wei = q @ k.transpose(-2,-1) * C**-0.5 # (B, T, C) @ (B, C, T) -> (B, T, T)\n",
    "        wei = wei.masked_fill(self.tril[:T, :T] == 0, float('-inf')) # (B, T, T)\n",
    "        wei = F.softmax(wei, dim=-1) # (B, T, T)\n",
    "        wei = self.dropout(wei)\n",
    "        # perform the weighted aggregation of the values\n",
    "        v = self.value(x) # (B,T,C)\n",
    "        out = wei @ v # (B, T, T) @ (B, T, C) -> (B, T, C)\n",
    "        return out\n",
    "\n",
    "class MultiHeadAttention(nn.Module):\n",
    "    \"\"\" multiple heads of self-attention in parallel \"\"\"\n",
    "\n",
    "    def __init__(self, num_heads, head_size):\n",
    "        super().__init__()\n",
    "        self.heads = nn.ModuleList([Head(head_size) for _ in range(num_heads)])\n",
    "        self.proj = nn.Linear(cfg.n_embd, cfg.n_embd)\n",
    "        self.dropout = nn.Dropout(cfg.dropout)\n",
    "\n",
    "    def forward(self, x):\n",
    "        out = torch.cat([h(x) for h in self.heads], dim=-1)\n",
    "        out = self.dropout(self.proj(out))\n",
    "        return out\n",
    "\n",
    "class FeedFoward(nn.Module):\n",
    "    \"\"\" a simple linear layer followed by a non-linearity \"\"\"\n",
    "\n",
    "    def __init__(self, n_embd):\n",
    "        super().__init__()\n",
    "        self.net = nn.Sequential(\n",
    "            nn.Linear(n_embd, 4 * n_embd),\n",
    "            nn.ReLU(),\n",
    "            nn.Linear(4 * n_embd, n_embd),\n",
    "            nn.Dropout(cfg.dropout),\n",
    "        )\n",
    "\n",
    "    def forward(self, x):\n",
    "        return self.net(x)\n",
    "\n",
    "class Block(nn.Module):\n",
    "    \"\"\" Transformer block: communication followed by computation \"\"\"\n",
    "\n",
    "    def __init__(self, n_embd, n_head):\n",
    "        # n_embd: embedding dimension, n_head: the number of heads we'd like\n",
    "        super().__init__()\n",
    "        head_size = n_embd // n_head\n",
    "        self.sa = MultiHeadAttention(n_head, head_size)\n",
    "        self.ffwd = FeedFoward(n_embd)\n",
    "        self.ln1 = nn.LayerNorm(n_embd)\n",
    "        self.ln2 = nn.LayerNorm(n_embd)\n",
    "\n",
    "    def forward(self, x):\n",
    "        x = x + self.sa(self.ln1(x))\n",
    "        x = x + self.ffwd(self.ln2(x))\n",
    "        return x\n",
    "\n",
    "class TransfEncModel(L.LightningModule):\n",
    "    def __init__(self, cfg: Config, n_classes=5):\n",
    "        super().__init__()\n",
    "        # each token directly reads off the logits for the next token from a lookup table\n",
    "        self.token_embedding_table = nn.Embedding(cfg.vocab_size, cfg.n_embd)\n",
    "        self.position_embedding_table = nn.Embedding(cfg.context_length, cfg.n_embd)\n",
    "        self.blocks = nn.Sequential(*[Block(cfg.n_embd, n_head=1) for _ in range(1)])\n",
    "        self.ln_f = nn.LayerNorm(cfg.n_embd) # final layer norm\n",
    "        self.lm_head = nn.Linear(cfg.context_length * cfg.n_embd, n_classes)\n",
    "\n",
    "    def forward(self, idx):\n",
    "        B, T = idx.shape\n",
    "\n",
    "        # idx and targets are both (B,T) tensor of integers\n",
    "        tok_emb = self.token_embedding_table(idx) # (B,T,C)\n",
    "        pos_emb = self.position_embedding_table(torch.arange(T, device=self.device)) # (T,C)\n",
    "        x = tok_emb + pos_emb # (B,T,C)\n",
    "        x = self.blocks(x) # (B,T,C)\n",
    "        x = self.ln_f(x) # (B,T,C)\n",
    "        B, T, C = x.shape\n",
    "        x = x.view(B, T*C)  # (B,T,C) -> (B, T*C)\n",
    "        logits = self.lm_head(x) # (B,n_classes)\n",
    "\n",
    "        return logits\n",
    "\n",
    "    def training_step(self, batch, batch_idx):\n",
    "        inputs, target = batch\n",
    "        output = self(inputs)\n",
    "        loss = torch.nn.functional.cross_entropy(output, target.view(-1))\n",
    "        # lossi.append(loss.log10().item())\n",
    "        # with torch.no_grad():\n",
    "        # lr = optimizer.param_groups[0]['lr']\n",
    "        # ud.append([((lr*p.grad).std() / p.output.std()).log10().item() for p in model.parameters()])\n",
    "        # logs metrics for each training_step,\n",
    "        # and the average across the epoch, to the progress bar and logger\n",
    "        self.log(\n",
    "            \"train_loss\", loss, on_epoch=True, prog_bar=True, logger=True, sync_dist=True\n",
    "        )\n",
    "        return loss\n",
    "\n",
    "    def configure_optimizers(self):\n",
    "        return torch.optim.AdamW(self.parameters(), lr=0.001, weight_decay=0.01)\n",
    "\n",
    "    def validation_step(self, batch, batch_idx):\n",
    "        inputs, target = batch\n",
    "        output = self(inputs)\n",
    "        loss = torch.nn.functional.cross_entropy(output, target.view(-1))\n",
    "        self.log(\"val_loss\", loss, on_step=True, on_epoch=True,prog_bar=True, sync_dist=True)\n",
    "        return loss"
   ]
  },
  {
   "cell_type": "code",
   "execution_count": 26,
   "metadata": {},
   "outputs": [
    {
     "name": "stdout",
     "output_type": "stream",
     "text": [
      "Vocab size: 5001\n"
     ]
    }
   ],
   "source": [
    "# split X and Y into train and val, stratify by Y\n",
    "import sys\n",
    "sys.path.append(\".\")\n",
    "\n",
    "from script.data import get_train_test_split\n",
    "\n",
    "Xtr, Xval, Ytr, Yval = get_train_test_split(\n",
    "    df[\"text\"], df[\"label\"], context_length=cfg.context_length, test_size=0.2\n",
    ")"
   ]
  },
  {
   "cell_type": "code",
   "execution_count": 27,
   "metadata": {},
   "outputs": [
    {
     "data": {
      "text/plain": [
       "(torch.Size([126231, 32]), torch.Size([31558, 32]))"
      ]
     },
     "execution_count": 27,
     "metadata": {},
     "output_type": "execute_result"
    }
   ],
   "source": [
    "Xtr.shape, Xval.shape"
   ]
  },
  {
   "cell_type": "code",
   "execution_count": 37,
   "metadata": {},
   "outputs": [
    {
     "data": {
      "text/plain": [
       "86357"
      ]
     },
     "execution_count": 37,
     "metadata": {},
     "output_type": "execute_result"
    }
   ],
   "source": [
    "model = TransfEncModel(cfg)\n",
    "sum([p.nelement() for p in model.parameters()])"
   ]
  },
  {
   "cell_type": "code",
   "execution_count": 38,
   "metadata": {},
   "outputs": [],
   "source": [
    "layers = list(model.modules())[1:]"
   ]
  },
  {
   "cell_type": "code",
   "execution_count": 39,
   "metadata": {},
   "outputs": [],
   "source": [
    "# Define the forward hook function\n",
    "def forward_hook(module, input, output):\n",
    "    module.out = output  # Store output in the module itself\n",
    "    # module.out.retain_grad()  # Tell PyTorch to keep the gradient"
   ]
  },
  {
   "cell_type": "code",
   "execution_count": 40,
   "metadata": {},
   "outputs": [
    {
     "name": "stdout",
     "output_type": "stream",
     "text": [
      "Embedding(5001, 16)\n",
      "Embedding(32, 16)\n",
      "Sequential(\n",
      "  (0): Block(\n",
      "    (sa): MultiHeadAttention(\n",
      "      (heads): ModuleList(\n",
      "        (0): Head(\n",
      "          (key): Linear(in_features=16, out_features=16, bias=False)\n",
      "          (query): Linear(in_features=16, out_features=16, bias=False)\n",
      "          (value): Linear(in_features=16, out_features=16, bias=False)\n",
      "          (dropout): Dropout(p=0.1, inplace=False)\n",
      "        )\n",
      "      )\n",
      "      (proj): Linear(in_features=16, out_features=16, bias=True)\n",
      "      (dropout): Dropout(p=0.1, inplace=False)\n",
      "    )\n",
      "    (ffwd): FeedFoward(\n",
      "      (net): Sequential(\n",
      "        (0): Linear(in_features=16, out_features=64, bias=True)\n",
      "        (1): ReLU()\n",
      "        (2): Linear(in_features=64, out_features=16, bias=True)\n",
      "        (3): Dropout(p=0.1, inplace=False)\n",
      "      )\n",
      "    )\n",
      "    (ln1): LayerNorm((16,), eps=1e-05, elementwise_affine=True)\n",
      "    (ln2): LayerNorm((16,), eps=1e-05, elementwise_affine=True)\n",
      "  )\n",
      ")\n",
      "Block(\n",
      "  (sa): MultiHeadAttention(\n",
      "    (heads): ModuleList(\n",
      "      (0): Head(\n",
      "        (key): Linear(in_features=16, out_features=16, bias=False)\n",
      "        (query): Linear(in_features=16, out_features=16, bias=False)\n",
      "        (value): Linear(in_features=16, out_features=16, bias=False)\n",
      "        (dropout): Dropout(p=0.1, inplace=False)\n",
      "      )\n",
      "    )\n",
      "    (proj): Linear(in_features=16, out_features=16, bias=True)\n",
      "    (dropout): Dropout(p=0.1, inplace=False)\n",
      "  )\n",
      "  (ffwd): FeedFoward(\n",
      "    (net): Sequential(\n",
      "      (0): Linear(in_features=16, out_features=64, bias=True)\n",
      "      (1): ReLU()\n",
      "      (2): Linear(in_features=64, out_features=16, bias=True)\n",
      "      (3): Dropout(p=0.1, inplace=False)\n",
      "    )\n",
      "  )\n",
      "  (ln1): LayerNorm((16,), eps=1e-05, elementwise_affine=True)\n",
      "  (ln2): LayerNorm((16,), eps=1e-05, elementwise_affine=True)\n",
      ")\n",
      "MultiHeadAttention(\n",
      "  (heads): ModuleList(\n",
      "    (0): Head(\n",
      "      (key): Linear(in_features=16, out_features=16, bias=False)\n",
      "      (query): Linear(in_features=16, out_features=16, bias=False)\n",
      "      (value): Linear(in_features=16, out_features=16, bias=False)\n",
      "      (dropout): Dropout(p=0.1, inplace=False)\n",
      "    )\n",
      "  )\n",
      "  (proj): Linear(in_features=16, out_features=16, bias=True)\n",
      "  (dropout): Dropout(p=0.1, inplace=False)\n",
      ")\n",
      "ModuleList(\n",
      "  (0): Head(\n",
      "    (key): Linear(in_features=16, out_features=16, bias=False)\n",
      "    (query): Linear(in_features=16, out_features=16, bias=False)\n",
      "    (value): Linear(in_features=16, out_features=16, bias=False)\n",
      "    (dropout): Dropout(p=0.1, inplace=False)\n",
      "  )\n",
      ")\n",
      "Head(\n",
      "  (key): Linear(in_features=16, out_features=16, bias=False)\n",
      "  (query): Linear(in_features=16, out_features=16, bias=False)\n",
      "  (value): Linear(in_features=16, out_features=16, bias=False)\n",
      "  (dropout): Dropout(p=0.1, inplace=False)\n",
      ")\n",
      "Linear(in_features=16, out_features=16, bias=False)\n",
      "Linear(in_features=16, out_features=16, bias=False)\n",
      "Linear(in_features=16, out_features=16, bias=False)\n",
      "Dropout(p=0.1, inplace=False)\n",
      "Linear(in_features=16, out_features=16, bias=True)\n",
      "Dropout(p=0.1, inplace=False)\n",
      "FeedFoward(\n",
      "  (net): Sequential(\n",
      "    (0): Linear(in_features=16, out_features=64, bias=True)\n",
      "    (1): ReLU()\n",
      "    (2): Linear(in_features=64, out_features=16, bias=True)\n",
      "    (3): Dropout(p=0.1, inplace=False)\n",
      "  )\n",
      ")\n",
      "Sequential(\n",
      "  (0): Linear(in_features=16, out_features=64, bias=True)\n",
      "  (1): ReLU()\n",
      "  (2): Linear(in_features=64, out_features=16, bias=True)\n",
      "  (3): Dropout(p=0.1, inplace=False)\n",
      ")\n",
      "Linear(in_features=16, out_features=64, bias=True)\n",
      "ReLU()\n",
      "Linear(in_features=64, out_features=16, bias=True)\n",
      "Dropout(p=0.1, inplace=False)\n",
      "LayerNorm((16,), eps=1e-05, elementwise_affine=True)\n",
      "LayerNorm((16,), eps=1e-05, elementwise_affine=True)\n",
      "LayerNorm((16,), eps=1e-05, elementwise_affine=True)\n"
     ]
    }
   ],
   "source": [
    "# loop over model layers except the last one\n",
    "for layer in layers[:-1]:\n",
    "  layer.register_forward_hook(forward_hook)\n",
    "  print(layer)"
   ]
  },
  {
   "cell_type": "code",
   "execution_count": 32,
   "metadata": {},
   "outputs": [],
   "source": [
    "# train with pytorch lightning\n",
    "from torch.utils.data import DataLoader, TensorDataset\n",
    "\n",
    "train_dataset = TensorDataset(Xtr, Ytr)\n",
    "val_dataset = TensorDataset(Xval, Yval)\n",
    "\n",
    "train_loader = DataLoader(train_dataset, batch_size=cfg.batch_size, shuffle=True)\n",
    "val_loader = DataLoader(val_dataset, batch_size=cfg.batch_size, shuffle=False)"
   ]
  },
  {
   "cell_type": "code",
   "execution_count": 42,
   "metadata": {},
   "outputs": [
    {
     "name": "stderr",
     "output_type": "stream",
     "text": [
      "GPU available: False, used: False\n",
      "TPU available: False, using: 0 TPU cores\n",
      "IPU available: False, using: 0 IPUs\n"
     ]
    },
    {
     "name": "stderr",
     "output_type": "stream",
     "text": [
      "HPU available: False, using: 0 HPUs\n",
      "\n",
      "  | Name                     | Type       | Params\n",
      "--------------------------------------------------------\n",
      "0 | token_embedding_table    | Embedding  | 80.0 K\n",
      "1 | position_embedding_table | Embedding  | 512   \n",
      "2 | blocks                   | Sequential | 3.2 K \n",
      "3 | ln_f                     | LayerNorm  | 32    \n",
      "4 | lm_head                  | Linear     | 2.6 K \n",
      "--------------------------------------------------------\n",
      "86.4 K    Trainable params\n",
      "0         Non-trainable params\n",
      "86.4 K    Total params\n",
      "0.345     Total estimated model params size (MB)\n"
     ]
    },
    {
     "data": {
      "application/vnd.jupyter.widget-view+json": {
       "model_id": "a78093926e6441e1ae3d637fb5e307de",
       "version_major": 2,
       "version_minor": 0
      },
      "text/plain": [
       "Sanity Checking: |          | 0/? [00:00<?, ?it/s]"
      ]
     },
     "metadata": {},
     "output_type": "display_data"
    },
    {
     "name": "stderr",
     "output_type": "stream",
     "text": [
      "c:\\Users\\paul-\\anaconda3\\envs\\ml_angew_programm\\lib\\site-packages\\lightning\\pytorch\\trainer\\connectors\\data_connector.py:441: The 'val_dataloader' does not have many workers which may be a bottleneck. Consider increasing the value of the `num_workers` argument` to `num_workers=31` in the `DataLoader` to improve performance.\n",
      "c:\\Users\\paul-\\anaconda3\\envs\\ml_angew_programm\\lib\\site-packages\\lightning\\pytorch\\trainer\\connectors\\data_connector.py:441: The 'train_dataloader' does not have many workers which may be a bottleneck. Consider increasing the value of the `num_workers` argument` to `num_workers=31` in the `DataLoader` to improve performance.\n"
     ]
    },
    {
     "data": {
      "application/vnd.jupyter.widget-view+json": {
       "model_id": "9f1c7ff5c872426c82e2e2665d6c161a",
       "version_major": 2,
       "version_minor": 0
      },
      "text/plain": [
       "Training: |          | 0/? [00:00<?, ?it/s]"
      ]
     },
     "metadata": {},
     "output_type": "display_data"
    },
    {
     "data": {
      "application/vnd.jupyter.widget-view+json": {
       "model_id": "b5a761bc833f49cbb621da183f1db27b",
       "version_major": 2,
       "version_minor": 0
      },
      "text/plain": [
       "Validation: |          | 0/? [00:00<?, ?it/s]"
      ]
     },
     "metadata": {},
     "output_type": "display_data"
    },
    {
     "data": {
      "application/vnd.jupyter.widget-view+json": {
       "model_id": "5e2078333d214021bb317b3f8b098fae",
       "version_major": 2,
       "version_minor": 0
      },
      "text/plain": [
       "Validation: |          | 0/? [00:00<?, ?it/s]"
      ]
     },
     "metadata": {},
     "output_type": "display_data"
    },
    {
     "name": "stderr",
     "output_type": "stream",
     "text": [
      "`Trainer.fit` stopped: `max_epochs=2` reached.\n"
     ]
    }
   ],
   "source": [
    "trainer = L.Trainer(max_epochs=2, accelerator='cpu')\n",
    "\n",
    "trainer.fit(model, train_loader, val_loader)"
   ]
  },
  {
   "cell_type": "code",
   "execution_count": 43,
   "metadata": {},
   "outputs": [
    {
     "data": {
      "text/plain": [
       "Text(0.5, 1.0, 'activation distribution')"
      ]
     },
     "execution_count": 43,
     "metadata": {},
     "output_type": "execute_result"
    },
    {
     "data": {
      "image/png": "[encoded data removed]",
      "text/plain": [
       "<Figure size 2000x400 with 1 Axes>"
      ]
     },
     "metadata": {},
     "output_type": "display_data"
    }
   ],
   "source": [
    "import matplotlib.pyplot as plt\n",
    "\n",
    "# visualize histograms\n",
    "plt.figure(figsize=(20, 4)) # width and height of the plot\n",
    "legends = []\n",
    "for i, layer in enumerate(layers[:-1]): # note: exclude the output layer\n",
    "  if isinstance(layer, nn.Tanh):\n",
    "    t = layer.out\n",
    "    print('layer %d (%s): mean %+.2f, std %.2f, saturated: %.2f%%' % (i, layer.__class__.__name__, t.mean(), t.std(), (t.abs() > 0.97).float().mean()*100))\n",
    "    hy, hx = torch.histogram(t, density=True)\n",
    "    plt.plot(hx[:-1].detach(), hy.detach())\n",
    "    legends.append(f'layer {i} ({layer.__class__.__name__})')\n",
    "plt.legend(legends);\n",
    "plt.title('activation distribution')"
   ]
  },
  {
   "cell_type": "code",
   "execution_count": 44,
   "metadata": {},
   "outputs": [
    {
     "data": {
      "text/plain": [
       "Text(0.5, 1.0, 'gradient distribution')"
      ]
     },
     "execution_count": 44,
     "metadata": {},
     "output_type": "execute_result"
    },
    {
     "data": {
      "image/png": "[encoded data removed]",
      "text/plain": [
       "<Figure size 2000x400 with 1 Axes>"
      ]
     },
     "metadata": {},
     "output_type": "display_data"
    }
   ],
   "source": [
    "# visualize histograms\n",
    "plt.figure(figsize=(20, 4)) # width and height of the plot\n",
    "legends = []\n",
    "for i, layer in enumerate(layers[:-1]): # note: exclude the output layer\n",
    "  if isinstance(layer, nn.Tanh):\n",
    "    t = layer.out.grad\n",
    "    print('layer %d (%10s): mean %+f, std %e' % (i, layer.__class__.__name__, t.mean(), t.std()))\n",
    "    hy, hx = torch.histogram(t, density=True)\n",
    "    plt.plot(hx[:-1].detach(), hy.detach())\n",
    "    legends.append(f'layer {i} ({layer.__class__.__name__}')\n",
    "plt.legend(legends);\n",
    "plt.title('gradient distribution')"
   ]
  },
  {
   "cell_type": "code",
   "execution_count": 45,
   "metadata": {},
   "outputs": [
    {
     "ename": "AttributeError",
     "evalue": "'NoneType' object has no attribute 'mean'",
     "output_type": "error",
     "traceback": [
      "\u001b[1;31m---------------------------------------------------------------------------\u001b[0m",
      "\u001b[1;31mAttributeError\u001b[0m                            Traceback (most recent call last)",
      "Cell \u001b[1;32mIn[45], line 7\u001b[0m\n\u001b[0;32m      5\u001b[0m t \u001b[38;5;241m=\u001b[39m p\u001b[38;5;241m.\u001b[39mgrad\n\u001b[0;32m      6\u001b[0m \u001b[38;5;28;01mif\u001b[39;00m p\u001b[38;5;241m.\u001b[39mndim \u001b[38;5;241m==\u001b[39m \u001b[38;5;241m2\u001b[39m:\n\u001b[1;32m----> 7\u001b[0m   \u001b[38;5;28mprint\u001b[39m(\u001b[38;5;124m'\u001b[39m\u001b[38;5;124mweight \u001b[39m\u001b[38;5;132;01m%10s\u001b[39;00m\u001b[38;5;124m | mean \u001b[39m\u001b[38;5;132;01m%+f\u001b[39;00m\u001b[38;5;124m | std \u001b[39m\u001b[38;5;132;01m%e\u001b[39;00m\u001b[38;5;124m | grad:data ratio \u001b[39m\u001b[38;5;132;01m%e\u001b[39;00m\u001b[38;5;124m'\u001b[39m \u001b[38;5;241m%\u001b[39m (\u001b[38;5;28mtuple\u001b[39m(p\u001b[38;5;241m.\u001b[39mshape), \u001b[43mt\u001b[49m\u001b[38;5;241;43m.\u001b[39;49m\u001b[43mmean\u001b[49m(), t\u001b[38;5;241m.\u001b[39mstd(), t\u001b[38;5;241m.\u001b[39mstd() \u001b[38;5;241m/\u001b[39m p\u001b[38;5;241m.\u001b[39mstd()))\n\u001b[0;32m      8\u001b[0m   hy, hx \u001b[38;5;241m=\u001b[39m torch\u001b[38;5;241m.\u001b[39mhistogram(t, density\u001b[38;5;241m=\u001b[39m\u001b[38;5;28;01mTrue\u001b[39;00m)\n\u001b[0;32m      9\u001b[0m   plt\u001b[38;5;241m.\u001b[39mplot(hx[:\u001b[38;5;241m-\u001b[39m\u001b[38;5;241m1\u001b[39m]\u001b[38;5;241m.\u001b[39mdetach(), hy\u001b[38;5;241m.\u001b[39mdetach())\n",
      "\u001b[1;31mAttributeError\u001b[0m: 'NoneType' object has no attribute 'mean'"
     ]
    },
    {
     "data": {
      "text/plain": [
       "<Figure size 2000x400 with 0 Axes>"
      ]
     },
     "metadata": {},
     "output_type": "display_data"
    }
   ],
   "source": [
    "# visualize histograms\n",
    "plt.figure(figsize=(20, 4)) # width and height of the plot\n",
    "legends = []\n",
    "for i,p in enumerate(model.parameters()):\n",
    "  t = p.grad\n",
    "  if p.ndim == 2:\n",
    "    print('weight %10s | mean %+f | std %e | grad:data ratio %e' % (tuple(p.shape), t.mean(), t.std(), t.std() / p.std()))\n",
    "    hy, hx = torch.histogram(t, density=True)\n",
    "    plt.plot(hx[:-1].detach(), hy.detach())\n",
    "    legends.append(f'{i} {tuple(p.shape)}')\n",
    "plt.legend(legends)\n",
    "plt.title('weights gradient distribution');"
   ]
  },
  {
   "cell_type": "code",
   "execution_count": 46,
   "metadata": {},
   "outputs": [
    {
     "ename": "NameError",
     "evalue": "name 'ud' is not defined",
     "output_type": "error",
     "traceback": [
      "\u001b[1;31m---------------------------------------------------------------------------\u001b[0m",
      "\u001b[1;31mNameError\u001b[0m                                 Traceback (most recent call last)",
      "Cell \u001b[1;32mIn[46], line 5\u001b[0m\n\u001b[0;32m      3\u001b[0m \u001b[38;5;28;01mfor\u001b[39;00m i,p \u001b[38;5;129;01min\u001b[39;00m \u001b[38;5;28menumerate\u001b[39m(model\u001b[38;5;241m.\u001b[39mparameters()):\n\u001b[0;32m      4\u001b[0m   \u001b[38;5;28;01mif\u001b[39;00m p\u001b[38;5;241m.\u001b[39mndim \u001b[38;5;241m==\u001b[39m \u001b[38;5;241m2\u001b[39m:\n\u001b[1;32m----> 5\u001b[0m     plt\u001b[38;5;241m.\u001b[39mplot([ud[j][i] \u001b[38;5;28;01mfor\u001b[39;00m j \u001b[38;5;129;01min\u001b[39;00m \u001b[38;5;28mrange\u001b[39m(\u001b[38;5;28mlen\u001b[39m(\u001b[43mud\u001b[49m))])\n\u001b[0;32m      6\u001b[0m     legends\u001b[38;5;241m.\u001b[39mappend(\u001b[38;5;124m'\u001b[39m\u001b[38;5;124mparam \u001b[39m\u001b[38;5;132;01m%d\u001b[39;00m\u001b[38;5;124m'\u001b[39m \u001b[38;5;241m%\u001b[39m i)\n\u001b[0;32m      7\u001b[0m plt\u001b[38;5;241m.\u001b[39mplot([\u001b[38;5;241m0\u001b[39m, \u001b[38;5;28mlen\u001b[39m(ud)], [\u001b[38;5;241m-\u001b[39m\u001b[38;5;241m3\u001b[39m, \u001b[38;5;241m-\u001b[39m\u001b[38;5;241m3\u001b[39m], \u001b[38;5;124m'\u001b[39m\u001b[38;5;124mk\u001b[39m\u001b[38;5;124m'\u001b[39m) \u001b[38;5;66;03m# these ratios should be ~1e-3, indicate on plot\u001b[39;00m\n",
      "\u001b[1;31mNameError\u001b[0m: name 'ud' is not defined"
     ]
    },
    {
     "data": {
      "text/plain": [
       "<Figure size 2000x400 with 0 Axes>"
      ]
     },
     "metadata": {},
     "output_type": "display_data"
    }
   ],
   "source": [
    "plt.figure(figsize=(20, 4))\n",
    "legends = []\n",
    "for i,p in enumerate(model.parameters()):\n",
    "  if p.ndim == 2:\n",
    "    plt.plot([ud[j][i] for j in range(len(ud))])\n",
    "    legends.append('param %d' % i)\n",
    "plt.plot([0, len(ud)], [-3, -3], 'k') # these ratios should be ~1e-3, indicate on plot\n",
    "plt.legend(legends);"
   ]
  },
  {
   "cell_type": "code",
   "execution_count": 47,
   "metadata": {},
   "outputs": [
    {
     "name": "stdout",
     "output_type": "stream",
     "text": [
      "Validation loss: 1.0960\n"
     ]
    }
   ],
   "source": [
    "# with torch.no_grad():\n",
    "    # train validation loss\n",
    "# outputs1 = model(Xtr)\n",
    "# loss = F.cross_entropy(outputs1, Ytr)\n",
    "# print(f'Training loss: {loss.item():.4f}')\n",
    "\n",
    "outputs = model(Xval)\n",
    "loss = torch.functional.F.cross_entropy(outputs, Yval)\n",
    "print(f'Validation loss: {loss.item():.4f}')"
   ]
  },
  {
   "cell_type": "markdown",
   "metadata": {},
   "source": [
    "tensor(1.1228, grad_fn=<NllLossBackward0>)  \n",
    "tensor(1.0828, grad_fn=<NllLossBackward0>)  \n",
    "tensor(1.0767, grad_fn=<NllLossBackward0>) on mlpc  \n",
    "Validation loss: 1.0657 on wavenet"
   ]
  },
  {
   "cell_type": "code",
   "execution_count": 48,
   "metadata": {},
   "outputs": [
    {
     "name": "stdout",
     "output_type": "stream",
     "text": [
      "              precision    recall  f1-score   support\n",
      "\n",
      "           0       0.64      0.63      0.64      6353\n",
      "           1       0.43      0.36      0.39      6462\n",
      "           2       0.40      0.35      0.38      6337\n",
      "           3       0.46      0.50      0.48      6244\n",
      "           4       0.63      0.75      0.68      6162\n",
      "\n",
      "    accuracy                           0.52     31558\n",
      "   macro avg       0.51      0.52      0.51     31558\n",
      "weighted avg       0.51      0.52      0.51     31558\n",
      "\n"
     ]
    }
   ],
   "source": [
    "from sklearn.metrics import classification_report\n",
    "\n",
    "Y_pred = outputs.argmax(dim=1).detach().numpy()\n",
    "Y_true = Yval.numpy()\n",
    "\n",
    "print(classification_report(Y_true, Y_pred))"
   ]
  }
 ],
 "metadata": {
  "kernelspec": {
   "display_name": "ml_angew_programm",
   "language": "python",
   "name": "python3"
  },
  "language_info": {
   "codemirror_mode": {
    "name": "ipython",
    "version": 3
   },
   "file_extension": ".py",
   "mimetype": "text/x-python",
   "name": "python",
   "nbconvert_exporter": "python",
   "pygments_lexer": "ipython3",
   "version": "3.8.19"
  }
 },
 "nbformat": 4,
 "nbformat_minor": 2
}
