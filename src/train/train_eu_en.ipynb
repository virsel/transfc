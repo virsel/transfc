{
 "cells": [
  {
   "cell_type": "code",
   "metadata": {
    "ExecuteTime": {
     "end_time": "2024-05-18T14:52:35.154087Z",
     "start_time": "2024-05-18T14:52:35.138476Z"
    }
   },
   "source": [
    "from utils import keys_to_counts, get_keys"
   ],
   "outputs": [],
   "execution_count": 1
  },
  {
   "cell_type": "code",
   "metadata": {
    "ExecuteTime": {
     "end_time": "2024-05-18T14:52:35.185825Z",
     "start_time": "2024-05-18T14:52:35.154087Z"
    }
   },
   "source": [
    "import pandas as pd\n",
    "\n",
    "data_path = \"D:\\\\studium\\\\analyse\\\\data_prep\\\\src\\\\_2_preproc_pipeline_en\\\\data_preprocessed\\\\2_tokenize_eu_en.csv\"\n",
    "df = pd.read_csv(data_path)"
   ],
   "outputs": [],
   "execution_count": 2
  },
  {
   "cell_type": "code",
   "metadata": {
    "ExecuteTime": {
     "end_time": "2024-05-18T14:52:35.201450Z",
     "start_time": "2024-05-18T14:52:35.185825Z"
    }
   },
   "source": [
    "df.head()"
   ],
   "outputs": [
    {
     "data": {
      "text/plain": [
       "                 id  pub_year  \\\n",
       "0   GB000002623832A      2024   \n",
       "1   GB000002623831A      2024   \n",
       "2  EP000004361921A1      2024   \n",
       "3  EP000004360823A1      2024   \n",
       "4  EP000004332716A3      2024   \n",
       "\n",
       "                                       text_preproc2  \n",
       "0  arrangement electrosurgical instrument compris...  \n",
       "1  arrangement electrosurgical instrument compris...  \n",
       "2  semantic automation builder process automation...  \n",
       "3  control method system provide system include c...  \n",
       "4  mapping object encountered garden tool include...  "
      ],
      "text/html": [
       "<div>\n",
       "<style scoped>\n",
       "    .dataframe tbody tr th:only-of-type {\n",
       "        vertical-align: middle;\n",
       "    }\n",
       "\n",
       "    .dataframe tbody tr th {\n",
       "        vertical-align: top;\n",
       "    }\n",
       "\n",
       "    .dataframe thead th {\n",
       "        text-align: right;\n",
       "    }\n",
       "</style>\n",
       "<table border=\"1\" class=\"dataframe\">\n",
       "  <thead>\n",
       "    <tr style=\"text-align: right;\">\n",
       "      <th></th>\n",
       "      <th>id</th>\n",
       "      <th>pub_year</th>\n",
       "      <th>text_preproc2</th>\n",
       "    </tr>\n",
       "  </thead>\n",
       "  <tbody>\n",
       "    <tr>\n",
       "      <th>0</th>\n",
       "      <td>GB000002623832A</td>\n",
       "      <td>2024</td>\n",
       "      <td>arrangement electrosurgical instrument compris...</td>\n",
       "    </tr>\n",
       "    <tr>\n",
       "      <th>1</th>\n",
       "      <td>GB000002623831A</td>\n",
       "      <td>2024</td>\n",
       "      <td>arrangement electrosurgical instrument compris...</td>\n",
       "    </tr>\n",
       "    <tr>\n",
       "      <th>2</th>\n",
       "      <td>EP000004361921A1</td>\n",
       "      <td>2024</td>\n",
       "      <td>semantic automation builder process automation...</td>\n",
       "    </tr>\n",
       "    <tr>\n",
       "      <th>3</th>\n",
       "      <td>EP000004360823A1</td>\n",
       "      <td>2024</td>\n",
       "      <td>control method system provide system include c...</td>\n",
       "    </tr>\n",
       "    <tr>\n",
       "      <th>4</th>\n",
       "      <td>EP000004332716A3</td>\n",
       "      <td>2024</td>\n",
       "      <td>mapping object encountered garden tool include...</td>\n",
       "    </tr>\n",
       "  </tbody>\n",
       "</table>\n",
       "</div>"
      ]
     },
     "execution_count": 3,
     "metadata": {},
     "output_type": "execute_result"
    }
   ],
   "execution_count": 3
  },
  {
   "cell_type": "code",
   "metadata": {
    "ExecuteTime": {
     "end_time": "2024-05-18T14:52:35.342984Z",
     "start_time": "2024-05-18T14:52:35.201450Z"
    }
   },
   "source": [
    "# vectorize the text data with tf-idf\n",
    "from sklearn.feature_extraction.text import CountVectorizer\n",
    "\n",
    "vectorizer = CountVectorizer(min_df=10, max_df=0.9)\n",
    "\n",
    "x_vec = vectorizer.fit_transform(df['text_preproc2'])"
   ],
   "outputs": [],
   "execution_count": 4
  },
  {
   "cell_type": "code",
   "metadata": {
    "ExecuteTime": {
     "end_time": "2024-05-18T14:52:35.362994Z",
     "start_time": "2024-05-18T14:52:35.344355Z"
    }
   },
   "source": [
    "vectorizer.get_feature_names_out().__len__()"
   ],
   "outputs": [
    {
     "data": {
      "text/plain": [
       "1365"
      ]
     },
     "execution_count": 5,
     "metadata": {},
     "output_type": "execute_result"
    }
   ],
   "execution_count": 5
  },
  {
   "cell_type": "code",
   "metadata": {
    "ExecuteTime": {
     "end_time": "2024-05-18T14:52:35.378624Z",
     "start_time": "2024-05-18T14:52:35.362994Z"
    }
   },
   "source": [
    "\"roboter\" in set(vectorizer.get_feature_names_out())"
   ],
   "outputs": [
    {
     "data": {
      "text/plain": [
       "False"
      ]
     },
     "execution_count": 6,
     "metadata": {},
     "output_type": "execute_result"
    }
   ],
   "execution_count": 6
  },
  {
   "cell_type": "code",
   "metadata": {
    "ExecuteTime": {
     "end_time": "2024-05-18T14:53:17.782186Z",
     "start_time": "2024-05-18T14:52:35.378624Z"
    }
   },
   "source": [
    "# Define Search Param\n",
    "from sklearn.decomposition import LatentDirichletAllocation\n",
    "from sklearn.model_selection import GridSearchCV\n",
    "\n",
    "\n",
    "search_params = {\n",
    "    'n_components': list([6, 8]),\n",
    "    'learning_decay': [i/10 for i in range(2, 8, 2)]\n",
    "}\n",
    "# Init the Model\n",
    "lda = LatentDirichletAllocation(max_iter=5, learning_method='online', learning_offset=50., random_state=0)\n",
    "# Init Grid Search Class\n",
    "model = GridSearchCV(lda, param_grid=search_params)\n",
    "# Do the Grid Search\n",
    "model.fit(x_vec)"
   ],
   "outputs": [
    {
     "data": {
      "text/plain": [
       "GridSearchCV(estimator=LatentDirichletAllocation(learning_method='online',\n",
       "                                                 learning_offset=50.0,\n",
       "                                                 max_iter=5, random_state=0),\n",
       "             param_grid={'learning_decay': [0.2, 0.4, 0.6],\n",
       "                         'n_components': [6, 8]})"
      ],
      "text/html": [
       "<style>#sk-container-id-1 {color: black;}#sk-container-id-1 pre{padding: 0;}#sk-container-id-1 div.sk-toggleable {background-color: white;}#sk-container-id-1 label.sk-toggleable__label {cursor: pointer;display: block;width: 100%;margin-bottom: 0;padding: 0.3em;box-sizing: border-box;text-align: center;}#sk-container-id-1 label.sk-toggleable__label-arrow:before {content: \"▸\";float: left;margin-right: 0.25em;color: #696969;}#sk-container-id-1 label.sk-toggleable__label-arrow:hover:before {color: black;}#sk-container-id-1 div.sk-estimator:hover label.sk-toggleable__label-arrow:before {color: black;}#sk-container-id-1 div.sk-toggleable__content {max-height: 0;max-width: 0;overflow: hidden;text-align: left;background-color: #f0f8ff;}#sk-container-id-1 div.sk-toggleable__content pre {margin: 0.2em;color: black;border-radius: 0.25em;background-color: #f0f8ff;}#sk-container-id-1 input.sk-toggleable__control:checked~div.sk-toggleable__content {max-height: 200px;max-width: 100%;overflow: auto;}#sk-container-id-1 input.sk-toggleable__control:checked~label.sk-toggleable__label-arrow:before {content: \"▾\";}#sk-container-id-1 div.sk-estimator input.sk-toggleable__control:checked~label.sk-toggleable__label {background-color: #d4ebff;}#sk-container-id-1 div.sk-label input.sk-toggleable__control:checked~label.sk-toggleable__label {background-color: #d4ebff;}#sk-container-id-1 input.sk-hidden--visually {border: 0;clip: rect(1px 1px 1px 1px);clip: rect(1px, 1px, 1px, 1px);height: 1px;margin: -1px;overflow: hidden;padding: 0;position: absolute;width: 1px;}#sk-container-id-1 div.sk-estimator {font-family: monospace;background-color: #f0f8ff;border: 1px dotted black;border-radius: 0.25em;box-sizing: border-box;margin-bottom: 0.5em;}#sk-container-id-1 div.sk-estimator:hover {background-color: #d4ebff;}#sk-container-id-1 div.sk-parallel-item::after {content: \"\";width: 100%;border-bottom: 1px solid gray;flex-grow: 1;}#sk-container-id-1 div.sk-label:hover label.sk-toggleable__label {background-color: #d4ebff;}#sk-container-id-1 div.sk-serial::before {content: \"\";position: absolute;border-left: 1px solid gray;box-sizing: border-box;top: 0;bottom: 0;left: 50%;z-index: 0;}#sk-container-id-1 div.sk-serial {display: flex;flex-direction: column;align-items: center;background-color: white;padding-right: 0.2em;padding-left: 0.2em;position: relative;}#sk-container-id-1 div.sk-item {position: relative;z-index: 1;}#sk-container-id-1 div.sk-parallel {display: flex;align-items: stretch;justify-content: center;background-color: white;position: relative;}#sk-container-id-1 div.sk-item::before, #sk-container-id-1 div.sk-parallel-item::before {content: \"\";position: absolute;border-left: 1px solid gray;box-sizing: border-box;top: 0;bottom: 0;left: 50%;z-index: -1;}#sk-container-id-1 div.sk-parallel-item {display: flex;flex-direction: column;z-index: 1;position: relative;background-color: white;}#sk-container-id-1 div.sk-parallel-item:first-child::after {align-self: flex-end;width: 50%;}#sk-container-id-1 div.sk-parallel-item:last-child::after {align-self: flex-start;width: 50%;}#sk-container-id-1 div.sk-parallel-item:only-child::after {width: 0;}#sk-container-id-1 div.sk-dashed-wrapped {border: 1px dashed gray;margin: 0 0.4em 0.5em 0.4em;box-sizing: border-box;padding-bottom: 0.4em;background-color: white;}#sk-container-id-1 div.sk-label label {font-family: monospace;font-weight: bold;display: inline-block;line-height: 1.2em;}#sk-container-id-1 div.sk-label-container {text-align: center;}#sk-container-id-1 div.sk-container {/* jupyter's `normalize.less` sets `[hidden] { display: none; }` but bootstrap.min.css set `[hidden] { display: none !important; }` so we also need the `!important` here to be able to override the default hidden behavior on the sphinx rendered scikit-learn.org. See: https://github.com/scikit-learn/scikit-learn/issues/21755 */display: inline-block !important;position: relative;}#sk-container-id-1 div.sk-text-repr-fallback {display: none;}</style><div id=\"sk-container-id-1\" class=\"sk-top-container\"><div class=\"sk-text-repr-fallback\"><pre>GridSearchCV(estimator=LatentDirichletAllocation(learning_method=&#x27;online&#x27;,\n",
       "                                                 learning_offset=50.0,\n",
       "                                                 max_iter=5, random_state=0),\n",
       "             param_grid={&#x27;learning_decay&#x27;: [0.2, 0.4, 0.6],\n",
       "                         &#x27;n_components&#x27;: [6, 8]})</pre><b>In a Jupyter environment, please rerun this cell to show the HTML representation or trust the notebook. <br />On GitHub, the HTML representation is unable to render, please try loading this page with nbviewer.org.</b></div><div class=\"sk-container\" hidden><div class=\"sk-item sk-dashed-wrapped\"><div class=\"sk-label-container\"><div class=\"sk-label sk-toggleable\"><input class=\"sk-toggleable__control sk-hidden--visually\" id=\"sk-estimator-id-1\" type=\"checkbox\" ><label for=\"sk-estimator-id-1\" class=\"sk-toggleable__label sk-toggleable__label-arrow\">GridSearchCV</label><div class=\"sk-toggleable__content\"><pre>GridSearchCV(estimator=LatentDirichletAllocation(learning_method=&#x27;online&#x27;,\n",
       "                                                 learning_offset=50.0,\n",
       "                                                 max_iter=5, random_state=0),\n",
       "             param_grid={&#x27;learning_decay&#x27;: [0.2, 0.4, 0.6],\n",
       "                         &#x27;n_components&#x27;: [6, 8]})</pre></div></div></div><div class=\"sk-parallel\"><div class=\"sk-parallel-item\"><div class=\"sk-item\"><div class=\"sk-label-container\"><div class=\"sk-label sk-toggleable\"><input class=\"sk-toggleable__control sk-hidden--visually\" id=\"sk-estimator-id-2\" type=\"checkbox\" ><label for=\"sk-estimator-id-2\" class=\"sk-toggleable__label sk-toggleable__label-arrow\">estimator: LatentDirichletAllocation</label><div class=\"sk-toggleable__content\"><pre>LatentDirichletAllocation(learning_method=&#x27;online&#x27;, learning_offset=50.0,\n",
       "                          max_iter=5, random_state=0)</pre></div></div></div><div class=\"sk-serial\"><div class=\"sk-item\"><div class=\"sk-estimator sk-toggleable\"><input class=\"sk-toggleable__control sk-hidden--visually\" id=\"sk-estimator-id-3\" type=\"checkbox\" ><label for=\"sk-estimator-id-3\" class=\"sk-toggleable__label sk-toggleable__label-arrow\">LatentDirichletAllocation</label><div class=\"sk-toggleable__content\"><pre>LatentDirichletAllocation(learning_method=&#x27;online&#x27;, learning_offset=50.0,\n",
       "                          max_iter=5, random_state=0)</pre></div></div></div></div></div></div></div></div></div></div>"
      ]
     },
     "execution_count": 7,
     "metadata": {},
     "output_type": "execute_result"
    }
   ],
   "execution_count": 7
  },
  {
   "cell_type": "code",
   "metadata": {
    "ExecuteTime": {
     "end_time": "2024-05-18T14:53:18.094934Z",
     "start_time": "2024-05-18T14:53:17.782186Z"
    }
   },
   "source": [
    "# Best Model\n",
    "best_lda_model = model.best_estimator_\n",
    "# Model Parameters\n",
    "print(\"Best Model's Params: \", model.best_params_)\n",
    "# Log Likelihood Score\n",
    "print(\"Best Log Likelihood Score: \", model.best_score_)\n",
    "# Perplexity\n",
    "print(\"Model Perplexity: \", best_lda_model.perplexity(x_vec))"
   ],
   "outputs": [
    {
     "name": "stdout",
     "output_type": "stream",
     "text": [
      "Best Model's Params:  {'learning_decay': 0.6, 'n_components': 6}\n",
      "Best Log Likelihood Score:  -232008.0205167792\n",
      "Model Perplexity:  430.9775390277455\n"
     ]
    }
   ],
   "execution_count": 8
  },
  {
   "cell_type": "markdown",
   "metadata": {},
   "source": [
    "#### 1\n",
    "```\n",
    "Best Model's Params:  {'learning_decay': 0.6, 'n_components': 6}\n",
    "Best Log Likelihood Score:  -232008.0205167792\n",
    "Model Perplexity:  430.9775390277455\n",
    "\n",
    "tfidf = CountVec(min_df=10, max_df=0.9)\n",
    "```"
   ]
  },
  {
   "cell_type": "code",
   "metadata": {
    "ExecuteTime": {
     "end_time": "2024-05-18T14:53:18.347718Z",
     "start_time": "2024-05-18T14:53:18.094934Z"
    }
   },
   "source": [
    "lda_output = best_lda_model.transform(x_vec)"
   ],
   "outputs": [],
   "execution_count": 9
  },
  {
   "cell_type": "code",
   "metadata": {
    "ExecuteTime": {
     "end_time": "2024-05-18T14:53:18.423309Z",
     "start_time": "2024-05-18T14:53:18.348719Z"
    }
   },
   "source": [
    "import seaborn as sns\n",
    "import matplotlib.pyplot as plt\n",
    "\n",
    "lda_keys = get_keys(lda_output)\n",
    "lda_categories, lda_counts = keys_to_counts(lda_keys)\n",
    "\n",
    "topics_df_lda = pd.DataFrame({'topic' : lda_categories, 'count' : lda_counts})\n",
    "sns.barplot(x=topics_df_lda['topic'], y = topics_df_lda['count'])\n",
    "plt.show()"
   ],
   "outputs": [
    {
     "data": {
      "text/plain": [
       "<Figure size 640x480 with 1 Axes>"
      ],
      "image/png": "[encoded data removed]"
     },
     "metadata": {},
     "output_type": "display_data"
    }
   ],
   "execution_count": 10
  },
  {
   "cell_type": "code",
   "metadata": {
    "ExecuteTime": {
     "end_time": "2024-05-18T14:53:18.439356Z",
     "start_time": "2024-05-18T14:53:18.424354Z"
    }
   },
   "source": [
    "import numpy as np\n",
    "\n",
    "# Show top n keywords for each topic\n",
    "def show_topics(vectorizer, lda_model, n_words=10):\n",
    "    keywords = np.array(vectorizer.get_feature_names_out())\n",
    "    topic_keywords = []\n",
    "    for topic_weights in lda_model.components_:\n",
    "        top_keyword_locs = (-topic_weights).argsort()[:n_words]\n",
    "        topic_keywords.append(keywords.take(top_keyword_locs))\n",
    "    return topic_keywords\n",
    "topic_keywords = show_topics(vectorizer=vectorizer, lda_model=best_lda_model, n_words=15)\n",
    "# Topic - Keywords Dataframe\n",
    "df_topic_keywords = pd.DataFrame(topic_keywords)\n",
    "df_topic_keywords.columns = ['Word '+str(i) for i in range(df_topic_keywords.shape[1])]\n",
    "df_topic_keywords.index = ['Topic '+str(i) for i in range(df_topic_keywords.shape[0])]\n",
    "df_topic_keywords"
   ],
   "outputs": [
    {
     "data": {
      "text/plain": [
       "          Word 0   Word 1    Word 2     Word 3       Word 4    Word 5  \\\n",
       "Topic 0   method  control    device    storage       target    system   \n",
       "Topic 1   method   mobile    system      datum       sensor    object   \n",
       "Topic 2   system     tool  position  configure       device  comprise   \n",
       "Topic 3     body   device  cleaning    include      surface     drive   \n",
       "Topic 4      arm      end    second   comprise     surgical     drive   \n",
       "Topic 5  control   device    system  operation  information   include   \n",
       "\n",
       "             Word 6    Word 7     Word 8      Word 9      Word 10     Word 11  \\\n",
       "Topic 0   container    object   position   apparatus  information       point   \n",
       "Topic 1        base  comprise  determine  autonomous  environment         map   \n",
       "Topic 2       image      unit       work     station       charge   workpiece   \n",
       "Topic 3     provide     clean       unit       plate     comprise     housing   \n",
       "Topic 4  instrument  assembly    portion      system      element   configure   \n",
       "Topic 5      method      user      datum   configure         unit  controller   \n",
       "\n",
       "           Word 12  Word 13  Word 14  \n",
       "Topic 0       unit   motion   accord  \n",
       "Topic 1  detection   detect  present  \n",
       "Topic 2    include     base   camera  \n",
       "Topic 3      motor  cooking  portion  \n",
       "Topic 4      joint     axis   member  \n",
       "Topic 5       base   signal  receive  "
      ],
      "text/html": [
       "<div>\n",
       "<style scoped>\n",
       "    .dataframe tbody tr th:only-of-type {\n",
       "        vertical-align: middle;\n",
       "    }\n",
       "\n",
       "    .dataframe tbody tr th {\n",
       "        vertical-align: top;\n",
       "    }\n",
       "\n",
       "    .dataframe thead th {\n",
       "        text-align: right;\n",
       "    }\n",
       "</style>\n",
       "<table border=\"1\" class=\"dataframe\">\n",
       "  <thead>\n",
       "    <tr style=\"text-align: right;\">\n",
       "      <th></th>\n",
       "      <th>Word 0</th>\n",
       "      <th>Word 1</th>\n",
       "      <th>Word 2</th>\n",
       "      <th>Word 3</th>\n",
       "      <th>Word 4</th>\n",
       "      <th>Word 5</th>\n",
       "      <th>Word 6</th>\n",
       "      <th>Word 7</th>\n",
       "      <th>Word 8</th>\n",
       "      <th>Word 9</th>\n",
       "      <th>Word 10</th>\n",
       "      <th>Word 11</th>\n",
       "      <th>Word 12</th>\n",
       "      <th>Word 13</th>\n",
       "      <th>Word 14</th>\n",
       "    </tr>\n",
       "  </thead>\n",
       "  <tbody>\n",
       "    <tr>\n",
       "      <th>Topic 0</th>\n",
       "      <td>method</td>\n",
       "      <td>control</td>\n",
       "      <td>device</td>\n",
       "      <td>storage</td>\n",
       "      <td>target</td>\n",
       "      <td>system</td>\n",
       "      <td>container</td>\n",
       "      <td>object</td>\n",
       "      <td>position</td>\n",
       "      <td>apparatus</td>\n",
       "      <td>information</td>\n",
       "      <td>point</td>\n",
       "      <td>unit</td>\n",
       "      <td>motion</td>\n",
       "      <td>accord</td>\n",
       "    </tr>\n",
       "    <tr>\n",
       "      <th>Topic 1</th>\n",
       "      <td>method</td>\n",
       "      <td>mobile</td>\n",
       "      <td>system</td>\n",
       "      <td>datum</td>\n",
       "      <td>sensor</td>\n",
       "      <td>object</td>\n",
       "      <td>base</td>\n",
       "      <td>comprise</td>\n",
       "      <td>determine</td>\n",
       "      <td>autonomous</td>\n",
       "      <td>environment</td>\n",
       "      <td>map</td>\n",
       "      <td>detection</td>\n",
       "      <td>detect</td>\n",
       "      <td>present</td>\n",
       "    </tr>\n",
       "    <tr>\n",
       "      <th>Topic 2</th>\n",
       "      <td>system</td>\n",
       "      <td>tool</td>\n",
       "      <td>position</td>\n",
       "      <td>configure</td>\n",
       "      <td>device</td>\n",
       "      <td>comprise</td>\n",
       "      <td>image</td>\n",
       "      <td>unit</td>\n",
       "      <td>work</td>\n",
       "      <td>station</td>\n",
       "      <td>charge</td>\n",
       "      <td>workpiece</td>\n",
       "      <td>include</td>\n",
       "      <td>base</td>\n",
       "      <td>camera</td>\n",
       "    </tr>\n",
       "    <tr>\n",
       "      <th>Topic 3</th>\n",
       "      <td>body</td>\n",
       "      <td>device</td>\n",
       "      <td>cleaning</td>\n",
       "      <td>include</td>\n",
       "      <td>surface</td>\n",
       "      <td>drive</td>\n",
       "      <td>provide</td>\n",
       "      <td>clean</td>\n",
       "      <td>unit</td>\n",
       "      <td>plate</td>\n",
       "      <td>comprise</td>\n",
       "      <td>housing</td>\n",
       "      <td>motor</td>\n",
       "      <td>cooking</td>\n",
       "      <td>portion</td>\n",
       "    </tr>\n",
       "    <tr>\n",
       "      <th>Topic 4</th>\n",
       "      <td>arm</td>\n",
       "      <td>end</td>\n",
       "      <td>second</td>\n",
       "      <td>comprise</td>\n",
       "      <td>surgical</td>\n",
       "      <td>drive</td>\n",
       "      <td>instrument</td>\n",
       "      <td>assembly</td>\n",
       "      <td>portion</td>\n",
       "      <td>system</td>\n",
       "      <td>element</td>\n",
       "      <td>configure</td>\n",
       "      <td>joint</td>\n",
       "      <td>axis</td>\n",
       "      <td>member</td>\n",
       "    </tr>\n",
       "    <tr>\n",
       "      <th>Topic 5</th>\n",
       "      <td>control</td>\n",
       "      <td>device</td>\n",
       "      <td>system</td>\n",
       "      <td>operation</td>\n",
       "      <td>information</td>\n",
       "      <td>include</td>\n",
       "      <td>method</td>\n",
       "      <td>user</td>\n",
       "      <td>datum</td>\n",
       "      <td>configure</td>\n",
       "      <td>unit</td>\n",
       "      <td>controller</td>\n",
       "      <td>base</td>\n",
       "      <td>signal</td>\n",
       "      <td>receive</td>\n",
       "    </tr>\n",
       "  </tbody>\n",
       "</table>\n",
       "</div>"
      ]
     },
     "execution_count": 11,
     "metadata": {},
     "output_type": "execute_result"
    }
   ],
   "execution_count": 11
  },
  {
   "cell_type": "code",
   "metadata": {
    "ExecuteTime": {
     "end_time": "2024-05-18T14:53:19.813924Z",
     "start_time": "2024-05-18T14:53:18.440357Z"
    }
   },
   "source": [
    "#this is by far the easiest way to load a pre-trained sklearn lda model onto pyLDAvis\n",
    "#there are other means of using this visible on pyLDAvis' main repo\n",
    "\n",
    "import pyLDAvis\n",
    "import pyLDAvis.sklearn\n",
    "pyLDAvis.enable_notebook()\n",
    "\n",
    "feature_names = vectorizer.get_feature_names_out()\n",
    "\n",
    "vectorizer.get_feature_names = lambda: feature_names\n",
    "\n",
    "display_data = pyLDAvis.sklearn.prepare(best_lda_model, #our pre-trained LDA model\n",
    "                         x_vec, #this gives us our document-term matrix\n",
    "                        vectorizer) #the vectoriser object\n",
    "                        \n",
    "pyLDAvis.display(display_data)  "
   ],
   "outputs": [
    {
     "name": "stderr",
     "output_type": "stream",
     "text": [
      "C:\\Users\\paul-\\anaconda3\\envs\\ml_angew_programm\\lib\\site-packages\\pyLDAvis\\_prepare.py:243: FutureWarning: In a future version of pandas all arguments of DataFrame.drop except for the argument 'labels' will be keyword-only.\n",
      "  default_term_info = default_term_info.sort_values(\n"
     ]
    },
    {
     "data": {
      "text/plain": [
       "<IPython.core.display.HTML object>"
      ],
      "text/html": [
       "\n",
       "<link rel=\"stylesheet\" type=\"text/css\" href=\"https://cdn.jsdelivr.net/gh/bmabey/pyLDAvis@3.4.0/pyLDAvis/js/ldavis.v1.0.0.css\">\n",
       "\n",
       "\n",
       "<div id=\"ldavis_el2136419827867099844307786431\" style=\"background-color:white;\"></div>\n",
       "<script type=\"text/javascript\">\n",
       "\n",
       "var ldavis_el2136419827867099844307786431_data = {\"mdsDat\": {\"x\": [-0.240319440021414, 0.17693473958276834, -0.20799265697626593, 0.17418006077809517, 0.10397975951153735, -0.006782462874720593], \"y\": [-0.03948576700952781, 0.0022685702214177497, 0.140874722735669, 0.09330573139445165, 0.016453512755434954, -0.21341677009744572], \"topics\": [1, 2, 3, 4, 5, 6], \"cluster\": [1, 1, 1, 1, 1, 1], \"Freq\": [24.110693029549147, 18.330628303462177, 15.503904334597005, 15.411949031496775, 13.917941240706838, 12.72488406018806]}, \"tinfo\": {\"Term\": [\"control\", \"tool\", \"mobile\", \"method\", \"end\", \"body\", \"surgical\", \"storage\", \"cleaning\", \"information\", \"datum\", \"arm\", \"target\", \"operation\", \"system\", \"position\", \"drive\", \"container\", \"object\", \"instrument\", \"image\", \"device\", \"assembly\", \"user\", \"sensor\", \"work\", \"clean\", \"plate\", \"portion\", \"housing\", \"cable\", \"proximal\", \"instrument\", \"belt\", \"finger\", \"pivot\", \"pallet\", \"articulation\", \"jaw\", \"cup\", \"carriage\", \"engagement\", \"tray\", \"lead\", \"pulley\", \"continuum\", \"sterile\", \"flexible\", \"bracket\", \"linkage\", \"blade\", \"rigid\", \"cutter\", \"displace\", \"cassette\", \"gripper\", \"knee\", \"longitudinal\", \"bend\", \"metal\", \"distal\", \"surgical\", \"axis\", \"conveyor\", \"end\", \"element\", \"effector\", \"engage\", \"holder\", \"arm\", \"member\", \"actuation\", \"extend\", \"joint\", \"screw\", \"movable\", \"grip\", \"assembly\", \"frame\", \"parallel\", \"transmission\", \"drive\", \"second\", \"support\", \"portion\", \"link\", \"couple\", \"comprise\", \"connect\", \"interface\", \"mechanism\", \"rotation\", \"configure\", \"shaft\", \"mean\", \"system\", \"include\", \"direction\", \"position\", \"provide\", \"base\", \"body\", \"device\", \"plurality\", \"mobile\", \"planning\", \"trajectory\", \"initial\", \"depth\", \"perception\", \"crop\", \"phase\", \"event\", \"ego\", \"probability\", \"comparison\", \"new\", \"occupancy\", \"fleet\", \"final\", \"prediction\", \"noise\", \"chip\", \"bull\", \"geometric\", \"planner\", \"score\", \"potential\", \"global\", \"radar\", \"unmanned\", \"indoor\", \"drone\", \"fusion\", \"map\", \"semantic\", \"performance\", \"autonomous\", \"evaluation\", \"disinfection\", \"test\", \"route\", \"technology\", \"interest\", \"condition\", \"scenario\", \"environment\", \"technique\", \"detection\", \"scene\", \"plan\", \"compute\", \"sensor\", \"obstacle\", \"collision\", \"value\", \"navigation\", \"datum\", \"parameter\", \"method\", \"obtain\", \"detect\", \"step\", \"determine\", \"field\", \"time\", \"object\", \"pose\", \"vehicle\", \"relate\", \"system\", \"present\", \"base\", \"area\", \"image\", \"invention\", \"path\", \"comprise\", \"generate\", \"control\", \"accord\", \"provide\", \"include\", \"cleaning\", \"housing\", \"clean\", \"cleaner\", \"cooking\", \"inner\", \"fluid\", \"water\", \"gear\", \"plate\", \"board\", \"mop\", \"ring\", \"hole\", \"liquid\", \"chamber\", \"dust\", \"pin\", \"tank\", \"casing\", \"rotor\", \"foot\", \"magnet\", \"pool\", \"brush\", \"servo\", \"solar\", \"accommodate\", \"needle\", \"reaction\", \"outer\", \"air\", \"circuit\", \"cover\", \"motor\", \"body\", \"rotary\", \"wheel\", \"supply\", \"catheter\", \"surface\", \"driving\", \"dispose\", \"force\", \"rotate\", \"drive\", \"vacuum\", \"device\", \"provide\", \"power\", \"portion\", \"include\", \"unit\", \"component\", \"connect\", \"present\", \"assembly\", \"comprise\", \"shaft\", \"main\", \"module\", \"configure\", \"second\", \"base\", \"welding\", \"mower\", \"remote\", \"weld\", \"rpa\", \"building\", \"user\", \"automation\", \"attribute\", \"lawn\", \"manage\", \"memory\", \"elevator\", \"wireless\", \"session\", \"request\", \"display\", \"policy\", \"graphical\", \"execution\", \"behavior\", \"service\", \"torch\", \"hardware\", \"teaching\", \"database\", \"objective\", \"generation\", \"simulate\", \"notification\", \"audio\", \"operator\", \"server\", \"simulation\", \"execute\", \"suspend\", \"command\", \"mode\", \"task\", \"operation\", \"action\", \"signal\", \"learn\", \"select\", \"communication\", \"input\", \"program\", \"virtual\", \"control\", \"controller\", \"inspection\", \"information\", \"model\", \"state\", \"network\", \"output\", \"perform\", \"device\", \"datum\", \"receive\", \"system\", \"include\", \"configure\", \"unit\", \"base\", \"method\", \"generate\", \"machine\", \"second\", \"plurality\", \"grid\", \"good\", \"warehouse\", \"person\", \"inventory\", \"shelf\", \"warehousing\", \"retrieval\", \"feeder\", \"contour\", \"particle\", \"framework\", \"sort\", \"pick\", \"picking\", \"cargo\", \"storage\", \"item\", \"appliance\", \"goods\", \"posture\", \"handler\", \"temporary\", \"packing\", \"locating\", \"container\", \"temperature\", \"pickup\", \"paint\", \"rack\", \"box\", \"target\", \"coating\", \"loading\", \"destination\", \"transport\", \"delivery\", \"product\", \"place\", \"medium\", \"material\", \"motion\", \"point\", \"transfer\", \"load\", \"apparatus\", \"article\", \"object\", \"store\", \"method\", \"control\", \"device\", \"accord\", \"information\", \"position\", \"system\", \"unit\", \"include\", \"provide\", \"plurality\", \"set\", \"determine\", \"comprise\", \"second\", \"configure\", \"charge\", \"cell\", \"sample\", \"imaging\", \"ultrasound\", \"implant\", \"electrode\", \"probe\", \"garden\", \"ray\", \"eye\", \"video\", \"charging\", \"registration\", \"stream\", \"beam\", \"cutting\", \"docking\", \"electrosurgical\", \"radiation\", \"tooling\", \"transformation\", \"calibration\", \"dock\", \"electrical\", \"skin\", \"handheld\", \"manufacturing\", \"sector\", \"cells\", \"tool\", \"station\", \"measurement\", \"camera\", \"workpiece\", \"cut\", \"coordinate\", \"array\", \"patient\", \"marker\", \"scan\", \"work\", \"orientation\", \"manipulator\", \"dimensional\", \"carrier\", \"image\", \"suction\", \"position\", \"reference\", \"system\", \"positioning\", \"configure\", \"unit\", \"relative\", \"device\", \"comprise\", \"include\", \"base\", \"object\", \"module\", \"method\", \"point\", \"surface\", \"arm\", \"second\"], \"Freq\": [3169.0, 913.0, 843.0, 2940.0, 1521.0, 1084.0, 1095.0, 694.0, 645.0, 1277.0, 1237.0, 1808.0, 774.0, 998.0, 3787.0, 1751.0, 1333.0, 516.0, 1197.0, 671.0, 878.0, 3096.0, 928.0, 471.0, 1010.0, 609.0, 416.0, 386.0, 1011.0, 363.0, 253.2484843785192, 226.70419402805013, 667.5527013448568, 109.1396679078255, 184.0398350181346, 86.1728394611628, 76.3321757286931, 70.49485739241769, 66.63575335741159, 64.5407087741408, 62.50239995330886, 62.90278907362477, 59.081231832872724, 74.24984720813886, 55.94693841668966, 74.44922609630409, 54.537820970968546, 151.8803073257739, 48.421920366204276, 47.245334040490825, 100.63709443277068, 47.78908049532347, 43.600967874056714, 48.895466271029484, 41.16573076108553, 184.64629537669646, 45.12188386389574, 165.5667636059476, 54.97448824047869, 35.129095526538556, 286.38993166354317, 1040.3271844849041, 568.563705189806, 140.84352831872042, 1322.614876413909, 605.1363507412042, 454.2729203880712, 175.41990132579426, 93.28349909691276, 1453.5350544828796, 530.5088522015204, 90.2707877869397, 271.173762948992, 577.1813083886565, 120.42209095092306, 232.17865278392108, 267.28957290686935, 662.0938625050379, 278.3191756528745, 120.16068824941262, 175.05950195364295, 833.5527113123626, 1256.6096634360943, 420.16580358225144, 643.1652192718853, 223.03202296883973, 364.2041077259188, 1237.335532579986, 472.25547100491013, 343.3466828837461, 335.0900939396925, 259.70183162015115, 590.5740452336635, 288.41514265329715, 335.3766287782981, 627.0375221699975, 517.9354395293925, 300.8844018575709, 350.0154944288687, 328.1874416738059, 324.3713546503865, 303.7108938372375, 312.4883475435366, 293.7877331887498, 841.6915986047528, 141.31512682029893, 185.00436683613464, 79.73057233456828, 128.4485053345569, 52.15045317066457, 52.14714727670442, 63.03994722017326, 59.6076824166855, 49.10965323403643, 40.23621203045987, 40.6981751050852, 43.59998200065372, 42.68777118464325, 41.227616450418836, 35.90839036379656, 41.19884545412116, 35.09616803196461, 36.452771182234734, 34.62783774857548, 34.48023833322801, 44.35635852773361, 45.88344996576156, 42.90660914127685, 30.0186566365095, 30.977843110620515, 33.71140272853108, 25.184788198291493, 22.1381250075737, 21.520119713688725, 391.6643750690108, 71.99572558457876, 93.70227431982012, 409.985016559481, 68.16348200695025, 61.87332590930703, 95.53181389553346, 170.21491646949477, 137.66131156422796, 51.779451560137964, 145.72967241452534, 79.2433022815738, 402.49022271623335, 66.34534303570156, 387.20575580155946, 66.84595169681454, 179.38209811325808, 65.56636601273372, 706.9606275359322, 236.30732766938243, 92.62087232048474, 241.971380774413, 166.95799341628384, 728.766616488725, 175.49421315308422, 1384.1159559840514, 266.51197202548104, 335.1770321348273, 223.9234248182551, 438.87784302689005, 155.1402137262704, 203.15310366366543, 489.59024835303467, 158.49119024658117, 225.01415298694664, 328.22801544490835, 761.0830612275915, 330.68884956715124, 468.9260776048668, 277.2874838659362, 322.6708773418103, 320.8700470509611, 239.3045737148707, 446.7960419361022, 238.3449988720063, 323.50334885019413, 232.7741494562979, 224.39339758789268, 221.42175375378625, 644.3400300203106, 363.0623119668945, 415.93935002943596, 260.67440956022614, 321.047853951814, 164.15270887305869, 140.6576914003424, 142.57554360608347, 156.54703807530737, 382.66998162941366, 90.84419773890247, 89.2293672436003, 80.00927135472598, 78.14994453482939, 86.58574882040251, 104.0684835833483, 130.12985370568785, 58.730066536294316, 70.45446419450842, 53.943330208037985, 49.64200959646665, 49.891557223707274, 46.676047602480295, 44.169716426633634, 40.37939970431209, 45.24032599212526, 39.37567605177157, 40.83649901719021, 35.517712897412196, 37.800850719242845, 220.7443873278195, 129.19084558296572, 72.2432853958545, 164.72911933766153, 345.1086270584825, 771.1008745429468, 94.15000708572943, 275.0895064293053, 192.39986490174783, 105.3595053310296, 453.16469862481443, 147.4704888315747, 157.19334965343415, 250.58600864663268, 180.62798771725087, 435.2355565766308, 157.25282659467084, 690.9530032082109, 419.9079929699017, 167.57202576011787, 316.99464059534125, 472.76798071046545, 399.8877499526012, 225.6830280701994, 265.39450518531334, 260.90268977127164, 264.6152213792442, 380.51112930580285, 194.22155256485854, 175.16748001308105, 217.7804254856144, 262.9839588966329, 244.3822492396545, 189.52565451867014, 190.56022192375218, 79.18839911374451, 110.24984084726191, 80.69109527797258, 59.705757668624905, 73.01809737252255, 462.7241575104032, 57.76598421503898, 40.905110250761965, 59.38943400844237, 36.77871190259551, 85.48884477626338, 52.27630503512602, 47.10428083740754, 36.45903032957851, 60.29466716957172, 239.72726772264917, 27.265074963143565, 25.00179113575316, 74.24123894245041, 41.67866743037443, 105.48196207315888, 38.3372075843228, 21.99692467570708, 79.62788717647538, 19.38238763214742, 19.553115933949954, 81.81681638369467, 32.26652609360792, 17.878320967969795, 47.68051773779463, 202.3605970118117, 143.54664690775095, 73.61841650435292, 189.96097130484932, 76.19634923854014, 189.80601709292884, 159.38346137720686, 227.5341024718578, 777.3798916958955, 176.86082734987733, 345.69094212608087, 106.76685646859373, 164.48803072727398, 217.77983573794063, 319.12832542533573, 250.63870681374198, 235.33432972595833, 1697.0218931769414, 405.13544658376793, 111.21033794534718, 692.2833785020803, 328.783301176895, 277.97243592278073, 147.33973239264174, 229.4091508347211, 300.27726636224367, 811.6258733138669, 453.9300520730387, 344.2783362844833, 779.0207109259118, 521.7247828379521, 443.4101464255828, 410.89691958242634, 392.6659981006558, 477.7653085484969, 235.20412223251074, 225.64271382352496, 236.25267565892173, 211.09744813881645, 222.76097239328894, 150.64809650127148, 108.13954765666531, 68.6854352730286, 69.85980844335838, 82.69106138247682, 52.60326683417464, 49.35478712807854, 49.689263029645126, 41.83936666738938, 38.135746654813374, 32.41312933157249, 126.6186479522973, 204.1791676079949, 93.68712703154713, 25.00849830923101, 670.3128058650847, 202.60841131052794, 45.07773832989551, 18.345984372282434, 123.85292778158495, 24.657168421069567, 37.757595823256956, 23.2993344442304, 15.185872961801403, 487.62911147282813, 99.72368140346725, 24.353087776549796, 58.69314126722649, 44.58124860320735, 135.31655909443705, 659.7474422793244, 66.1734418308219, 99.78086502666058, 64.08334848483591, 198.58847390383264, 110.56888674303474, 180.9760603359155, 180.96527986985325, 215.75994671143053, 243.1535355018087, 362.27689076590866, 381.6816229155448, 168.0593776200365, 179.9727730786057, 387.5847806649583, 87.43362262808964, 462.65895678794055, 192.05473496598563, 740.5094050863994, 730.3195385450178, 695.8921083275808, 287.2010464061462, 385.34194583499107, 409.0892226797467, 583.6124724203074, 365.2205662244798, 276.98826715552394, 229.91986927842703, 212.62217787390924, 179.5599444435024, 185.55999228611415, 192.6301056858432, 188.3554734241969, 182.54523761503407, 326.74110880469607, 199.67117383781533, 107.25758321049413, 102.93915049285167, 64.621717477174, 62.49666912172759, 48.1958228019134, 46.24263423420347, 57.912701124782544, 38.79350627915032, 36.20284509227327, 32.08077875283498, 29.878794937812142, 29.465879494342413, 29.544955986048087, 44.09355524652258, 65.02158002679872, 132.69107295840197, 34.61340136384948, 27.50147750960257, 27.651285667406693, 20.450970904623357, 119.07866173979428, 54.03096590560269, 138.67003956009435, 17.362454625126183, 76.39702018439817, 98.43820552057375, 15.314178126334166, 11.862588449620286, 848.6676221192885, 341.21450178258397, 201.63091301722275, 250.85182479051915, 320.5284193312399, 201.6631665983453, 198.9576770846141, 61.2771395233734, 172.1980681149819, 85.83329709976421, 80.51411337309156, 422.1842802011937, 133.53633552309566, 223.4365135516895, 161.77107196328555, 89.58711663431954, 467.05145373022515, 143.18022472790102, 702.6930482144694, 139.9837732865629, 978.0455348346547, 155.45617396052165, 523.0740786262284, 444.0291129413093, 182.084563655239, 497.36393991497886, 471.8387590430489, 301.62982490342256, 268.6155888685074, 222.47467892740127, 190.74662397617848, 215.3565360749102, 164.44051166752277, 165.83284441775618, 174.606012756873, 174.83840872373807], \"Total\": [3169.0, 913.0, 843.0, 2940.0, 1521.0, 1084.0, 1095.0, 694.0, 645.0, 1277.0, 1237.0, 1808.0, 774.0, 998.0, 3787.0, 1751.0, 1333.0, 516.0, 1197.0, 671.0, 878.0, 3096.0, 928.0, 471.0, 1010.0, 609.0, 416.0, 386.0, 1011.0, 363.0, 254.19560896151663, 227.5791890183203, 671.2028069131829, 109.9900416405793, 185.56760840063814, 87.06813429078902, 77.1838663262001, 71.34278767426042, 67.47922279889995, 65.3880797428987, 63.35015801141587, 63.77279788102415, 59.934568971241234, 75.34586998056226, 56.79392508590534, 75.63082879199493, 55.45133738183016, 154.4671208636766, 49.271916136484066, 48.103626034744856, 102.49225904630245, 48.71293069818207, 44.46745741682036, 49.89766936071393, 42.022122533558175, 188.51614747056027, 46.08144213691735, 169.47939326420547, 56.3391819172309, 36.00581704357071, 295.7794484893061, 1095.645144415467, 613.2076206375058, 148.20595843227105, 1521.8876103261753, 676.8782842250056, 511.8425196851609, 189.42042405069432, 97.74065241648991, 1808.8394280687703, 632.1900158945708, 95.34801439362568, 326.6136987276016, 763.3674440608814, 131.64921914726781, 276.8179172348155, 325.8716382702119, 928.9712270429271, 344.8034263050451, 132.14446186540093, 207.30206528100442, 1333.258896149619, 2203.7346090263486, 594.4521871491762, 1011.7123045768767, 283.87762839640504, 533.9674949025963, 2860.488572834353, 813.3351184431729, 557.1374925707223, 557.8029014789004, 367.54196171770445, 2077.2719638777676, 483.33780846213364, 700.160611417744, 3787.44476385502, 2312.4680488905433, 639.9949210651345, 1751.1919660227036, 1477.1484196217095, 1699.0186278013502, 1084.9111911792686, 3096.0410828227336, 1078.9838448124844, 843.1677701400396, 142.32277099930985, 186.48581388084028, 80.57059441968353, 130.1554209615426, 52.97672882270189, 52.98242265703516, 64.06299597760903, 60.584543078542275, 49.946202491654, 41.06522920471426, 41.605707257229724, 44.57281262713552, 43.64736896152626, 42.16769315173947, 36.73665349885503, 42.167150820720636, 35.92726537530219, 37.324832609425435, 35.46704260403053, 35.32615253761338, 45.44856023135775, 47.07288849361495, 44.03056334560585, 30.86098819630868, 31.864733545739288, 34.711319859714365, 26.014248351299823, 22.988551925360294, 22.348111639351604, 407.14062448805623, 74.90927364361087, 98.03803874140041, 444.532711560187, 71.27428183488625, 64.67229725974015, 101.51887201692799, 185.43138304020042, 150.90796060005306, 53.9343559893281, 161.7582229424371, 84.71985991253541, 479.71054463730337, 70.30242352817001, 472.14035795680064, 71.00591603150046, 212.61928643205002, 70.14881723473913, 1010.8928496419364, 295.631950032631, 105.17588591644979, 331.2582190725547, 213.24815323008846, 1237.4559363747212, 229.2264421133783, 2940.6115717079333, 397.0078041626633, 548.4310795945497, 348.48065537826557, 866.281051970125, 213.72278542740239, 318.126155513857, 1197.7264104136418, 241.48858931024873, 432.9709753751309, 834.8049640406106, 3787.44476385502, 882.0919595600338, 1699.0186278013502, 646.5113561939665, 878.3861025326372, 939.2254192635162, 544.3576324451498, 2860.488572834353, 584.654292583709, 3169.1453170821615, 723.9782895573143, 1477.1484196217095, 2312.4680488905433, 645.7538720371952, 363.9373363169813, 416.9866001685051, 261.554649790219, 322.2641888829782, 164.9967785221266, 141.58472676159118, 143.63296197263858, 157.89351256663898, 386.15917269777697, 91.68357463471443, 90.08862765271283, 80.87032386185302, 78.99267355042741, 87.55531656843061, 105.24438980560296, 131.74226660316185, 59.57094380196292, 71.48441649914554, 54.8069952224722, 50.47453449884019, 50.78199324494514, 47.523588915604854, 45.01209905609472, 41.21570569460158, 46.22577357897808, 40.23500304684545, 41.77947108580434, 36.35676748178613, 38.71716464892972, 228.1824528203846, 133.9602924579342, 75.1032908608928, 185.37001879151015, 443.66790516886755, 1084.9111911792686, 105.42165831604623, 364.98548606068914, 270.6894817427086, 128.81422657946754, 903.5862099669355, 211.3732050419973, 237.14355452624417, 511.0118557813969, 309.20316357986826, 1333.258896149619, 248.65442963308155, 3096.0410828227336, 1477.1484196217095, 286.3579494946255, 1011.7123045768767, 2312.4680488905433, 1826.4715876711832, 546.2813282992189, 813.3351184431729, 882.0919595600338, 928.9712270429271, 2860.488572834353, 483.33780846213364, 326.86768433146904, 781.9578425127177, 2077.2719638777676, 2203.7346090263486, 1699.0186278013502, 191.4372622096766, 80.03821890627138, 111.5120333675506, 81.66981211260536, 60.54774335357392, 74.33536041324848, 471.36199336726594, 59.02860775181393, 41.80140617469113, 60.741043602380465, 37.638028652912325, 87.4946961787372, 53.636803891171134, 48.37195574268076, 37.51676316788247, 62.068785187822016, 246.95631650159893, 28.15415944668879, 25.871259397125847, 76.85202560704691, 43.19001510001158, 109.50489659107114, 39.90417671034558, 22.913287068406063, 83.06543132987228, 20.230860073457702, 20.412885074477803, 85.46426418487053, 33.809220719792876, 18.777523733091975, 50.50293912288332, 220.5945348964292, 157.41891015341938, 79.42439404446388, 214.18806253056061, 82.86102774603974, 216.7128993180748, 181.27945979207368, 265.90746891743794, 998.9746611569996, 203.60274846737786, 437.95609808306733, 120.63044414768315, 196.98953061747972, 270.3217845422764, 427.85217049030166, 326.2335193849513, 303.5371552581833, 3169.1453170821615, 600.5629959687319, 129.66691529200685, 1277.7471613560108, 512.0206131330513, 461.7854009774277, 195.06416305250443, 382.411012277846, 631.6551816503372, 3096.0410828227336, 1237.4559363747212, 826.3757981734134, 3787.44476385502, 2312.4680488905433, 2077.2719638777676, 1826.4715876711832, 1699.0186278013502, 2940.6115717079333, 584.654292583709, 545.6925405821203, 2203.7346090263486, 1078.9838448124844, 223.7691406667552, 151.91783744618786, 109.30316976342742, 69.52643225024154, 70.72715219026735, 83.92932808038168, 53.42747793346189, 50.190080490663895, 50.67561703176401, 42.75329380301619, 39.007776683792784, 33.38399791538159, 130.44965977122018, 210.52237571765792, 96.65885389244394, 25.854242840305957, 694.5959060336618, 210.6042059725564, 47.01698482257757, 19.1967468644503, 130.0858496984483, 25.91969452961191, 39.78177037238377, 24.558602675628777, 16.009976860779084, 516.1129720213353, 106.4880865296859, 26.05863758926916, 63.11318876300455, 48.3257487092021, 148.92852894966242, 774.112151386526, 73.32302306752615, 113.93189541290616, 71.94743732248524, 244.42184913884586, 130.31859662500133, 226.99932118032274, 233.9598622200551, 286.66519396220315, 368.29641547445453, 618.2608499538284, 671.5575126561633, 246.44899312994198, 281.7843277407008, 891.7387283743432, 109.87449334757257, 1197.7264104136418, 349.8464778307765, 2940.6115717079333, 3169.1453170821615, 3096.0410828227336, 723.9782895573143, 1277.7471613560108, 1751.1919660227036, 3787.44476385502, 1826.4715876711832, 2312.4680488905433, 1477.1484196217095, 1078.9838448124844, 614.6883850829199, 866.281051970125, 2860.488572834353, 2203.7346090263486, 2077.2719638777676, 327.5650686982693, 200.7244605950502, 108.10001720469393, 103.78655190770142, 65.47652538945769, 63.32831741304247, 49.04649409041702, 47.06728805203094, 59.00751915277292, 39.636002571190375, 37.056730221710374, 32.91456577455721, 30.70059829925991, 30.28881792358782, 30.37783434119508, 45.41726209125346, 67.34018831561103, 137.48761991877828, 35.89934170591166, 28.589343564418723, 28.747049160415735, 21.309286269531587, 124.11898968871384, 56.57731624976223, 145.59439773303285, 18.251831398403215, 80.42980170040943, 104.08368612535138, 16.347870723159232, 12.688572961388065, 913.7103774233535, 372.3282365285256, 220.88346063614023, 277.66146905523783, 365.2451516653981, 226.96363953974003, 231.8127528582678, 66.1711321191236, 206.31831677819883, 96.71431583004531, 90.4320488671056, 609.6700991146105, 165.99304562470235, 320.4041800306636, 218.10730913728295, 107.33139483038893, 878.3861025326372, 195.5902636521658, 1751.1919660227036, 203.83628791736635, 3787.44476385502, 270.5099232653008, 2077.2719638777676, 1826.4715876711832, 424.9763045747561, 3096.0410828227336, 2860.488572834353, 2312.4680488905433, 1699.0186278013502, 1197.7264104136418, 781.9578425127177, 2940.6115717079333, 671.5575126561633, 903.5862099669355, 1808.8394280687703, 2203.7346090263486], \"Category\": [\"Default\", \"Default\", \"Default\", \"Default\", \"Default\", \"Default\", \"Default\", \"Default\", \"Default\", \"Default\", \"Default\", \"Default\", \"Default\", \"Default\", \"Default\", \"Default\", \"Default\", \"Default\", \"Default\", \"Default\", \"Default\", \"Default\", \"Default\", \"Default\", \"Default\", \"Default\", \"Default\", \"Default\", \"Default\", \"Default\", \"Topic1\", \"Topic1\", \"Topic1\", \"Topic1\", \"Topic1\", \"Topic1\", \"Topic1\", \"Topic1\", \"Topic1\", \"Topic1\", \"Topic1\", \"Topic1\", \"Topic1\", \"Topic1\", \"Topic1\", \"Topic1\", \"Topic1\", \"Topic1\", \"Topic1\", \"Topic1\", \"Topic1\", \"Topic1\", \"Topic1\", \"Topic1\", \"Topic1\", \"Topic1\", \"Topic1\", \"Topic1\", \"Topic1\", \"Topic1\", \"Topic1\", \"Topic1\", \"Topic1\", \"Topic1\", \"Topic1\", \"Topic1\", \"Topic1\", \"Topic1\", \"Topic1\", \"Topic1\", \"Topic1\", \"Topic1\", \"Topic1\", \"Topic1\", \"Topic1\", \"Topic1\", \"Topic1\", \"Topic1\", \"Topic1\", \"Topic1\", \"Topic1\", \"Topic1\", \"Topic1\", \"Topic1\", \"Topic1\", \"Topic1\", \"Topic1\", \"Topic1\", \"Topic1\", \"Topic1\", \"Topic1\", \"Topic1\", \"Topic1\", \"Topic1\", \"Topic1\", \"Topic1\", \"Topic1\", \"Topic1\", \"Topic1\", \"Topic1\", \"Topic1\", \"Topic1\", \"Topic1\", \"Topic1\", \"Topic2\", \"Topic2\", \"Topic2\", \"Topic2\", \"Topic2\", \"Topic2\", \"Topic2\", \"Topic2\", \"Topic2\", \"Topic2\", \"Topic2\", \"Topic2\", \"Topic2\", \"Topic2\", \"Topic2\", \"Topic2\", \"Topic2\", \"Topic2\", \"Topic2\", \"Topic2\", \"Topic2\", \"Topic2\", \"Topic2\", \"Topic2\", \"Topic2\", \"Topic2\", \"Topic2\", \"Topic2\", \"Topic2\", \"Topic2\", \"Topic2\", \"Topic2\", \"Topic2\", \"Topic2\", \"Topic2\", \"Topic2\", \"Topic2\", \"Topic2\", \"Topic2\", \"Topic2\", \"Topic2\", \"Topic2\", \"Topic2\", \"Topic2\", \"Topic2\", \"Topic2\", \"Topic2\", \"Topic2\", \"Topic2\", \"Topic2\", \"Topic2\", \"Topic2\", \"Topic2\", \"Topic2\", \"Topic2\", \"Topic2\", \"Topic2\", \"Topic2\", \"Topic2\", \"Topic2\", \"Topic2\", \"Topic2\", \"Topic2\", \"Topic2\", \"Topic2\", \"Topic2\", \"Topic2\", \"Topic2\", \"Topic2\", \"Topic2\", \"Topic2\", \"Topic2\", \"Topic2\", \"Topic2\", \"Topic2\", \"Topic2\", \"Topic2\", \"Topic2\", \"Topic2\", \"Topic3\", \"Topic3\", \"Topic3\", \"Topic3\", \"Topic3\", \"Topic3\", \"Topic3\", \"Topic3\", \"Topic3\", \"Topic3\", \"Topic3\", \"Topic3\", \"Topic3\", \"Topic3\", \"Topic3\", \"Topic3\", \"Topic3\", \"Topic3\", \"Topic3\", \"Topic3\", \"Topic3\", \"Topic3\", \"Topic3\", \"Topic3\", \"Topic3\", \"Topic3\", \"Topic3\", \"Topic3\", \"Topic3\", \"Topic3\", \"Topic3\", \"Topic3\", \"Topic3\", \"Topic3\", \"Topic3\", \"Topic3\", \"Topic3\", \"Topic3\", \"Topic3\", \"Topic3\", \"Topic3\", \"Topic3\", \"Topic3\", \"Topic3\", \"Topic3\", \"Topic3\", \"Topic3\", \"Topic3\", \"Topic3\", \"Topic3\", \"Topic3\", \"Topic3\", \"Topic3\", \"Topic3\", \"Topic3\", \"Topic3\", \"Topic3\", \"Topic3\", \"Topic3\", \"Topic3\", \"Topic3\", \"Topic3\", \"Topic3\", \"Topic3\", \"Topic4\", \"Topic4\", \"Topic4\", \"Topic4\", \"Topic4\", \"Topic4\", \"Topic4\", \"Topic4\", \"Topic4\", \"Topic4\", \"Topic4\", \"Topic4\", \"Topic4\", \"Topic4\", \"Topic4\", \"Topic4\", \"Topic4\", \"Topic4\", \"Topic4\", \"Topic4\", \"Topic4\", \"Topic4\", \"Topic4\", \"Topic4\", \"Topic4\", \"Topic4\", \"Topic4\", \"Topic4\", \"Topic4\", \"Topic4\", \"Topic4\", \"Topic4\", \"Topic4\", \"Topic4\", \"Topic4\", \"Topic4\", \"Topic4\", \"Topic4\", \"Topic4\", \"Topic4\", \"Topic4\", \"Topic4\", \"Topic4\", \"Topic4\", \"Topic4\", \"Topic4\", \"Topic4\", \"Topic4\", \"Topic4\", \"Topic4\", \"Topic4\", \"Topic4\", \"Topic4\", \"Topic4\", \"Topic4\", \"Topic4\", \"Topic4\", \"Topic4\", \"Topic4\", \"Topic4\", \"Topic4\", \"Topic4\", \"Topic4\", \"Topic4\", \"Topic4\", \"Topic4\", \"Topic4\", \"Topic4\", \"Topic4\", \"Topic4\", \"Topic5\", \"Topic5\", \"Topic5\", \"Topic5\", \"Topic5\", \"Topic5\", \"Topic5\", \"Topic5\", \"Topic5\", \"Topic5\", \"Topic5\", \"Topic5\", \"Topic5\", \"Topic5\", \"Topic5\", \"Topic5\", \"Topic5\", \"Topic5\", \"Topic5\", \"Topic5\", \"Topic5\", \"Topic5\", \"Topic5\", \"Topic5\", \"Topic5\", \"Topic5\", \"Topic5\", \"Topic5\", \"Topic5\", \"Topic5\", \"Topic5\", \"Topic5\", \"Topic5\", \"Topic5\", \"Topic5\", \"Topic5\", \"Topic5\", \"Topic5\", \"Topic5\", \"Topic5\", \"Topic5\", \"Topic5\", \"Topic5\", \"Topic5\", \"Topic5\", \"Topic5\", \"Topic5\", \"Topic5\", \"Topic5\", \"Topic5\", \"Topic5\", \"Topic5\", \"Topic5\", \"Topic5\", \"Topic5\", \"Topic5\", \"Topic5\", \"Topic5\", \"Topic5\", \"Topic5\", \"Topic5\", \"Topic5\", \"Topic5\", \"Topic5\", \"Topic5\", \"Topic6\", \"Topic6\", \"Topic6\", \"Topic6\", \"Topic6\", \"Topic6\", \"Topic6\", \"Topic6\", \"Topic6\", \"Topic6\", \"Topic6\", \"Topic6\", \"Topic6\", \"Topic6\", \"Topic6\", \"Topic6\", \"Topic6\", \"Topic6\", \"Topic6\", \"Topic6\", \"Topic6\", \"Topic6\", \"Topic6\", \"Topic6\", \"Topic6\", \"Topic6\", \"Topic6\", \"Topic6\", \"Topic6\", \"Topic6\", \"Topic6\", \"Topic6\", \"Topic6\", \"Topic6\", \"Topic6\", \"Topic6\", \"Topic6\", \"Topic6\", \"Topic6\", \"Topic6\", \"Topic6\", \"Topic6\", \"Topic6\", \"Topic6\", \"Topic6\", \"Topic6\", \"Topic6\", \"Topic6\", \"Topic6\", \"Topic6\", \"Topic6\", \"Topic6\", \"Topic6\", \"Topic6\", \"Topic6\", \"Topic6\", \"Topic6\", \"Topic6\", \"Topic6\", \"Topic6\", \"Topic6\", \"Topic6\", \"Topic6\", \"Topic6\", \"Topic6\", \"Topic6\"], \"logprob\": [30.0, 29.0, 28.0, 27.0, 26.0, 25.0, 24.0, 23.0, 22.0, 21.0, 20.0, 19.0, 18.0, 17.0, 16.0, 15.0, 14.0, 13.0, 12.0, 11.0, 10.0, 9.0, 8.0, 7.0, 6.0, 5.0, 4.0, 3.0, 2.0, 1.0, -5.1453, -5.256, -4.176, -5.987, -5.4645, -6.2233, -6.3445, -6.4241, -6.4804, -6.5123, -6.5444, -6.538, -6.6007, -6.3722, -6.6552, -6.3695, -6.6807, -5.6565, -6.7997, -6.8243, -6.0681, -6.8128, -6.9046, -6.79, -6.962, -5.4612, -6.8703, -5.5703, -6.6728, -7.1206, -5.0223, -3.7323, -4.3365, -5.732, -3.4923, -4.2742, -4.5609, -5.5125, -6.144, -3.3979, -4.4058, -6.1768, -5.0769, -4.3215, -5.8886, -5.2321, -5.0913, -4.1842, -5.0509, -5.8908, -5.5145, -3.9539, -3.5435, -4.639, -4.2132, -5.2723, -4.7819, -3.5589, -4.5221, -4.8409, -4.8652, -5.1201, -4.2985, -5.0152, -4.8644, -4.2386, -4.4298, -4.9729, -4.8217, -4.8861, -4.8977, -4.9636, -4.9351, -4.9968, -3.6701, -5.4546, -5.1852, -6.0269, -5.55, -6.4514, -6.4515, -6.2618, -6.3178, -6.5115, -6.7108, -6.6994, -6.6305, -6.6516, -6.6864, -6.8246, -6.6871, -6.8475, -6.8095, -6.8609, -6.8652, -6.6133, -6.5794, -6.6465, -7.0037, -6.9723, -6.8877, -7.1793, -7.3083, -7.3366, -4.4351, -6.1289, -5.8654, -4.3894, -6.1836, -6.2805, -5.8461, -5.2685, -5.4808, -6.4586, -5.4238, -6.033, -4.4079, -6.2107, -4.4466, -6.2032, -5.216, -6.2225, -3.8446, -4.9404, -5.877, -4.9167, -5.2878, -3.8142, -5.2379, -3.1727, -4.8201, -4.5909, -4.9942, -4.3213, -5.3612, -5.0916, -4.212, -5.3399, -4.9894, -4.6118, -3.7708, -4.6044, -4.2551, -4.7805, -4.6289, -4.6345, -4.9278, -4.3035, -4.9318, -4.6263, -4.9555, -4.9922, -5.0055, -3.7698, -4.3435, -4.2075, -4.6748, -4.4665, -5.1373, -5.2917, -5.2782, -5.1847, -4.2909, -5.7289, -5.7469, -5.8559, -5.8794, -5.7769, -5.593, -5.3695, -6.1651, -5.9831, -6.2501, -6.3332, -6.3282, -6.3948, -6.45, -6.5398, -6.4261, -6.5649, -6.5285, -6.668, -6.6057, -4.8411, -5.3768, -5.958, -5.1338, -4.3942, -3.5903, -5.6932, -4.621, -4.9785, -5.5807, -4.1218, -5.2444, -5.1806, -4.7143, -5.0416, -4.1622, -5.1802, -3.7, -4.198, -5.1167, -4.4792, -4.0795, -4.2469, -4.8189, -4.6569, -4.6739, -4.6598, -4.2966, -4.9691, -5.0723, -4.8546, -4.666, -4.7393, -4.9935, -4.9822, -5.8603, -5.5294, -5.8415, -6.1427, -5.9414, -4.095, -6.1757, -6.5209, -6.148, -6.6272, -5.7837, -6.2756, -6.3798, -6.6359, -6.1329, -4.7526, -6.9265, -7.0132, -5.9248, -6.5021, -5.5736, -6.5857, -7.1412, -5.8548, -7.2678, -7.259, -5.8276, -6.7581, -7.3485, -6.3676, -4.9221, -5.2655, -5.9332, -4.9853, -5.8988, -4.9861, -5.1608, -4.8048, -3.5762, -5.0568, -4.3866, -5.5615, -5.1293, -4.8486, -4.4665, -4.7081, -4.7711, -2.7955, -4.2279, -5.5207, -3.6921, -4.4367, -4.6046, -5.2394, -4.7966, -4.5274, -3.5331, -4.1142, -4.3907, -3.5741, -3.975, -4.1376, -4.2138, -4.2592, -4.063, -4.7717, -4.8132, -4.7672, -4.8798, -4.7241, -5.1152, -5.4467, -5.9006, -5.8837, -5.715, -6.1674, -6.2311, -6.2244, -6.3963, -6.489, -6.6516, -5.289, -4.8112, -5.5902, -6.9109, -3.6224, -4.8189, -6.3218, -7.2207, -5.3111, -6.9251, -6.499, -6.9817, -7.4098, -3.9406, -5.5278, -6.9375, -6.0578, -6.3328, -5.2225, -3.6383, -5.9379, -5.5272, -5.97, -4.8389, -5.4245, -4.9318, -4.9319, -4.756, -4.6365, -4.2377, -4.1856, -5.0058, -4.9374, -4.1702, -5.6593, -3.9932, -4.8724, -3.5228, -3.5367, -3.585, -4.47, -4.176, -4.1162, -3.7609, -4.2297, -4.5062, -4.6924, -4.7706, -4.9396, -4.9068, -4.8694, -4.8918, -4.9232, -4.2514, -4.7439, -5.3653, -5.4064, -5.872, -5.9054, -6.1653, -6.2066, -5.9816, -6.3823, -6.4514, -6.5723, -6.6434, -6.6573, -6.6546, -6.2542, -5.8658, -5.1525, -6.4963, -6.7263, -6.7209, -7.0225, -5.2608, -6.051, -5.1084, -7.1862, -5.7046, -5.4511, -7.3118, -7.5671, -3.2969, -4.208, -4.7341, -4.5157, -4.2706, -4.7339, -4.7474, -5.9251, -4.8919, -5.5881, -5.6521, -3.9951, -5.1462, -4.6314, -4.9544, -5.5453, -3.8941, -5.0764, -3.4856, -5.099, -3.155, -4.9942, -3.7808, -3.9446, -4.8361, -3.8312, -3.8839, -4.3313, -4.4473, -4.6357, -4.7896, -4.6682, -4.938, -4.9296, -4.878, -4.8767], \"loglift\": [30.0, 29.0, 28.0, 27.0, 26.0, 25.0, 24.0, 23.0, 22.0, 21.0, 20.0, 19.0, 18.0, 17.0, 16.0, 15.0, 14.0, 13.0, 12.0, 11.0, 10.0, 9.0, 8.0, 7.0, 6.0, 5.0, 4.0, 3.0, 2.0, 1.0, 1.4188, 1.4187, 1.4171, 1.4148, 1.4142, 1.4122, 1.4114, 1.4106, 1.4099, 1.4095, 1.409, 1.4088, 1.4082, 1.4079, 1.4075, 1.4068, 1.4059, 1.4056, 1.4051, 1.4045, 1.4042, 1.4034, 1.4028, 1.4022, 1.4019, 1.4018, 1.4015, 1.3992, 1.398, 1.3979, 1.3903, 1.3707, 1.3469, 1.3716, 1.2822, 1.3105, 1.3032, 1.3457, 1.3758, 1.2038, 1.2472, 1.3678, 1.2365, 1.1429, 1.3334, 1.2467, 1.2243, 1.0838, 1.2083, 1.3274, 1.2535, 0.9528, 0.8608, 1.0755, 0.9695, 1.1813, 1.0399, 0.5845, 0.8789, 0.9384, 0.9129, 1.0752, 0.1648, 0.9062, 0.6865, -0.3759, -0.0737, 0.6678, -0.1876, -0.0818, -0.2334, 0.1493, -0.8708, 0.1216, 1.6948, 1.6895, 1.6886, 1.6861, 1.6834, 1.6809, 1.6807, 1.6805, 1.6803, 1.6797, 1.6762, 1.6745, 1.6745, 1.6744, 1.6741, 1.6738, 1.6734, 1.6732, 1.673, 1.6727, 1.6724, 1.6723, 1.671, 1.6707, 1.6689, 1.6684, 1.6674, 1.6642, 1.6589, 1.6588, 1.6578, 1.6569, 1.6514, 1.6157, 1.652, 1.6524, 1.6358, 1.611, 1.6047, 1.6558, 1.5922, 1.6298, 1.5211, 1.6387, 1.4983, 1.6362, 1.5266, 1.629, 1.339, 1.4726, 1.5695, 1.3825, 1.4519, 1.1671, 1.4295, 0.943, 1.2981, 1.2042, 1.2543, 1.0166, 1.3762, 1.2481, 0.802, 1.2755, 1.0421, 0.7631, 0.0919, 0.7155, 0.4092, 0.8501, 0.6951, 0.6226, 0.8747, -0.16, 0.7993, -0.5854, 0.5619, -0.1879, -0.6494, 1.8619, 1.8617, 1.8616, 1.8607, 1.8603, 1.8589, 1.8575, 1.8567, 1.8555, 1.855, 1.8549, 1.8545, 1.8534, 1.8534, 1.8529, 1.8528, 1.8518, 1.8499, 1.8496, 1.8482, 1.8474, 1.8464, 1.8461, 1.8452, 1.8436, 1.8425, 1.8425, 1.8412, 1.8407, 1.8401, 1.8309, 1.8278, 1.8253, 1.746, 1.6129, 1.5226, 1.751, 1.5813, 1.5227, 1.6631, 1.174, 1.5041, 1.4529, 1.1515, 1.3265, 0.7446, 1.4059, 0.3643, 0.6062, 1.3282, 0.7036, 0.2766, 0.3451, 0.9801, 0.7442, 0.6459, 0.6083, -0.1532, 0.9524, 1.2403, 0.5858, -0.2026, -0.3351, -0.3292, 1.8654, 1.8594, 1.8586, 1.858, 1.856, 1.8521, 1.8515, 1.8484, 1.8484, 1.8475, 1.8469, 1.8468, 1.8443, 1.8435, 1.8414, 1.841, 1.8403, 1.8379, 1.8358, 1.8355, 1.8344, 1.8326, 1.83, 1.8292, 1.8278, 1.8272, 1.827, 1.8264, 1.8233, 1.821, 1.8125, 1.7838, 1.7778, 1.7941, 1.75, 1.7862, 1.7375, 1.7413, 1.7142, 1.6192, 1.7292, 1.6335, 1.7479, 1.6897, 1.6539, 1.5768, 1.6064, 1.6155, 1.2454, 1.4764, 1.7165, 1.2572, 1.4271, 1.3624, 1.5894, 1.359, 1.1264, 0.5312, 0.8672, 0.9944, 0.2886, 0.3811, 0.3257, 0.3782, 0.4052, 0.0528, 0.9595, 0.9869, -0.363, 0.2386, 1.9675, 1.9636, 1.9613, 1.9598, 1.9597, 1.9571, 1.9564, 1.9552, 1.9523, 1.9504, 1.9494, 1.9425, 1.9422, 1.9414, 1.9408, 1.9387, 1.9364, 1.9333, 1.9299, 1.9267, 1.9229, 1.9221, 1.9198, 1.9194, 1.9191, 1.9152, 1.9064, 1.9043, 1.8994, 1.8913, 1.8761, 1.8121, 1.8694, 1.8394, 1.8562, 1.7643, 1.8076, 1.7454, 1.7151, 1.6878, 1.5568, 1.4375, 1.407, 1.5892, 1.5237, 1.1388, 1.7435, 1.0208, 1.3723, 0.593, 0.5043, 0.4793, 1.0474, 0.7733, 0.5179, 0.1018, 0.3624, -0.1501, 0.1119, 0.3477, 0.7414, 0.4312, -0.726, -0.4876, -0.4598, 2.0591, 2.0563, 2.0538, 2.0534, 2.0485, 2.0484, 2.0441, 2.0439, 2.0429, 2.0401, 2.0383, 2.036, 2.0345, 2.0341, 2.0338, 2.032, 2.0266, 2.0261, 2.0251, 2.0228, 2.0227, 2.0205, 2.0202, 2.0156, 2.0129, 2.0117, 2.0102, 2.0058, 1.9963, 1.9943, 1.9878, 1.9743, 1.9704, 1.9601, 1.931, 1.9434, 1.9088, 1.9848, 1.8808, 1.9423, 1.9454, 1.6941, 1.844, 1.7012, 1.7628, 1.8809, 1.43, 1.7497, 1.1485, 1.6858, 0.7077, 1.5077, 0.6825, 0.6474, 1.214, 0.2331, 0.2595, 0.0247, 0.2171, 0.3782, 0.6508, -0.5525, 0.6546, 0.3662, -0.2763, -0.4724]}, \"token.table\": {\"Topic\": [3, 1, 2, 3, 4, 5, 6, 2, 3, 4, 6, 1, 2, 3, 1, 3, 1, 2, 3, 4, 5, 6, 1, 5, 1, 2, 3, 4, 5, 6, 1, 2, 3, 4, 5, 6, 3, 6, 1, 5, 1, 1, 3, 5, 4, 2, 4, 4, 1, 2, 3, 4, 5, 6, 1, 2, 3, 5, 6, 1, 2, 3, 4, 5, 6, 2, 6, 2, 4, 1, 1, 6, 1, 3, 3, 1, 2, 3, 4, 5, 6, 2, 3, 5, 1, 3, 1, 4, 2, 1, 2, 5, 6, 2, 4, 5, 6, 5, 1, 1, 2, 3, 5, 6, 3, 1, 1, 3, 6, 6, 3, 6, 6, 2, 3, 4, 6, 3, 3, 3, 4, 3, 5, 2, 3, 5, 1, 2, 4, 5, 1, 3, 4, 2, 1, 2, 3, 4, 5, 6, 1, 2, 3, 4, 5, 6, 2, 4, 2, 4, 5, 6, 1, 2, 3, 4, 5, 6, 1, 2, 3, 4, 5, 6, 1, 5, 1, 5, 1, 2, 3, 4, 5, 6, 1, 2, 3, 4, 5, 6, 1, 5, 6, 3, 4, 2, 4, 5, 6, 1, 3, 4, 6, 1, 3, 2, 1, 1, 2, 3, 6, 1, 1, 3, 6, 4, 2, 4, 5, 6, 1, 3, 5, 2, 4, 2, 4, 5, 6, 1, 2, 3, 4, 5, 6, 2, 3, 5, 1, 2, 3, 4, 5, 6, 1, 2, 3, 4, 5, 6, 2, 4, 6, 1, 2, 3, 5, 6, 2, 3, 1, 2, 3, 4, 6, 1, 3, 4, 5, 6, 1, 3, 6, 5, 6, 3, 6, 1, 3, 4, 5, 6, 1, 2, 3, 4, 2, 3, 5, 1, 6, 2, 2, 6, 6, 1, 6, 1, 2, 3, 6, 4, 5, 1, 2, 3, 5, 6, 1, 3, 6, 1, 2, 4, 5, 2, 4, 2, 2, 4, 5, 6, 3, 4, 1, 3, 5, 6, 6, 5, 1, 2, 3, 5, 6, 2, 1, 2, 2, 1, 3, 3, 3, 1, 2, 3, 5, 1, 5, 6, 5, 2, 6, 1, 3, 2, 3, 4, 5, 6, 3, 4, 6, 2, 2, 3, 5, 5, 4, 5, 1, 5, 6, 1, 3, 1, 3, 4, 6, 5, 6, 4, 1, 6, 3, 3, 2, 4, 5, 6, 6, 6, 1, 2, 3, 4, 5, 6, 2, 2, 3, 4, 5, 6, 2, 3, 1, 2, 3, 4, 5, 1, 4, 1, 6, 2, 6, 1, 4, 6, 1, 2, 3, 4, 5, 6, 5, 1, 5, 1, 1, 2, 3, 4, 5, 6, 1, 3, 4, 1, 2, 4, 1, 4, 1, 3, 1, 2, 3, 5, 1, 3, 5, 5, 1, 3, 6, 1, 2, 3, 4, 5, 6, 3, 1, 3, 5, 4, 1, 6, 1, 6, 2, 4, 2, 6, 1, 2, 3, 5, 6, 1, 2, 3, 4, 5, 6, 2, 5, 6, 1, 3, 5, 2, 3, 4, 5, 1, 3, 4, 5, 1, 1, 2, 3, 4, 5, 6, 2, 5, 1, 3, 4, 5, 2, 4, 5, 6, 1, 2, 3, 4, 5, 6, 3, 1, 2, 3, 4, 5, 1, 3, 1, 3, 5, 6, 4, 2, 6, 3, 2, 4, 2, 2, 4, 1, 2, 5, 6, 4, 2, 3, 5, 2, 4, 5, 6, 2, 1, 2, 3, 4, 5, 6, 1, 4, 5, 1, 2, 5, 6, 1, 3, 2, 3, 4, 5, 6, 1, 4, 5, 1, 1, 2, 5, 6, 2, 4, 5, 5, 1, 2, 3, 4, 5, 6, 1, 2, 3, 5, 6, 2, 1, 2, 3, 4, 5, 6, 2, 4, 5, 5, 2, 1, 5, 1, 5, 1, 5, 3, 1, 1, 2, 3, 4, 5, 6, 2, 6, 2, 2, 1, 3, 1, 2, 3, 4, 5, 6, 2, 3, 4, 5, 6, 4, 3, 1, 2, 3, 4, 6, 2, 5, 6, 1, 2, 3, 4, 5, 6, 1, 2, 3, 5, 6, 1, 2, 4, 5, 2, 1, 2, 3, 4, 6, 2, 1, 2, 3, 4, 5, 6, 2, 6, 1, 2, 5, 2, 4, 5, 6, 1, 2, 3, 4, 5, 6, 1, 1, 3, 5, 2, 6, 6, 3, 1, 2, 3, 4, 5, 6, 1, 2, 3, 4, 5, 6, 6, 1, 2, 3, 4, 5, 6, 1, 2, 3, 5, 6, 4, 2, 4, 5, 1, 3, 1, 3, 1, 3, 1, 3, 3, 2, 5, 4, 6, 3, 5, 6, 2, 4, 2, 4, 2, 4, 1, 3, 6, 1, 2, 3, 4, 5, 6, 6, 2, 4, 5, 2, 4, 1, 2, 3, 4, 5, 6, 4, 5, 2, 4, 5, 3, 4, 1, 2, 3, 4, 5, 6, 1, 3, 1, 5, 1, 2, 3, 4, 5, 6, 4, 6, 2, 4, 6, 3, 1, 3, 5, 1, 2, 3, 4, 5, 3, 5, 6, 2, 3, 4, 5, 6, 1, 1, 2, 3, 4, 5, 6, 1, 2, 3, 4, 5, 6, 3, 6, 1, 3, 5, 6, 1, 2, 3, 4, 5, 6, 1, 2, 3, 5, 6, 1, 2, 6, 1, 2, 4, 5, 6, 1, 2, 3, 4, 5, 6, 3, 1, 2, 3, 4, 5, 6, 2, 4, 5, 4, 6, 2, 4, 5, 2, 3, 5, 3, 5, 6, 5, 6, 2, 3, 4, 6, 1, 2, 3, 4, 5, 6, 1, 3, 6, 6, 4, 6, 2, 4, 1, 4, 5, 6, 6, 1, 2, 3, 4, 1, 2, 5, 1, 6, 1, 2, 3, 4, 5, 6, 2, 1, 2, 3, 4, 5, 6, 3, 6, 1, 2, 3, 4, 5, 1, 2, 5, 6, 4, 5, 6, 5, 5, 3, 4, 4, 1, 2, 3, 4, 1, 3, 4, 5, 6, 1, 4, 6], \"Freq\": [0.9813432035986405, 0.03729393600533173, 0.3218328551571219, 0.09530672534695886, 0.12983814757411785, 0.39642072716778537, 0.020718853336295404, 0.02946915031926176, 0.08840745095778528, 0.8693399344182219, 0.01473457515963088, 0.9439105845293491, 0.010487895383659435, 0.04195158153463774, 0.029859594411202617, 0.9629719197612844, 0.10316923227918762, 0.07961973360676436, 0.16596789540564963, 0.11886889806080311, 0.4351050230904869, 0.0975622087857535, 0.02126890960306327, 0.9571009321378471, 0.009280579439968689, 0.4284534174785545, 0.044856133959848665, 0.14075545483952512, 0.2521224081191494, 0.1252878224395773, 0.8038303331061182, 0.0027642033463071464, 0.029300555470855753, 0.021560786101195745, 0.04643861621796006, 0.09674711712075013, 0.06044932090324614, 0.9218521437745036, 0.20022845457322003, 0.7918125249031883, 0.9811783682971379, 0.7126162584252025, 0.2852617952910554, 0.002152919209743814, 0.9808282484244191, 0.039601655561741014, 0.9504397334817843, 0.9825744195740019, 0.004499106472908489, 0.9223168269462404, 0.058488384147810366, 0.011247766182271223, 0.0022495532364542447, 0.0022495532364542447, 0.9279075811361469, 0.0016307690353886588, 0.027723073601607202, 0.0016307690353886588, 0.042399994920105134, 0.19069832119455854, 0.27604170567977765, 0.11182926242890778, 0.23131000070821453, 0.03237162859784173, 0.1583266925967168, 0.022018059961227424, 0.9687946382940067, 0.023153499661539408, 0.9724469857846552, 0.9909988065663752, 0.9762300077555559, 0.01774963650464647, 0.9854402755858049, 0.009756834411740644, 0.9925441973937215, 0.2802072671677028, 0.0027652032944181196, 0.7106572466654567, 0.0009217344314727065, 0.0009217344314727065, 0.004608672157363533, 0.0067146302125766525, 0.08057556255091984, 0.9064750786978482, 0.9741857789138779, 0.9705038243525498, 0.013452547945429402, 0.9820360000163464, 0.9868316451065627, 0.9952965003353081, 0.01611356976894455, 0.02417035465341683, 0.9587574012522009, 0.05402261988686629, 0.0036015079924577526, 0.039616587917035276, 0.9039785061068959, 0.9669592783829577, 0.9944726576474715, 0.009316938455707725, 0.0372677538228309, 0.1118032614684927, 0.009316938455707725, 0.8385244610136953, 0.9852756893678178, 0.9756765610127873, 0.17855170667667622, 0.815127356567435, 0.9963907707466119, 0.9457328287835499, 0.9881761886985, 0.9982749421343526, 0.9771796532292076, 0.9645053301835603, 0.9586796953193336, 0.013314995768324078, 0.013314995768324078, 0.9976339763241638, 0.9978794114703605, 0.9972839929992798, 0.0015485776288808695, 0.08182968662481846, 0.900126552873003, 0.8842331033358527, 0.10458671114725139, 0.00950788283156831, 0.004614399987941076, 0.046143999879410764, 0.8767359977088045, 0.07383039980705722, 0.048090833752123634, 0.1442725012563709, 0.8064462890740732, 0.9854417266966548, 0.256278208218965, 0.12996966273961796, 0.41370625041061493, 0.0018305586301354643, 0.16291971808205633, 0.03478061397257382, 0.43244360832188267, 0.15626701125293577, 0.13319402972565667, 0.045796372425357015, 0.06747099143583132, 0.16500677698296573, 0.9408569182163695, 0.05702163140705269, 0.902581626727905, 0.0432744615554475, 0.0185461978094775, 0.037092395618955, 0.28450776319954996, 0.036105046091313445, 0.1266083616268725, 0.21326047224602476, 0.0880963124628048, 0.25177252141009243, 0.5803265951474814, 0.006147527490969082, 0.3258189570213614, 0.04549170343317121, 0.0012295054981938166, 0.03934417594220213, 0.05425168813397414, 0.9455294217635493, 0.9784369837268325, 0.9823804498786232, 0.04701583079730298, 0.10223576629749104, 0.05301113808018054, 0.535475603107538, 0.23034601665792734, 0.03186979134582282, 0.0366322936106197, 0.034967189355591524, 0.014985938295253512, 0.6743672232864081, 0.07659479573129573, 0.16151511273773228, 0.9513787535366595, 0.033736835231796436, 0.013494734092718575, 0.9960771661059825, 0.003103044131171285, 0.004313826515883741, 0.07333505077002359, 0.06470739773825611, 0.8584514766608644, 0.6816894351713283, 0.11611193675995153, 0.013109412214833237, 0.18915009052830814, 0.10789231252382, 0.890111578321515, 0.9814575738939958, 0.9940649772187132, 0.08811984175332241, 0.00440599208766612, 0.013217976262998362, 0.8900104017085563, 0.9894876513303066, 0.014849973322218593, 0.014849973322218593, 0.9652482659442085, 0.9391592809703353, 0.5891118855800997, 0.36688175041613896, 0.000808109582414403, 0.04282980786796336, 0.015347003818304658, 0.1304495324555896, 0.8517587119159086, 0.9834396374302422, 0.007683122167423767, 0.0694951785091223, 0.01389903570182446, 0.8895382849167655, 0.02779807140364892, 0.0018233831692020285, 0.6108333616826795, 0.13857712085935417, 0.007293532676808114, 0.07475870993728317, 0.1659278683973846, 0.8196715097068853, 0.08048454100481044, 0.09742865490056, 0.0034630793241723352, 0.506763941103885, 0.0023087195494482233, 0.1777714053075132, 0.21471091809868478, 0.09581186130210127, 0.10077385656508868, 0.028423395441435267, 0.2231882528412701, 0.2622704215732436, 0.22480321849135168, 0.160527585618106, 0.20632045839268834, 0.050433889829323814, 0.742753650213678, 0.47031623235235986, 0.04375034719556836, 0.21406419877831662, 0.1953140499802159, 0.07656310759224463, 0.9586794133969366, 0.03092514236764312, 0.9820097937996941, 0.004049299139888675, 0.00809859827977735, 0.9718317935732821, 0.020246495699443375, 0.19819218824603815, 0.6620462458431488, 0.016867420276258566, 0.0801202463122282, 0.046385405759711056, 0.9669366869833091, 0.020285385041607883, 0.010142692520803942, 0.035349856312924796, 0.9544461204489696, 0.02909352858361376, 0.9673598254051574, 0.6255349222934479, 0.32626821486528756, 0.03150175867664846, 0.012750711845310089, 0.0037502093662676733, 0.2602032740577131, 0.033116780334618026, 0.6954523870269785, 0.009461937238462293, 0.9569980776270752, 0.9867751887979128, 0.00759057837536856, 0.8869915697493433, 0.11136237769980742, 0.981055566900965, 0.04121037686492455, 0.9547070640374187, 0.9786632233389034, 0.027855663989385264, 0.9749482396284843, 0.8938091442728099, 0.09307434064328433, 0.0029547409728026774, 0.01034159340480937, 0.9694835677664128, 0.018643914764738707, 0.8693151787446715, 0.0019712362329811143, 0.0637366381997227, 0.0006570787443270381, 0.06439371694404974, 0.923870806841637, 0.036954832273665486, 0.036954832273665486, 0.9878820138569756, 0.838005344043337, 0.1563442806051002, 0.004169180816136005, 0.9540608231946631, 0.028060612446901854, 0.9903516136486419, 0.0887070912147079, 0.887070912147079, 0.004668794274458311, 0.018675177097833243, 0.026024037547510145, 0.9628893892578754, 0.8297263741715136, 0.07960474438545886, 0.006123441875804528, 0.08266646532336114, 0.971483446721069, 0.9866678084779801, 0.0795422910383815, 0.7252385359381842, 0.14972666548401223, 0.02807374977825229, 0.01871583318550153, 0.9799477244469754, 0.9915523597348214, 0.005388871520297942, 0.9723083464030732, 0.984028181208518, 0.012947739226427868, 0.9958701282619573, 0.9846009737905871, 0.43247528897752313, 0.011741410560475741, 0.49118234177990183, 0.06262085632253729, 0.8062564893251827, 0.18271280153772126, 0.008700609597034345, 0.9585430744726976, 0.9844232190634562, 0.9829255802101354, 0.006333382440763358, 0.9943410431998473, 0.4070781708421715, 0.04447072454578344, 0.4019469333945811, 0.006841649930120529, 0.13854341108494073, 0.023401593860022416, 0.9594653482609191, 0.011700796930011208, 0.9624597517037451, 0.972101081441985, 0.006582505496460998, 0.9939583299656107, 0.9376588714275068, 0.9663232707866305, 0.9965627938487701, 0.8193410184982232, 0.03068692953176866, 0.14729726175248956, 0.9813482955293823, 0.015913756143719714, 0.012433202356072818, 0.024866404712145636, 0.012433202356072818, 0.9449233790615341, 0.9645175397973458, 0.03858070159189383, 0.9601415953250397, 0.9514976389119119, 0.040924629630619866, 0.9874333465901276, 0.9974244568406554, 0.3677198433225424, 0.0011384515273143727, 0.09904528287635042, 0.5316568632558121, 0.992421446774714, 0.979024905961438, 0.22400309498266224, 0.09556888801383852, 0.2045433666540526, 0.22573284861187198, 0.11978543882277498, 0.1305963990053359, 0.9610118140796043, 0.15417760724346552, 0.0007826274479363733, 0.5415781939719703, 0.3013115674555037, 0.0023478823438091195, 0.992918081046897, 0.9939588000986763, 0.15192163201021644, 0.02103530289372228, 0.07712944394364836, 0.7455846247886008, 0.002337255877080253, 0.13110514707407359, 0.856039489718951, 0.9952282575695527, 0.004469587983096794, 0.9641349942194388, 0.018541057581143053, 0.6156469535326776, 0.2530793599070191, 0.1310269026468964, 0.22252379004380562, 0.34177098853617993, 0.17674138347976906, 0.01597060694094299, 0.15118841237426028, 0.09262952025746933, 0.98971891037955, 0.03323770276891888, 0.9638933802986476, 0.9928982169766815, 0.7558614196729905, 0.0052399405176637125, 0.1532682601416636, 0.0838390482826194, 0.0013099851294159281, 0.0013099851294159281, 0.9765319380911698, 0.01646333254571888, 0.9713366201974141, 0.982137441894168, 0.10776715688855963, 0.887006599005837, 0.7855497499387452, 0.2113586771135637, 0.9770573213348258, 0.9936575345713404, 0.19518473735207603, 0.007097626812802765, 0.15614778988166084, 0.6387864131522488, 0.10532608060728045, 0.017554346767880074, 0.8777173383940038, 0.9369157826047017, 0.9794701102169905, 0.011800844701409524, 0.005900422350704762, 0.1136170927567769, 0.1136170927567769, 0.17042563913516534, 0.4141526284359932, 0.02015787129555719, 0.1685931053810238, 0.9889825468245954, 0.45890128388430235, 0.5353848311983528, 0.0030593418925620158, 0.9830482978054974, 0.2996215592156523, 0.6959959135946924, 0.048038267918166705, 0.9415500511960674, 0.9628122973306968, 0.03438615347609632, 0.10339730901444681, 0.8892168575242426, 0.2850964483722566, 0.002715204270211968, 0.03529765551275558, 0.6597946376615081, 0.016291225621271808, 0.4784616479948277, 0.24994265193759657, 0.12997017900755023, 0.09569232959896555, 0.014282437253576948, 0.02999311823251159, 0.07696366197378617, 0.009054548467504255, 0.9145093952179297, 0.6005705583671508, 0.31373088869925786, 0.08425915296494355, 0.15348916061920445, 0.0244187300985098, 0.06627941026738375, 0.753492243039731, 0.8399373394858451, 0.1597620928212248, 0.9714874582381434, 0.011429264214566392, 0.9720651515183347, 0.02278437609530517, 0.47065039575973666, 0.01904365763189686, 0.1625512205008339, 0.2519883983077781, 0.07311404269388973, 0.9986150204248846, 0.0011860035872029507, 0.005516344770372735, 0.09929420586670921, 0.8770988184892647, 0.01103268954074547, 0.34959530028429914, 0.6425522558298011, 0.001953046370303347, 0.003906092740606694, 0.21356650054607507, 0.04220176358096094, 0.27878740789846923, 0.22123954846988614, 0.00127884132063518, 0.24425869224131938, 0.9879160368952512, 0.08734177492240162, 0.03720112635583773, 0.0032348805526815415, 0.28628692891231644, 0.585513380035359, 0.22088593485864058, 0.7776086482268469, 0.8380960391490918, 0.039737312201034526, 0.07947462440206905, 0.039737312201034526, 0.9870284606471917, 0.783125187582806, 0.21571112951382682, 0.9901870406392741, 0.2409463597234375, 0.7535981889222407, 0.9871488337088515, 0.9741904827540916, 0.9585928504661277, 0.018368134666415323, 0.4091084539337958, 0.38656574320683157, 0.1853511770883728, 0.9797733111722638, 0.7982899005806071, 0.09132977676134064, 0.10824269838381113, 0.6725308601001806, 0.04282031693521749, 0.17631895208618967, 0.10831021342437365, 0.9851682019574445, 0.024024633389803412, 0.021021554216077983, 0.036036950084705116, 0.7777975059948854, 0.12813137807895153, 0.013013343086143514, 0.05893165035164447, 0.915707182387091, 0.018132815492813682, 0.18073046305703505, 0.006024348768567835, 0.006024348768567835, 0.8072627349880899, 0.030677205514615526, 0.9685232026757188, 0.002614987455626503, 0.3974780932552285, 0.5988321273384692, 0.936535368228605, 0.04071892905341761, 0.01584454881142333, 0.04753364643426999, 0.9348283798739765, 0.9846617384882385, 0.9080970803167598, 0.03783737834653166, 0.022702427007918996, 0.022702427007918996, 0.7634372299572786, 0.2268499197587342, 0.004362498456898734, 0.9741647238200196, 0.0018370276090521453, 0.43904959856346276, 0.009185138045260726, 0.1414511258970152, 0.315968748756969, 0.09185138045260727, 0.14540638208216533, 0.004846879402738844, 0.009693758805477688, 0.004846879402738844, 0.8336632572710811, 0.9815630590184093, 0.039578556032235875, 0.1598973663702329, 0.03007970258449926, 0.47494267238683047, 0.1994759224024688, 0.09498853447736609, 0.9588115103765821, 0.03060036735244411, 0.010200122450814704, 0.9924283149127113, 0.9834070205211669, 0.02850053339720477, 0.9690181355049622, 0.020691327482793016, 0.9724923916912718, 0.038374991653891986, 0.9209997996934076, 0.9904157334847512, 0.9877322019187676, 0.13677559773010053, 0.034193899432525134, 0.008548474858131283, 0.004274237429065642, 0.7736369746608811, 0.042742374290656415, 0.8418803533949671, 0.15520699252532913, 0.9681274780986725, 0.9907058372316524, 0.007768817140977033, 0.9918189883314013, 0.2724785930887538, 0.14087328622275705, 0.10102097498868762, 0.195554364427643, 0.19740796029899507, 0.09360659150327935, 0.17571093730048978, 0.005956302959338637, 0.004467227219503978, 0.5688269326168398, 0.24420842133288412, 0.9590057217345009, 0.9775149553715896, 0.6355561725315959, 0.013837925996022307, 0.3133301814813622, 0.006918962998011154, 0.029652698562904943, 0.6542752204205059, 0.26916385650210684, 0.07039670093132025, 0.19986386803436396, 0.11192376609924382, 0.030265100016632258, 0.022841584918213025, 0.23355520578872815, 0.4014408549375939, 0.12938527199859498, 0.21071315725485468, 0.0813278852562597, 0.0036967220571027136, 0.5729919188509206, 0.02306169354279726, 0.00768723118093242, 0.00768723118093242, 0.9532166664356201, 0.9765943638395738, 0.32826048714867, 0.003492132842007128, 0.5866783174571975, 0.024444929894049894, 0.05936625831412117, 0.9723208517055626, 0.09182716056090211, 0.37524432278590863, 0.2958875173629068, 0.05441609514720125, 0.15984727949490368, 0.023807041626900546, 0.9740600691791106, 0.9773242076141906, 0.008810599034396445, 0.1938331787567218, 0.7973592126128782, 0.08582809042059336, 0.7693875248417477, 0.13487271351807528, 0.00919586683077786, 0.22204945396346779, 0.15164352953602678, 0.28433161788005024, 0.1252413078757364, 0.15570540979145608, 0.06025122378886778, 0.9974550000779128, 0.9860209505734202, 0.062078707110206556, 0.9311806066530984, 0.9728623638262021, 0.9793859007958406, 0.9839539174000191, 0.9814768293227912, 0.18998620282325093, 0.11859011386419485, 0.020571754445829718, 0.4162755017273779, 0.10527897863454033, 0.1488426939315915, 0.019623591269585763, 0.2305771974176327, 0.009811795634792881, 0.004905897817396441, 0.0490589781739644, 0.6868256944355017, 0.9574490517642771, 0.17489114977626985, 0.39290614470285284, 0.18567211106384815, 0.06109211396294358, 0.07067519066301316, 0.11379903581332627, 0.42119995414594397, 0.0023530723695304135, 0.08941675004215571, 0.05647373686872992, 0.4282591712545352, 0.9864406259854769, 0.016111157918976018, 0.966669475138561, 0.9762885319363999, 0.9853646518909059, 0.9892380316994926, 0.10434288528285927, 0.891657383326252, 0.4139673039501006, 0.5853756407419392, 0.7074022209189178, 0.29112322168586235, 0.9905985363995562, 0.9167811683912481, 0.07549962563222043, 0.990953529838836, 0.9898240792819581, 0.011058026579377293, 0.09952223921439564, 0.8957001529295607, 0.9324850168727783, 0.059018039042580905, 0.9435833483265914, 0.04225000067133991, 0.9772079316152338, 0.02124365068728769, 0.9115131922336998, 0.037979716343070825, 0.04557565961168499, 0.5703953619693645, 0.04673884032048094, 0.11072113629317815, 0.10709093510323787, 0.08530972796359627, 0.07941065102994334, 0.9175506862034473, 0.10152823826377154, 0.8325315537629266, 0.06091694295826293, 0.9611627038669196, 0.02669896399630332, 0.001978449051952846, 0.699381739865331, 0.1335453110068171, 0.00989224525976423, 0.010881469785740653, 0.14442678079255775, 0.9147566824065712, 0.08258220049503767, 0.009132011728519712, 0.9588612314945698, 0.027396035185559137, 0.9734828974385078, 0.9595710546484204, 0.04067101413772047, 0.15943037541986424, 0.05043205753077338, 0.3090997074466756, 0.2928313017915874, 0.1480424914613025, 0.595856551996931, 0.4013755940534882, 0.011914786200150077, 0.9889272546124565, 0.004566667775044108, 0.11645002826362474, 0.027400006650264645, 0.7900335250826306, 0.013700003325132323, 0.05023334552548518, 0.9464873581444689, 0.029577729942014654, 0.06295295117015141, 0.931703677318241, 0.9314133814257821, 0.9693052577774744, 0.022997376959520904, 0.007665792319840301, 0.9735556246197182, 0.05413770107734959, 0.12559946649945106, 0.1710751354044247, 0.6020112359801275, 0.04764117694806764, 0.04565863754654439, 0.03491542871206336, 0.915858553139508, 0.6427903430015492, 0.034435196946511565, 0.0028695997455426307, 0.26687277633546463, 0.05452239516530998, 0.9918606583151942, 0.007198429988669827, 0.0014396859977339653, 0.005758743990935861, 0.01871591797054155, 0.9645896184817568, 0.0014396859977339653, 0.0057167932985948645, 0.014291983246487162, 0.020008776545082027, 0.40875072084953284, 0.548812156665107, 0.9875621699377463, 0.2658619045193163, 0.7311202374281198, 0.20687911343828355, 0.7092998175026864, 0.07757966753935633, 0.003694269882826492, 0.7065328534060925, 0.01513998971584484, 0.15644656039706334, 0.013457768636306525, 0.031962200511227994, 0.0756999485792242, 0.2479010829616321, 0.060868569477186454, 0.501335672239372, 0.005533506316107859, 0.18371240969478095, 0.9492124391742237, 0.0009127042684367535, 0.048373326227147934, 0.04827359868452966, 0.012068399671132416, 0.9171983750060636, 0.012068399671132416, 0.012068399671132416, 0.16554696875943695, 0.200927022688886, 0.015577784939085772, 0.20567956724657316, 0.15419366787162866, 0.25822158763433706, 0.9792344041982454, 0.0012918024839280488, 0.08138355648746708, 0.0012918024839280488, 0.046504889421409755, 0.8525896393925122, 0.018085234774992683, 0.13914614790864785, 0.8574411276532895, 0.0037607067002337255, 0.9630961847691041, 0.0361161069288414, 0.9388012061000139, 0.04267278209545518, 0.014224260698485059, 0.9144646806654378, 0.06626555656995926, 0.01987966697098778, 0.056344331047091994, 0.9390721841181999, 0.009390721841181998, 0.9552113856244905, 0.025137141726960275, 0.9456369844612957, 0.01970077050961033, 0.029551155764415492, 0.009850385254805165, 0.0031434070499004973, 0.638111631129801, 0.028290663449104476, 0.16345716659482587, 0.15088353839522387, 0.015717035249502485, 0.06676076085730676, 0.0032833161077363976, 0.9291784584894005, 0.9740130141272235, 0.9522812680946278, 0.025060033370911255, 0.9920325634968155, 0.005362338181063867, 0.27997679813453025, 0.008115269511145804, 0.6816826389362476, 0.024345808533437412, 0.9385579482592231, 0.8441787580011904, 0.048238786171496593, 0.01929551446859864, 0.09165369372584353, 0.1759253526290667, 0.008182574540886823, 0.814166166818239, 0.9844068458773821, 0.9927221949145393, 0.08541058128306589, 0.027922690034848464, 0.2190014904693997, 0.2250240314573082, 0.19983886005332724, 0.2430916544210337, 0.9795075536571597, 0.002121511734232762, 0.002121511734232762, 0.002121511734232762, 0.9822599329497688, 0.008486046936931047, 0.004243023468465524, 0.6313983637117252, 0.3619481065863393, 0.0030187930213468072, 0.7305479111659273, 0.06339465344828295, 0.11169534178983187, 0.09056379064040422, 0.46885359884486144, 0.5196653189167184, 0.011548118198149297, 0.9722139498718781, 0.7742050550619188, 0.003294489596008165, 0.22073080293254707, 0.988077475097493, 0.9919989123575277, 0.9955931983581933, 0.9917985349142002, 0.9977158981243804, 0.2411054777815672, 0.0027398349747905365, 0.7534546180673976, 0.9716373729030306, 0.0016402313340481084, 0.0196827760085773, 0.0196827760085773, 0.26735770744984166, 0.6921776229683018, 0.021903097039132822, 0.0985639366760977, 0.8788617686952045], \"Term\": [\"accommodate\", \"accord\", \"accord\", \"accord\", \"accord\", \"accord\", \"accord\", \"action\", \"action\", \"action\", \"action\", \"actuation\", \"actuation\", \"actuation\", \"air\", \"air\", \"apparatus\", \"apparatus\", \"apparatus\", \"apparatus\", \"apparatus\", \"apparatus\", \"appliance\", \"appliance\", \"area\", \"area\", \"area\", \"area\", \"area\", \"area\", \"arm\", \"arm\", \"arm\", \"arm\", \"arm\", \"arm\", \"array\", \"array\", \"article\", \"article\", \"articulation\", \"assembly\", \"assembly\", \"assembly\", \"attribute\", \"audio\", \"audio\", \"automation\", \"autonomous\", \"autonomous\", \"autonomous\", \"autonomous\", \"autonomous\", \"autonomous\", \"axis\", \"axis\", \"axis\", \"axis\", \"axis\", \"base\", \"base\", \"base\", \"base\", \"base\", \"base\", \"beam\", \"beam\", \"behavior\", \"behavior\", \"belt\", \"bend\", \"bend\", \"blade\", \"blade\", \"board\", \"body\", \"body\", \"body\", \"body\", \"body\", \"body\", \"box\", \"box\", \"box\", \"bracket\", \"brush\", \"building\", \"building\", \"bull\", \"cable\", \"calibration\", \"calibration\", \"calibration\", \"camera\", \"camera\", \"camera\", \"camera\", \"cargo\", \"carriage\", \"carrier\", \"carrier\", \"carrier\", \"carrier\", \"carrier\", \"casing\", \"cassette\", \"catheter\", \"catheter\", \"cell\", \"cells\", \"chamber\", \"charge\", \"charging\", \"chip\", \"circuit\", \"circuit\", \"circuit\", \"clean\", \"cleaner\", \"cleaning\", \"cleaning\", \"coating\", \"coating\", \"collision\", \"collision\", \"collision\", \"command\", \"command\", \"command\", \"command\", \"communication\", \"communication\", \"communication\", \"comparison\", \"component\", \"component\", \"component\", \"component\", \"component\", \"component\", \"comprise\", \"comprise\", \"comprise\", \"comprise\", \"comprise\", \"comprise\", \"compute\", \"compute\", \"condition\", \"condition\", \"condition\", \"condition\", \"configure\", \"configure\", \"configure\", \"configure\", \"configure\", \"configure\", \"connect\", \"connect\", \"connect\", \"connect\", \"connect\", \"connect\", \"container\", \"container\", \"continuum\", \"contour\", \"control\", \"control\", \"control\", \"control\", \"control\", \"control\", \"controller\", \"controller\", \"controller\", \"controller\", \"controller\", \"controller\", \"conveyor\", \"conveyor\", \"conveyor\", \"cooking\", \"cooking\", \"coordinate\", \"coordinate\", \"coordinate\", \"coordinate\", \"couple\", \"couple\", \"couple\", \"couple\", \"cover\", \"cover\", \"crop\", \"cup\", \"cut\", \"cut\", \"cut\", \"cut\", \"cutter\", \"cutting\", \"cutting\", \"cutting\", \"database\", \"datum\", \"datum\", \"datum\", \"datum\", \"delivery\", \"delivery\", \"delivery\", \"depth\", \"depth\", \"destination\", \"destination\", \"destination\", \"destination\", \"detect\", \"detect\", \"detect\", \"detect\", \"detect\", \"detect\", \"detection\", \"detection\", \"detection\", \"determine\", \"determine\", \"determine\", \"determine\", \"determine\", \"determine\", \"device\", \"device\", \"device\", \"device\", \"device\", \"device\", \"dimensional\", \"dimensional\", \"dimensional\", \"direction\", \"direction\", \"direction\", \"direction\", \"direction\", \"disinfection\", \"disinfection\", \"displace\", \"display\", \"display\", \"display\", \"display\", \"dispose\", \"dispose\", \"dispose\", \"dispose\", \"dispose\", \"distal\", \"distal\", \"distal\", \"dock\", \"dock\", \"docking\", \"docking\", \"drive\", \"drive\", \"drive\", \"drive\", \"drive\", \"driving\", \"driving\", \"driving\", \"driving\", \"drone\", \"dust\", \"dust\", \"effector\", \"effector\", \"ego\", \"electrical\", \"electrical\", \"electrode\", \"electrosurgical\", \"electrosurgical\", \"element\", \"element\", \"element\", \"element\", \"elevator\", \"elevator\", \"end\", \"end\", \"end\", \"end\", \"end\", \"engage\", \"engage\", \"engage\", \"engagement\", \"environment\", \"environment\", \"environment\", \"evaluation\", \"evaluation\", \"event\", \"execute\", \"execute\", \"execute\", \"execute\", \"execution\", \"execution\", \"extend\", \"extend\", \"extend\", \"extend\", \"eye\", \"feeder\", \"field\", \"field\", \"field\", \"field\", \"field\", \"final\", \"finger\", \"finger\", \"fleet\", \"flexible\", \"flexible\", \"fluid\", \"foot\", \"force\", \"force\", \"force\", \"force\", \"frame\", \"frame\", \"frame\", \"framework\", \"fusion\", \"garden\", \"gear\", \"gear\", \"generate\", \"generate\", \"generate\", \"generate\", \"generate\", \"generation\", \"generation\", \"generation\", \"geometric\", \"global\", \"good\", \"good\", \"goods\", \"graphical\", \"grid\", \"grip\", \"grip\", \"grip\", \"gripper\", \"gripper\", \"handheld\", \"handheld\", \"handheld\", \"handheld\", \"handler\", \"handler\", \"hardware\", \"holder\", \"holder\", \"hole\", \"housing\", \"image\", \"image\", \"image\", \"image\", \"imaging\", \"implant\", \"include\", \"include\", \"include\", \"include\", \"include\", \"include\", \"indoor\", \"information\", \"information\", \"information\", \"information\", \"information\", \"initial\", \"inner\", \"input\", \"input\", \"input\", \"input\", \"input\", \"inspection\", \"inspection\", \"instrument\", \"instrument\", \"interest\", \"interest\", \"interface\", \"interface\", \"interface\", \"invention\", \"invention\", \"invention\", \"invention\", \"invention\", \"invention\", \"inventory\", \"item\", \"item\", \"jaw\", \"joint\", \"joint\", \"joint\", \"joint\", \"joint\", \"joint\", \"knee\", \"lawn\", \"lawn\", \"lead\", \"learn\", \"learn\", \"link\", \"link\", \"linkage\", \"liquid\", \"load\", \"load\", \"load\", \"load\", \"loading\", \"loading\", \"loading\", \"locating\", \"longitudinal\", \"longitudinal\", \"longitudinal\", \"machine\", \"machine\", \"machine\", \"machine\", \"machine\", \"machine\", \"magnet\", \"main\", \"main\", \"main\", \"manage\", \"manipulator\", \"manipulator\", \"manufacturing\", \"manufacturing\", \"map\", \"map\", \"marker\", \"marker\", \"material\", \"material\", \"material\", \"material\", \"material\", \"mean\", \"mean\", \"mean\", \"mean\", \"mean\", \"mean\", \"measurement\", \"measurement\", \"measurement\", \"mechanism\", \"mechanism\", \"mechanism\", \"medium\", \"medium\", \"medium\", \"medium\", \"member\", \"member\", \"memory\", \"memory\", \"metal\", \"method\", \"method\", \"method\", \"method\", \"method\", \"method\", \"mobile\", \"mobile\", \"mode\", \"mode\", \"mode\", \"mode\", \"model\", \"model\", \"model\", \"model\", \"module\", \"module\", \"module\", \"module\", \"module\", \"module\", \"mop\", \"motion\", \"motion\", \"motion\", \"motion\", \"motion\", \"motor\", \"motor\", \"movable\", \"movable\", \"movable\", \"movable\", \"mower\", \"navigation\", \"navigation\", \"needle\", \"network\", \"network\", \"new\", \"noise\", \"notification\", \"object\", \"object\", \"object\", \"object\", \"objective\", \"obstacle\", \"obstacle\", \"obstacle\", \"obtain\", \"obtain\", \"obtain\", \"obtain\", \"occupancy\", \"operation\", \"operation\", \"operation\", \"operation\", \"operation\", \"operation\", \"operator\", \"operator\", \"operator\", \"orientation\", \"orientation\", \"orientation\", \"orientation\", \"outer\", \"outer\", \"output\", \"output\", \"output\", \"packing\", \"packing\", \"paint\", \"paint\", \"paint\", \"pallet\", \"parallel\", \"parallel\", \"parallel\", \"parallel\", \"parameter\", \"parameter\", \"parameter\", \"particle\", \"path\", \"path\", \"path\", \"path\", \"path\", \"path\", \"patient\", \"patient\", \"patient\", \"patient\", \"patient\", \"perception\", \"perform\", \"perform\", \"perform\", \"perform\", \"perform\", \"perform\", \"performance\", \"performance\", \"performance\", \"person\", \"phase\", \"pick\", \"pick\", \"picking\", \"picking\", \"pickup\", \"pickup\", \"pin\", \"pivot\", \"place\", \"place\", \"place\", \"place\", \"place\", \"place\", \"plan\", \"plan\", \"planner\", \"planning\", \"plate\", \"plate\", \"plurality\", \"plurality\", \"plurality\", \"plurality\", \"plurality\", \"plurality\", \"point\", \"point\", \"point\", \"point\", \"point\", \"policy\", \"pool\", \"portion\", \"portion\", \"portion\", \"portion\", \"portion\", \"pose\", \"pose\", \"pose\", \"position\", \"position\", \"position\", \"position\", \"position\", \"position\", \"positioning\", \"positioning\", \"positioning\", \"positioning\", \"positioning\", \"posture\", \"posture\", \"posture\", \"posture\", \"potential\", \"power\", \"power\", \"power\", \"power\", \"power\", \"prediction\", \"present\", \"present\", \"present\", \"present\", \"present\", \"present\", \"probability\", \"probe\", \"product\", \"product\", \"product\", \"program\", \"program\", \"program\", \"program\", \"provide\", \"provide\", \"provide\", \"provide\", \"provide\", \"provide\", \"proximal\", \"pulley\", \"rack\", \"rack\", \"radar\", \"radiation\", \"ray\", \"reaction\", \"receive\", \"receive\", \"receive\", \"receive\", \"receive\", \"receive\", \"reference\", \"reference\", \"reference\", \"reference\", \"reference\", \"reference\", \"registration\", \"relate\", \"relate\", \"relate\", \"relate\", \"relate\", \"relate\", \"relative\", \"relative\", \"relative\", \"relative\", \"relative\", \"remote\", \"request\", \"request\", \"retrieval\", \"rigid\", \"ring\", \"rotary\", \"rotary\", \"rotate\", \"rotate\", \"rotation\", \"rotation\", \"rotor\", \"route\", \"route\", \"rpa\", \"sample\", \"scan\", \"scan\", \"scan\", \"scenario\", \"scenario\", \"scene\", \"scene\", \"score\", \"score\", \"screw\", \"screw\", \"screw\", \"second\", \"second\", \"second\", \"second\", \"second\", \"second\", \"sector\", \"select\", \"select\", \"select\", \"semantic\", \"semantic\", \"sensor\", \"sensor\", \"sensor\", \"sensor\", \"sensor\", \"sensor\", \"server\", \"server\", \"service\", \"service\", \"service\", \"servo\", \"session\", \"set\", \"set\", \"set\", \"set\", \"set\", \"set\", \"shaft\", \"shaft\", \"shelf\", \"shelf\", \"signal\", \"signal\", \"signal\", \"signal\", \"signal\", \"signal\", \"simulate\", \"simulate\", \"simulation\", \"simulation\", \"skin\", \"solar\", \"sort\", \"sort\", \"sort\", \"state\", \"state\", \"state\", \"state\", \"state\", \"station\", \"station\", \"station\", \"step\", \"step\", \"step\", \"step\", \"step\", \"sterile\", \"storage\", \"storage\", \"storage\", \"storage\", \"storage\", \"storage\", \"store\", \"store\", \"store\", \"store\", \"store\", \"stream\", \"suction\", \"suction\", \"supply\", \"supply\", \"supply\", \"supply\", \"support\", \"support\", \"support\", \"support\", \"support\", \"support\", \"surface\", \"surface\", \"surface\", \"surface\", \"surface\", \"surgical\", \"surgical\", \"surgical\", \"suspend\", \"suspend\", \"suspend\", \"suspend\", \"suspend\", \"system\", \"system\", \"system\", \"system\", \"system\", \"system\", \"tank\", \"target\", \"target\", \"target\", \"target\", \"target\", \"target\", \"task\", \"task\", \"task\", \"teaching\", \"teaching\", \"technique\", \"technique\", \"technique\", \"technology\", \"technology\", \"technology\", \"temperature\", \"temperature\", \"temperature\", \"temporary\", \"temporary\", \"test\", \"test\", \"test\", \"test\", \"time\", \"time\", \"time\", \"time\", \"time\", \"time\", \"tool\", \"tool\", \"tool\", \"tooling\", \"torch\", \"torch\", \"trajectory\", \"trajectory\", \"transfer\", \"transfer\", \"transfer\", \"transfer\", \"transformation\", \"transmission\", \"transmission\", \"transmission\", \"transmission\", \"transport\", \"transport\", \"transport\", \"tray\", \"ultrasound\", \"unit\", \"unit\", \"unit\", \"unit\", \"unit\", \"unit\", \"unmanned\", \"user\", \"user\", \"user\", \"user\", \"user\", \"user\", \"vacuum\", \"vacuum\", \"value\", \"value\", \"value\", \"value\", \"value\", \"vehicle\", \"vehicle\", \"vehicle\", \"video\", \"virtual\", \"virtual\", \"virtual\", \"warehouse\", \"warehousing\", \"water\", \"weld\", \"welding\", \"wheel\", \"wheel\", \"wheel\", \"wireless\", \"work\", \"work\", \"work\", \"work\", \"work\", \"workpiece\", \"workpiece\", \"workpiece\"]}, \"R\": 30, \"lambda.step\": 0.01, \"plot.opts\": {\"xlab\": \"PC1\", \"ylab\": \"PC2\"}, \"topic.order\": [5, 2, 4, 6, 1, 3]};\n",
       "\n",
       "function LDAvis_load_lib(url, callback){\n",
       "  var s = document.createElement('script');\n",
       "  s.src = url;\n",
       "  s.async = true;\n",
       "  s.onreadystatechange = s.onload = callback;\n",
       "  s.onerror = function(){console.warn(\"failed to load library \" + url);};\n",
       "  document.getElementsByTagName(\"head\")[0].appendChild(s);\n",
       "}\n",
       "\n",
       "if(typeof(LDAvis) !== \"undefined\"){\n",
       "   // already loaded: just create the visualization\n",
       "   !function(LDAvis){\n",
       "       new LDAvis(\"#\" + \"ldavis_el2136419827867099844307786431\", ldavis_el2136419827867099844307786431_data);\n",
       "   }(LDAvis);\n",
       "}else if(typeof define === \"function\" && define.amd){\n",
       "   // require.js is available: use it to load d3/LDAvis\n",
       "   require.config({paths: {d3: \"https://d3js.org/d3.v5\"}});\n",
       "   require([\"d3\"], function(d3){\n",
       "      window.d3 = d3;\n",
       "      LDAvis_load_lib(\"https://cdn.jsdelivr.net/gh/bmabey/pyLDAvis@3.4.0/pyLDAvis/js/ldavis.v3.0.0.js\", function(){\n",
       "        new LDAvis(\"#\" + \"ldavis_el2136419827867099844307786431\", ldavis_el2136419827867099844307786431_data);\n",
       "      });\n",
       "    });\n",
       "}else{\n",
       "    // require.js not available: dynamically load d3 & LDAvis\n",
       "    LDAvis_load_lib(\"https://d3js.org/d3.v5.js\", function(){\n",
       "         LDAvis_load_lib(\"https://cdn.jsdelivr.net/gh/bmabey/pyLDAvis@3.4.0/pyLDAvis/js/ldavis.v3.0.0.js\", function(){\n",
       "                 new LDAvis(\"#\" + \"ldavis_el2136419827867099844307786431\", ldavis_el2136419827867099844307786431_data);\n",
       "            })\n",
       "         });\n",
       "}\n",
       "</script>"
      ]
     },
     "execution_count": 12,
     "metadata": {},
     "output_type": "execute_result"
    }
   ],
   "execution_count": 12
  }
 ],
 "metadata": {
  "kernelspec": {
   "display_name": "ml_angew_programm",
   "language": "python",
   "name": "python3"
  },
  "language_info": {
   "codemirror_mode": {
    "name": "ipython",
    "version": 3
   },
   "file_extension": ".py",
   "mimetype": "text/x-python",
   "name": "python",
   "nbconvert_exporter": "python",
   "pygments_lexer": "ipython3",
   "version": "3.8.19"
  }
 },
 "nbformat": 4,
 "nbformat_minor": 2
}
