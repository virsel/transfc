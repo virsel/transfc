{
 "cells": [
  {
   "cell_type": "code",
   "metadata": {
    "ExecuteTime": {
     "end_time": "2024-05-18T14:42:45.557455Z",
     "start_time": "2024-05-18T14:42:45.541825Z"
    }
   },
   "source": [
    "from utils import keys_to_counts, get_keys"
   ],
   "outputs": [],
   "execution_count": 1
  },
  {
   "cell_type": "code",
   "metadata": {
    "ExecuteTime": {
     "end_time": "2024-05-18T14:42:45.657878Z",
     "start_time": "2024-05-18T14:42:45.557455Z"
    }
   },
   "source": [
    "import pandas as pd\n",
    "\n",
    "data_path = \"D:\\\\studium\\\\analyse\\\\data_prep\\\\src\\\\_2_preproc_pipeline_en\\\\data_preprocessed\\\\2_tokenize_ch_en.csv\"\n",
    "df = pd.read_csv(data_path)"
   ],
   "outputs": [],
   "execution_count": 2
  },
  {
   "cell_type": "code",
   "metadata": {
    "ExecuteTime": {
     "end_time": "2024-05-18T14:42:45.673505Z",
     "start_time": "2024-05-18T14:42:45.657878Z"
    }
   },
   "source": [
    "df.head()"
   ],
   "outputs": [
    {
     "data": {
      "text/plain": [
       "                 id  pub_year  \\\n",
       "0  WO002024093209A1      2024   \n",
       "1  WO002024093550A1      2024   \n",
       "2  WO002024093218A1      2024   \n",
       "3  WO002024092854A1      2024   \n",
       "4  WO002024092922A1      2024   \n",
       "\n",
       "                                       text_preproc2  \n",
       "0  method dynamic target tracking legged disclose...  \n",
       "1  operation maintenance comprise operation maint...  \n",
       "2  maintenance base station cleaning system maint...  \n",
       "3  control method swimming pool cleaning mean mea...  \n",
       "4  teaching method apparatus electronic device st...  "
      ],
      "text/html": [
       "<div>\n",
       "<style scoped>\n",
       "    .dataframe tbody tr th:only-of-type {\n",
       "        vertical-align: middle;\n",
       "    }\n",
       "\n",
       "    .dataframe tbody tr th {\n",
       "        vertical-align: top;\n",
       "    }\n",
       "\n",
       "    .dataframe thead th {\n",
       "        text-align: right;\n",
       "    }\n",
       "</style>\n",
       "<table border=\"1\" class=\"dataframe\">\n",
       "  <thead>\n",
       "    <tr style=\"text-align: right;\">\n",
       "      <th></th>\n",
       "      <th>id</th>\n",
       "      <th>pub_year</th>\n",
       "      <th>text_preproc2</th>\n",
       "    </tr>\n",
       "  </thead>\n",
       "  <tbody>\n",
       "    <tr>\n",
       "      <th>0</th>\n",
       "      <td>WO002024093209A1</td>\n",
       "      <td>2024</td>\n",
       "      <td>method dynamic target tracking legged disclose...</td>\n",
       "    </tr>\n",
       "    <tr>\n",
       "      <th>1</th>\n",
       "      <td>WO002024093550A1</td>\n",
       "      <td>2024</td>\n",
       "      <td>operation maintenance comprise operation maint...</td>\n",
       "    </tr>\n",
       "    <tr>\n",
       "      <th>2</th>\n",
       "      <td>WO002024093218A1</td>\n",
       "      <td>2024</td>\n",
       "      <td>maintenance base station cleaning system maint...</td>\n",
       "    </tr>\n",
       "    <tr>\n",
       "      <th>3</th>\n",
       "      <td>WO002024092854A1</td>\n",
       "      <td>2024</td>\n",
       "      <td>control method swimming pool cleaning mean mea...</td>\n",
       "    </tr>\n",
       "    <tr>\n",
       "      <th>4</th>\n",
       "      <td>WO002024092922A1</td>\n",
       "      <td>2024</td>\n",
       "      <td>teaching method apparatus electronic device st...</td>\n",
       "    </tr>\n",
       "  </tbody>\n",
       "</table>\n",
       "</div>"
      ]
     },
     "execution_count": 3,
     "metadata": {},
     "output_type": "execute_result"
    }
   ],
   "execution_count": 3
  },
  {
   "cell_type": "code",
   "metadata": {
    "ExecuteTime": {
     "end_time": "2024-05-18T14:56:33.124557Z",
     "start_time": "2024-05-18T14:56:32.389954Z"
    }
   },
   "source": [
    "# vectorize the text data with tf-idf\n",
    "from sklearn.feature_extraction.text import CountVectorizer\n",
    "\n",
    "vectorizer = CountVectorizer(min_df=40, max_df=0.8)\n",
    "\n",
    "x_vec = vectorizer.fit_transform(df['text_preproc2'])"
   ],
   "outputs": [],
   "execution_count": 13
  },
  {
   "cell_type": "code",
   "metadata": {
    "ExecuteTime": {
     "end_time": "2024-05-18T14:56:33.140565Z",
     "start_time": "2024-05-18T14:56:33.125562Z"
    }
   },
   "source": [
    "vectorizer.get_feature_names_out().__len__()"
   ],
   "outputs": [
    {
     "data": {
      "text/plain": [
       "1926"
      ]
     },
     "execution_count": 14,
     "metadata": {},
     "output_type": "execute_result"
    }
   ],
   "execution_count": 14
  },
  {
   "cell_type": "code",
   "metadata": {
    "ExecuteTime": {
     "end_time": "2024-05-18T15:04:14.242619Z",
     "start_time": "2024-05-18T14:56:33.140565Z"
    }
   },
   "source": [
    "# Define Search Param\n",
    "from sklearn.decomposition import LatentDirichletAllocation\n",
    "from sklearn.model_selection import GridSearchCV\n",
    "\n",
    "\n",
    "search_params = {\n",
    "    'n_components': [n for n in range(6, 12, 2)],\n",
    "    'learning_decay': [i/10 for i in range(2, 8, 2)]\n",
    "}\n",
    "# Init the Model\n",
    "lda = LatentDirichletAllocation(max_iter=5, learning_method='online', learning_offset=50., random_state=0)\n",
    "# Init Grid Search Class\n",
    "model = GridSearchCV(lda, param_grid=search_params)\n",
    "# Do the Grid Search\n",
    "model.fit(x_vec)"
   ],
   "outputs": [
    {
     "data": {
      "text/plain": [
       "GridSearchCV(estimator=LatentDirichletAllocation(learning_method='online',\n",
       "                                                 learning_offset=50.0,\n",
       "                                                 max_iter=5, random_state=0),\n",
       "             param_grid={'learning_decay': [0.2, 0.4, 0.6],\n",
       "                         'n_components': [6, 8, 10]})"
      ],
      "text/html": [
       "<style>#sk-container-id-2 {color: black;}#sk-container-id-2 pre{padding: 0;}#sk-container-id-2 div.sk-toggleable {background-color: white;}#sk-container-id-2 label.sk-toggleable__label {cursor: pointer;display: block;width: 100%;margin-bottom: 0;padding: 0.3em;box-sizing: border-box;text-align: center;}#sk-container-id-2 label.sk-toggleable__label-arrow:before {content: \"▸\";float: left;margin-right: 0.25em;color: #696969;}#sk-container-id-2 label.sk-toggleable__label-arrow:hover:before {color: black;}#sk-container-id-2 div.sk-estimator:hover label.sk-toggleable__label-arrow:before {color: black;}#sk-container-id-2 div.sk-toggleable__content {max-height: 0;max-width: 0;overflow: hidden;text-align: left;background-color: #f0f8ff;}#sk-container-id-2 div.sk-toggleable__content pre {margin: 0.2em;color: black;border-radius: 0.25em;background-color: #f0f8ff;}#sk-container-id-2 input.sk-toggleable__control:checked~div.sk-toggleable__content {max-height: 200px;max-width: 100%;overflow: auto;}#sk-container-id-2 input.sk-toggleable__control:checked~label.sk-toggleable__label-arrow:before {content: \"▾\";}#sk-container-id-2 div.sk-estimator input.sk-toggleable__control:checked~label.sk-toggleable__label {background-color: #d4ebff;}#sk-container-id-2 div.sk-label input.sk-toggleable__control:checked~label.sk-toggleable__label {background-color: #d4ebff;}#sk-container-id-2 input.sk-hidden--visually {border: 0;clip: rect(1px 1px 1px 1px);clip: rect(1px, 1px, 1px, 1px);height: 1px;margin: -1px;overflow: hidden;padding: 0;position: absolute;width: 1px;}#sk-container-id-2 div.sk-estimator {font-family: monospace;background-color: #f0f8ff;border: 1px dotted black;border-radius: 0.25em;box-sizing: border-box;margin-bottom: 0.5em;}#sk-container-id-2 div.sk-estimator:hover {background-color: #d4ebff;}#sk-container-id-2 div.sk-parallel-item::after {content: \"\";width: 100%;border-bottom: 1px solid gray;flex-grow: 1;}#sk-container-id-2 div.sk-label:hover label.sk-toggleable__label {background-color: #d4ebff;}#sk-container-id-2 div.sk-serial::before {content: \"\";position: absolute;border-left: 1px solid gray;box-sizing: border-box;top: 0;bottom: 0;left: 50%;z-index: 0;}#sk-container-id-2 div.sk-serial {display: flex;flex-direction: column;align-items: center;background-color: white;padding-right: 0.2em;padding-left: 0.2em;position: relative;}#sk-container-id-2 div.sk-item {position: relative;z-index: 1;}#sk-container-id-2 div.sk-parallel {display: flex;align-items: stretch;justify-content: center;background-color: white;position: relative;}#sk-container-id-2 div.sk-item::before, #sk-container-id-2 div.sk-parallel-item::before {content: \"\";position: absolute;border-left: 1px solid gray;box-sizing: border-box;top: 0;bottom: 0;left: 50%;z-index: -1;}#sk-container-id-2 div.sk-parallel-item {display: flex;flex-direction: column;z-index: 1;position: relative;background-color: white;}#sk-container-id-2 div.sk-parallel-item:first-child::after {align-self: flex-end;width: 50%;}#sk-container-id-2 div.sk-parallel-item:last-child::after {align-self: flex-start;width: 50%;}#sk-container-id-2 div.sk-parallel-item:only-child::after {width: 0;}#sk-container-id-2 div.sk-dashed-wrapped {border: 1px dashed gray;margin: 0 0.4em 0.5em 0.4em;box-sizing: border-box;padding-bottom: 0.4em;background-color: white;}#sk-container-id-2 div.sk-label label {font-family: monospace;font-weight: bold;display: inline-block;line-height: 1.2em;}#sk-container-id-2 div.sk-label-container {text-align: center;}#sk-container-id-2 div.sk-container {/* jupyter's `normalize.less` sets `[hidden] { display: none; }` but bootstrap.min.css set `[hidden] { display: none !important; }` so we also need the `!important` here to be able to override the default hidden behavior on the sphinx rendered scikit-learn.org. See: https://github.com/scikit-learn/scikit-learn/issues/21755 */display: inline-block !important;position: relative;}#sk-container-id-2 div.sk-text-repr-fallback {display: none;}</style><div id=\"sk-container-id-2\" class=\"sk-top-container\"><div class=\"sk-text-repr-fallback\"><pre>GridSearchCV(estimator=LatentDirichletAllocation(learning_method=&#x27;online&#x27;,\n",
       "                                                 learning_offset=50.0,\n",
       "                                                 max_iter=5, random_state=0),\n",
       "             param_grid={&#x27;learning_decay&#x27;: [0.2, 0.4, 0.6],\n",
       "                         &#x27;n_components&#x27;: [6, 8, 10]})</pre><b>In a Jupyter environment, please rerun this cell to show the HTML representation or trust the notebook. <br />On GitHub, the HTML representation is unable to render, please try loading this page with nbviewer.org.</b></div><div class=\"sk-container\" hidden><div class=\"sk-item sk-dashed-wrapped\"><div class=\"sk-label-container\"><div class=\"sk-label sk-toggleable\"><input class=\"sk-toggleable__control sk-hidden--visually\" id=\"sk-estimator-id-4\" type=\"checkbox\" ><label for=\"sk-estimator-id-4\" class=\"sk-toggleable__label sk-toggleable__label-arrow\">GridSearchCV</label><div class=\"sk-toggleable__content\"><pre>GridSearchCV(estimator=LatentDirichletAllocation(learning_method=&#x27;online&#x27;,\n",
       "                                                 learning_offset=50.0,\n",
       "                                                 max_iter=5, random_state=0),\n",
       "             param_grid={&#x27;learning_decay&#x27;: [0.2, 0.4, 0.6],\n",
       "                         &#x27;n_components&#x27;: [6, 8, 10]})</pre></div></div></div><div class=\"sk-parallel\"><div class=\"sk-parallel-item\"><div class=\"sk-item\"><div class=\"sk-label-container\"><div class=\"sk-label sk-toggleable\"><input class=\"sk-toggleable__control sk-hidden--visually\" id=\"sk-estimator-id-5\" type=\"checkbox\" ><label for=\"sk-estimator-id-5\" class=\"sk-toggleable__label sk-toggleable__label-arrow\">estimator: LatentDirichletAllocation</label><div class=\"sk-toggleable__content\"><pre>LatentDirichletAllocation(learning_method=&#x27;online&#x27;, learning_offset=50.0,\n",
       "                          max_iter=5, random_state=0)</pre></div></div></div><div class=\"sk-serial\"><div class=\"sk-item\"><div class=\"sk-estimator sk-toggleable\"><input class=\"sk-toggleable__control sk-hidden--visually\" id=\"sk-estimator-id-6\" type=\"checkbox\" ><label for=\"sk-estimator-id-6\" class=\"sk-toggleable__label sk-toggleable__label-arrow\">LatentDirichletAllocation</label><div class=\"sk-toggleable__content\"><pre>LatentDirichletAllocation(learning_method=&#x27;online&#x27;, learning_offset=50.0,\n",
       "                          max_iter=5, random_state=0)</pre></div></div></div></div></div></div></div></div></div></div>"
      ]
     },
     "execution_count": 15,
     "metadata": {},
     "output_type": "execute_result"
    }
   ],
   "execution_count": 15
  },
  {
   "cell_type": "code",
   "metadata": {
    "ExecuteTime": {
     "end_time": "2024-05-18T15:04:16.551178Z",
     "start_time": "2024-05-18T15:04:14.242619Z"
    }
   },
   "source": [
    "# Best Model\n",
    "best_lda_model = model.best_estimator_\n",
    "# Model Parameters\n",
    "print(\"Best Model's Params: \", model.best_params_)\n",
    "# Log Likelihood Score\n",
    "print(\"Best Log Likelihood Score: \", model.best_score_)\n",
    "# Perplexity\n",
    "print(\"Model Perplexity: \", best_lda_model.perplexity(x_vec))"
   ],
   "outputs": [
    {
     "name": "stdout",
     "output_type": "stream",
     "text": [
      "Best Model's Params:  {'learning_decay': 0.6, 'n_components': 8}\n",
      "Best Log Likelihood Score:  -2376048.409351775\n",
      "Model Perplexity:  424.4352445351125\n"
     ]
    }
   ],
   "execution_count": 16
  },
  {
   "cell_type": "markdown",
   "metadata": {},
   "source": [
    "#### 1\n",
    "```\n",
    "Best Model's Params:  {'learning_decay': 0.6, 'n_components': 10}\n",
    "Best Log Likelihood Score:  -2506177.393882964\n",
    "Model Perplexity:  460.5684298118633\n",
    "\n",
    "vectorizer = CountVectorizer(min_df=20, max_df=0.9)\n",
    "```\n",
    "\n",
    "#### 2\n",
    "```\n",
    "Best Model's Params:  {'learning_decay': 0.6, 'n_components': 8}\n",
    "Best Log Likelihood Score:  -2376048.409351775\n",
    "Model Perplexity:  424.4352445351125\n",
    "\n",
    "vectorizer = CountVectorizer(min_df=40, max_df=0.8)\n",
    "```\n",
    "\n"
   ]
  },
  {
   "cell_type": "code",
   "metadata": {
    "ExecuteTime": {
     "end_time": "2024-05-18T15:04:18.422097Z",
     "start_time": "2024-05-18T15:04:16.551178Z"
    }
   },
   "source": [
    "lda_output = best_lda_model.transform(x_vec)"
   ],
   "outputs": [],
   "execution_count": 17
  },
  {
   "cell_type": "code",
   "metadata": {
    "ExecuteTime": {
     "end_time": "2024-05-18T15:04:18.500226Z",
     "start_time": "2024-05-18T15:04:18.422097Z"
    }
   },
   "source": [
    "import seaborn as sns\n",
    "import matplotlib.pyplot as plt\n",
    "\n",
    "lda_keys = get_keys(lda_output)\n",
    "lda_categories, lda_counts = keys_to_counts(lda_keys)\n",
    "\n",
    "topics_df_lda = pd.DataFrame({'topic' : lda_categories, 'count' : lda_counts})\n",
    "sns.barplot(x=topics_df_lda['topic'], y = topics_df_lda['count'])\n",
    "plt.show()"
   ],
   "outputs": [
    {
     "data": {
      "text/plain": [
       "<Figure size 640x480 with 1 Axes>"
      ],
      "image/png": "[encoded data removed]"
     },
     "metadata": {},
     "output_type": "display_data"
    }
   ],
   "execution_count": 18
  },
  {
   "cell_type": "code",
   "metadata": {
    "ExecuteTime": {
     "end_time": "2024-05-18T15:04:18.517816Z",
     "start_time": "2024-05-18T15:04:18.500226Z"
    }
   },
   "source": [
    "import numpy as np\n",
    "\n",
    "# Show top n keywords for each topic\n",
    "def show_topics(vectorizer, lda_model, n_words=10):\n",
    "    keywords = np.array(vectorizer.get_feature_names_out())\n",
    "    topic_keywords = []\n",
    "    for topic_weights in lda_model.components_:\n",
    "        top_keyword_locs = (-topic_weights).argsort()[:n_words]\n",
    "        topic_keywords.append(keywords.take(top_keyword_locs))\n",
    "    return topic_keywords\n",
    "topic_keywords = show_topics(vectorizer=vectorizer, lda_model=best_lda_model, n_words=15)\n",
    "# Topic - Keywords Dataframe\n",
    "df_topic_keywords = pd.DataFrame(topic_keywords)\n",
    "df_topic_keywords.columns = ['Word '+str(i) for i in range(df_topic_keywords.shape[1])]\n",
    "df_topic_keywords.index = ['Topic '+str(i) for i in range(df_topic_keywords.shape[0])]\n",
    "df_topic_keywords"
   ],
   "outputs": [
    {
     "data": {
      "text/plain": [
       "             Word 0     Word 1     Word 2      Word 3       Word 4   Word 5  \\\n",
       "Topic 0     connect    arrange      plate        body          end    mount   \n",
       "Topic 1    cleaning      clean   sweeping     station         body      air   \n",
       "Topic 2         arm      joint        end  mechanical       device   second   \n",
       "Topic 3      method     system   position       point         base    model   \n",
       "Topic 4       drive      wheel  mechanism        body     assembly  connect   \n",
       "Topic 5      method     target     accord     control  information     path   \n",
       "Topic 6     control     module     system      charge         unit   signal   \n",
       "Topic 7  inspection  detection      water        body   underwater   device   \n",
       "\n",
       "              Word 6      Word 7       Word 8       Word 9    Word 10  \\\n",
       "Topic 0          rod   mechanism      support         base     device   \n",
       "Topic 1         base        dust     assembly        floor     cavity   \n",
       "Topic 2        force        axis      control     surgical       fire   \n",
       "Topic 3        image  coordinate       obtain  positioning      laser   \n",
       "Topic 4         walk     arrange    structure        motor    chassis   \n",
       "Topic 5     position      device         step       medium  invention   \n",
       "Topic 6  intelligent   invention  information       device      datum   \n",
       "Topic 7     pipeline      camera      arrange        spray       tank   \n",
       "\n",
       "               Word 11       Word 12  Word 13      Word 14  \n",
       "Topic 0       assembly       utility      fix       rotate  \n",
       "Topic 1        provide           box  arrange       device  \n",
       "Topic 2           tool          tail  provide         grab  \n",
       "Topic 3           pose        accord    datum    invention  \n",
       "Topic 4        driving          type      leg       rotate  \n",
       "Topic 5        storage     determine   obtain         area  \n",
       "Topic 6  communication     operation     base   controller  \n",
       "Topic 7          power  disinfection     high  maintenance  "
      ],
      "text/html": [
       "<div>\n",
       "<style scoped>\n",
       "    .dataframe tbody tr th:only-of-type {\n",
       "        vertical-align: middle;\n",
       "    }\n",
       "\n",
       "    .dataframe tbody tr th {\n",
       "        vertical-align: top;\n",
       "    }\n",
       "\n",
       "    .dataframe thead th {\n",
       "        text-align: right;\n",
       "    }\n",
       "</style>\n",
       "<table border=\"1\" class=\"dataframe\">\n",
       "  <thead>\n",
       "    <tr style=\"text-align: right;\">\n",
       "      <th></th>\n",
       "      <th>Word 0</th>\n",
       "      <th>Word 1</th>\n",
       "      <th>Word 2</th>\n",
       "      <th>Word 3</th>\n",
       "      <th>Word 4</th>\n",
       "      <th>Word 5</th>\n",
       "      <th>Word 6</th>\n",
       "      <th>Word 7</th>\n",
       "      <th>Word 8</th>\n",
       "      <th>Word 9</th>\n",
       "      <th>Word 10</th>\n",
       "      <th>Word 11</th>\n",
       "      <th>Word 12</th>\n",
       "      <th>Word 13</th>\n",
       "      <th>Word 14</th>\n",
       "    </tr>\n",
       "  </thead>\n",
       "  <tbody>\n",
       "    <tr>\n",
       "      <th>Topic 0</th>\n",
       "      <td>connect</td>\n",
       "      <td>arrange</td>\n",
       "      <td>plate</td>\n",
       "      <td>body</td>\n",
       "      <td>end</td>\n",
       "      <td>mount</td>\n",
       "      <td>rod</td>\n",
       "      <td>mechanism</td>\n",
       "      <td>support</td>\n",
       "      <td>base</td>\n",
       "      <td>device</td>\n",
       "      <td>assembly</td>\n",
       "      <td>utility</td>\n",
       "      <td>fix</td>\n",
       "      <td>rotate</td>\n",
       "    </tr>\n",
       "    <tr>\n",
       "      <th>Topic 1</th>\n",
       "      <td>cleaning</td>\n",
       "      <td>clean</td>\n",
       "      <td>sweeping</td>\n",
       "      <td>station</td>\n",
       "      <td>body</td>\n",
       "      <td>air</td>\n",
       "      <td>base</td>\n",
       "      <td>dust</td>\n",
       "      <td>assembly</td>\n",
       "      <td>floor</td>\n",
       "      <td>cavity</td>\n",
       "      <td>provide</td>\n",
       "      <td>box</td>\n",
       "      <td>arrange</td>\n",
       "      <td>device</td>\n",
       "    </tr>\n",
       "    <tr>\n",
       "      <th>Topic 2</th>\n",
       "      <td>arm</td>\n",
       "      <td>joint</td>\n",
       "      <td>end</td>\n",
       "      <td>mechanical</td>\n",
       "      <td>device</td>\n",
       "      <td>second</td>\n",
       "      <td>force</td>\n",
       "      <td>axis</td>\n",
       "      <td>control</td>\n",
       "      <td>surgical</td>\n",
       "      <td>fire</td>\n",
       "      <td>tool</td>\n",
       "      <td>tail</td>\n",
       "      <td>provide</td>\n",
       "      <td>grab</td>\n",
       "    </tr>\n",
       "    <tr>\n",
       "      <th>Topic 3</th>\n",
       "      <td>method</td>\n",
       "      <td>system</td>\n",
       "      <td>position</td>\n",
       "      <td>point</td>\n",
       "      <td>base</td>\n",
       "      <td>model</td>\n",
       "      <td>image</td>\n",
       "      <td>coordinate</td>\n",
       "      <td>obtain</td>\n",
       "      <td>positioning</td>\n",
       "      <td>laser</td>\n",
       "      <td>pose</td>\n",
       "      <td>accord</td>\n",
       "      <td>datum</td>\n",
       "      <td>invention</td>\n",
       "    </tr>\n",
       "    <tr>\n",
       "      <th>Topic 4</th>\n",
       "      <td>drive</td>\n",
       "      <td>wheel</td>\n",
       "      <td>mechanism</td>\n",
       "      <td>body</td>\n",
       "      <td>assembly</td>\n",
       "      <td>connect</td>\n",
       "      <td>walk</td>\n",
       "      <td>arrange</td>\n",
       "      <td>structure</td>\n",
       "      <td>motor</td>\n",
       "      <td>chassis</td>\n",
       "      <td>driving</td>\n",
       "      <td>type</td>\n",
       "      <td>leg</td>\n",
       "      <td>rotate</td>\n",
       "    </tr>\n",
       "    <tr>\n",
       "      <th>Topic 5</th>\n",
       "      <td>method</td>\n",
       "      <td>target</td>\n",
       "      <td>accord</td>\n",
       "      <td>control</td>\n",
       "      <td>information</td>\n",
       "      <td>path</td>\n",
       "      <td>position</td>\n",
       "      <td>device</td>\n",
       "      <td>step</td>\n",
       "      <td>medium</td>\n",
       "      <td>invention</td>\n",
       "      <td>storage</td>\n",
       "      <td>determine</td>\n",
       "      <td>obtain</td>\n",
       "      <td>area</td>\n",
       "    </tr>\n",
       "    <tr>\n",
       "      <th>Topic 6</th>\n",
       "      <td>control</td>\n",
       "      <td>module</td>\n",
       "      <td>system</td>\n",
       "      <td>charge</td>\n",
       "      <td>unit</td>\n",
       "      <td>signal</td>\n",
       "      <td>intelligent</td>\n",
       "      <td>invention</td>\n",
       "      <td>information</td>\n",
       "      <td>device</td>\n",
       "      <td>datum</td>\n",
       "      <td>communication</td>\n",
       "      <td>operation</td>\n",
       "      <td>base</td>\n",
       "      <td>controller</td>\n",
       "    </tr>\n",
       "    <tr>\n",
       "      <th>Topic 7</th>\n",
       "      <td>inspection</td>\n",
       "      <td>detection</td>\n",
       "      <td>water</td>\n",
       "      <td>body</td>\n",
       "      <td>underwater</td>\n",
       "      <td>device</td>\n",
       "      <td>pipeline</td>\n",
       "      <td>camera</td>\n",
       "      <td>arrange</td>\n",
       "      <td>spray</td>\n",
       "      <td>tank</td>\n",
       "      <td>power</td>\n",
       "      <td>disinfection</td>\n",
       "      <td>high</td>\n",
       "      <td>maintenance</td>\n",
       "    </tr>\n",
       "  </tbody>\n",
       "</table>\n",
       "</div>"
      ]
     },
     "execution_count": 19,
     "metadata": {},
     "output_type": "execute_result"
    }
   ],
   "execution_count": 19
  },
  {
   "cell_type": "code",
   "metadata": {
    "ExecuteTime": {
     "end_time": "2024-05-18T15:04:21.537132Z",
     "start_time": "2024-05-18T15:04:18.517816Z"
    }
   },
   "source": [
    "#this is by far the easiest way to load a pre-trained sklearn lda model onto pyLDAvis\n",
    "#there are other means of using this visible on pyLDAvis' main repo\n",
    "\n",
    "import pyLDAvis\n",
    "import pyLDAvis.sklearn\n",
    "pyLDAvis.enable_notebook()\n",
    "\n",
    "feature_names = vectorizer.get_feature_names_out()\n",
    "\n",
    "vectorizer.get_feature_names = lambda: feature_names\n",
    "\n",
    "display_data = pyLDAvis.sklearn.prepare(best_lda_model, #our pre-trained LDA model\n",
    "                         x_vec, #this gives us our document-term matrix\n",
    "                        vectorizer) #the vectoriser object\n",
    "                        \n",
    "pyLDAvis.display(display_data)  "
   ],
   "outputs": [
    {
     "name": "stderr",
     "output_type": "stream",
     "text": [
      "C:\\Users\\paul-\\anaconda3\\envs\\ml_angew_programm\\lib\\site-packages\\pyLDAvis\\_prepare.py:243: FutureWarning: In a future version of pandas all arguments of DataFrame.drop except for the argument 'labels' will be keyword-only.\n",
      "  default_term_info = default_term_info.sort_values(\n"
     ]
    },
    {
     "data": {
      "text/plain": [
       "<IPython.core.display.HTML object>"
      ],
      "text/html": [
       "\n",
       "<link rel=\"stylesheet\" type=\"text/css\" href=\"https://cdn.jsdelivr.net/gh/bmabey/pyLDAvis@3.4.0/pyLDAvis/js/ldavis.v1.0.0.css\">\n",
       "\n",
       "\n",
       "<div id=\"ldavis_el308521393860856960777415345\" style=\"background-color:white;\"></div>\n",
       "<script type=\"text/javascript\">\n",
       "\n",
       "var ldavis_el308521393860856960777415345_data = {\"mdsDat\": {\"x\": [-0.23334521596597943, 0.23794138405986767, -0.17901125526724387, 0.16167451248491788, 0.24029825369070587, 0.008285620500509823, -0.08732958368788002, -0.14851371581489822], \"y\": [0.03801059095238772, 0.002203281448926992, 0.08625242698533125, -0.0138831542944261, 0.06257059463138484, -0.19203678397571966, 0.24668075769726344, -0.22979771344514857], \"topics\": [1, 2, 3, 4, 5, 6, 7, 8], \"cluster\": [1, 1, 1, 1, 1, 1, 1, 1], \"Freq\": [23.903714611200247, 18.904230252498134, 12.750560510561778, 11.936686868148499, 10.774364012900813, 7.8133185581398505, 7.531612455291498, 6.385512731259188]}, \"tinfo\": {\"Term\": [\"cleaning\", \"arm\", \"module\", \"method\", \"body\", \"plate\", \"end\", \"inspection\", \"system\", \"control\", \"wheel\", \"joint\", \"detection\", \"drive\", \"mechanism\", \"connect\", \"target\", \"water\", \"clean\", \"arrange\", \"assembly\", \"information\", \"mechanical\", \"charge\", \"point\", \"sweeping\", \"station\", \"path\", \"obtain\", \"underwater\", \"plate\", \"groove\", \"rail\", \"pipe\", \"fixing\", \"push\", \"sleeve\", \"column\", \"cylinder\", \"screw\", \"seat\", \"thread\", \"protective\", \"outlet\", \"tray\", \"bolt\", \"workbench\", \"fork\", \"circular\", \"education\", \"baffle\", \"locking\", \"reset\", \"pad\", \"barrel\", \"bevel\", \"placing\", \"cloth\", \"truss\", \"scrape\", \"welding\", \"block\", \"conveying\", \"gun\", \"buffer\", \"practical\", \"slide\", \"rod\", \"mount\", \"hole\", \"feeding\", \"inner\", \"fix\", \"outer\", \"table\", \"movable\", \"support\", \"connect\", \"clamp\", \"arrange\", \"frame\", \"instal\", \"upper\", \"utility\", \"end\", \"body\", \"rotate\", \"mechanism\", \"shell\", \"box\", \"surface\", \"assembly\", \"base\", \"model\", \"device\", \"second\", \"field\", \"path\", \"medium\", \"planning\", \"elevator\", \"plan\", \"scheduling\", \"readable\", \"strategy\", \"node\", \"optimal\", \"sub\", \"boundary\", \"region\", \"grid\", \"prediction\", \"formation\", \"threshold\", \"predict\", \"rpa\", \"physical\", \"historical\", \"candidate\", \"file\", \"determined\", \"coefficient\", \"represent\", \"skill\", \"queue\", \"determination\", \"arrive\", \"map\", \"task\", \"reinforcement\", \"index\", \"target\", \"update\", \"preset\", \"determine\", \"current\", \"avoidance\", \"local\", \"electronic\", \"information\", \"judge\", \"area\", \"step\", \"method\", \"obstacle\", \"execute\", \"storage\", \"correspond\", \"value\", \"accord\", \"state\", \"obtain\", \"object\", \"environment\", \"acquire\", \"control\", \"position\", \"time\", \"invention\", \"equipment\", \"device\", \"point\", \"mobile\", \"operation\", \"base\", \"datum\", \"leg\", \"foot\", \"steering\", \"climbing\", \"bionic\", \"crawler\", \"balance\", \"soft\", \"suspension\", \"walking\", \"climb\", \"trunk\", \"crawl\", \"meal\", \"spherical\", \"magnet\", \"wheeled\", \"crossing\", \"exoskeleton\", \"stabilize\", \"paint\", \"tower\", \"shank\", \"thigh\", \"wing\", \"rotor\", \"curtain\", \"imitate\", \"fold\", \"steer\", \"legged\", \"wheel\", \"magnetic\", \"walk\", \"chassis\", \"driving\", \"swing\", \"drive\", \"cross\", \"type\", \"chain\", \"mechanism\", \"motor\", \"structure\", \"assembly\", \"transmission\", \"body\", \"direction\", \"wall\", \"main\", \"connect\", \"arrange\", \"rotate\", \"unit\", \"ground\", \"second\", \"support\", \"power\", \"provide\", \"control\", \"invention\", \"device\", \"end\", \"charge\", \"signal\", \"interaction\", \"wireless\", \"pile\", \"voice\", \"test\", \"interface\", \"management\", \"testing\", \"charging\", \"command\", \"neural\", \"video\", \"man\", \"message\", \"client\", \"early\", \"subsystem\", \"diagnosis\", \"interactive\", \"personal\", \"prompt\", \"card\", \"tag\", \"language\", \"pedestrian\", \"dialogue\", \"chat\", \"business\", \"communication\", \"module\", \"circuit\", \"remote\", \"medicine\", \"internet\", \"display\", \"transmit\", \"battery\", \"training\", \"receive\", \"user\", \"service\", \"server\", \"unit\", \"terminal\", \"system\", \"send\", \"control\", \"controller\", \"intelligent\", \"network\", \"instruction\", \"datum\", \"platform\", \"operation\", \"power\", \"information\", \"invention\", \"device\", \"base\", \"provide\", \"mobile\", \"method\", \"accord\", \"disclose\", \"laser\", \"pose\", \"calibration\", \"coordinate\", \"dimensional\", \"error\", \"tracking\", \"matrix\", \"micro\", \"attitude\", \"deviation\", \"construction\", \"vector\", \"kinematic\", \"projection\", \"estimation\", \"modeling\", \"kinematics\", \"transformation\", \"equation\", \"calibrate\", \"velocity\", \"inertial\", \"nano\", \"scanning\", \"kinetic\", \"radar\", \"inverse\", \"compensation\", \"marker\", \"vision\", \"angular\", \"measurement\", \"correction\", \"depth\", \"image\", \"precision\", \"positioning\", \"feature\", \"measure\", \"visual\", \"point\", \"trajectory\", \"cloud\", \"establish\", \"calculate\", \"parameter\", \"track\", \"method\", \"obtain\", \"position\", \"angle\", \"system\", \"sensor\", \"motion\", \"model\", \"datum\", \"base\", \"camera\", \"accord\", \"step\", \"invention\", \"control\", \"industrial\", \"disclose\", \"inspection\", \"water\", \"underwater\", \"tank\", \"disinfection\", \"quadrupe\", \"temperature\", \"cabin\", \"heat\", \"rescue\", \"fish\", \"tunnel\", \"swimming\", \"drainage\", \"pool\", \"ship\", \"waterproof\", \"coal\", \"detector\", \"substation\", \"cool\", \"shooting\", \"explosion\", \"health\", \"dog\", \"dissipation\", \"defect\", \"binocular\", \"transformer\", \"plant\", \"lamp\", \"gas\", \"float\", \"maintenance\", \"detection\", \"pipeline\", \"channel\", \"spray\", \"pump\", \"light\", \"propeller\", \"camera\", \"infrared\", \"source\", \"flow\", \"body\", \"power\", \"high\", \"device\", \"detect\", \"sensor\", \"arrange\", \"intelligent\", \"field\", \"monitoring\", \"operation\", \"equipment\", \"surface\", \"provide\", \"disclose\", \"invention\", \"technical\", \"arm\", \"mechanical\", \"surgical\", \"fire\", \"grab\", \"wire\", \"instrument\", \"member\", \"rehabilitation\", \"manipulator\", \"effector\", \"fighting\", \"fight\", \"surgery\", \"drilling\", \"finger\", \"extinguishing\", \"hold\", \"slave\", \"interventional\", \"puncture\", \"wrist\", \"needle\", \"grip\", \"grabbing\", \"extinguish\", \"drill\", \"console\", \"glue\", \"bed\", \"gripper\", \"brake\", \"torque\", \"tool\", \"joint\", \"freedom\", \"medical\", \"axis\", \"tail\", \"force\", \"hand\", \"end\", \"flexible\", \"degree\", \"butt\", \"load\", \"second\", \"device\", \"operation\", \"control\", \"provide\", \"component\", \"system\", \"connect\", \"apparatus\", \"drive\", \"clamp\", \"position\", \"base\", \"assembly\", \"cleaning\", \"clean\", \"sweeping\", \"dust\", \"floor\", \"mop\", \"brush\", \"photovoltaic\", \"cabinet\", \"suction\", \"parking\", \"inlet\", \"fan\", \"patrol\", \"engine\", \"garbage\", \"door\", \"sweep\", \"sewage\", \"unmanned\", \"negative\", \"aerial\", \"picking\", \"blade\", \"pet\", \"vacuum\", \"heating\", \"purification\", \"car\", \"cutting\", \"removal\", \"station\", \"cup\", \"air\", \"panel\", \"bag\", \"opening\", \"collection\", \"cavity\", \"box\", \"liquid\", \"communicate\", \"bin\", \"body\", \"ground\", \"base\", \"vehicle\", \"assembly\", \"provide\", \"arrange\", \"device\", \"collect\", \"system\", \"storage\", \"area\"], \"Freq\": [12376.0, 11151.0, 13921.0, 32491.0, 28888.0, 14452.0, 19740.0, 7382.0, 21452.0, 31894.0, 8651.0, 7105.0, 7792.0, 14291.0, 16807.0, 25290.0, 10359.0, 5526.0, 5006.0, 23196.0, 14729.0, 12429.0, 4621.0, 5492.0, 7822.0, 4067.0, 4196.0, 6470.0, 8666.0, 4023.0, 14451.76085440781, 4734.707668259584, 3314.0301555246965, 2847.8753118449945, 2495.2016314700854, 1908.2067686028133, 1826.7531003647334, 1594.6673221656154, 1524.449376507948, 1325.8275634447923, 2577.7464849571993, 1126.8054210399118, 1087.4753576182623, 888.8623657498432, 799.9690842421818, 734.5009999519829, 626.7013844643728, 608.4121544449376, 486.1014101838776, 472.8384382491145, 454.3797169313481, 343.8055200424634, 311.0184867988404, 311.404099874802, 290.77461954101574, 290.08973605004854, 289.53162401920605, 279.1020453402246, 270.96147272017254, 262.8979511904311, 5151.590750116471, 5020.537712338145, 1634.7881082064473, 829.5323345864438, 990.5110914812542, 499.38968073266074, 4605.183568381968, 8316.203404418098, 8833.254799891523, 2022.2154302256454, 1228.4708790036593, 3381.1341779191775, 5628.553500848144, 3198.745955378129, 2036.4942396943643, 2412.165497371172, 7312.957705005621, 17451.67926161297, 4408.4952953158445, 14950.232333219856, 5253.802334901977, 5362.9943579775, 3750.024564398495, 5649.991436678757, 10884.997008519073, 13488.144597566199, 5550.349398504736, 8227.490075218355, 3782.880100378771, 3666.8220878214834, 4025.116600520856, 6076.771234290284, 7237.403446997844, 5281.317044439323, 6324.15210498107, 3838.1761169177375, 3435.557803236449, 6470.020730629821, 5980.7645485419935, 2888.554287177593, 1515.5153812758738, 1316.5792618541748, 1116.294798543648, 1074.7516256169017, 859.8546355229321, 844.0877789759633, 817.5849986402748, 753.7095998743744, 738.8235020459514, 952.4646893688877, 684.9384084021335, 571.5252859198771, 489.9901166193055, 757.1252475702644, 429.81653239796947, 373.00181713817517, 367.35497315930513, 355.9976061701721, 348.4979420166997, 335.1371607634365, 315.73452993359774, 277.01684206836023, 275.2490691106131, 270.2282468008556, 253.78556887391986, 250.6931664725193, 249.3569643110856, 3611.2538013863477, 4306.444405063799, 413.3033740594981, 312.4618201737433, 9949.195870369367, 923.1512494106499, 3303.1436805194276, 5125.017617434362, 4404.79343649077, 1612.7025909453391, 843.4737440271138, 1439.048852847307, 9264.790304708822, 1332.6557594434132, 4601.7240814718025, 5980.9983385944715, 20258.028525806232, 4418.024701092712, 1995.4582367171183, 5389.771285553025, 2499.1048676416845, 2341.56731923281, 9914.00020364205, 3405.7938416889665, 5012.922370056173, 2293.660772536763, 2923.1569201311436, 2259.4781478083078, 9877.35666785123, 6129.697203623484, 3108.8685963497355, 5516.747002697646, 3223.532629190096, 6119.794601312757, 3333.6683342564324, 3029.06767095478, 2995.443556528866, 3731.6355602274753, 2716.3575924342895, 2624.2716363667787, 2342.4130827983045, 1866.1710121053575, 1268.917997519983, 1178.0875888474952, 1162.1926859307948, 865.756417667697, 783.2643033211688, 767.7200256372638, 775.1214595343299, 749.5686292737485, 581.9136667985225, 534.1449653698968, 516.1316502523746, 514.442227881715, 480.00066114948874, 408.968803173653, 395.58371318357155, 388.3886614820669, 373.19664991660676, 370.94457769535575, 352.2011124694001, 347.5267762002697, 339.1582636910726, 331.1135820222605, 318.810474187526, 299.94458526162924, 285.8115088421942, 254.53378957382913, 250.72375948598585, 395.2567265488063, 8297.260474546163, 1664.9531130429198, 4186.171657264735, 3347.2069575349615, 3330.9931069280037, 995.2945591801131, 9309.899705733025, 970.7444318556051, 3194.07747075222, 694.4003112327646, 7808.299137211242, 3450.280619178281, 3653.251326438055, 5722.4685303109, 1888.038511369734, 7194.576918311682, 2012.767370738914, 2298.2673899645188, 2228.118202917764, 4690.216021362567, 3971.7114189736544, 2440.6954139133127, 1886.248947531555, 1245.6827251670638, 2374.277186277117, 2089.6384979651248, 1645.7661182303839, 2120.0571266467655, 2370.5471692267665, 1967.8818215506706, 1968.6354809291752, 1867.7040982897372, 5491.340317502843, 3777.999627154977, 1700.398340812565, 1252.6459826925006, 1111.435743121905, 1103.293149875122, 1343.2413612163975, 1054.0437578180943, 1273.9330353873963, 596.1642959799907, 584.0671831844037, 570.2302143166971, 544.3574509763719, 507.7308167209054, 467.5911249509723, 282.069331931463, 303.0336859675011, 253.21763067076128, 227.77034524046385, 218.23622520319776, 201.5008667552724, 200.45425944025325, 195.65281123503996, 191.7052278725866, 185.17994859284835, 184.97459308757698, 184.8919635612338, 178.63802907003029, 176.25207191477827, 175.03897177735007, 2490.8319920408935, 12630.60339276005, 938.0731628604857, 1230.682894437617, 404.0549767640094, 300.5605114944369, 1715.8985007662818, 1220.6499643697207, 1662.1418056009281, 1088.1617868134495, 2200.84842273801, 1901.8331452864043, 1768.6014118702954, 886.0265771403026, 3841.6315442664454, 1414.018600521139, 11091.008045430086, 1758.6816160591686, 13369.163738065256, 2233.0110171803117, 3523.5712684456953, 1414.2141578637656, 1629.7677232774508, 2507.778012664898, 1769.1091928435308, 2457.9615970835143, 2023.547199964963, 2650.487366098834, 2690.3897725338916, 2550.715228085752, 2313.824185979384, 1983.2447904687233, 1692.8393549005189, 2163.3212541839903, 1565.1528326340574, 1519.5292622197744, 3297.84386157941, 3271.780581402753, 2205.5239763994728, 3552.265436554838, 2396.187594235871, 1442.2709933318565, 894.4932436747788, 859.057336053641, 778.7271016366255, 708.9976479186312, 674.7441922872094, 673.9895305315764, 549.2889855936756, 519.6409238525632, 445.1388980108545, 438.20591806892145, 433.21645102330393, 417.5277433355696, 382.79887311186525, 380.53462329811254, 362.59899110807964, 324.54976935267103, 318.3347112542999, 307.85586740011865, 308.12973275462105, 296.7086189664119, 1627.0785911150194, 257.17840146386186, 620.9252822903189, 229.30482280218524, 1113.9902420167534, 416.24300486505183, 1236.7593083058837, 565.2638907240492, 739.7076770382179, 3700.7307642862506, 1256.3297718964495, 3299.1392178490914, 1204.1392260686007, 1167.457018447374, 1676.3002408055074, 4487.647291818274, 1098.0138241673658, 1419.2037979550482, 1085.1766971908721, 1356.190449621451, 1898.0821940195067, 2438.2237880351586, 8647.8734247395, 3535.266474325493, 4784.237699195854, 1978.1424577292535, 5458.22877176006, 2424.5650512030493, 2390.222090851224, 3760.5433515375953, 2603.861419799897, 4143.790444158534, 1914.7492785571546, 3102.099025590982, 2126.1959462696163, 2575.3657837487376, 2526.814130739512, 1538.4836180558204, 1428.6033889172536, 7381.379759324784, 5525.477813650251, 4023.053583688564, 1986.440267343638, 1398.089358631203, 977.0277001724903, 965.730694138375, 813.5803311852346, 898.2744381256698, 661.4955419471924, 628.3766245124128, 543.829869264388, 457.27216851499867, 422.7508343727829, 693.4529580191877, 402.5342140788785, 406.3498390228926, 380.9817385279515, 379.7004417765347, 364.0258255858153, 375.9798358011965, 359.5939346060873, 417.64963383963567, 353.46599071965466, 340.82869371792367, 480.4939083038393, 288.63234412134386, 287.7989727700552, 283.68514541830666, 274.97984137501834, 698.8338256838497, 816.2369350946437, 577.9185989110766, 1362.25023495874, 6451.815500141472, 2397.1527819858625, 1000.0376551424062, 2044.88138431052, 760.5117900629252, 1038.1116211991086, 557.7336155706545, 2317.7145194148525, 623.6368370125365, 713.7237244294279, 618.2829918246999, 4398.71978277968, 1727.2379282783318, 1377.9684152830037, 3712.4228487793616, 1148.5942670849124, 1305.5914015070937, 2122.084485870217, 1270.6840388329463, 1309.4910397767085, 792.2630675904193, 1086.39833361603, 1010.4254423860333, 1014.030939632853, 1130.157046882515, 1075.7495931410947, 1102.509215582984, 982.1061020375898, 11150.751488514856, 4620.574829961612, 2251.1030710147743, 2248.7843665701535, 1710.0144938067363, 1663.272649381167, 1007.5553713003219, 934.573622643743, 651.1079477869035, 647.1512387148905, 621.9798139407784, 574.4789348474399, 547.2593603722709, 420.37936094597734, 407.77274097449765, 389.3362857423699, 378.92120460796895, 373.3989914468279, 508.0454808625463, 311.30110918502544, 300.69832589765343, 292.10402409371306, 252.7864187782619, 248.5595067671195, 231.35659347601748, 228.4696024343354, 224.00536430897694, 212.29967758605682, 210.23286902431028, 208.55265832750413, 593.1499982244156, 685.9522106412106, 960.7281561978003, 2159.710707657488, 6463.473599028596, 842.8291800370383, 970.8231959469881, 2406.8067465584736, 2093.2100150100505, 2437.107175438357, 928.2887527274391, 5848.9511675806, 1080.5680421069974, 988.7833805060727, 603.2719887913399, 746.9691737728249, 2655.9023255157813, 3461.8525795561295, 1560.6517576945103, 2338.8841521820655, 1727.3932553202278, 876.6625418565494, 1656.5907690209808, 1696.2395993216307, 815.2675714769396, 1312.5049131282078, 1055.8663640143234, 1254.044138930583, 1006.7941755549678, 983.002822460678, 12375.71211477001, 5005.812016659014, 4066.6218713439766, 2422.9742347823417, 1886.229113651299, 1469.434394836619, 1313.3805405178693, 1071.0499072664236, 1060.4905668733454, 1365.8590602546658, 811.0272460308519, 873.6083900937826, 796.2806806572604, 786.4199338831103, 769.1206667898232, 741.4013730132165, 1032.7040318463855, 658.063518971933, 643.6057246809422, 637.6558933803345, 514.7060309421929, 507.0854693411748, 389.4084466715029, 366.33966676365134, 361.36740327145486, 351.25816480110666, 333.47818836323887, 295.6539517891142, 378.6521102348037, 286.12547407617876, 429.8122988694068, 3935.18107190405, 513.511608365687, 2881.978021088063, 915.3745683811247, 581.3499888175814, 1103.0212396890074, 928.5439379417011, 1749.4857328557239, 1722.6088001489659, 756.8072247493888, 760.5013962284195, 765.3912660477014, 3578.314760944523, 1048.1354814089586, 2490.759622506822, 1063.3868550574807, 1946.275422798257, 1739.326616020262, 1689.330839006034, 1684.8074496747486, 937.2704126405116, 1198.4737216128221, 972.0664315703019, 887.3734702614544], \"Total\": [12376.0, 11151.0, 13921.0, 32491.0, 28888.0, 14452.0, 19740.0, 7382.0, 21452.0, 31894.0, 8651.0, 7105.0, 7792.0, 14291.0, 16807.0, 25290.0, 10359.0, 5526.0, 5006.0, 23196.0, 14729.0, 12429.0, 4621.0, 5492.0, 7822.0, 4067.0, 4196.0, 6470.0, 8666.0, 4023.0, 14452.651865297825, 4735.595698691299, 3314.918737934503, 2848.7646517558983, 2496.0896619487153, 1909.0958183069956, 1827.6411360388759, 1595.5554300239535, 1525.3375076756115, 1326.7155730998188, 2579.494690509304, 1127.6934210502409, 1088.3634110234836, 889.754399202333, 800.8572681136702, 735.3891483514307, 627.5899058547461, 609.3009248863601, 486.99036104442695, 473.7268322973258, 455.2682045878254, 344.6946793305152, 311.9095479794238, 312.31508933811745, 291.6632187511036, 290.9778376096867, 290.4199098636597, 279.993387437223, 271.84966577848223, 263.78740055331485, 5175.289824553033, 5054.023291405624, 1644.2951284940232, 833.6930909457428, 1001.3660081100661, 502.40325111340053, 4748.8044415959375, 8775.209066913581, 9716.398131121749, 2133.8952061248397, 1272.1549771747207, 3667.230213729575, 6530.649196288112, 3592.2075562212517, 2243.6240964922376, 2723.7541918816996, 9470.50501361885, 25290.627220587925, 5465.116408112998, 23196.765595319313, 7073.167390404058, 7315.0280001824, 4823.97107382807, 8477.879191864238, 19740.270488993632, 28888.169385181038, 8849.98833506221, 16807.640249147837, 5561.5347911733015, 5454.490985474502, 6695.6204786071385, 14729.026099937775, 21237.004914577123, 13331.249953617602, 26361.679361856994, 12649.938359209165, 10242.46596689384, 6470.904713038909, 5981.6501499302485, 2889.437529427005, 1516.3991217143766, 1317.4626748155965, 1117.1778482714967, 1075.6346908133203, 860.7381782522373, 844.9709761591133, 818.4683981669461, 754.5935574659376, 739.7067751297126, 953.6644908612686, 685.82289167063, 572.4128486887987, 490.8732820412744, 758.5972025166985, 430.70062144831286, 373.88481430642526, 368.239900985685, 356.880669904894, 349.3807928647428, 336.0208430648639, 316.61789062574616, 277.9018157762406, 276.13269369741096, 271.1116424894156, 254.66905377668132, 251.57651150198973, 250.24099244929116, 3671.8350899918796, 4408.954669331541, 415.68668627943185, 313.6415501464725, 10359.111282863318, 946.4440696585598, 3495.937073346849, 5621.606883735633, 4843.779994783494, 1759.966733468118, 892.8491486803551, 1598.332876812364, 12429.857662307832, 1502.1904509660078, 5982.4696834039405, 8119.405299280229, 32491.512282760224, 5923.378174172142, 2418.5713392329462, 8167.6750941338505, 3277.347242621852, 3079.527818694665, 19097.289240143833, 5169.907907869545, 8666.900237643185, 3260.808155443264, 4619.79200291831, 3280.2274599846405, 31894.8055555632, 15457.478281702208, 5833.3432183904215, 15844.905379909062, 6338.404950766948, 26361.679361856994, 7822.06476702034, 6671.356570538208, 8545.911986061838, 21237.004914577123, 7828.624766556762, 2625.1551024983855, 2343.2965697144273, 1867.0549581723835, 1269.80138599998, 1178.97120330251, 1163.0971750413291, 866.7007458949153, 784.1479467262152, 768.6037068156029, 776.0280820963025, 750.4520786303962, 582.7973435022694, 535.0285797490872, 517.0155228493329, 515.3259178961871, 480.88439023042235, 409.85316770269816, 396.46760082963226, 389.2723988414833, 374.0813686506373, 371.8290649386354, 353.084696592955, 348.4099657760506, 340.0413978832326, 331.99712423101033, 319.69386209134353, 300.82865624247233, 286.6951549649373, 255.41761803745467, 251.60848867735035, 397.467720158941, 8651.779150014616, 1727.6840642802058, 4462.154096694814, 3620.5096148675916, 3931.319356671323, 1091.2585948774124, 14291.701042338345, 1181.7454380133966, 5202.611583595789, 808.5611715362003, 16807.640249147837, 6721.623429788088, 7605.55102983058, 14729.026099937775, 3321.8787190103517, 28888.169385181038, 4497.523160897385, 5637.436401653481, 5707.353319015512, 25290.627220587925, 23196.765595319313, 8849.98833506221, 5753.514926723534, 2338.252238692895, 12649.938359209165, 9470.50501361885, 5615.167959320893, 14264.03174979445, 31894.8055555632, 15844.905379909062, 26361.679361856994, 19740.270488993632, 5492.231363992347, 3778.890492610653, 1701.2889437331557, 1253.536815801639, 1112.32624601898, 1104.183458211423, 1344.3985379784642, 1055.2069344117413, 1275.4271543268737, 597.0556192192215, 584.9577582394601, 571.1305334140027, 545.2488376160027, 508.6216817151534, 468.4817335529888, 282.959513590477, 304.00021125679774, 254.10834239219213, 228.66388318330746, 219.12663353833628, 202.39185302847756, 201.3451144989293, 196.54386129328785, 192.59585137229095, 186.07084102985334, 185.8647084714089, 185.78305166771048, 179.5280772277765, 177.14210135648895, 175.93110092063256, 2531.558659187341, 13921.458822925686, 993.6333954331941, 1325.860631793047, 416.66916296839435, 309.0284247472497, 1956.675799364396, 1370.3590698667308, 1953.9432309115982, 1274.0879432831528, 2879.969170062084, 2511.2563191292306, 2326.7768133692007, 1060.0616385364012, 5753.514926723534, 1818.7117919694938, 21452.653955523267, 2469.118118593019, 31894.8055555632, 3619.363288536698, 7897.133532885266, 2183.6269385121846, 3096.38279959043, 7828.624766556762, 4002.8576582693518, 8545.911986061838, 5615.167959320893, 12429.857662307832, 15844.905379909062, 26361.679361856994, 21237.004914577123, 14264.03174979445, 6671.356570538208, 32491.512282760224, 19097.289240143833, 11693.271340333324, 3298.7216698545885, 3272.6584944096053, 2206.401094244812, 3553.8651148557856, 2397.841933872671, 1443.6398633698057, 895.3725367306519, 859.9345692822559, 779.6051225365918, 709.8756268072045, 675.6218805257711, 674.8680428325334, 550.1805732743089, 520.5181718469652, 446.01720284325006, 439.0829940049575, 434.09394998404815, 418.40481649458945, 383.6765112740656, 381.4116881748218, 363.476181484398, 325.431854921512, 319.2120570398789, 308.7330809503019, 309.0120962042681, 297.5863381376232, 1632.2837526004043, 258.0555261072437, 623.1224438967101, 230.18216215493752, 1122.7967812072084, 420.2078809753413, 1294.8649222346676, 592.6524942871874, 812.079072870217, 5250.004134750561, 1521.6242379116143, 4824.982343314547, 1475.0695815205422, 1462.0555619658257, 2278.826989834462, 7822.06476702034, 1419.9454186776588, 2112.402805163465, 1485.850840711447, 2025.9515078314034, 3321.0312862535757, 4800.400931525352, 32491.512282760224, 8666.900237643185, 15457.478281702208, 3825.1916833691976, 21452.653955523267, 5674.837961858246, 5628.391410224689, 13331.249953617602, 7828.624766556762, 21237.004914577123, 4633.4824391237, 19097.289240143833, 8119.405299280229, 15844.905379909062, 31894.8055555632, 5832.844360006822, 11693.271340333324, 7382.267962457151, 5526.366500590533, 4023.9410707429015, 1987.3365568083575, 1398.9769017517656, 977.9159228933256, 966.6183146598775, 814.4677889166322, 899.3799510322932, 662.3831494581681, 629.2641628287005, 544.7174186280439, 458.15951508242443, 423.63833696263777, 694.9466078113284, 403.4413145769339, 407.2738736558419, 381.86921728274393, 380.58847999241766, 364.9132337263401, 376.90824613511114, 360.4820123437439, 418.6884773383714, 354.3539471399459, 341.71651546070336, 481.89318880442227, 289.5206785874025, 288.6883328253234, 284.57254960451735, 275.8676395223199, 702.3303449407106, 824.2383814180553, 592.7160818089761, 1457.209036739074, 7792.750151124377, 2833.5528316770965, 1103.9285413175394, 2522.6686845870076, 838.2399750571913, 1293.9509914504254, 611.8189791887961, 4633.4824391237, 810.258147384226, 1024.983149602927, 822.5322061690524, 28888.169385181038, 5615.167959320893, 3733.8311193953177, 26361.679361856994, 3219.7437470027794, 5674.837961858246, 23196.765595319313, 7897.133532885266, 10242.46596689384, 1606.3798485849177, 8545.911986061838, 6338.404950766948, 6695.6204786071385, 14264.03174979445, 11693.271340333324, 15844.905379909062, 8383.45283218913, 11151.62981699971, 4621.453437897038, 2251.981035170714, 2249.6627658979287, 1710.8930778181007, 1664.1515356590273, 1008.433716415525, 935.4519493618169, 651.9861934836938, 648.0296405270651, 622.8580494039724, 575.3573003811656, 548.1376773512181, 421.25737221625116, 408.6510546309013, 390.2142921886293, 379.7994293548905, 374.2788905192005, 509.32117321005, 312.1790240262781, 301.5778053165707, 292.98210210850203, 253.6649777584594, 249.43769883663626, 232.234960153347, 229.3477418701016, 224.88387072670125, 213.17895839200276, 211.1114948694177, 209.43123462802745, 595.7278139220261, 690.0849035275082, 985.9861994711566, 2293.8636834369763, 7105.765285647796, 888.7626454331618, 1054.3204996974173, 2807.7871298793775, 2895.8145733329334, 3518.475361647517, 1137.3148380269745, 19740.270488993632, 1832.746912700178, 1699.6501803955123, 783.5091726381177, 1173.2902913909663, 12649.938359209165, 26361.679361856994, 8545.911986061838, 31894.8055555632, 14264.03174979445, 2068.7465193354647, 21452.653955523267, 25290.627220587925, 1618.0244920031282, 14291.701042338345, 5465.116408112998, 15457.478281702208, 21237.004914577123, 14729.026099937775, 12376.60484714356, 5006.704776357487, 4067.5145979189297, 2423.866917941579, 1887.1220008946623, 1470.3269164121814, 1314.2731710439718, 1071.9425640762875, 1061.384320708013, 1367.338425187256, 811.9209931081429, 874.5870926352294, 797.1776873803911, 787.3136350287413, 770.0163195301899, 742.2940381228425, 1033.9974335292209, 658.9561645488919, 644.4986264369431, 638.5492569198219, 515.5991681994734, 507.9785277629405, 390.3014137724123, 367.23336782401947, 362.26038636965063, 352.15124542426855, 334.37145982379076, 296.5467587659114, 379.80532731108167, 287.0189277768068, 431.5474133801573, 4196.160013816603, 521.1423036881157, 3494.1871110102334, 1134.8130537167585, 654.8326214687812, 1499.581618532289, 1216.530457858648, 2954.778464339076, 5454.490985474502, 1100.2564170543087, 1112.199132150625, 1131.7802908213637, 28888.169385181038, 2338.252238692895, 21237.004914577123, 2577.2446924386286, 14729.026099937775, 14264.03174979445, 23196.765595319313, 26361.679361856994, 2742.7589043767193, 21452.653955523267, 8167.6750941338505, 5982.4696834039405], \"Category\": [\"Default\", \"Default\", \"Default\", \"Default\", \"Default\", \"Default\", \"Default\", \"Default\", \"Default\", \"Default\", \"Default\", \"Default\", \"Default\", \"Default\", \"Default\", \"Default\", \"Default\", \"Default\", \"Default\", \"Default\", \"Default\", \"Default\", \"Default\", \"Default\", \"Default\", \"Default\", \"Default\", \"Default\", \"Default\", \"Default\", \"Topic1\", \"Topic1\", \"Topic1\", \"Topic1\", \"Topic1\", \"Topic1\", \"Topic1\", \"Topic1\", \"Topic1\", \"Topic1\", \"Topic1\", \"Topic1\", \"Topic1\", \"Topic1\", \"Topic1\", \"Topic1\", \"Topic1\", \"Topic1\", \"Topic1\", \"Topic1\", \"Topic1\", \"Topic1\", \"Topic1\", \"Topic1\", \"Topic1\", \"Topic1\", \"Topic1\", \"Topic1\", \"Topic1\", \"Topic1\", \"Topic1\", \"Topic1\", \"Topic1\", \"Topic1\", \"Topic1\", \"Topic1\", \"Topic1\", \"Topic1\", \"Topic1\", \"Topic1\", \"Topic1\", \"Topic1\", \"Topic1\", \"Topic1\", \"Topic1\", \"Topic1\", \"Topic1\", \"Topic1\", \"Topic1\", \"Topic1\", \"Topic1\", \"Topic1\", \"Topic1\", \"Topic1\", \"Topic1\", \"Topic1\", \"Topic1\", \"Topic1\", \"Topic1\", \"Topic1\", \"Topic1\", \"Topic1\", \"Topic1\", \"Topic1\", \"Topic1\", \"Topic1\", \"Topic1\", \"Topic2\", \"Topic2\", \"Topic2\", \"Topic2\", \"Topic2\", \"Topic2\", \"Topic2\", \"Topic2\", \"Topic2\", \"Topic2\", \"Topic2\", \"Topic2\", \"Topic2\", \"Topic2\", \"Topic2\", \"Topic2\", \"Topic2\", \"Topic2\", \"Topic2\", \"Topic2\", \"Topic2\", \"Topic2\", \"Topic2\", \"Topic2\", \"Topic2\", \"Topic2\", \"Topic2\", \"Topic2\", \"Topic2\", \"Topic2\", \"Topic2\", \"Topic2\", \"Topic2\", \"Topic2\", \"Topic2\", \"Topic2\", \"Topic2\", \"Topic2\", \"Topic2\", \"Topic2\", \"Topic2\", \"Topic2\", \"Topic2\", \"Topic2\", \"Topic2\", \"Topic2\", \"Topic2\", \"Topic2\", \"Topic2\", \"Topic2\", \"Topic2\", \"Topic2\", \"Topic2\", \"Topic2\", \"Topic2\", \"Topic2\", \"Topic2\", \"Topic2\", \"Topic2\", \"Topic2\", \"Topic2\", \"Topic2\", \"Topic2\", \"Topic2\", \"Topic2\", \"Topic2\", \"Topic2\", \"Topic2\", \"Topic2\", \"Topic3\", \"Topic3\", \"Topic3\", \"Topic3\", \"Topic3\", \"Topic3\", \"Topic3\", \"Topic3\", \"Topic3\", \"Topic3\", \"Topic3\", \"Topic3\", \"Topic3\", \"Topic3\", \"Topic3\", \"Topic3\", \"Topic3\", \"Topic3\", \"Topic3\", \"Topic3\", \"Topic3\", \"Topic3\", \"Topic3\", \"Topic3\", \"Topic3\", \"Topic3\", \"Topic3\", \"Topic3\", \"Topic3\", \"Topic3\", \"Topic3\", \"Topic3\", \"Topic3\", \"Topic3\", \"Topic3\", \"Topic3\", \"Topic3\", \"Topic3\", \"Topic3\", \"Topic3\", \"Topic3\", \"Topic3\", \"Topic3\", \"Topic3\", \"Topic3\", \"Topic3\", \"Topic3\", \"Topic3\", \"Topic3\", \"Topic3\", \"Topic3\", \"Topic3\", \"Topic3\", \"Topic3\", \"Topic3\", \"Topic3\", \"Topic3\", \"Topic3\", \"Topic3\", \"Topic3\", \"Topic3\", \"Topic3\", \"Topic3\", \"Topic4\", \"Topic4\", \"Topic4\", \"Topic4\", \"Topic4\", \"Topic4\", \"Topic4\", \"Topic4\", \"Topic4\", \"Topic4\", \"Topic4\", \"Topic4\", \"Topic4\", \"Topic4\", \"Topic4\", \"Topic4\", \"Topic4\", \"Topic4\", \"Topic4\", \"Topic4\", \"Topic4\", \"Topic4\", \"Topic4\", \"Topic4\", \"Topic4\", \"Topic4\", \"Topic4\", \"Topic4\", \"Topic4\", \"Topic4\", \"Topic4\", \"Topic4\", \"Topic4\", \"Topic4\", \"Topic4\", \"Topic4\", \"Topic4\", \"Topic4\", \"Topic4\", \"Topic4\", \"Topic4\", \"Topic4\", \"Topic4\", \"Topic4\", \"Topic4\", \"Topic4\", \"Topic4\", \"Topic4\", \"Topic4\", \"Topic4\", \"Topic4\", \"Topic4\", \"Topic4\", \"Topic4\", \"Topic4\", \"Topic4\", \"Topic4\", \"Topic4\", \"Topic4\", \"Topic4\", \"Topic4\", \"Topic4\", \"Topic4\", \"Topic4\", \"Topic4\", \"Topic4\", \"Topic5\", \"Topic5\", \"Topic5\", \"Topic5\", \"Topic5\", \"Topic5\", \"Topic5\", \"Topic5\", \"Topic5\", \"Topic5\", \"Topic5\", \"Topic5\", \"Topic5\", \"Topic5\", \"Topic5\", \"Topic5\", \"Topic5\", \"Topic5\", \"Topic5\", \"Topic5\", \"Topic5\", \"Topic5\", \"Topic5\", \"Topic5\", \"Topic5\", \"Topic5\", \"Topic5\", \"Topic5\", \"Topic5\", \"Topic5\", \"Topic5\", \"Topic5\", \"Topic5\", \"Topic5\", \"Topic5\", \"Topic5\", \"Topic5\", \"Topic5\", \"Topic5\", \"Topic5\", \"Topic5\", \"Topic5\", \"Topic5\", \"Topic5\", \"Topic5\", \"Topic5\", \"Topic5\", \"Topic5\", \"Topic5\", \"Topic5\", \"Topic5\", \"Topic5\", \"Topic5\", \"Topic5\", \"Topic5\", \"Topic5\", \"Topic5\", \"Topic5\", \"Topic5\", \"Topic5\", \"Topic5\", \"Topic5\", \"Topic5\", \"Topic5\", \"Topic5\", \"Topic6\", \"Topic6\", \"Topic6\", \"Topic6\", \"Topic6\", \"Topic6\", \"Topic6\", \"Topic6\", \"Topic6\", \"Topic6\", \"Topic6\", \"Topic6\", \"Topic6\", \"Topic6\", \"Topic6\", \"Topic6\", \"Topic6\", \"Topic6\", \"Topic6\", \"Topic6\", \"Topic6\", \"Topic6\", \"Topic6\", \"Topic6\", \"Topic6\", \"Topic6\", \"Topic6\", \"Topic6\", \"Topic6\", \"Topic6\", \"Topic6\", \"Topic6\", \"Topic6\", \"Topic6\", \"Topic6\", \"Topic6\", \"Topic6\", \"Topic6\", \"Topic6\", \"Topic6\", \"Topic6\", \"Topic6\", \"Topic6\", \"Topic6\", \"Topic6\", \"Topic6\", \"Topic6\", \"Topic6\", \"Topic6\", \"Topic6\", \"Topic6\", \"Topic6\", \"Topic6\", \"Topic6\", \"Topic6\", \"Topic6\", \"Topic6\", \"Topic6\", \"Topic6\", \"Topic6\", \"Topic6\", \"Topic6\", \"Topic7\", \"Topic7\", \"Topic7\", \"Topic7\", \"Topic7\", \"Topic7\", \"Topic7\", \"Topic7\", \"Topic7\", \"Topic7\", \"Topic7\", \"Topic7\", \"Topic7\", \"Topic7\", \"Topic7\", \"Topic7\", \"Topic7\", \"Topic7\", \"Topic7\", \"Topic7\", \"Topic7\", \"Topic7\", \"Topic7\", \"Topic7\", \"Topic7\", \"Topic7\", \"Topic7\", \"Topic7\", \"Topic7\", \"Topic7\", \"Topic7\", \"Topic7\", \"Topic7\", \"Topic7\", \"Topic7\", \"Topic7\", \"Topic7\", \"Topic7\", \"Topic7\", \"Topic7\", \"Topic7\", \"Topic7\", \"Topic7\", \"Topic7\", \"Topic7\", \"Topic7\", \"Topic7\", \"Topic7\", \"Topic7\", \"Topic7\", \"Topic7\", \"Topic7\", \"Topic7\", \"Topic7\", \"Topic7\", \"Topic7\", \"Topic7\", \"Topic7\", \"Topic7\", \"Topic7\", \"Topic8\", \"Topic8\", \"Topic8\", \"Topic8\", \"Topic8\", \"Topic8\", \"Topic8\", \"Topic8\", \"Topic8\", \"Topic8\", \"Topic8\", \"Topic8\", \"Topic8\", \"Topic8\", \"Topic8\", \"Topic8\", \"Topic8\", \"Topic8\", \"Topic8\", \"Topic8\", \"Topic8\", \"Topic8\", \"Topic8\", \"Topic8\", \"Topic8\", \"Topic8\", \"Topic8\", \"Topic8\", \"Topic8\", \"Topic8\", \"Topic8\", \"Topic8\", \"Topic8\", \"Topic8\", \"Topic8\", \"Topic8\", \"Topic8\", \"Topic8\", \"Topic8\", \"Topic8\", \"Topic8\", \"Topic8\", \"Topic8\", \"Topic8\", \"Topic8\", \"Topic8\", \"Topic8\", \"Topic8\", \"Topic8\", \"Topic8\", \"Topic8\", \"Topic8\", \"Topic8\", \"Topic8\", \"Topic8\"], \"logprob\": [30.0, 29.0, 28.0, 27.0, 26.0, 25.0, 24.0, 23.0, 22.0, 21.0, 20.0, 19.0, 18.0, 17.0, 16.0, 15.0, 14.0, 13.0, 12.0, 11.0, 10.0, 9.0, 8.0, 7.0, 6.0, 5.0, 4.0, 3.0, 2.0, 1.0, -3.4691, -4.585, -4.9417, -5.0933, -5.2255, -5.4937, -5.5373, -5.6732, -5.7183, -5.8579, -5.193, -6.0205, -6.056, -6.2577, -6.3631, -6.4485, -6.6072, -6.6368, -6.8612, -6.8889, -6.9287, -7.2076, -7.3078, -7.3066, -7.3751, -7.3775, -7.3794, -7.4161, -7.4457, -7.4759, -4.5006, -4.5264, -5.6484, -6.3268, -6.1494, -6.8343, -4.6127, -4.0217, -3.9614, -5.4357, -5.9341, -4.9217, -4.412, -4.9771, -5.4287, -5.2594, -4.1502, -3.2805, -4.6564, -3.4352, -4.4809, -4.4604, -4.8181, -4.4082, -3.7525, -3.5381, -4.426, -4.0324, -4.8094, -4.8406, -4.7473, -4.3354, -4.1606, -4.4757, -4.2955, -4.7949, -4.9057, -4.0381, -4.1167, -4.8445, -5.4895, -5.6302, -5.7952, -5.8332, -6.0562, -6.0747, -6.1066, -6.188, -6.2079, -5.9539, -6.2837, -6.4647, -6.6186, -6.1835, -6.7496, -6.8914, -6.9067, -6.9381, -6.9594, -6.9985, -7.0581, -7.1889, -7.1953, -7.2137, -7.2765, -7.2888, -7.2941, -4.6212, -4.4451, -6.7888, -7.0685, -3.6077, -5.9852, -4.7104, -4.2711, -4.4225, -5.4273, -6.0755, -5.5413, -3.679, -5.6181, -4.3788, -4.1167, -2.8967, -4.4195, -5.2144, -4.2207, -4.9893, -5.0544, -3.6113, -4.6798, -4.2932, -5.0751, -4.8326, -5.0901, -3.615, -4.0921, -4.771, -4.1975, -4.7348, -4.0937, -4.7012, -4.797, -4.8081, -4.5884, -4.9059, -4.5466, -4.6602, -4.8875, -5.2733, -5.3475, -5.3611, -5.6556, -5.7557, -5.7758, -5.7662, -5.7997, -6.0529, -6.1385, -6.1728, -6.1761, -6.2454, -6.4055, -6.4388, -6.4572, -6.4971, -6.5031, -6.555, -6.5683, -6.5927, -6.6167, -6.6546, -6.7156, -6.7639, -6.8798, -6.8948, -6.4397, -3.3955, -5.0016, -4.0796, -4.3033, -4.3082, -5.5161, -3.2804, -5.5411, -4.3501, -5.8761, -3.4562, -4.273, -4.2158, -3.767, -4.8759, -3.5381, -4.8119, -4.6793, -4.7103, -3.966, -4.1322, -4.6191, -4.8768, -5.2917, -4.6467, -4.7744, -5.0132, -4.76, -4.6483, -4.8345, -4.8341, -4.8867, -3.7423, -4.1163, -4.9146, -5.2202, -5.3398, -5.3472, -5.1504, -5.3928, -5.2034, -5.9627, -5.9832, -6.0072, -6.0536, -6.1233, -6.2056, -6.7111, -6.6394, -6.819, -6.9249, -6.9676, -7.0474, -7.0526, -7.0769, -7.0973, -7.1319, -7.133, -7.1335, -7.1679, -7.1813, -7.1882, -4.5329, -2.9093, -5.5094, -5.2379, -6.3517, -6.6476, -4.9055, -5.2461, -4.9374, -5.361, -4.6566, -4.8027, -4.8753, -5.5665, -4.0996, -5.099, -3.0393, -4.8809, -2.8525, -4.6421, -4.186, -5.0989, -4.957, -4.5261, -4.875, -4.5461, -4.7406, -4.4707, -4.4558, -4.5091, -4.6066, -4.7607, -4.9191, -4.6738, -4.9975, -5.0271, -4.1498, -4.1577, -4.5521, -4.0754, -4.4691, -4.9768, -5.4545, -5.4949, -5.5931, -5.6869, -5.7364, -5.7376, -5.9422, -5.9976, -6.1524, -6.1681, -6.1795, -6.2164, -6.3033, -6.3092, -6.3575, -6.4683, -6.4877, -6.5211, -6.5203, -6.558, -4.8562, -6.701, -5.8196, -6.8157, -5.2351, -6.2195, -5.1305, -5.9135, -5.6445, -4.0345, -5.1148, -4.1494, -5.1573, -5.1882, -4.8264, -3.8417, -5.2495, -4.9929, -5.2613, -5.0383, -4.7022, -4.4518, -3.1857, -4.0802, -3.7777, -4.6609, -3.6459, -4.4574, -4.4716, -4.0185, -4.386, -3.9214, -4.6934, -4.2109, -4.5887, -4.397, -4.4161, -4.9122, -4.9863, -3.0227, -3.3123, -3.6296, -4.3353, -4.6866, -5.0449, -5.0566, -5.228, -5.129, -5.4349, -5.4863, -5.6308, -5.8042, -5.8827, -5.3878, -5.9317, -5.9222, -5.9867, -5.9901, -6.0322, -5.9999, -6.0445, -5.8948, -6.0617, -6.0981, -5.7546, -6.2643, -6.2672, -6.2816, -6.3127, -5.38, -5.2247, -5.57, -4.7125, -3.1573, -4.1474, -5.0216, -4.3063, -5.2954, -4.9843, -5.6056, -4.1811, -5.4939, -5.3589, -5.5025, -3.5404, -4.4752, -4.7011, -3.71, -4.8831, -4.755, -4.2693, -4.7821, -4.752, -5.2545, -4.9388, -5.0113, -5.0078, -4.8993, -4.9487, -4.9241, -5.0397, -2.5735, -3.4544, -4.1735, -4.1746, -4.4485, -4.4762, -4.9774, -5.0526, -5.414, -5.4201, -5.4598, -5.5393, -5.5878, -5.8516, -5.882, -5.9283, -5.9554, -5.9701, -5.6621, -6.152, -6.1866, -6.2156, -6.3602, -6.377, -6.4488, -6.4613, -6.4811, -6.5347, -6.5445, -6.5525, -5.5073, -5.3619, -5.025, -4.215, -3.1188, -5.156, -5.0146, -4.1067, -4.2463, -4.0942, -5.0594, -3.2187, -4.9075, -4.9962, -5.4904, -5.2767, -4.0082, -3.7432, -4.5399, -4.1353, -4.4384, -5.1166, -4.4802, -4.4566, -5.1892, -4.713, -4.9306, -4.7586, -4.9782, -5.0021, -2.3042, -3.2093, -3.4171, -3.9349, -4.1853, -4.435, -4.5473, -4.7512, -4.7612, -4.5081, -5.0293, -4.955, -5.0477, -5.0602, -5.0824, -5.1191, -4.7877, -5.2383, -5.2606, -5.2698, -5.484, -5.499, -5.763, -5.8241, -5.8377, -5.8661, -5.9181, -6.0385, -5.791, -6.0712, -5.6643, -3.4499, -5.4864, -3.7614, -4.9083, -5.3623, -4.7218, -4.894, -4.2606, -4.276, -5.0985, -5.0937, -5.0873, -3.545, -4.7729, -3.9073, -4.7584, -4.154, -4.2664, -4.2956, -4.2982, -4.8847, -4.6388, -4.8482, -4.9394], \"loglift\": [30.0, 29.0, 28.0, 27.0, 26.0, 25.0, 24.0, 23.0, 22.0, 21.0, 20.0, 19.0, 18.0, 17.0, 16.0, 15.0, 14.0, 13.0, 12.0, 11.0, 10.0, 9.0, 8.0, 7.0, 6.0, 5.0, 4.0, 3.0, 2.0, 1.0, 1.4311, 1.4309, 1.4309, 1.4308, 1.4308, 1.4307, 1.4307, 1.4306, 1.4306, 1.4305, 1.4305, 1.4303, 1.4303, 1.4301, 1.43, 1.4299, 1.4297, 1.4297, 1.4293, 1.4293, 1.4292, 1.4286, 1.4283, 1.4282, 1.4281, 1.4281, 1.4281, 1.4279, 1.4279, 1.4278, 1.4265, 1.4245, 1.4253, 1.4261, 1.4202, 1.4251, 1.4004, 1.3774, 1.3358, 1.3774, 1.3962, 1.3499, 1.2825, 1.3151, 1.3343, 1.3097, 1.1726, 1.0601, 1.2163, 0.9919, 1.1338, 1.1207, 1.1793, 1.0253, 0.8359, 0.6695, 0.9646, 0.7168, 1.0457, 1.034, 0.9222, 0.5458, 0.3547, 0.5052, 0.0036, 0.2385, 0.3388, 1.6656, 1.6656, 1.6655, 1.6652, 1.6651, 1.665, 1.665, 1.6648, 1.6647, 1.6647, 1.6646, 1.6646, 1.6645, 1.6645, 1.6642, 1.664, 1.6638, 1.6637, 1.6634, 1.6634, 1.6633, 1.6633, 1.6632, 1.663, 1.6626, 1.6626, 1.6625, 1.6623, 1.6623, 1.6622, 1.6491, 1.6423, 1.66, 1.662, 1.6254, 1.6409, 1.6091, 1.5733, 1.5708, 1.5784, 1.6089, 1.5608, 1.3719, 1.546, 1.4034, 1.3601, 1.1934, 1.3726, 1.4735, 1.2501, 1.3947, 1.3918, 1.0102, 1.2484, 1.1183, 1.314, 1.2081, 1.293, 0.4936, 0.7408, 1.0365, 0.6107, 0.9896, 0.2054, 0.8129, 0.8762, 0.6174, -0.0731, 0.6073, 2.0593, 2.0592, 2.0591, 2.0589, 2.0588, 2.0588, 2.0585, 2.0585, 2.0584, 2.0584, 2.0584, 2.0581, 2.0579, 2.0579, 2.0579, 2.0578, 2.0574, 2.0574, 2.0573, 2.0572, 2.0572, 2.0571, 2.0571, 2.057, 2.0569, 2.0568, 2.0567, 2.0565, 2.0561, 2.0561, 2.054, 2.0178, 2.0226, 1.9957, 1.9811, 1.8939, 1.9675, 1.631, 1.8629, 1.5717, 1.9074, 1.2929, 1.3927, 1.3263, 1.1142, 1.4946, 0.6695, 1.2556, 1.1623, 1.119, 0.3746, 0.2948, 0.7715, 0.9444, 1.4299, 0.3866, 0.5484, 0.8323, 0.1533, -0.5397, -0.0263, -0.535, -0.2984, 2.1254, 2.1253, 2.125, 2.1248, 2.1248, 2.1247, 2.1247, 2.1245, 2.1244, 2.1241, 2.124, 2.124, 2.1239, 2.1238, 2.1237, 2.1224, 2.1224, 2.122, 2.1216, 2.1215, 2.1211, 2.1211, 2.121, 2.1209, 2.1208, 2.1208, 2.1207, 2.1206, 2.1205, 2.1205, 2.1093, 2.0282, 2.068, 2.0511, 2.0948, 2.0978, 1.9942, 2.0099, 1.9638, 1.9678, 1.8566, 1.8476, 1.8513, 1.9462, 1.7216, 1.8739, 1.4658, 1.7863, 1.2561, 1.6426, 1.3185, 1.6911, 1.4838, 0.9872, 1.309, 0.8794, 1.1049, 0.5802, 0.3524, -0.21, -0.0913, 0.1525, 0.7541, -0.5838, -0.376, 0.0849, 2.2277, 2.2277, 2.2276, 2.2276, 2.2273, 2.2271, 2.227, 2.227, 2.2269, 2.2268, 2.2267, 2.2267, 2.2264, 2.2263, 2.226, 2.226, 2.226, 2.2259, 2.2257, 2.2257, 2.2256, 2.2253, 2.2252, 2.2252, 2.2251, 2.225, 2.2248, 2.2246, 2.2245, 2.2242, 2.2201, 2.2185, 2.1821, 2.1807, 2.1347, 1.8783, 2.0364, 1.8479, 2.0251, 2.003, 1.9209, 1.6724, 1.9709, 1.8303, 1.9138, 1.8266, 1.6686, 1.5506, 0.9043, 1.3313, 1.0552, 1.5686, 0.8593, 1.3776, 1.3716, 0.9625, 1.1272, 0.5939, 1.3443, 0.4105, 0.8881, 0.4111, -0.3075, 0.8953, 0.1257, 2.5492, 2.5492, 2.5491, 2.5489, 2.5487, 2.5484, 2.5484, 2.5483, 2.5481, 2.548, 2.5479, 2.5477, 2.5474, 2.5472, 2.5472, 2.5471, 2.5471, 2.547, 2.547, 2.5469, 2.5469, 2.5469, 2.5469, 2.5468, 2.5467, 2.5464, 2.5463, 2.5463, 2.5462, 2.5461, 2.5443, 2.5396, 2.5241, 2.482, 2.3605, 2.3821, 2.4505, 2.3394, 2.452, 2.329, 2.4568, 1.8566, 2.2876, 2.1874, 2.2639, 0.6672, 1.3704, 1.5525, 0.5891, 1.5186, 1.08, 0.1577, 0.7224, 0.4924, 1.8425, 0.4868, 0.7131, 0.6618, 0.014, 0.1633, -0.1159, 0.405, 2.586, 2.5859, 2.5857, 2.5857, 2.5855, 2.5855, 2.5852, 2.5851, 2.5847, 2.5847, 2.5847, 2.5845, 2.5845, 2.584, 2.5839, 2.5838, 2.5837, 2.5837, 2.5836, 2.5832, 2.5831, 2.5831, 2.5826, 2.5825, 2.5823, 2.5822, 2.5821, 2.5819, 2.5819, 2.5819, 2.5817, 2.5801, 2.5601, 2.5258, 2.4913, 2.533, 2.5036, 2.432, 2.2615, 2.2188, 2.383, 1.3697, 2.0577, 2.0444, 2.3246, 2.1345, 1.0252, 0.556, 0.8857, -0.0267, 0.4749, 1.7275, 0.025, -0.116, 1.9006, 0.1983, 0.942, 0.0743, -0.4629, -0.1209, 2.7511, 2.751, 2.7509, 2.7508, 2.7507, 2.7505, 2.7505, 2.7503, 2.7503, 2.7501, 2.75, 2.75, 2.75, 2.75, 2.75, 2.7499, 2.7499, 2.7498, 2.7498, 2.7497, 2.7494, 2.7494, 2.7488, 2.7487, 2.7487, 2.7486, 2.7485, 2.7481, 2.7481, 2.748, 2.7471, 2.6869, 2.7364, 2.5585, 2.5362, 2.6321, 2.444, 2.481, 2.227, 1.5985, 2.3769, 2.371, 2.36, 0.6626, 1.9487, 0.608, 1.8659, 0.7272, 0.6469, 0.1315, 0.0009, 1.6774, -0.1337, 0.6226, 0.8428]}, \"token.table\": {\"Topic\": [1, 2, 3, 4, 5, 6, 7, 8, 2, 4, 5, 8, 1, 6, 8, 1, 2, 3, 5, 6, 7, 2, 5, 2, 7, 2, 4, 6, 8, 7, 1, 3, 4, 6, 7, 8, 2, 1, 3, 7, 8, 5, 2, 3, 6, 1, 3, 5, 7, 1, 1, 8, 3, 1, 1, 2, 3, 4, 5, 6, 7, 8, 1, 4, 6, 7, 1, 1, 6, 8, 6, 3, 8, 1, 2, 1, 3, 4, 6, 7, 8, 1, 2, 1, 6, 8, 4, 7, 8, 1, 2, 4, 1, 4, 7, 8, 6, 8, 2, 5, 5, 5, 1, 4, 5, 6, 2, 8, 4, 1, 7, 8, 1, 3, 5, 1, 6, 7, 4, 4, 1, 3, 8, 4, 3, 4, 1, 1, 7, 8, 8, 4, 3, 3, 1, 2, 4, 5, 6, 2, 2, 4, 5, 6, 8, 4, 5, 6, 8, 1, 4, 1, 4, 6, 8, 4, 6, 5, 7, 1, 2, 3, 5, 6, 7, 8, 1, 3, 4, 6, 7, 8, 7, 5, 1, 2, 3, 4, 5, 6, 7, 8, 1, 3, 4, 5, 6, 7, 8, 1, 2, 4, 6, 2, 5, 2, 5, 1, 2, 3, 4, 5, 7, 8, 3, 3, 1, 2, 3, 3, 1, 8, 2, 4, 5, 3, 8, 1, 2, 4, 5, 6, 2, 3, 4, 5, 6, 7, 5, 6, 2, 3, 4, 5, 6, 7, 8, 2, 3, 4, 5, 6, 6, 2, 2, 4, 5, 2, 5, 1, 2, 3, 4, 5, 6, 7, 8, 4, 4, 2, 5, 1, 2, 3, 5, 6, 7, 1, 2, 3, 4, 5, 6, 7, 8, 6, 1, 4, 1, 6, 6, 1, 8, 6, 7, 7, 1, 2, 3, 4, 6, 7, 8, 1, 3, 7, 8, 8, 4, 1, 7, 2, 4, 6, 7, 2, 1, 2, 3, 4, 5, 6, 7, 8, 8, 2, 3, 4, 5, 6, 8, 5, 1, 2, 4, 5, 6, 7, 8, 2, 5, 2, 4, 5, 5, 2, 4, 7, 8, 3, 6, 7, 7, 8, 2, 4, 5, 1, 7, 1, 2, 3, 4, 5, 6, 7, 8, 7, 7, 2, 7, 7, 6, 1, 2, 3, 5, 6, 7, 8, 1, 3, 4, 7, 1, 6, 8, 6, 8, 3, 3, 1, 2, 3, 5, 7, 8, 1, 2, 1, 2, 3, 5, 3, 7, 8, 1, 6, 7, 7, 7, 2, 7, 1, 7, 1, 3, 5, 6, 8, 1, 5, 4, 5, 7, 6, 6, 8, 1, 2, 3, 4, 5, 6, 7, 8, 2, 7, 1, 7, 8, 2, 4, 5, 6, 3, 2, 1, 4, 5, 7, 5, 2, 4, 5, 4, 6, 8, 1, 3, 6, 1, 3, 4, 5, 6, 7, 8, 2, 4, 7, 1, 2, 4, 6, 8, 4, 4, 4, 4, 8, 7, 1, 2, 3, 4, 5, 6, 7, 8, 5, 3, 5, 7, 2, 4, 6, 5, 5, 5, 1, 6, 4, 5, 3, 3, 5, 3, 4, 5, 6, 7, 6, 8, 2, 3, 6, 7, 2, 4, 1, 3, 3, 5, 1, 3, 4, 6, 7, 8, 1, 6, 4, 2, 4, 7, 2, 5, 5, 5, 3, 4, 5, 6, 7, 4, 5, 6, 7, 1, 3, 6, 7, 8, 4, 7, 3, 4, 2, 7, 4, 2, 3, 4, 5, 6, 7, 8, 5, 1, 2, 3, 4, 5, 1, 2, 3, 4, 5, 6, 7, 8, 5, 3, 4, 6, 8, 4, 6, 8, 2, 3, 4, 5, 7, 1, 3, 4, 7, 8, 1, 3, 7, 8, 1, 7, 8, 5, 7, 8, 2, 4, 4, 2, 1, 2, 4, 5, 7, 2, 3, 6, 2, 4, 5, 1, 7, 8, 1, 2, 3, 4, 5, 6, 7, 8, 2, 1, 3, 8, 1, 1, 3, 1, 8, 2, 4, 5, 8, 2, 8, 4, 4, 8, 8, 2, 8, 4, 1, 1, 3, 6, 1, 2, 2, 6, 1, 1, 3, 4, 5, 7, 2, 5, 2, 6, 5, 1, 2, 3, 4, 5, 6, 7, 8, 1, 4, 5, 6, 1, 3, 4, 6, 8, 1, 8, 1, 5, 7, 2, 2, 2, 3, 4, 8, 5, 4, 3, 6, 1, 1, 2, 3, 4, 5, 6, 7, 8, 1, 6, 7, 8, 1, 6, 2, 5, 6, 1, 2, 2, 4, 8, 2, 7, 2, 4, 4, 6, 3, 8, 2, 6, 1, 1, 3, 7, 1, 3, 7, 8, 3, 2, 5, 2, 1, 1, 1, 3, 1, 2, 3, 4, 5, 7, 8, 2, 4, 1, 2, 3, 4, 5, 6, 7, 8, 2, 4, 1, 2, 4, 6, 8, 3, 1, 3, 6, 8, 6, 6, 4, 2, 4, 7, 1, 1, 5, 3, 3, 4, 6, 3, 1, 3, 6, 8, 3, 1, 2, 3, 4, 5, 6, 7, 8, 4, 8, 3, 3, 2, 4, 5, 1, 2, 4, 6, 8, 2, 1, 3, 5, 7, 8, 2, 6, 4, 1, 8, 1, 3, 7, 1, 3, 5, 6, 7, 7, 7, 3, 8, 8, 6, 3, 7, 2, 3, 4, 5, 6, 7, 8, 1, 2, 4, 7, 4, 3, 5, 6, 7, 6, 2, 5, 2, 4, 1, 2, 3, 4, 5, 6, 7, 8, 6, 2, 4, 4, 4, 3, 1, 2, 4, 1, 2, 3, 4, 5, 6, 7, 8, 5, 7, 2, 3, 7, 3, 1, 3, 4, 5, 6, 5, 2, 4, 7, 2, 5, 5, 6, 1, 3, 4, 7, 3, 4, 6, 7, 1, 3, 1, 6, 1, 2, 3, 4, 5, 6, 8, 6, 3, 4, 5, 8, 8, 2, 5, 1, 3, 5, 6, 7, 2, 4, 8, 1, 3, 4, 6, 7, 8, 8, 2, 4, 5, 5, 1, 3, 4, 6, 8, 5, 4, 5, 6, 1, 4, 5, 6, 7, 4, 1, 2, 3, 6, 8, 3, 1, 3, 6, 8, 6, 6, 1, 5, 1, 3, 3, 3, 7, 4, 1, 7], \"Freq\": [0.11420469013033463, 0.5191312691206499, 0.04723183424922597, 0.08194880332598518, 0.1624314299790454, 0.03764932242260917, 0.009477784921407871, 0.02790972023817898, 0.68867175449186, 0.07408022857083753, 0.23687381728206075, 0.9980736828242529, 0.17199994760047063, 0.003148085563402957, 0.8247984176115747, 0.055944908834349064, 0.027449604801900243, 0.30116137839799123, 0.5170982695062731, 0.0007842744229114355, 0.09751145324865515, 0.0071393235011126465, 0.989986192154287, 0.4956661681969456, 0.5037006572076193, 0.7692475254436271, 0.010865078042989083, 0.07154236003691272, 0.14826652652509717, 0.9999435224258655, 0.6444864021480925, 0.1712307685172056, 0.010001394334338292, 0.09147827059252524, 0.009958284876000627, 0.07281187513231627, 0.9950408107115278, 0.4125866814796175, 0.38848461270797624, 0.06673896789443212, 0.13212007275947601, 0.9987665067314075, 0.9164945957935742, 0.06420575903575566, 0.01875035440867201, 0.05769668158816567, 0.03276601670439038, 0.0523543962559281, 0.8572587196463874, 0.9972143791834233, 0.11147886896083756, 0.8872496283047482, 0.9991914788371484, 0.9977260802581022, 0.34077310002563066, 0.17573099479005855, 0.007722369545972562, 0.10896075078890553, 0.19513109389335548, 0.007016055258231169, 0.04741723251703884, 0.11729525938425397, 0.1484178226942154, 0.8505876597165035, 0.0005117855954972945, 0.9979409249590044, 0.9966394773646015, 0.2624184237953632, 0.060082332720823896, 0.6759262431092687, 0.9976156541603644, 0.9991762281387454, 0.9966414603571359, 0.9934659400043169, 0.006529451507696168, 0.46690393635392596, 0.24906389546756355, 0.004569344572858706, 0.1522768695151928, 0.003323159689351786, 0.1238569309218822, 0.9994708266333505, 0.9990445198645251, 0.6722900468192812, 0.011733450503527133, 0.3158864877746445, 0.0043472911589065265, 0.9940805783366258, 0.9990312736560235, 0.9896481326247228, 0.009986358553226264, 0.9947075820263718, 0.006381546221296593, 0.03063142186222365, 0.7696144742883692, 0.19272269588315713, 0.9994256508078061, 0.9986957403826263, 0.3302152087125242, 0.6693151315608113, 0.9986899238281493, 0.9998182133584603, 0.042084976594165976, 0.044459000914862525, 0.41329605219398896, 0.5002716704885987, 0.9960478855937643, 0.9978796313448703, 0.9969062086849464, 0.4030759037857014, 0.004738087869857112, 0.591922548884292, 0.059364710661042396, 0.858314774974238, 0.0816264771589333, 0.046198642476560546, 0.9058557348345205, 0.048010353946229586, 0.9997757989584307, 0.9983626882010376, 0.07291791158788427, 0.9244554927448814, 0.0024858378950415095, 0.9935526261247712, 0.05535240688646708, 0.9440101392637477, 0.9979663641754573, 0.8065701937210884, 0.19322552735242046, 0.999859233490096, 0.9999511298008598, 0.9967098336785272, 0.9993975916074198, 0.9993688887027408, 0.9964521039360412, 0.09988625251028868, 0.2281761787201855, 0.6717468829957328, 0.9977237827942012, 0.9967549122566125, 0.16078700876561933, 0.20927832886953626, 0.2621448056745585, 0.02588634381487295, 0.3416268190779712, 0.13316559314524223, 0.1019292194445064, 0.0008220098342298904, 0.7636471359995681, 0.9996518892333655, 0.9980205341023447, 0.05664453260108093, 0.15644680432679495, 0.10339874998610012, 0.6842299890384538, 0.9839787796185766, 0.015800542426633105, 0.9965938574071616, 0.0016048210264205502, 0.17160149717812467, 0.03625383743199817, 0.23299132856297491, 0.0024169224954665447, 0.045438142914771044, 0.423928205704832, 0.08700920983679561, 0.6900580142904933, 0.18544419476406218, 0.05227232952624525, 0.0001581613601399251, 0.06706041669932825, 0.004982082844407641, 0.994469630582232, 0.9987137591685478, 0.00012541227106814282, 0.30967425033501167, 0.07433812367564166, 0.41915916297750033, 0.07922920224729924, 0.027120403618485885, 0.07333482550709652, 0.017024715797500388, 0.008565042392451643, 0.09283400786657263, 0.6169593439465972, 0.2036269755882858, 0.007736167322214386, 0.0693492142098504, 0.0008288750702372556, 0.994347043707089, 0.0018244899884533744, 0.0036489799769067487, 0.9975902725811269, 0.000281383780104603, 0.9994751869315498, 0.04555789482076548, 0.9533411323604628, 0.07719658042630906, 0.762506934724689, 0.028376608615204513, 0.05980446546860306, 0.016476740486247782, 0.02807148379138511, 0.027766358967565706, 0.9980775237286025, 0.9990566780963163, 0.07615853389821145, 0.10239091779648428, 0.8216659601684814, 0.9988205824923555, 0.013432031808703905, 0.9862949070962581, 0.9094137233202091, 0.03695460986931156, 0.053470636626545776, 0.9972454211881848, 0.9964499631271736, 0.9991231398501111, 0.3469319428365666, 0.3203627807931182, 0.33262547096701744, 0.9982015841150176, 0.1241431927779985, 0.11472949095597017, 0.002941781819383851, 0.07413290184847303, 0.10178565095068123, 0.5818844438741256, 0.9112413122339672, 0.08742990968731307, 0.4453770587596896, 0.011491597750424347, 0.12268057057885452, 0.010559846581471022, 0.35686069770912365, 0.04068646771096188, 0.012423348919377674, 0.09277854236038632, 0.00012832440160496033, 0.03990888889914267, 0.039138942489512905, 0.8279490391552041, 0.9984537629924337, 0.9977084048961973, 0.9116610438961126, 0.00017788508173582684, 0.08805311545923429, 0.9980484658509821, 0.9990795435380406, 0.23989366964042003, 0.2321551641681484, 0.07469175134756278, 0.09676925225374944, 0.02044634534095294, 0.14081045251505994, 0.1313269899264918, 0.06391853784694936, 0.9948585276004837, 0.9970585256861717, 0.00041704166812402637, 0.9992318368251673, 0.1758745806752383, 0.18454602017755725, 0.44757968508123225, 0.03157293357254594, 0.0015564122183649408, 0.15897639087584753, 0.282384621368572, 0.16436803218364487, 0.1267395544725087, 0.12998928663847045, 0.12220703329366729, 0.09201873185723303, 0.019925989333397117, 0.06251458456100126, 0.9993017027296575, 0.12265700842109933, 0.8769976102108603, 0.0020751486496022107, 0.9960713518090611, 0.997903187501086, 0.0009671203888648143, 0.9990353616973531, 0.9984932030297011, 0.9960696570908129, 0.9984068201378085, 0.22740470083806408, 0.0027988270872377117, 0.6514270045545774, 0.015883343720074015, 0.0006297360946284852, 0.0918714991385779, 0.009935836159693876, 0.09894896972434444, 0.8472982471768414, 0.053417181599260496, 0.00025436753142505, 0.9996423409490175, 0.9956383077322133, 0.9984657143151443, 0.998622399750965, 0.9003130830105118, 0.0462982405439735, 0.037539113954573114, 0.01564129748107213, 0.9997367963957106, 0.5514108839627618, 0.0029381562948865582, 0.09462889584220846, 0.032927613649590744, 0.02041512046274626, 0.0003546050700725157, 0.29629786497916344, 0.001063815210217547, 0.9986801324797766, 0.6327124680404549, 0.0199143164761279, 0.07402930690038849, 0.09524238314669865, 0.17728070862987771, 0.0008658398467881695, 0.9989206199296308, 0.1435692429039091, 0.5086453177167065, 0.1430959377075226, 0.011043787915685317, 0.15934608278345955, 0.0063107359518201804, 0.0279250065868043, 0.0006926935348444572, 0.9988640772457074, 0.19921245921176778, 0.06999356675008057, 0.7302213454215136, 0.9975335095648334, 0.8248671302921821, 0.12486710443520752, 0.0458948628884372, 0.004134672332291639, 0.9967313407134178, 0.9983556334228539, 0.9941235877924408, 0.9978951275512753, 0.9985226789471979, 0.18236427851946307, 0.0006779341208901973, 0.8162326815517975, 0.9652911964603693, 0.03380091323110414, 0.33546608903617486, 0.16783067725645653, 0.13600240454813492, 0.10231910981080072, 0.0826949293986147, 0.1278012545251318, 0.0197218131505551, 0.02811822865029638, 0.9979244678878566, 0.9976409434967343, 0.9969619650508798, 0.9968881401503297, 0.9997053932224974, 0.9979910458860112, 0.8619357480109955, 0.0004593724007875264, 0.05344032262494891, 0.015159289225988373, 0.004746848141471106, 0.06354651544227449, 0.0007656206679792107, 0.9995634524010389, 0.409767434224486, 0.0005456290735346019, 0.5898250284909047, 0.0236200778579718, 0.9751717858505501, 0.9994054433713717, 0.7513383614221477, 0.2467988468749126, 0.9983649599402598, 0.9994466898764823, 0.06792714895922673, 0.0017052840742902108, 0.15518085076040916, 0.07389564321924247, 0.6926295481742072, 0.008810634383832755, 0.9978648893621772, 0.9982209623680415, 0.7428072474472943, 0.00028275875426238837, 0.17375525449423768, 0.08313107375314219, 0.05063219098060548, 0.948509711036676, 0.9982567041409696, 0.00849268871458873, 0.9900048558720578, 0.9947350338734269, 0.999478004891317, 0.9946822814595548, 0.9988001396852976, 0.9982452578793115, 0.0033572379084213393, 0.9954210398469272, 0.9998742082877845, 0.5328766415280012, 0.015396114843505651, 0.003421358854112367, 0.4481980098887201, 0.9955702032488318, 0.003598446517766862, 0.03077424019255597, 0.15299193695727825, 0.815956997105484, 0.9961791108836974, 0.9984656640047298, 0.9958983944846445, 0.10070085870967084, 0.030531643332187434, 0.2086328961032808, 0.05972417950068244, 0.16899532405798484, 0.3690579343136341, 0.061331108097113354, 0.0013391071636924313, 0.9975323126771515, 0.9965830546376088, 0.9475629328920787, 0.035146993059795205, 0.0168705566687017, 0.19238080086730966, 0.102095157687998, 0.7049518257523891, 0.00038095208092536563, 0.9975752817831111, 0.9947661585472144, 0.42106386668564005, 0.21464656396189793, 0.26367924550590977, 0.10046556428248578, 0.9962029722463538, 0.7453826304137888, 0.21319632710162337, 0.041352042313296006, 0.22955646987379003, 0.7701249311894891, 0.9993287202153185, 0.9219492104264491, 0.07771532829681692, 0.999828242152195, 0.7331482531394649, 0.14244648140431146, 0.009569341361134168, 0.004921375557154715, 0.06343106273666077, 0.014217307165113621, 0.032125645998093276, 0.4734556722747308, 0.526420699732477, 0.99956991083453, 0.31036577889857614, 0.03862160855327039, 0.44623786407122906, 0.16094447367608744, 0.04381336576862805, 0.9992423722390581, 0.9980638893185961, 0.9988562106896937, 0.9740204327358688, 0.025887586252116113, 0.9962232439224397, 0.039823525913893563, 0.34818762673050835, 0.12420396037803887, 0.16977065722404702, 0.1625128038482978, 0.06961228063870777, 0.0574948210896308, 0.02840029581814913, 0.9959096938431575, 0.013510156350632706, 0.07683901424422351, 0.9095431301472832, 0.8873708384597924, 0.08054904085043876, 0.03195333851918232, 0.9990045076714104, 0.9990324764949385, 0.998029687312621, 0.00427149420726404, 0.9952581502925212, 0.9953476457229538, 0.9997812274187351, 0.9995599869519001, 0.9937913947880995, 0.002515927581742024, 0.023957630702265812, 0.01932066992118211, 0.13910882343251119, 0.8021942151274811, 0.014683709140098401, 0.3117455119401221, 0.688021435972806, 0.2062575662439878, 0.15085780671564397, 0.005966127949206259, 0.6366710825795822, 0.9441684535914796, 0.054880491371272246, 0.9979846531664938, 0.9981609088413151, 0.9637178662602751, 0.03588619081569793, 0.2566864040323168, 0.3903735892040968, 0.12948208367227448, 0.0853285179274664, 0.04467920343224627, 0.09338829580151867, 0.06450687418899909, 0.9346634323980506, 0.9989717132633212, 0.000784051050354001, 0.9988810381509974, 0.9984111212471274, 0.9834319656245744, 0.01634060313970492, 0.9948642321200294, 0.9989132088467662, 0.9980357981444421, 0.02941064698128421, 0.7981912797013645, 0.1395295810274879, 0.032146521119078085, 0.0023168439800057474, 0.9553120010890366, 0.04247547296677204, 0.9999018841359906, 0.4894797769375815, 0.464550637939545, 0.005354707660676108, 0.03486509654617999, 0.005711688171387848, 0.0787236898303888, 0.9209723231964762, 0.028799827456658312, 0.9695941910408298, 0.9998913092685208, 0.9995168652306243, 0.9966090074926207, 0.6234859068332365, 0.010864375807687456, 0.06657123193209055, 0.26616181865405414, 0.007878980755716681, 0.020036001843638906, 0.004985917509476963, 0.9992238089269823, 0.019486291674784866, 0.4540305960224874, 0.0879881016392209, 0.25377147542623674, 0.18467008725642273, 0.39613689776830974, 0.05805907193195829, 0.07321143954210761, 0.07741209590927772, 0.2821190820879782, 0.05730895472353506, 0.0050257852964356664, 0.0507079232894106, 0.9974799234495474, 0.09057958767391538, 0.9073043393411778, 0.001005641734682645, 0.0011493048396373085, 0.5061069464461865, 0.4930340732907499, 0.9990975364748003, 0.3354422005140239, 0.14693363338193738, 0.063961436538691, 0.4246328703540875, 0.02878264644241095, 0.38011650409885445, 0.5132688607205667, 0.0005950943312702222, 0.1054804702176469, 0.0004463207484526667, 0.9090817276937003, 0.05001853500046851, 0.03746244185220275, 0.0033963202778095904, 0.8855424645840289, 0.11344636051263056, 0.000734280650567188, 0.9976255186258454, 0.997378519635089, 0.9988379186072667, 0.35216638265323774, 0.6475465085457454, 0.9977096005899564, 0.9988508763182293, 0.09874852633157388, 0.703506582001958, 0.004600086630352821, 0.03434731350663439, 0.15885632496818408, 0.7458581691211138, 0.24462392192315388, 0.00945406461538759, 0.5784074885536238, 0.013615017683887414, 0.4078736229876441, 0.2574051290237849, 0.006668526658647277, 0.7355384904487946, 0.035923608913912185, 0.35045996318295436, 0.010297321121903166, 0.28762290133679524, 0.0012871651402378958, 0.127078303845305, 0.18266043490103231, 0.004680600509955985, 0.9994277138030068, 0.8905387425233083, 0.10912509755209031, 0.0002783803508981895, 0.9991521264710695, 0.9957892225415541, 0.9977703062594846, 0.19298332820787314, 0.8063002068959084, 0.42486802392992085, 0.003613335426760489, 0.5715092199992841, 0.998865661664176, 0.999860187550423, 0.9983314971692402, 0.9957851286181312, 0.99331935864311, 0.996520772303366, 0.9991206953545131, 0.9966328988728107, 0.9966656186052887, 0.9988076825268425, 0.9997315847922267, 0.05611329996126897, 0.0977571326369277, 0.8459344654538473, 0.9985541285242571, 0.99964881372016, 0.9998485762635292, 0.9968548702420398, 0.9999548964920832, 0.26481081529596395, 0.07444681411150685, 0.4419342757156228, 0.0009992860954564677, 0.21759454728564584, 0.42623017058832424, 0.5737615493702457, 0.0014389594664680927, 0.9971989102623883, 0.9997987891462766, 0.132427810196126, 0.39657180092928795, 0.001682033739667453, 0.021801745010305063, 0.30949420809881134, 0.019925630454522135, 0.0811257811362687, 0.03706943587805579, 0.2752341678182647, 0.04062191031052702, 0.683733072012391, 0.0002072546444414644, 0.03401501101724833, 0.29313459756225524, 0.3604522633450818, 0.3075598116585752, 0.004808404698773324, 0.993226056746531, 0.003980865958903932, 0.0006571924757011438, 0.8254337494806366, 0.17349881358510197, 0.9983732982646812, 0.9992787571247843, 0.9448110565782754, 0.022311614415109135, 0.012013946223520304, 0.020595336383177662, 0.9977193641035241, 0.9972328757066786, 0.086626930191463, 0.9120344725818181, 0.9987472832974038, 0.2179608160255814, 0.13369291610189246, 0.14862558056424333, 0.13902100295230874, 0.03841831044773837, 0.07922023869697876, 0.12107376303511709, 0.12191503990623545, 0.09185913615578457, 0.9078545794097671, 0.9980840588850226, 0.9981562477088376, 0.9994260014104649, 0.9990633930055912, 0.9973728501097427, 0.9967629693109505, 0.0024505543191418577, 0.9997228475244387, 0.999409938319449, 0.22951634582454603, 0.7642442922236397, 0.006250066905963431, 0.9982546368484734, 0.9984874012769743, 0.993536751673529, 0.004811315988733796, 0.9284535421609427, 0.07089734603016135, 0.002317242483664439, 0.9964142679757086, 0.9958980094597122, 0.99791185893044, 0.997083936720386, 0.9476697291868518, 0.042961939382328417, 0.009344506709153662, 0.6271194706564533, 0.2758195725896221, 0.09638430783242427, 0.0005649724960868949, 0.9978296045885758, 0.9976334574912687, 0.9967247359676202, 0.9989456931380092, 0.9970150183380131, 0.9994606431745224, 0.9994205491041315, 0.00038767282742596253, 0.30340068789394004, 0.2085385655717076, 0.18766889866081649, 0.026640446018826938, 0.003715433124287437, 0.2099614974065411, 0.06007934413741387, 0.2875520594391735, 0.7124001021880368, 0.0047578451017408, 0.01638813312821831, 0.05251251260439846, 0.18115054683664972, 0.4273249767304237, 0.230138729736055, 0.07894498539184736, 0.008987040747732622, 0.1631980572741567, 0.8358004551728487, 0.2316509245334629, 0.0034382326461367407, 0.7602791938769867, 0.0047275698884380185, 0.999226334368314, 0.9988233236235436, 0.6802079177862899, 0.15373454129190534, 0.11345788953823656, 0.05232368598356076, 0.9989061244820782, 0.9986628671411092, 0.9997643507764, 0.9958996873789402, 0.001963397660649753, 0.9974060116100747, 0.999649200258063, 0.9697177587823328, 0.030112842455129987, 0.9985360584937985, 0.0712206830212573, 0.23219893916519502, 0.696596817495585, 0.9974270304478374, 0.01982028012853603, 0.06619973562931035, 0.8106494572571238, 0.10346186227095809, 0.997109268888376, 0.0017408433883900243, 0.658812508984047, 0.07253514118291768, 0.1833688369104159, 0.0061896653809423085, 0.010445060330340145, 0.028820629430012623, 0.038105127501426084, 0.061961412134881357, 0.9377621413490698, 0.9975816051336382, 0.9994349613717766, 0.7366303047503006, 0.0014779407552254816, 0.2618418371341145, 0.1294125914434517, 0.6599185126586611, 0.051177354042916574, 0.04040317424440782, 0.11900571322898303, 0.9991423893224579, 0.4296861578052942, 0.4803070790889656, 0.013279774154937182, 0.04102266867663763, 0.03563186926720768, 0.9992134077211965, 0.9974973948820257, 0.9970966854316242, 0.0007313478372137832, 0.9990211456340279, 0.772186909724846, 0.2206851690585161, 0.0070745963286701335, 0.601139209257766, 0.17952033031747447, 0.06690940763912526, 0.15144227532605584, 0.0007467567816866658, 0.9970151923760145, 0.9995643679252211, 0.9992145408482297, 0.9985489709326166, 0.9998734859072926, 0.9974691891268136, 0.9117912149061005, 0.08705544262922568, 0.06400140527351876, 0.004241899402687697, 0.5169989700572445, 0.25442073560296097, 0.027269353302992336, 0.07723986055223642, 0.05584390642219627, 0.907460391062458, 0.03164522974726646, 0.02852527751866273, 0.03164522974726646, 0.9942449820513171, 0.1029071414807535, 0.16990038123668028, 0.004143911737480007, 0.7227672722121378, 0.9993274632805508, 0.9604105727156587, 0.03948215139619101, 0.9766487348922664, 0.02313473547585025, 0.3813464528272634, 0.18047456463173273, 0.12131039803732464, 0.09339827105528535, 0.0558242539640786, 0.11713550724941278, 0.012643954957675922, 0.037812582279087424, 0.9993603321492052, 0.22213525077687324, 0.7774733777190563, 0.9989597296196356, 0.9982319583214007, 0.9969374379422172, 0.9993850979022338, 0.9978945314965575, 0.0013182226307748447, 0.02691424010592001, 0.532970525409588, 0.012171407945989305, 0.19285681604560517, 0.14022833380027114, 0.08554271218378398, 0.006685702956247646, 0.0027428524948708293, 0.05798077756770683, 0.9416427033552388, 0.0030426389351180367, 0.021298472545826255, 0.9746586722161444, 0.9969279422092725, 0.05520372230987692, 0.24164648256398955, 0.0006249477997344557, 0.5078742452508677, 0.19456708165066053, 0.9984670774740718, 0.14363215739129725, 0.8539441925777672, 0.0015697503540032486, 0.226065027414177, 0.7732691591924186, 0.9982367665098415, 0.9979880364240576, 0.2558792996070701, 0.5683530795978216, 0.12793964980353506, 0.04786448075002841, 0.05764912404139658, 0.8910073475258888, 0.032108372883815815, 0.018973129431345707, 0.9989295619234506, 0.9986318683309744, 0.9968745012944964, 0.9986829526585531, 0.0986043243392465, 0.14934807019804, 0.6139224404279792, 0.07457792951974199, 0.004613067805344866, 0.050935957017349556, 0.007880657500797477, 0.9997661320764005, 0.3277996188451751, 0.6677657134693334, 0.003997556327380184, 0.00034761359368523344, 0.9991398362555908, 0.9752293131626706, 0.02430148884370685, 0.777367845413754, 0.11795261441078027, 0.01409627026350274, 0.03068011763232949, 0.05990914861988664, 0.1823788342556804, 0.7573898313412754, 0.06012926631573742, 0.6664402584813899, 0.11547699346075765, 0.03102190937709833, 0.09459913049594243, 0.0015334023646474458, 0.09106050965444833, 0.9967308210911435, 0.7605062002631026, 0.0009741753205761347, 0.238672953541153, 0.9978542076335357, 0.013580394637221063, 0.2828602197295473, 0.1649047920233986, 0.1261036644884813, 0.41245598569617115, 0.9986729789509506, 0.9987777129101988, 0.9921652953103853, 0.007125064957345675, 0.03378931368791337, 0.16982421295094122, 0.7354661005317247, 0.056169248727959885, 0.004388222556871866, 0.998928205088908, 0.00022410700713825982, 0.03899461924205721, 0.9381119318807556, 0.0017928560571060786, 0.020617844656719904, 0.9986751998799769, 0.45659051678969476, 0.4076320930779792, 0.034235419479569186, 0.10146455928659884, 0.9997527307335865, 0.9968721940241166, 0.9954998028434002, 0.004444195548408037, 0.04091643971279618, 0.9589935036640392, 0.9979183576706743, 0.9969965877465959, 0.9993080343740623, 0.9995717590461867, 0.999060045661597, 0.9966479109084339], \"Term\": [\"accord\", \"accord\", \"accord\", \"accord\", \"accord\", \"accord\", \"accord\", \"accord\", \"acquire\", \"acquire\", \"acquire\", \"aerial\", \"air\", \"air\", \"air\", \"angle\", \"angle\", \"angle\", \"angle\", \"angle\", \"angle\", \"angular\", \"angular\", \"apparatus\", \"apparatus\", \"area\", \"area\", \"area\", \"area\", \"arm\", \"arrange\", \"arrange\", \"arrange\", \"arrange\", \"arrange\", \"arrange\", \"arrive\", \"assembly\", \"assembly\", \"assembly\", \"assembly\", \"attitude\", \"avoidance\", \"avoidance\", \"avoidance\", \"axis\", \"axis\", \"axis\", \"axis\", \"baffle\", \"bag\", \"bag\", \"balance\", \"barrel\", \"base\", \"base\", \"base\", \"base\", \"base\", \"base\", \"base\", \"base\", \"battery\", \"battery\", \"battery\", \"bed\", \"bevel\", \"bin\", \"bin\", \"bin\", \"binocular\", \"bionic\", \"blade\", \"block\", \"block\", \"body\", \"body\", \"body\", \"body\", \"body\", \"body\", \"bolt\", \"boundary\", \"box\", \"box\", \"box\", \"brake\", \"brake\", \"brush\", \"buffer\", \"buffer\", \"business\", \"butt\", \"butt\", \"butt\", \"butt\", \"cabin\", \"cabinet\", \"calculate\", \"calculate\", \"calibrate\", \"calibration\", \"camera\", \"camera\", \"camera\", \"camera\", \"candidate\", \"car\", \"card\", \"cavity\", \"cavity\", \"cavity\", \"chain\", \"chain\", \"chain\", \"channel\", \"channel\", \"channel\", \"charge\", \"charging\", \"chassis\", \"chassis\", \"chassis\", \"chat\", \"circuit\", \"circuit\", \"circular\", \"clamp\", \"clamp\", \"clean\", \"cleaning\", \"client\", \"climb\", \"climbing\", \"cloth\", \"cloud\", \"cloud\", \"cloud\", \"coal\", \"coefficient\", \"collect\", \"collect\", \"collect\", \"collect\", \"collect\", \"collection\", \"collection\", \"collection\", \"collection\", \"column\", \"command\", \"communicate\", \"communicate\", \"communicate\", \"communicate\", \"communication\", \"communication\", \"compensation\", \"compensation\", \"component\", \"component\", \"component\", \"component\", \"component\", \"component\", \"component\", \"connect\", \"connect\", \"connect\", \"connect\", \"connect\", \"connect\", \"console\", \"construction\", \"control\", \"control\", \"control\", \"control\", \"control\", \"control\", \"control\", \"control\", \"controller\", \"controller\", \"controller\", \"controller\", \"controller\", \"controller\", \"controller\", \"conveying\", \"conveying\", \"conveying\", \"cool\", \"coordinate\", \"coordinate\", \"correction\", \"correction\", \"correspond\", \"correspond\", \"correspond\", \"correspond\", \"correspond\", \"correspond\", \"correspond\", \"crawl\", \"crawler\", \"cross\", \"cross\", \"cross\", \"crossing\", \"cup\", \"cup\", \"current\", \"current\", \"current\", \"curtain\", \"cutting\", \"cylinder\", \"datum\", \"datum\", \"datum\", \"defect\", \"degree\", \"degree\", \"degree\", \"degree\", \"degree\", \"degree\", \"depth\", \"depth\", \"detect\", \"detect\", \"detect\", \"detect\", \"detect\", \"detect\", \"detect\", \"detection\", \"detection\", \"detection\", \"detection\", \"detection\", \"detector\", \"determination\", \"determine\", \"determine\", \"determine\", \"determined\", \"deviation\", \"device\", \"device\", \"device\", \"device\", \"device\", \"device\", \"device\", \"device\", \"diagnosis\", \"dialogue\", \"dimensional\", \"dimensional\", \"direction\", \"direction\", \"direction\", \"direction\", \"direction\", \"direction\", \"disclose\", \"disclose\", \"disclose\", \"disclose\", \"disclose\", \"disclose\", \"disclose\", \"disclose\", \"disinfection\", \"display\", \"display\", \"dissipation\", \"dissipation\", \"dog\", \"door\", \"door\", \"drainage\", \"drill\", \"drilling\", \"drive\", \"drive\", \"drive\", \"drive\", \"drive\", \"drive\", \"drive\", \"driving\", \"driving\", \"driving\", \"driving\", \"dust\", \"early\", \"education\", \"effector\", \"electronic\", \"electronic\", \"electronic\", \"electronic\", \"elevator\", \"end\", \"end\", \"end\", \"end\", \"end\", \"end\", \"end\", \"end\", \"engine\", \"environment\", \"environment\", \"environment\", \"environment\", \"environment\", \"environment\", \"equation\", \"equipment\", \"equipment\", \"equipment\", \"equipment\", \"equipment\", \"equipment\", \"equipment\", \"error\", \"error\", \"establish\", \"establish\", \"establish\", \"estimation\", \"execute\", \"execute\", \"execute\", \"execute\", \"exoskeleton\", \"explosion\", \"extinguish\", \"extinguishing\", \"fan\", \"feature\", \"feature\", \"feature\", \"feeding\", \"feeding\", \"field\", \"field\", \"field\", \"field\", \"field\", \"field\", \"field\", \"field\", \"fight\", \"fighting\", \"file\", \"finger\", \"fire\", \"fish\", \"fix\", \"fix\", \"fix\", \"fix\", \"fix\", \"fix\", \"fix\", \"fixing\", \"flexible\", \"flexible\", \"flexible\", \"float\", \"float\", \"floor\", \"flow\", \"flow\", \"fold\", \"foot\", \"force\", \"force\", \"force\", \"force\", \"force\", \"force\", \"fork\", \"formation\", \"frame\", \"frame\", \"frame\", \"frame\", \"freedom\", \"freedom\", \"garbage\", \"gas\", \"gas\", \"glue\", \"grab\", \"grabbing\", \"grid\", \"grip\", \"gripper\", \"gripper\", \"groove\", \"ground\", \"ground\", \"ground\", \"ground\", \"gun\", \"gun\", \"hand\", \"hand\", \"hand\", \"health\", \"heat\", \"heating\", \"high\", \"high\", \"high\", \"high\", \"high\", \"high\", \"high\", \"high\", \"historical\", \"hold\", \"hole\", \"hole\", \"hole\", \"image\", \"image\", \"image\", \"image\", \"imitate\", \"index\", \"industrial\", \"industrial\", \"industrial\", \"industrial\", \"inertial\", \"information\", \"information\", \"information\", \"infrared\", \"infrared\", \"inlet\", \"inner\", \"inner\", \"inspection\", \"instal\", \"instal\", \"instal\", \"instal\", \"instal\", \"instal\", \"instal\", \"instruction\", \"instruction\", \"instrument\", \"intelligent\", \"intelligent\", \"intelligent\", \"intelligent\", \"intelligent\", \"interaction\", \"interactive\", \"interface\", \"internet\", \"internet\", \"interventional\", \"invention\", \"invention\", \"invention\", \"invention\", \"invention\", \"invention\", \"invention\", \"invention\", \"inverse\", \"joint\", \"joint\", \"joint\", \"judge\", \"judge\", \"judge\", \"kinematic\", \"kinematics\", \"kinetic\", \"lamp\", \"lamp\", \"language\", \"laser\", \"leg\", \"legged\", \"legged\", \"light\", \"light\", \"light\", \"light\", \"light\", \"liquid\", \"liquid\", \"load\", \"load\", \"load\", \"load\", \"local\", \"local\", \"locking\", \"magnet\", \"magnetic\", \"magnetic\", \"main\", \"main\", \"main\", \"main\", \"main\", \"main\", \"maintenance\", \"maintenance\", \"man\", \"management\", \"management\", \"manipulator\", \"map\", \"map\", \"marker\", \"matrix\", \"meal\", \"measure\", \"measure\", \"measure\", \"measure\", \"measurement\", \"measurement\", \"measurement\", \"mechanical\", \"mechanism\", \"mechanism\", \"mechanism\", \"mechanism\", \"mechanism\", \"medical\", \"medical\", \"medicine\", \"medicine\", \"medium\", \"member\", \"message\", \"method\", \"method\", \"method\", \"method\", \"method\", \"method\", \"method\", \"micro\", \"mobile\", \"mobile\", \"mobile\", \"mobile\", \"mobile\", \"model\", \"model\", \"model\", \"model\", \"model\", \"model\", \"model\", \"model\", \"modeling\", \"module\", \"module\", \"module\", \"module\", \"monitoring\", \"monitoring\", \"mop\", \"motion\", \"motion\", \"motion\", \"motion\", \"motion\", \"motor\", \"motor\", \"motor\", \"motor\", \"motor\", \"mount\", \"mount\", \"mount\", \"mount\", \"movable\", \"movable\", \"movable\", \"nano\", \"needle\", \"negative\", \"network\", \"network\", \"neural\", \"node\", \"object\", \"object\", \"object\", \"object\", \"object\", \"obstacle\", \"obstacle\", \"obstacle\", \"obtain\", \"obtain\", \"obtain\", \"opening\", \"opening\", \"opening\", \"operation\", \"operation\", \"operation\", \"operation\", \"operation\", \"operation\", \"operation\", \"operation\", \"optimal\", \"outer\", \"outer\", \"outer\", \"outlet\", \"pad\", \"paint\", \"panel\", \"panel\", \"parameter\", \"parameter\", \"parameter\", \"parking\", \"path\", \"patrol\", \"pedestrian\", \"personal\", \"pet\", \"photovoltaic\", \"physical\", \"picking\", \"pile\", \"pipe\", \"pipeline\", \"pipeline\", \"pipeline\", \"placing\", \"plan\", \"planning\", \"plant\", \"plate\", \"platform\", \"platform\", \"platform\", \"platform\", \"platform\", \"point\", \"point\", \"pool\", \"pool\", \"pose\", \"position\", \"position\", \"position\", \"position\", \"position\", \"position\", \"position\", \"position\", \"positioning\", \"positioning\", \"positioning\", \"positioning\", \"power\", \"power\", \"power\", \"power\", \"power\", \"practical\", \"practical\", \"precision\", \"precision\", \"precision\", \"predict\", \"prediction\", \"preset\", \"preset\", \"preset\", \"preset\", \"projection\", \"prompt\", \"propeller\", \"propeller\", \"protective\", \"provide\", \"provide\", \"provide\", \"provide\", \"provide\", \"provide\", \"provide\", \"provide\", \"pump\", \"pump\", \"puncture\", \"purification\", \"push\", \"quadrupe\", \"queue\", \"radar\", \"radar\", \"rail\", \"readable\", \"receive\", \"receive\", \"receive\", \"region\", \"rehabilitation\", \"reinforcement\", \"reinforcement\", \"remote\", \"remote\", \"removal\", \"removal\", \"represent\", \"rescue\", \"reset\", \"rod\", \"rod\", \"rod\", \"rotate\", \"rotate\", \"rotate\", \"rotate\", \"rotor\", \"rpa\", \"scanning\", \"scheduling\", \"scrape\", \"screw\", \"seat\", \"seat\", \"second\", \"second\", \"second\", \"second\", \"second\", \"second\", \"second\", \"send\", \"send\", \"sensor\", \"sensor\", \"sensor\", \"sensor\", \"sensor\", \"sensor\", \"sensor\", \"sensor\", \"server\", \"server\", \"service\", \"service\", \"service\", \"service\", \"sewage\", \"shank\", \"shell\", \"shell\", \"shell\", \"shell\", \"ship\", \"shooting\", \"signal\", \"skill\", \"slave\", \"slave\", \"sleeve\", \"slide\", \"slide\", \"soft\", \"source\", \"source\", \"source\", \"spherical\", \"spray\", \"spray\", \"spray\", \"spray\", \"stabilize\", \"state\", \"state\", \"state\", \"state\", \"state\", \"state\", \"state\", \"state\", \"station\", \"station\", \"steer\", \"steering\", \"step\", \"step\", \"step\", \"storage\", \"storage\", \"storage\", \"storage\", \"storage\", \"strategy\", \"structure\", \"structure\", \"structure\", \"structure\", \"structure\", \"sub\", \"substation\", \"subsystem\", \"suction\", \"suction\", \"support\", \"support\", \"support\", \"surface\", \"surface\", \"surface\", \"surface\", \"surface\", \"surgery\", \"surgical\", \"suspension\", \"sweep\", \"sweeping\", \"swimming\", \"swing\", \"swing\", \"system\", \"system\", \"system\", \"system\", \"system\", \"system\", \"system\", \"table\", \"table\", \"table\", \"table\", \"tag\", \"tail\", \"tail\", \"tail\", \"tail\", \"tank\", \"target\", \"target\", \"task\", \"task\", \"technical\", \"technical\", \"technical\", \"technical\", \"technical\", \"technical\", \"technical\", \"technical\", \"temperature\", \"terminal\", \"terminal\", \"test\", \"testing\", \"thigh\", \"thread\", \"threshold\", \"threshold\", \"time\", \"time\", \"time\", \"time\", \"time\", \"time\", \"time\", \"time\", \"tool\", \"tool\", \"torque\", \"torque\", \"torque\", \"tower\", \"track\", \"track\", \"track\", \"track\", \"track\", \"tracking\", \"training\", \"training\", \"training\", \"trajectory\", \"trajectory\", \"transformation\", \"transformer\", \"transmission\", \"transmission\", \"transmission\", \"transmission\", \"transmit\", \"transmit\", \"transmit\", \"transmit\", \"tray\", \"trunk\", \"truss\", \"tunnel\", \"type\", \"type\", \"type\", \"type\", \"type\", \"type\", \"type\", \"underwater\", \"unit\", \"unit\", \"unit\", \"unit\", \"unmanned\", \"update\", \"update\", \"upper\", \"upper\", \"upper\", \"upper\", \"upper\", \"user\", \"user\", \"user\", \"utility\", \"utility\", \"utility\", \"utility\", \"utility\", \"utility\", \"vacuum\", \"value\", \"value\", \"value\", \"vector\", \"vehicle\", \"vehicle\", \"vehicle\", \"vehicle\", \"vehicle\", \"velocity\", \"video\", \"vision\", \"vision\", \"visual\", \"visual\", \"visual\", \"visual\", \"visual\", \"voice\", \"walk\", \"walk\", \"walk\", \"walk\", \"walk\", \"walking\", \"wall\", \"wall\", \"wall\", \"wall\", \"water\", \"waterproof\", \"welding\", \"welding\", \"wheel\", \"wheel\", \"wheeled\", \"wing\", \"wire\", \"wireless\", \"workbench\", \"wrist\"]}, \"R\": 30, \"lambda.step\": 0.01, \"plot.opts\": {\"xlab\": \"PC1\", \"ylab\": \"PC2\"}, \"topic.order\": [1, 6, 5, 7, 4, 8, 3, 2]};\n",
       "\n",
       "function LDAvis_load_lib(url, callback){\n",
       "  var s = document.createElement('script');\n",
       "  s.src = url;\n",
       "  s.async = true;\n",
       "  s.onreadystatechange = s.onload = callback;\n",
       "  s.onerror = function(){console.warn(\"failed to load library \" + url);};\n",
       "  document.getElementsByTagName(\"head\")[0].appendChild(s);\n",
       "}\n",
       "\n",
       "if(typeof(LDAvis) !== \"undefined\"){\n",
       "   // already loaded: just create the visualization\n",
       "   !function(LDAvis){\n",
       "       new LDAvis(\"#\" + \"ldavis_el308521393860856960777415345\", ldavis_el308521393860856960777415345_data);\n",
       "   }(LDAvis);\n",
       "}else if(typeof define === \"function\" && define.amd){\n",
       "   // require.js is available: use it to load d3/LDAvis\n",
       "   require.config({paths: {d3: \"https://d3js.org/d3.v5\"}});\n",
       "   require([\"d3\"], function(d3){\n",
       "      window.d3 = d3;\n",
       "      LDAvis_load_lib(\"https://cdn.jsdelivr.net/gh/bmabey/pyLDAvis@3.4.0/pyLDAvis/js/ldavis.v3.0.0.js\", function(){\n",
       "        new LDAvis(\"#\" + \"ldavis_el308521393860856960777415345\", ldavis_el308521393860856960777415345_data);\n",
       "      });\n",
       "    });\n",
       "}else{\n",
       "    // require.js not available: dynamically load d3 & LDAvis\n",
       "    LDAvis_load_lib(\"https://d3js.org/d3.v5.js\", function(){\n",
       "         LDAvis_load_lib(\"https://cdn.jsdelivr.net/gh/bmabey/pyLDAvis@3.4.0/pyLDAvis/js/ldavis.v3.0.0.js\", function(){\n",
       "                 new LDAvis(\"#\" + \"ldavis_el308521393860856960777415345\", ldavis_el308521393860856960777415345_data);\n",
       "            })\n",
       "         });\n",
       "}\n",
       "</script>"
      ]
     },
     "execution_count": 20,
     "metadata": {},
     "output_type": "execute_result"
    }
   ],
   "execution_count": 20
  }
 ],
 "metadata": {
  "kernelspec": {
   "display_name": "ml_angew_programm",
   "language": "python",
   "name": "python3"
  },
  "language_info": {
   "codemirror_mode": {
    "name": "ipython",
    "version": 3
   },
   "file_extension": ".py",
   "mimetype": "text/x-python",
   "name": "python",
   "nbconvert_exporter": "python",
   "pygments_lexer": "ipython3",
   "version": "3.8.19"
  }
 },
 "nbformat": 4,
 "nbformat_minor": 2
}
