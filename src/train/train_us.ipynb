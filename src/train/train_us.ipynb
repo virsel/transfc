{
 "cells": [
  {
   "cell_type": "code",
   "metadata": {
    "ExecuteTime": {
     "end_time": "2024-05-18T14:41:10.120524Z",
     "start_time": "2024-05-18T14:41:10.101961Z"
    }
   },
   "source": [
    "from utils import keys_to_counts, get_keys"
   ],
   "outputs": [],
   "execution_count": 1
  },
  {
   "cell_type": "code",
   "metadata": {
    "ExecuteTime": {
     "end_time": "2024-05-18T14:41:10.167404Z",
     "start_time": "2024-05-18T14:41:10.120524Z"
    }
   },
   "source": [
    "import pandas as pd\n",
    "\n",
    "data_path = \"D:\\\\studium\\\\analyse\\\\data_prep\\\\src\\\\_2_preproc_pipeline_en\\\\data_preprocessed\\\\2_tokenize_us.csv\"\n",
    "df = pd.read_csv(data_path)"
   ],
   "outputs": [],
   "execution_count": 2
  },
  {
   "cell_type": "code",
   "metadata": {
    "ExecuteTime": {
     "end_time": "2024-05-18T14:41:10.183029Z",
     "start_time": "2024-05-18T14:41:10.167404Z"
    }
   },
   "source": [
    "df.head()"
   ],
   "outputs": [
    {
     "data": {
      "text/plain": [
       "                 id  pub_year  \\\n",
       "0  US020240139944A1      2024   \n",
       "1  US020240139768A1      2024   \n",
       "2  US020240139853A1      2024   \n",
       "3  US020240139933A1      2024   \n",
       "4  US020240139934A1      2024   \n",
       "\n",
       "                                       text_preproc2  \n",
       "0  arm operating system include control device pl...  \n",
       "1  coating device corresponding coating process d...  \n",
       "2  tip separation apparatus welding gun disclose ...  \n",
       "3  device method controlled motion tool present i...  \n",
       "4  teaching method program store medium execute t...  "
      ],
      "text/html": [
       "<div>\n",
       "<style scoped>\n",
       "    .dataframe tbody tr th:only-of-type {\n",
       "        vertical-align: middle;\n",
       "    }\n",
       "\n",
       "    .dataframe tbody tr th {\n",
       "        vertical-align: top;\n",
       "    }\n",
       "\n",
       "    .dataframe thead th {\n",
       "        text-align: right;\n",
       "    }\n",
       "</style>\n",
       "<table border=\"1\" class=\"dataframe\">\n",
       "  <thead>\n",
       "    <tr style=\"text-align: right;\">\n",
       "      <th></th>\n",
       "      <th>id</th>\n",
       "      <th>pub_year</th>\n",
       "      <th>text_preproc2</th>\n",
       "    </tr>\n",
       "  </thead>\n",
       "  <tbody>\n",
       "    <tr>\n",
       "      <th>0</th>\n",
       "      <td>US020240139944A1</td>\n",
       "      <td>2024</td>\n",
       "      <td>arm operating system include control device pl...</td>\n",
       "    </tr>\n",
       "    <tr>\n",
       "      <th>1</th>\n",
       "      <td>US020240139768A1</td>\n",
       "      <td>2024</td>\n",
       "      <td>coating device corresponding coating process d...</td>\n",
       "    </tr>\n",
       "    <tr>\n",
       "      <th>2</th>\n",
       "      <td>US020240139853A1</td>\n",
       "      <td>2024</td>\n",
       "      <td>tip separation apparatus welding gun disclose ...</td>\n",
       "    </tr>\n",
       "    <tr>\n",
       "      <th>3</th>\n",
       "      <td>US020240139933A1</td>\n",
       "      <td>2024</td>\n",
       "      <td>device method controlled motion tool present i...</td>\n",
       "    </tr>\n",
       "    <tr>\n",
       "      <th>4</th>\n",
       "      <td>US020240139934A1</td>\n",
       "      <td>2024</td>\n",
       "      <td>teaching method program store medium execute t...</td>\n",
       "    </tr>\n",
       "  </tbody>\n",
       "</table>\n",
       "</div>"
      ]
     },
     "execution_count": 3,
     "metadata": {},
     "output_type": "execute_result"
    }
   ],
   "execution_count": 3
  },
  {
   "cell_type": "code",
   "metadata": {
    "ExecuteTime": {
     "end_time": "2024-05-18T14:41:10.451987Z",
     "start_time": "2024-05-18T14:41:10.183029Z"
    }
   },
   "source": [
    "# vectorize the text data with tf-idf\n",
    "from sklearn.feature_extraction.text import CountVectorizer\n",
    "\n",
    "vectorizer = CountVectorizer(min_df=20, max_df=0.9)\n",
    "\n",
    "x_vec = vectorizer.fit_transform(df['text_preproc2'])"
   ],
   "outputs": [],
   "execution_count": 4
  },
  {
   "cell_type": "code",
   "metadata": {
    "ExecuteTime": {
     "end_time": "2024-05-18T14:41:10.467612Z",
     "start_time": "2024-05-18T14:41:10.451987Z"
    }
   },
   "source": [
    "vectorizer.get_feature_names_out().__len__()"
   ],
   "outputs": [
    {
     "data": {
      "text/plain": [
       "1736"
      ]
     },
     "execution_count": 5,
     "metadata": {},
     "output_type": "execute_result"
    }
   ],
   "execution_count": 5
  },
  {
   "cell_type": "code",
   "metadata": {
    "ExecuteTime": {
     "end_time": "2024-05-18T14:41:37.402249Z",
     "start_time": "2024-05-18T14:41:10.467612Z"
    }
   },
   "source": [
    "# Define Search Param\n",
    "from sklearn.decomposition import LatentDirichletAllocation\n",
    "from sklearn.model_selection import GridSearchCV\n",
    "\n",
    "\n",
    "search_params = {\n",
    "    'n_components': [8],\n",
    "    'learning_decay': [0.6]\n",
    "}\n",
    "# Init the Model\n",
    "lda = LatentDirichletAllocation(max_iter=5, learning_method='online', learning_offset=50., random_state=0)\n",
    "# Init Grid Search Class\n",
    "model = GridSearchCV(lda, param_grid=search_params)\n",
    "# Do the Grid Search\n",
    "model.fit(x_vec)"
   ],
   "outputs": [
    {
     "data": {
      "text/plain": [
       "GridSearchCV(estimator=LatentDirichletAllocation(learning_method='online',\n",
       "                                                 learning_offset=50.0,\n",
       "                                                 max_iter=5, random_state=0),\n",
       "             param_grid={'learning_decay': [0.6], 'n_components': [8]})"
      ],
      "text/html": [
       "<style>#sk-container-id-1 {color: black;}#sk-container-id-1 pre{padding: 0;}#sk-container-id-1 div.sk-toggleable {background-color: white;}#sk-container-id-1 label.sk-toggleable__label {cursor: pointer;display: block;width: 100%;margin-bottom: 0;padding: 0.3em;box-sizing: border-box;text-align: center;}#sk-container-id-1 label.sk-toggleable__label-arrow:before {content: \"▸\";float: left;margin-right: 0.25em;color: #696969;}#sk-container-id-1 label.sk-toggleable__label-arrow:hover:before {color: black;}#sk-container-id-1 div.sk-estimator:hover label.sk-toggleable__label-arrow:before {color: black;}#sk-container-id-1 div.sk-toggleable__content {max-height: 0;max-width: 0;overflow: hidden;text-align: left;background-color: #f0f8ff;}#sk-container-id-1 div.sk-toggleable__content pre {margin: 0.2em;color: black;border-radius: 0.25em;background-color: #f0f8ff;}#sk-container-id-1 input.sk-toggleable__control:checked~div.sk-toggleable__content {max-height: 200px;max-width: 100%;overflow: auto;}#sk-container-id-1 input.sk-toggleable__control:checked~label.sk-toggleable__label-arrow:before {content: \"▾\";}#sk-container-id-1 div.sk-estimator input.sk-toggleable__control:checked~label.sk-toggleable__label {background-color: #d4ebff;}#sk-container-id-1 div.sk-label input.sk-toggleable__control:checked~label.sk-toggleable__label {background-color: #d4ebff;}#sk-container-id-1 input.sk-hidden--visually {border: 0;clip: rect(1px 1px 1px 1px);clip: rect(1px, 1px, 1px, 1px);height: 1px;margin: -1px;overflow: hidden;padding: 0;position: absolute;width: 1px;}#sk-container-id-1 div.sk-estimator {font-family: monospace;background-color: #f0f8ff;border: 1px dotted black;border-radius: 0.25em;box-sizing: border-box;margin-bottom: 0.5em;}#sk-container-id-1 div.sk-estimator:hover {background-color: #d4ebff;}#sk-container-id-1 div.sk-parallel-item::after {content: \"\";width: 100%;border-bottom: 1px solid gray;flex-grow: 1;}#sk-container-id-1 div.sk-label:hover label.sk-toggleable__label {background-color: #d4ebff;}#sk-container-id-1 div.sk-serial::before {content: \"\";position: absolute;border-left: 1px solid gray;box-sizing: border-box;top: 0;bottom: 0;left: 50%;z-index: 0;}#sk-container-id-1 div.sk-serial {display: flex;flex-direction: column;align-items: center;background-color: white;padding-right: 0.2em;padding-left: 0.2em;position: relative;}#sk-container-id-1 div.sk-item {position: relative;z-index: 1;}#sk-container-id-1 div.sk-parallel {display: flex;align-items: stretch;justify-content: center;background-color: white;position: relative;}#sk-container-id-1 div.sk-item::before, #sk-container-id-1 div.sk-parallel-item::before {content: \"\";position: absolute;border-left: 1px solid gray;box-sizing: border-box;top: 0;bottom: 0;left: 50%;z-index: -1;}#sk-container-id-1 div.sk-parallel-item {display: flex;flex-direction: column;z-index: 1;position: relative;background-color: white;}#sk-container-id-1 div.sk-parallel-item:first-child::after {align-self: flex-end;width: 50%;}#sk-container-id-1 div.sk-parallel-item:last-child::after {align-self: flex-start;width: 50%;}#sk-container-id-1 div.sk-parallel-item:only-child::after {width: 0;}#sk-container-id-1 div.sk-dashed-wrapped {border: 1px dashed gray;margin: 0 0.4em 0.5em 0.4em;box-sizing: border-box;padding-bottom: 0.4em;background-color: white;}#sk-container-id-1 div.sk-label label {font-family: monospace;font-weight: bold;display: inline-block;line-height: 1.2em;}#sk-container-id-1 div.sk-label-container {text-align: center;}#sk-container-id-1 div.sk-container {/* jupyter's `normalize.less` sets `[hidden] { display: none; }` but bootstrap.min.css set `[hidden] { display: none !important; }` so we also need the `!important` here to be able to override the default hidden behavior on the sphinx rendered scikit-learn.org. See: https://github.com/scikit-learn/scikit-learn/issues/21755 */display: inline-block !important;position: relative;}#sk-container-id-1 div.sk-text-repr-fallback {display: none;}</style><div id=\"sk-container-id-1\" class=\"sk-top-container\"><div class=\"sk-text-repr-fallback\"><pre>GridSearchCV(estimator=LatentDirichletAllocation(learning_method=&#x27;online&#x27;,\n",
       "                                                 learning_offset=50.0,\n",
       "                                                 max_iter=5, random_state=0),\n",
       "             param_grid={&#x27;learning_decay&#x27;: [0.6], &#x27;n_components&#x27;: [8]})</pre><b>In a Jupyter environment, please rerun this cell to show the HTML representation or trust the notebook. <br />On GitHub, the HTML representation is unable to render, please try loading this page with nbviewer.org.</b></div><div class=\"sk-container\" hidden><div class=\"sk-item sk-dashed-wrapped\"><div class=\"sk-label-container\"><div class=\"sk-label sk-toggleable\"><input class=\"sk-toggleable__control sk-hidden--visually\" id=\"sk-estimator-id-1\" type=\"checkbox\" ><label for=\"sk-estimator-id-1\" class=\"sk-toggleable__label sk-toggleable__label-arrow\">GridSearchCV</label><div class=\"sk-toggleable__content\"><pre>GridSearchCV(estimator=LatentDirichletAllocation(learning_method=&#x27;online&#x27;,\n",
       "                                                 learning_offset=50.0,\n",
       "                                                 max_iter=5, random_state=0),\n",
       "             param_grid={&#x27;learning_decay&#x27;: [0.6], &#x27;n_components&#x27;: [8]})</pre></div></div></div><div class=\"sk-parallel\"><div class=\"sk-parallel-item\"><div class=\"sk-item\"><div class=\"sk-label-container\"><div class=\"sk-label sk-toggleable\"><input class=\"sk-toggleable__control sk-hidden--visually\" id=\"sk-estimator-id-2\" type=\"checkbox\" ><label for=\"sk-estimator-id-2\" class=\"sk-toggleable__label sk-toggleable__label-arrow\">estimator: LatentDirichletAllocation</label><div class=\"sk-toggleable__content\"><pre>LatentDirichletAllocation(learning_method=&#x27;online&#x27;, learning_offset=50.0,\n",
       "                          max_iter=5, random_state=0)</pre></div></div></div><div class=\"sk-serial\"><div class=\"sk-item\"><div class=\"sk-estimator sk-toggleable\"><input class=\"sk-toggleable__control sk-hidden--visually\" id=\"sk-estimator-id-3\" type=\"checkbox\" ><label for=\"sk-estimator-id-3\" class=\"sk-toggleable__label sk-toggleable__label-arrow\">LatentDirichletAllocation</label><div class=\"sk-toggleable__content\"><pre>LatentDirichletAllocation(learning_method=&#x27;online&#x27;, learning_offset=50.0,\n",
       "                          max_iter=5, random_state=0)</pre></div></div></div></div></div></div></div></div></div></div>"
      ]
     },
     "execution_count": 6,
     "metadata": {},
     "output_type": "execute_result"
    }
   ],
   "execution_count": 6
  },
  {
   "cell_type": "code",
   "metadata": {
    "ExecuteTime": {
     "end_time": "2024-05-18T14:41:38.240854Z",
     "start_time": "2024-05-18T14:41:37.402249Z"
    }
   },
   "source": [
    "# Best Model\n",
    "best_lda_model = model.best_estimator_\n",
    "# Model Parameters\n",
    "print(\"Best Model's Params: \", model.best_params_)\n",
    "# Log Likelihood Score\n",
    "print(\"Best Log Likelihood Score: \", model.best_score_)\n",
    "# Perplexity\n",
    "print(\"Model Perplexity: \", best_lda_model.perplexity(x_vec))"
   ],
   "outputs": [
    {
     "name": "stdout",
     "output_type": "stream",
     "text": [
      "Best Model's Params:  {'learning_decay': 0.6, 'n_components': 8}\n",
      "Best Log Likelihood Score:  -692924.5308594698\n",
      "Model Perplexity:  465.4696900440025\n"
     ]
    }
   ],
   "execution_count": 7
  },
  {
   "cell_type": "markdown",
   "metadata": {},
   "source": [
    "#### 1\n",
    "```\n",
    "Best Model's Params:  {'learning_decay': 0.7, 'n_components': 4}\n",
    "Best Log Likelihood Score:  -744378.7146935398\n",
    "Model Perplexity:  579.4436712246056\n",
    "```\n",
    "#### 2\n",
    "```\n",
    "Best Model's Params:  {'learning_decay': 0.6, 'n_components': 8}\n",
    "Best Log Likelihood Score:  -692924.5308594698\n",
    "Model Perplexity:  465.4696900440025\n",
    "\n",
    "vectorizer = CountVectorizer(min_df=20, max_df=0.9)\n",
    "```\n",
    "\n"
   ]
  },
  {
   "cell_type": "code",
   "metadata": {
    "ExecuteTime": {
     "end_time": "2024-05-18T14:41:38.931667Z",
     "start_time": "2024-05-18T14:41:38.240854Z"
    }
   },
   "source": [
    "lda_output = best_lda_model.transform(x_vec)"
   ],
   "outputs": [],
   "execution_count": 8
  },
  {
   "cell_type": "code",
   "metadata": {
    "ExecuteTime": {
     "end_time": "2024-05-18T14:41:38.998991Z",
     "start_time": "2024-05-18T14:41:38.931667Z"
    }
   },
   "source": [
    "import seaborn as sns\n",
    "import matplotlib.pyplot as plt\n",
    "\n",
    "lda_keys = get_keys(lda_output)\n",
    "lda_categories, lda_counts = keys_to_counts(lda_keys)\n",
    "\n",
    "topics_df_lda = pd.DataFrame({'topic' : lda_categories, 'count' : lda_counts})\n",
    "sns.barplot(x=topics_df_lda['topic'], y = topics_df_lda['count'])\n",
    "plt.show()"
   ],
   "outputs": [
    {
     "data": {
      "text/plain": [
       "<Figure size 640x480 with 1 Axes>"
      ],
      "image/png": "[encoded data removed]"
     },
     "metadata": {},
     "output_type": "display_data"
    }
   ],
   "execution_count": 9
  },
  {
   "cell_type": "code",
   "metadata": {
    "ExecuteTime": {
     "end_time": "2024-05-18T14:41:39.014617Z",
     "start_time": "2024-05-18T14:41:38.998991Z"
    }
   },
   "source": [
    "import numpy as np\n",
    "\n",
    "# Show top n keywords for each topic\n",
    "def show_topics(vectorizer, lda_model, n_words=10):\n",
    "    keywords = np.array(vectorizer.get_feature_names_out())\n",
    "    topic_keywords = []\n",
    "    for topic_weights in lda_model.components_:\n",
    "        top_keyword_locs = (-topic_weights).argsort()[:n_words]\n",
    "        topic_keywords.append(keywords.take(top_keyword_locs))\n",
    "    return topic_keywords\n",
    "topic_keywords = show_topics(vectorizer=vectorizer, lda_model=best_lda_model, n_words=15)\n",
    "# Topic - Keywords Dataframe\n",
    "df_topic_keywords = pd.DataFrame(topic_keywords)\n",
    "df_topic_keywords.columns = ['Word '+str(i) for i in range(df_topic_keywords.shape[1])]\n",
    "df_topic_keywords.index = ['Topic '+str(i) for i in range(df_topic_keywords.shape[0])]\n",
    "df_topic_keywords"
   ],
   "outputs": [
    {
     "data": {
      "text/plain": [
       "          Word 0     Word 1    Word 2   Word 3       Word 4    Word 5  \\\n",
       "Topic 0     unit  apparatus  transfer   module    substrate   include   \n",
       "Topic 1   system      force   patient   charge  manipulator    method   \n",
       "Topic 2  control     method    object    image         base    sensor   \n",
       "Topic 3    drive        end    second      arm      include  effector   \n",
       "Topic 4   system    vehicle   storage     item    container   include   \n",
       "Topic 5  surface       body    member  include     cleaning   portion   \n",
       "Topic 6   system     method      user   device        datum   include   \n",
       "Topic 7     tool     system  surgical      arm       device   include   \n",
       "\n",
       "             Word 6       Word 7     Word 8     Word 9    Word 10    Word 11  \\\n",
       "Topic 0  processing    workpiece    control     device     system  configure   \n",
       "Topic 1     battery        joint   actuator   surgical  candidate    surgery   \n",
       "Topic 2     include  information   position     device  determine      datum   \n",
       "Topic 3    assembly         axis      motor    connect      joint  mechanism   \n",
       "Topic 4   configure    transport    station  plurality   delivery   location   \n",
       "Topic 5   configure      provide     device      clean       main      plate   \n",
       "Topic 6        base      control       task    provide    perform    process   \n",
       "Topic 7  instrument    configure  component   position   comprise     couple   \n",
       "\n",
       "         Word 12     Word 13    Word 14  \n",
       "Topic 0  chamber  inspection     second  \n",
       "Topic 1  provide     control    segment  \n",
       "Topic 2   system      target      point  \n",
       "Topic 3    shaft      couple  configure  \n",
       "Topic 4     pick     product     method  \n",
       "Topic 5  support      second      wheel  \n",
       "Topic 6    model     receive   generate  \n",
       "Topic 7  portion         end    control  "
      ],
      "text/html": [
       "<div>\n",
       "<style scoped>\n",
       "    .dataframe tbody tr th:only-of-type {\n",
       "        vertical-align: middle;\n",
       "    }\n",
       "\n",
       "    .dataframe tbody tr th {\n",
       "        vertical-align: top;\n",
       "    }\n",
       "\n",
       "    .dataframe thead th {\n",
       "        text-align: right;\n",
       "    }\n",
       "</style>\n",
       "<table border=\"1\" class=\"dataframe\">\n",
       "  <thead>\n",
       "    <tr style=\"text-align: right;\">\n",
       "      <th></th>\n",
       "      <th>Word 0</th>\n",
       "      <th>Word 1</th>\n",
       "      <th>Word 2</th>\n",
       "      <th>Word 3</th>\n",
       "      <th>Word 4</th>\n",
       "      <th>Word 5</th>\n",
       "      <th>Word 6</th>\n",
       "      <th>Word 7</th>\n",
       "      <th>Word 8</th>\n",
       "      <th>Word 9</th>\n",
       "      <th>Word 10</th>\n",
       "      <th>Word 11</th>\n",
       "      <th>Word 12</th>\n",
       "      <th>Word 13</th>\n",
       "      <th>Word 14</th>\n",
       "    </tr>\n",
       "  </thead>\n",
       "  <tbody>\n",
       "    <tr>\n",
       "      <th>Topic 0</th>\n",
       "      <td>unit</td>\n",
       "      <td>apparatus</td>\n",
       "      <td>transfer</td>\n",
       "      <td>module</td>\n",
       "      <td>substrate</td>\n",
       "      <td>include</td>\n",
       "      <td>processing</td>\n",
       "      <td>workpiece</td>\n",
       "      <td>control</td>\n",
       "      <td>device</td>\n",
       "      <td>system</td>\n",
       "      <td>configure</td>\n",
       "      <td>chamber</td>\n",
       "      <td>inspection</td>\n",
       "      <td>second</td>\n",
       "    </tr>\n",
       "    <tr>\n",
       "      <th>Topic 1</th>\n",
       "      <td>system</td>\n",
       "      <td>force</td>\n",
       "      <td>patient</td>\n",
       "      <td>charge</td>\n",
       "      <td>manipulator</td>\n",
       "      <td>method</td>\n",
       "      <td>battery</td>\n",
       "      <td>joint</td>\n",
       "      <td>actuator</td>\n",
       "      <td>surgical</td>\n",
       "      <td>candidate</td>\n",
       "      <td>surgery</td>\n",
       "      <td>provide</td>\n",
       "      <td>control</td>\n",
       "      <td>segment</td>\n",
       "    </tr>\n",
       "    <tr>\n",
       "      <th>Topic 2</th>\n",
       "      <td>control</td>\n",
       "      <td>method</td>\n",
       "      <td>object</td>\n",
       "      <td>image</td>\n",
       "      <td>base</td>\n",
       "      <td>sensor</td>\n",
       "      <td>include</td>\n",
       "      <td>information</td>\n",
       "      <td>position</td>\n",
       "      <td>device</td>\n",
       "      <td>determine</td>\n",
       "      <td>datum</td>\n",
       "      <td>system</td>\n",
       "      <td>target</td>\n",
       "      <td>point</td>\n",
       "    </tr>\n",
       "    <tr>\n",
       "      <th>Topic 3</th>\n",
       "      <td>drive</td>\n",
       "      <td>end</td>\n",
       "      <td>second</td>\n",
       "      <td>arm</td>\n",
       "      <td>include</td>\n",
       "      <td>effector</td>\n",
       "      <td>assembly</td>\n",
       "      <td>axis</td>\n",
       "      <td>motor</td>\n",
       "      <td>connect</td>\n",
       "      <td>joint</td>\n",
       "      <td>mechanism</td>\n",
       "      <td>shaft</td>\n",
       "      <td>couple</td>\n",
       "      <td>configure</td>\n",
       "    </tr>\n",
       "    <tr>\n",
       "      <th>Topic 4</th>\n",
       "      <td>system</td>\n",
       "      <td>vehicle</td>\n",
       "      <td>storage</td>\n",
       "      <td>item</td>\n",
       "      <td>container</td>\n",
       "      <td>include</td>\n",
       "      <td>configure</td>\n",
       "      <td>transport</td>\n",
       "      <td>station</td>\n",
       "      <td>plurality</td>\n",
       "      <td>delivery</td>\n",
       "      <td>location</td>\n",
       "      <td>pick</td>\n",
       "      <td>product</td>\n",
       "      <td>method</td>\n",
       "    </tr>\n",
       "    <tr>\n",
       "      <th>Topic 5</th>\n",
       "      <td>surface</td>\n",
       "      <td>body</td>\n",
       "      <td>member</td>\n",
       "      <td>include</td>\n",
       "      <td>cleaning</td>\n",
       "      <td>portion</td>\n",
       "      <td>configure</td>\n",
       "      <td>provide</td>\n",
       "      <td>device</td>\n",
       "      <td>clean</td>\n",
       "      <td>main</td>\n",
       "      <td>plate</td>\n",
       "      <td>support</td>\n",
       "      <td>second</td>\n",
       "      <td>wheel</td>\n",
       "    </tr>\n",
       "    <tr>\n",
       "      <th>Topic 6</th>\n",
       "      <td>system</td>\n",
       "      <td>method</td>\n",
       "      <td>user</td>\n",
       "      <td>device</td>\n",
       "      <td>datum</td>\n",
       "      <td>include</td>\n",
       "      <td>base</td>\n",
       "      <td>control</td>\n",
       "      <td>task</td>\n",
       "      <td>provide</td>\n",
       "      <td>perform</td>\n",
       "      <td>process</td>\n",
       "      <td>model</td>\n",
       "      <td>receive</td>\n",
       "      <td>generate</td>\n",
       "    </tr>\n",
       "    <tr>\n",
       "      <th>Topic 7</th>\n",
       "      <td>tool</td>\n",
       "      <td>system</td>\n",
       "      <td>surgical</td>\n",
       "      <td>arm</td>\n",
       "      <td>device</td>\n",
       "      <td>include</td>\n",
       "      <td>instrument</td>\n",
       "      <td>configure</td>\n",
       "      <td>component</td>\n",
       "      <td>position</td>\n",
       "      <td>comprise</td>\n",
       "      <td>couple</td>\n",
       "      <td>portion</td>\n",
       "      <td>end</td>\n",
       "      <td>control</td>\n",
       "    </tr>\n",
       "  </tbody>\n",
       "</table>\n",
       "</div>"
      ]
     },
     "execution_count": 10,
     "metadata": {},
     "output_type": "execute_result"
    }
   ],
   "execution_count": 10
  },
  {
   "cell_type": "code",
   "metadata": {
    "ExecuteTime": {
     "end_time": "2024-05-18T14:41:40.857948Z",
     "start_time": "2024-05-18T14:41:39.014617Z"
    }
   },
   "source": [
    "#this is by far the easiest way to load a pre-trained sklearn lda model onto pyLDAvis\n",
    "#there are other means of using this visible on pyLDAvis' main repo\n",
    "\n",
    "import pyLDAvis\n",
    "import pyLDAvis.sklearn\n",
    "pyLDAvis.enable_notebook()\n",
    "\n",
    "feature_names = vectorizer.get_feature_names_out()\n",
    "\n",
    "vectorizer.get_feature_names = lambda: feature_names\n",
    "\n",
    "display_data = pyLDAvis.sklearn.prepare(best_lda_model, #our pre-trained LDA model\n",
    "                         x_vec, #this gives us our document-term matrix\n",
    "                        vectorizer) #the vectoriser object\n",
    "                        \n",
    "pyLDAvis.display(display_data)  "
   ],
   "outputs": [
    {
     "name": "stderr",
     "output_type": "stream",
     "text": [
      "C:\\Users\\paul-\\anaconda3\\envs\\ml_angew_programm\\lib\\site-packages\\pyLDAvis\\_prepare.py:243: FutureWarning: In a future version of pandas all arguments of DataFrame.drop except for the argument 'labels' will be keyword-only.\n",
      "  default_term_info = default_term_info.sort_values(\n"
     ]
    },
    {
     "data": {
      "text/plain": [
       "<IPython.core.display.HTML object>"
      ],
      "text/html": [
       "\n",
       "<link rel=\"stylesheet\" type=\"text/css\" href=\"https://cdn.jsdelivr.net/gh/bmabey/pyLDAvis@3.4.0/pyLDAvis/js/ldavis.v1.0.0.css\">\n",
       "\n",
       "\n",
       "<div id=\"ldavis_el1356823878315864807030274576\" style=\"background-color:white;\"></div>\n",
       "<script type=\"text/javascript\">\n",
       "\n",
       "var ldavis_el1356823878315864807030274576_data = {\"mdsDat\": {\"x\": [0.1798721541691187, 0.22177491083409856, -0.207205325343545, -0.09621111880700353, -0.2017957104536674, -0.03375473600896501, -0.03875488707607878, 0.17607471268604247], \"y\": [0.11939100021862015, 0.06975050278141577, -0.08908148649161936, -0.09619228823077101, 0.023568105198991492, 0.11021298942687145, 0.1486961023532425, -0.28634492525675076], \"topics\": [1, 2, 3, 4, 5, 6, 7, 8], \"cluster\": [1, 1, 1, 1, 1, 1, 1, 1], \"Freq\": [25.014568753270744, 19.012704489696976, 12.557999194397029, 11.659493756364567, 11.592003970585232, 7.867628875320889, 6.920226081224737, 5.375374879139826]}, \"tinfo\": {\"Term\": [\"unit\", \"system\", \"drive\", \"end\", \"arm\", \"tool\", \"surgical\", \"image\", \"surface\", \"member\", \"object\", \"body\", \"force\", \"vehicle\", \"cleaning\", \"storage\", \"module\", \"effector\", \"transfer\", \"datum\", \"second\", \"apparatus\", \"instrument\", \"joint\", \"item\", \"substrate\", \"processing\", \"information\", \"motor\", \"assembly\", \"acquire\", \"obstacle\", \"light\", \"measurement\", \"estimate\", \"basis\", \"calibration\", \"coordinate\", \"acquisition\", \"node\", \"image\", \"correction\", \"estimation\", \"start\", \"localization\", \"pixel\", \"sound\", \"transitory\", \"calculate\", \"interest\", \"avoidance\", \"setting\", \"waypoint\", \"mower\", \"velocity\", \"speech\", \"radar\", \"lawn\", \"tactile\", \"capturing\", \"target\", \"map\", \"reference\", \"point\", \"camera\", \"object\", \"capture\", \"value\", \"information\", \"pose\", \"trajectory\", \"path\", \"obtain\", \"signal\", \"sensor\", \"determine\", \"detect\", \"detection\", \"current\", \"area\", \"control\", \"motion\", \"method\", \"base\", \"position\", \"datum\", \"generate\", \"include\", \"device\", \"operation\", \"accord\", \"state\", \"second\", \"system\", \"set\", \"unit\", \"location\", \"mobile\", \"configure\", \"network\", \"automation\", \"artificial\", \"train\", \"intelligence\", \"training\", \"neural\", \"server\", \"request\", \"agent\", \"computing\", \"software\", \"performance\", \"wireless\", \"bot\", \"voice\", \"digital\", \"event\", \"skill\", \"drone\", \"rpa\", \"language\", \"behavior\", \"workflow\", \"aerial\", \"label\", \"engine\", \"fleet\", \"hardware\", \"activity\", \"service\", \"video\", \"task\", \"human\", \"reality\", \"learning\", \"user\", \"action\", \"interaction\", \"learn\", \"safety\", \"process\", \"communication\", \"model\", \"datum\", \"environment\", \"system\", \"virtual\", \"perform\", \"machine\", \"method\", \"computer\", \"device\", \"associate\", \"autonomous\", \"receive\", \"base\", \"generate\", \"provide\", \"include\", \"control\", \"time\", \"operation\", \"determine\", \"present\", \"plurality\", \"configure\", \"shaft\", \"torque\", \"gear\", \"rotary\", \"transmission\", \"rod\", \"cable\", \"vibration\", \"brake\", \"magnet\", \"bracket\", \"axial\", \"magnetic\", \"transducer\", \"wave\", \"encoder\", \"motor\", \"steering\", \"hydraulic\", \"suspension\", \"hollow\", \"servo\", \"fastener\", \"elevator\", \"thread\", \"solar\", \"coil\", \"continuum\", \"bearing\", \"rotor\", \"drive\", \"effector\", \"rotation\", \"driver\", \"rotational\", \"panel\", \"end\", \"link\", \"wrist\", \"axis\", \"mechanism\", \"joint\", \"driving\", \"assembly\", \"rotate\", \"connect\", \"connector\", \"second\", \"linear\", \"arm\", \"frame\", \"couple\", \"force\", \"include\", \"element\", \"actuator\", \"output\", \"section\", \"configure\", \"base\", \"support\", \"mount\", \"control\", \"direction\", \"comprise\", \"instrument\", \"elongate\", \"insertion\", \"block\", \"plant\", \"cartridge\", \"needle\", \"coating\", \"print\", \"endoscope\", \"cutting\", \"printing\", \"articulation\", \"adapter\", \"console\", \"sterile\", \"slot\", \"tower\", \"tape\", \"adhesive\", \"paint\", \"coat\", \"extension\", \"drape\", \"ball\", \"additive\", \"fixture\", \"nut\", \"extended\", \"cannula\", \"tool\", \"proximal\", \"cut\", \"jaw\", \"grip\", \"surgical\", \"piece\", \"finger\", \"head\", \"component\", \"gripper\", \"tip\", \"guide\", \"arm\", \"tube\", \"medical\", \"attachment\", \"distal\", \"system\", \"device\", \"couple\", \"configure\", \"interface\", \"mount\", \"material\", \"include\", \"comprise\", \"position\", \"portion\", \"relative\", \"end\", \"movement\", \"control\", \"second\", \"method\", \"cleaning\", \"clean\", \"plate\", \"cleaner\", \"welding\", \"floor\", \"wire\", \"outer\", \"chassis\", \"air\", \"wall\", \"water\", \"fluid\", \"mop\", \"roller\", \"weld\", \"tank\", \"cart\", \"pipe\", \"pad\", \"dust\", \"spray\", \"debris\", \"seal\", \"electrode\", \"cylinder\", \"piezoelectric\", \"brush\", \"fasten\", \"sheet\", \"valve\", \"pressure\", \"member\", \"groove\", \"surface\", \"inner\", \"main\", \"body\", \"suction\", \"press\", \"cover\", \"face\", \"liquid\", \"portion\", \"hole\", \"contact\", \"wheel\", \"form\", \"housing\", \"include\", \"dispose\", \"provide\", \"configure\", \"support\", \"direction\", \"device\", \"connect\", \"second\", \"assembly\", \"item\", \"rail\", \"blade\", \"pallet\", \"rack\", \"container\", \"food\", \"ingredient\", \"door\", \"package\", \"picking\", \"column\", \"pulley\", \"delivery\", \"compartment\", \"dock\", \"parcel\", \"sort\", \"catheter\", \"cargo\", \"kitchen\", \"sheath\", \"enclosure\", \"lid\", \"cutter\", \"tote\", \"packaging\", \"cooking\", \"steerable\", \"changer\", \"warehouse\", \"bin\", \"shelf\", \"retrieval\", \"payload\", \"vehicle\", \"stack\", \"dispense\", \"array\", \"pick\", \"transport\", \"storage\", \"tray\", \"arrangement\", \"station\", \"cell\", \"product\", \"grid\", \"order\", \"place\", \"system\", \"automate\", \"location\", \"handling\", \"plurality\", \"configure\", \"include\", \"structure\", \"store\", \"platform\", \"mobile\", \"method\", \"comprise\", \"second\", \"position\", \"provide\", \"receive\", \"device\", \"substrate\", \"workpiece\", \"chamber\", \"inspection\", \"conveyor\", \"wafer\", \"carrier\", \"transfer\", \"conveying\", \"particle\", \"semiconductor\", \"defect\", \"swing\", \"inspect\", \"pickup\", \"landing\", \"directional\", \"post\", \"underwater\", \"deposition\", \"vibrate\", \"temporary\", \"abnormality\", \"batch\", \"dry\", \"exoskeleton\", \"fire\", \"machining\", \"filling\", \"counter\", \"article\", \"phase\", \"circuit\", \"production\", \"unit\", \"buffer\", \"stage\", \"load\", \"processing\", \"module\", \"line\", \"apparatus\", \"hand\", \"treat\", \"section\", \"hold\", \"temperature\", \"process\", \"control\", \"device\", \"configure\", \"operation\", \"include\", \"system\", \"second\", \"position\", \"method\", \"provide\", \"plurality\", \"charge\", \"patient\", \"battery\", \"energy\", \"kinematic\", \"soft\", \"hub\", \"reaction\", \"implant\", \"primary\", \"inlet\", \"secondary\", \"registration\", \"tissue\", \"matrix\", \"probe\", \"gait\", \"mass\", \"loop\", \"accessory\", \"wearable\", \"knee\", \"rehabilitation\", \"limb\", \"anatomy\", \"humanoid\", \"fabric\", \"tendon\", \"stable\", \"laparoscopic\", \"anatomical\", \"eye\", \"candidate\", \"segment\", \"charging\", \"surgery\", \"manipulator\", \"force\", \"assist\", \"procedure\", \"pool\", \"actuator\", \"site\", \"desire\", \"system\", \"joint\", \"power\", \"manipulation\", \"surgical\", \"use\", \"method\", \"apply\", \"treatment\", \"provide\", \"control\", \"medical\", \"display\", \"track\", \"include\", \"perform\"], \"Freq\": [4248.0, 12649.0, 3529.0, 4098.0, 5363.0, 2710.0, 3025.0, 3371.0, 2543.0, 2218.0, 4046.0, 2620.0, 1716.0, 1599.0, 1623.0, 1904.0, 2102.0, 1854.0, 1218.0, 3812.0, 6633.0, 3029.0, 1445.0, 1707.0, 1190.0, 1079.0, 1498.0, 3094.0, 1385.0, 2607.0, 843.5783862331332, 621.0197988414722, 642.5675788819639, 505.86613492404325, 418.31064481624463, 377.6770207705749, 358.38410283925816, 689.9445863299287, 289.23318205558303, 287.5607759375356, 3358.6617826699085, 193.147938115979, 184.71725970559223, 208.9125170097062, 163.46985859207655, 159.47147987150896, 140.28050019252038, 138.672094351458, 623.4241983803698, 129.96226391268334, 135.8865313965278, 124.99286545632187, 120.40808807937755, 114.55223576350654, 246.57059716032794, 98.63060455496533, 97.80607072725032, 97.24466862657435, 94.54312733378467, 92.55748769722004, 1797.9217307561316, 959.8245698321216, 629.1356045790762, 1622.9169903978725, 1249.4893708907955, 3700.8765950335014, 864.7262074199831, 900.0271511347624, 2605.1283014954033, 729.5448912168143, 707.4769309777107, 1188.0994562862124, 1062.253369329102, 1278.9113724053018, 2836.616583695479, 2110.9674708723987, 1300.1880649396578, 890.1000270061036, 605.1500779514657, 1142.6362157044696, 4402.113050712094, 1133.6009319354862, 3886.8302869737463, 2868.798448635576, 2518.699004874017, 1993.0099957900288, 1360.308832623543, 2663.297601682141, 2176.19202882167, 1204.638470441981, 924.3574369791731, 914.1212846511849, 1592.6636340700386, 1872.9098670686424, 987.3663308615882, 1125.2380947074325, 955.11676161931, 977.4042420763407, 1029.6911368737196, 770.2660753324425, 482.7376903647265, 476.7460368451956, 433.94287573549957, 408.8977341107584, 376.354698629624, 367.38645564802187, 428.78032493377066, 317.9621569461712, 306.0097421528215, 304.5290041173382, 287.4807488244946, 285.32658287507513, 270.68295142797143, 262.83845914992486, 261.6167830773232, 259.60834082091344, 227.35362736617557, 195.44444659492945, 194.02132817615683, 192.5181724888987, 188.24030054150316, 186.77514122224338, 186.07833143730358, 167.27275870352955, 167.24325052025213, 164.0078092363983, 157.06775587794243, 150.86075138972328, 150.01132858734067, 650.6679186140465, 219.10541558910492, 1225.8881409639976, 629.7893468784904, 343.55775115263924, 465.71837047759897, 2033.2628815172968, 754.3873878934652, 288.8920317006021, 447.84969133131216, 363.7316434077362, 1080.1037743339455, 699.4022597614894, 939.7155364325243, 1819.0816371700498, 872.3085183355249, 3450.176349997827, 605.0240230845479, 1088.1878161451755, 720.7602857180375, 2201.4502742080153, 708.0458017009856, 1915.3730753569032, 605.4239489044967, 679.5141239512621, 931.9193339681576, 1394.360552595428, 881.5826819016531, 1199.6025736361307, 1609.2737786138664, 1370.9273558473842, 575.5504181199777, 652.3953842612216, 641.8567282907859, 576.3027545004455, 642.020443135668, 640.0052388300438, 1134.7089911478206, 540.685188127242, 462.887501979895, 371.0187734527117, 449.51103837124805, 280.4329147952934, 537.4058449943179, 195.47767420936682, 184.77187270581467, 158.28918824270252, 156.5196375531615, 161.55690138229147, 350.9921278742425, 141.62411269031512, 139.95975831673366, 139.6784215983642, 1376.651456081939, 132.3827822781551, 118.4654142122348, 114.63810136767324, 111.76117862134956, 109.63018396914744, 103.8402522196273, 97.66837314694062, 97.42579584218859, 93.96354306673366, 93.5841920992887, 104.54015223740474, 87.30101461374817, 86.69230343773663, 3209.207096220101, 1712.5811552956707, 751.7326850871995, 244.04064781560356, 290.26039171217826, 219.39604130217683, 3206.039112122699, 817.5476225227351, 153.58961109901955, 1381.712186857793, 1202.2995705510014, 1217.5937783345967, 331.8296160057933, 1689.81671968315, 730.3803233228306, 1346.3485810853424, 335.4738104237627, 2761.1525073185667, 291.1643510757859, 2204.1541180307404, 626.220091192848, 1010.1117369497125, 694.9484799556966, 2021.6916646189243, 535.879136329351, 479.1986154588616, 488.40786801154667, 431.7139622183304, 831.295772177618, 804.2532590197666, 534.0068714369486, 486.0853673074353, 565.5540674452368, 491.6352337363198, 484.8948041444823, 1444.9133836721082, 360.6116915252784, 308.18564495570985, 245.43952850586297, 223.35418655767597, 191.81160369430933, 190.46606834892106, 163.37530485451987, 149.9439877408481, 149.65686532515707, 196.40303358384364, 141.02936545952716, 132.60432522222598, 132.3943791046222, 128.27061985057054, 128.0988205432129, 122.61603019424508, 119.79435558964234, 106.9769257985932, 106.86043442361154, 102.37164054677332, 101.93901117885508, 101.26781101345053, 97.60343420698649, 97.37811911961816, 95.31121198234398, 97.43008739837686, 90.0678699502579, 85.56795993264849, 83.60992702737464, 2677.820983205499, 451.3724169701502, 417.5235951404877, 272.4533410625545, 635.7061155132949, 2591.2763769104645, 224.58323648778872, 342.8131287757615, 580.8272208690917, 1046.4426001089882, 472.6179044211512, 275.52472291531166, 651.163007337146, 2565.808922667728, 316.8687884690169, 489.64103929543717, 229.08883772684962, 417.004779780452, 2660.7802325309126, 1747.3185357238085, 773.8380465514036, 1405.480022952525, 511.27328363266844, 555.1938895404718, 442.2518598399379, 1653.585446120012, 807.2395060878106, 1005.5960464288847, 721.2098954980786, 453.3089918056148, 716.847674167839, 488.3031645550485, 696.345629365392, 625.619468783583, 620.4178331247795, 1623.0971005032648, 761.5458061915383, 592.0754772703813, 543.3464181004979, 473.07991852534286, 483.85879349544155, 453.79307682643116, 433.5903715168611, 397.43002263948466, 395.96438919653264, 337.94803695057215, 291.7342600100732, 454.90251347350244, 224.34717249321423, 208.50658785161642, 206.23689300435723, 196.6298871540934, 188.62917588611407, 186.47975502841155, 251.25131137066944, 172.27018235146167, 158.19194233310606, 149.39381482050686, 148.92317414399687, 143.91260787448746, 140.79456428203216, 128.9251312364238, 126.31755290626234, 124.65450336982418, 110.14450410678495, 201.37404316707924, 383.6303944097512, 2085.5390977852385, 143.97683741078123, 2270.2360239986483, 372.14145929403566, 631.9516870490331, 2098.3445397761284, 441.3793731888194, 236.42920670298437, 333.2401529795348, 443.0565480975465, 318.07707049349784, 1268.609844431393, 271.3514536886768, 513.4254422063229, 568.1597558952129, 489.396688289568, 527.0326491488778, 1912.8631518627164, 498.34410717866484, 907.4160188071049, 1004.9599127495369, 584.7449703289999, 564.1748231880723, 763.6906578566184, 533.4980930861174, 576.2714273419414, 480.6656302941237, 1189.704830326276, 323.9777818513497, 242.94907472806375, 225.5952725795111, 209.18310983600043, 961.7751978924272, 204.54310790730426, 170.93381297146186, 162.65476604834586, 294.51248603854333, 186.8763381979575, 143.9455303639781, 139.00862784422154, 615.9333637273462, 127.00550997309495, 125.95086336916555, 120.42979775799226, 138.70436677169778, 254.87738842879332, 104.13617956468744, 89.11719489402053, 85.51219654251882, 80.54045883420038, 79.60433248905788, 77.70176669194967, 76.83732428437679, 75.47141724523043, 72.09946360297687, 68.6955727349796, 68.19468858735786, 132.96558397318856, 241.81800288573396, 185.46576073729466, 171.83725180103687, 223.92081609879074, 1359.0358004900438, 239.81116403859613, 211.8448120856247, 264.28300082394463, 451.6380149119261, 654.0995520938365, 1261.4375114846882, 230.67175552415875, 246.29375498725915, 643.3095422320837, 303.69603992859106, 443.4356795635606, 210.80981654447865, 336.90221171704496, 409.3586065962578, 1988.522722710889, 410.03009439892963, 564.5982277435844, 253.01483623950116, 618.641240395653, 762.7816361712845, 960.343033459331, 403.2319891225855, 333.6296967094943, 323.9779253882432, 364.1002967862258, 419.20394453721303, 347.95199056307035, 374.9395111101617, 361.61934077474734, 315.37088522409726, 287.1238437579011, 293.68534772776735, 1078.2385837317756, 884.8529506600128, 726.7298668515607, 713.8747756760943, 353.6180266685511, 254.80862255972056, 320.56379506412236, 1213.20593887504, 121.53889978793356, 120.81404677870682, 114.8641050142637, 105.78532730146381, 104.41663048791547, 106.69105142530731, 95.8584447619731, 92.77191773670567, 88.82517412583209, 86.12605547873908, 80.6814487806735, 63.85534757632619, 57.90176149499773, 56.82900623701303, 52.79018297565488, 49.56272485009125, 75.48599762136651, 48.674910619764994, 47.69912957666558, 128.69513029943727, 40.739539264049576, 39.30888713992907, 317.73640246173943, 152.2479865198936, 306.3386630348013, 166.62887563355736, 2713.6308236108785, 93.68959179028214, 152.82741176378477, 474.3956497985636, 907.298988562704, 1121.4275280968768, 452.331908643554, 1275.0657852252086, 459.3166406274758, 128.60122703786905, 432.7876401645357, 337.44968125547325, 143.89891141260284, 427.8912197994381, 854.4971567181567, 829.769142807446, 730.8271724765483, 461.8750120713976, 909.7538916700249, 732.6466117804339, 556.9519208671053, 503.0244428649306, 504.8032608906212, 422.4095326763547, 330.2885534022406, 738.9840570950238, 745.4030658090634, 516.1544437721171, 254.50391370224855, 220.26741871360719, 219.12846772047584, 191.6686652062581, 170.98791325279953, 159.60081577082772, 143.28293261885955, 140.28516334306468, 134.65368554046265, 128.591651573262, 262.08922728265145, 123.79180147292058, 166.0446229408567, 104.53390088609187, 123.24195937077164, 103.17880075061954, 101.96194057102679, 99.68862632903372, 101.01944000644524, 94.8724516696009, 86.91112166070175, 85.20347841489439, 74.67131521136147, 66.05561218700339, 55.2090491791862, 53.63692807553976, 75.27092675457803, 128.09159989336374, 144.1327784048305, 385.52910232341304, 337.50810725148875, 87.31756419080595, 372.98904837143897, 616.9095129318341, 1003.3181339349808, 261.0470835883218, 259.25327671924197, 123.33012308550376, 481.1375861566282, 192.16094637784235, 208.71698080801778, 1518.7092181046096, 489.55184551084346, 280.2510970028493, 179.59588421232013, 433.13714772786545, 276.0741151779843, 519.1722632554785, 236.4464396640353, 174.25379936076033, 360.3012035741638, 343.6808283402156, 210.7884300744862, 199.77997583208247, 187.36332292178346, 205.5038462614313, 192.26511058121196], \"Total\": [4248.0, 12649.0, 3529.0, 4098.0, 5363.0, 2710.0, 3025.0, 3371.0, 2543.0, 2218.0, 4046.0, 2620.0, 1716.0, 1599.0, 1623.0, 1904.0, 2102.0, 1854.0, 1218.0, 3812.0, 6633.0, 3029.0, 1445.0, 1707.0, 1190.0, 1079.0, 1498.0, 3094.0, 1385.0, 2607.0, 844.4773091672988, 621.9017174156098, 643.5080500844011, 506.7559630705105, 419.19174938091913, 378.56915294108126, 359.2652059468398, 691.7273166252842, 290.11499180028414, 288.4425574202516, 3371.0414024995807, 194.0571483949079, 185.59802652939666, 209.9735230972532, 164.35101746475883, 160.3516465718387, 141.16142800120477, 139.55304167271257, 627.5686625162097, 130.84286171900806, 136.8074894444776, 125.87525045651853, 121.28868583998394, 115.43295863618394, 248.72263289176018, 99.51385212314571, 98.68659226315893, 98.12519640231807, 95.42452099147341, 93.4378844652874, 1840.915014839008, 977.7372805857382, 641.1548883634271, 1714.1181846868292, 1312.7303345014932, 4046.05125128565, 909.4282962940374, 967.1337986852008, 3094.5230138080065, 811.3212213483608, 788.459399464409, 1406.3070954527525, 1257.5325313697847, 1580.8471665931525, 3841.7920873767443, 2832.8076195660324, 1686.9368903071247, 1091.9831186016543, 706.4097288615378, 1566.5672091425079, 8333.16388532184, 1553.8750718039134, 8368.81432902118, 6056.734068602907, 5237.643295267338, 3812.8520330353867, 2363.0825927108367, 11936.312414288448, 8034.390682046838, 2493.3967935711216, 1419.7741720688487, 1440.4885716090566, 6633.6017967009075, 12649.562638607673, 1983.3864782202108, 4248.531760623574, 1744.8707037897884, 2142.5536041307673, 6409.8183909817835, 771.1496020753477, 483.62002536646656, 477.6287276550881, 434.82607027664704, 409.77980352134864, 377.25049201699244, 368.2686391506058, 429.8980226283234, 318.8480440587938, 306.8917829747346, 305.41274629900306, 288.36299272541885, 286.2104008074287, 271.5736821188245, 263.7204594613724, 262.498756509582, 260.5186179308683, 228.23583329529646, 196.32621316629255, 194.90475819522274, 193.39985194593413, 189.12216538401333, 187.65749637954826, 186.96009758084523, 168.15553068533765, 168.1296858872478, 164.90436837136042, 157.9501323513916, 151.74373764133975, 150.8935848680098, 661.3228369585353, 220.776209095261, 1272.8904716405375, 661.7339818395967, 355.2950483733959, 490.610132522264, 2323.7219293808425, 828.1227773018757, 299.0067812269104, 481.27511275587267, 405.96314243199276, 1618.5363900174925, 952.5357487399201, 1388.6651061252603, 3812.8520330353867, 1411.6355873462317, 12649.562638607673, 926.4121778713375, 2300.2142308133243, 1281.5642652404383, 8368.81432902118, 1331.5731519772814, 8034.390682046838, 1040.731897615091, 1300.189636655249, 2466.469966581269, 6056.734068602907, 2363.0825927108367, 4698.43791384595, 11936.312414288448, 8333.16388532184, 1277.8688095374541, 2493.3967935711216, 2832.8076195660324, 1645.5795231772709, 3572.1536246895016, 6409.8183909817835, 1136.1568474447622, 541.5626150061207, 463.76576662695163, 371.8987751900405, 450.6748599804196, 281.3106172756037, 539.46408323224, 196.35548539542216, 185.64897829416705, 159.17470766070923, 157.3967386970431, 162.47721965148256, 353.14329289320625, 142.50440773337073, 140.83838589644787, 140.5559805773639, 1385.513218126289, 133.2604916035465, 119.34262802018668, 115.51578263287787, 112.64596715869031, 110.50758502417786, 104.71890293294051, 98.54796308290469, 98.30324305662127, 94.8414269246829, 94.46207014635357, 105.5808427809731, 88.17809780133224, 87.56985635846522, 3529.5324029249964, 1854.5740791112219, 795.9293623759762, 252.00325646950765, 302.9615794224724, 229.83478495926738, 4098.0893696505755, 955.8034271149168, 159.30134429152693, 1762.1306576844436, 1614.337234773316, 1707.9513905440062, 386.818104081743, 2607.948830849476, 985.5079032826312, 2160.87795335293, 428.376851292455, 6633.6017967009075, 357.8219952594945, 5363.423164412984, 1012.6361457148357, 2197.6234896697174, 1716.4327180535438, 11936.312414288448, 1195.2702957669333, 1059.3990998962795, 1192.1812104451333, 875.5615922257541, 6409.8183909817835, 6056.734068602907, 1901.3581369208534, 1405.2958447219942, 8333.16388532184, 1708.9811012898135, 3121.747148863715, 1445.7913196583045, 361.4889624367266, 309.0644036298134, 246.31829159083705, 224.23180021762542, 192.68938403258693, 191.3437535453128, 164.2527010974534, 150.8212453288409, 150.557577116043, 197.58631826151728, 141.90663824336278, 133.48220243237543, 133.27144494435825, 129.14777626583282, 128.97585036102458, 123.49377130278359, 120.73303066337783, 107.85443742342508, 107.73764068520207, 103.24945428368525, 102.81632064556291, 102.1460610672992, 98.48093751398626, 98.25604860010448, 96.18955544667897, 98.35243069785206, 90.97711249672484, 86.44603748402803, 84.49118655172525, 2710.0253864716587, 458.81619328185, 425.52174592143746, 279.38402807708405, 665.5142040134194, 3025.1713022591157, 236.31273315955272, 371.3667936461444, 742.9998252643536, 1515.896622789386, 615.2775653379488, 340.0774142870562, 973.4591564429076, 5363.423164412984, 403.59441591520954, 701.1778133729422, 276.1986173292651, 735.0473090798803, 12649.562638607673, 8034.390682046838, 2197.6234896697174, 6409.8183909817835, 1184.8146879141432, 1405.2958447219942, 931.8471487526457, 11936.312414288448, 3121.747148863715, 5237.643295267338, 2613.581743548229, 1155.1384649382421, 4098.0893696505755, 1888.184363666027, 8333.16388532184, 6633.6017967009075, 8368.81432902118, 1623.9787548731708, 762.4263889820256, 592.959478429477, 544.2268768742967, 473.96015893524657, 484.79469015738295, 454.67389767370656, 434.4740946900675, 398.3173139291673, 396.9365711324721, 338.8295421485169, 292.61611447175903, 456.33389167774465, 225.22705399730737, 209.38696638779533, 207.15657007983393, 197.51006060691043, 189.51042087160477, 187.3600041690239, 252.45438564318647, 173.1501089823527, 159.0730799982238, 150.2738087699183, 149.8035389437766, 144.7954948881669, 141.67553359429195, 129.80588949553297, 127.19749280417557, 125.53525824572093, 111.03016337703784, 203.07785831794956, 390.45038068816444, 2218.28953756911, 145.32400467585902, 2543.102107094491, 387.114612609517, 692.3383550185099, 2620.6053198361406, 484.5781828707665, 247.2427016341343, 360.9739425411712, 542.1810200488998, 380.2707748978108, 2613.581743548229, 309.3034722896812, 863.3124054691777, 1022.983433208007, 836.8367001740934, 973.6649611484775, 11936.312414288448, 1064.5586815426668, 4698.43791384595, 6409.8183909817835, 1901.3581369208534, 1708.9811012898135, 8034.390682046838, 2160.87795335293, 6633.6017967009075, 2607.948830849476, 1190.5848312820237, 324.8577150554222, 243.82952056049277, 226.48968526813098, 210.06365421301172, 965.8795546114058, 205.42276294555055, 171.81337053815443, 163.53444869961385, 296.31877518154954, 188.031919856354, 144.8386942798215, 139.889175171805, 620.0987478703597, 127.92223532603897, 126.86850068747759, 121.30923191964007, 139.74429059674384, 257.2247861526908, 105.13045630973264, 89.99723297298507, 86.39242439860978, 81.42066169037673, 80.48430537826007, 78.58208431806217, 77.71701070568731, 76.35686112171703, 72.97922987619246, 69.57576412611593, 69.07555950034785, 135.56721334529752, 249.21152012278208, 190.30095714698857, 179.29446322444548, 237.11375660819388, 1599.4977704636187, 258.42979201059904, 227.66822241928406, 293.14393432826796, 527.5839787486044, 833.4461555732896, 1904.5487961354595, 261.05547876575366, 285.04145459392527, 1007.9199424867144, 391.2496892333248, 655.1476438244597, 246.29069724851462, 524.0442848998739, 748.9235112335692, 12649.562638607673, 805.6360166130302, 1744.8707037897884, 374.5117317240964, 3572.1536246895016, 6409.8183909817835, 11936.312414288448, 1289.609692767797, 1090.2809398577272, 1091.792235492751, 2142.5536041307673, 8368.81432902118, 3121.747148863715, 6633.6017967009075, 5237.643295267338, 4698.43791384595, 2466.469966581269, 8034.390682046838, 1079.1183110193908, 885.7410797431594, 727.6197713088227, 714.7683393753035, 354.49851749027954, 255.6883037259383, 321.68399372954843, 1218.0052876834156, 122.4190181741266, 121.69455351904143, 115.74407190055834, 106.66549357300262, 105.29764346112714, 107.60029693506954, 96.73909148871782, 93.65282876606919, 89.70750797956184, 87.00796406442767, 81.56183747840919, 64.73517487257237, 58.782739633185656, 57.70947951898611, 53.67038024618777, 50.44309302301897, 76.83137176233915, 49.55593685176979, 48.5812018062477, 131.18830042869598, 41.62050174647806, 40.189864000413756, 346.8395438887341, 169.44047584878905, 368.0163710015797, 190.92333145156238, 4248.531760623574, 101.88207919019489, 183.69046554430585, 697.8797863468957, 1498.339097972164, 2102.850810667996, 718.7225907469136, 3029.99815502496, 844.1572315230601, 151.02273611637546, 875.5615922257541, 777.2748890590648, 191.76332790089043, 1618.5363900174925, 8333.16388532184, 8034.390682046838, 6409.8183909817835, 2493.3967935711216, 11936.312414288448, 12649.562638607673, 6633.6017967009075, 5237.643295267338, 8368.81432902118, 4698.43791384595, 3572.1536246895016, 739.8566519229579, 746.2904720685397, 517.026824513907, 255.37670125369408, 221.14056075675563, 220.08281018508137, 192.54504986204557, 171.86093005582097, 160.47486052921633, 144.15512787468455, 141.15865371486552, 135.5262965725117, 129.4641237702858, 263.88659684139964, 124.67178283239936, 167.36122859188245, 105.4061334221718, 124.27640992411806, 104.05138626942293, 102.83427360575384, 100.56109315947691, 101.9233573819138, 95.74450206910021, 87.78387320034903, 86.07555026573921, 75.54385573147601, 66.92866388585344, 56.08140635418002, 54.50980669879046, 76.52147099128952, 130.62155953432307, 149.16058193589913, 409.0656050383364, 373.7418765185689, 90.14328354325544, 482.15225049396804, 905.2820641677386, 1716.4327180535438, 337.257036745322, 358.45282367576885, 136.49271842955116, 1059.3990998962795, 270.8464334883141, 340.04103751941386, 12649.562638607673, 1707.9513905440062, 763.6923384121192, 297.85130818449477, 3025.1713022591157, 1004.3435045580852, 8368.81432902118, 826.2919883055488, 294.1826227539614, 4698.43791384595, 8333.16388532184, 701.1778133729422, 989.9164608420833, 501.679763536119, 11936.312414288448, 2300.2142308133243], \"Category\": [\"Default\", \"Default\", \"Default\", \"Default\", \"Default\", \"Default\", \"Default\", \"Default\", \"Default\", \"Default\", \"Default\", \"Default\", \"Default\", \"Default\", \"Default\", \"Default\", \"Default\", \"Default\", \"Default\", \"Default\", \"Default\", \"Default\", \"Default\", \"Default\", \"Default\", \"Default\", \"Default\", \"Default\", \"Default\", \"Default\", \"Topic1\", \"Topic1\", \"Topic1\", \"Topic1\", \"Topic1\", \"Topic1\", \"Topic1\", \"Topic1\", \"Topic1\", \"Topic1\", \"Topic1\", \"Topic1\", \"Topic1\", \"Topic1\", \"Topic1\", \"Topic1\", \"Topic1\", \"Topic1\", \"Topic1\", \"Topic1\", \"Topic1\", \"Topic1\", \"Topic1\", \"Topic1\", \"Topic1\", \"Topic1\", \"Topic1\", \"Topic1\", \"Topic1\", \"Topic1\", \"Topic1\", \"Topic1\", \"Topic1\", \"Topic1\", \"Topic1\", \"Topic1\", \"Topic1\", \"Topic1\", \"Topic1\", \"Topic1\", \"Topic1\", \"Topic1\", \"Topic1\", \"Topic1\", \"Topic1\", \"Topic1\", \"Topic1\", \"Topic1\", \"Topic1\", \"Topic1\", \"Topic1\", \"Topic1\", \"Topic1\", \"Topic1\", \"Topic1\", \"Topic1\", \"Topic1\", \"Topic1\", \"Topic1\", \"Topic1\", \"Topic1\", \"Topic1\", \"Topic1\", \"Topic1\", \"Topic1\", \"Topic1\", \"Topic1\", \"Topic1\", \"Topic1\", \"Topic2\", \"Topic2\", \"Topic2\", \"Topic2\", \"Topic2\", \"Topic2\", \"Topic2\", \"Topic2\", \"Topic2\", \"Topic2\", \"Topic2\", \"Topic2\", \"Topic2\", \"Topic2\", \"Topic2\", \"Topic2\", \"Topic2\", \"Topic2\", \"Topic2\", \"Topic2\", \"Topic2\", \"Topic2\", \"Topic2\", \"Topic2\", \"Topic2\", \"Topic2\", \"Topic2\", \"Topic2\", \"Topic2\", \"Topic2\", \"Topic2\", \"Topic2\", \"Topic2\", \"Topic2\", \"Topic2\", \"Topic2\", \"Topic2\", \"Topic2\", \"Topic2\", \"Topic2\", \"Topic2\", \"Topic2\", \"Topic2\", \"Topic2\", \"Topic2\", \"Topic2\", \"Topic2\", \"Topic2\", \"Topic2\", \"Topic2\", \"Topic2\", \"Topic2\", \"Topic2\", \"Topic2\", \"Topic2\", \"Topic2\", \"Topic2\", \"Topic2\", \"Topic2\", \"Topic2\", \"Topic2\", \"Topic2\", \"Topic2\", \"Topic2\", \"Topic2\", \"Topic2\", \"Topic2\", \"Topic3\", \"Topic3\", \"Topic3\", \"Topic3\", \"Topic3\", \"Topic3\", \"Topic3\", \"Topic3\", \"Topic3\", \"Topic3\", \"Topic3\", \"Topic3\", \"Topic3\", \"Topic3\", \"Topic3\", \"Topic3\", \"Topic3\", \"Topic3\", \"Topic3\", \"Topic3\", \"Topic3\", \"Topic3\", \"Topic3\", \"Topic3\", \"Topic3\", \"Topic3\", \"Topic3\", \"Topic3\", \"Topic3\", \"Topic3\", \"Topic3\", \"Topic3\", \"Topic3\", \"Topic3\", \"Topic3\", \"Topic3\", \"Topic3\", \"Topic3\", \"Topic3\", \"Topic3\", \"Topic3\", \"Topic3\", \"Topic3\", \"Topic3\", \"Topic3\", \"Topic3\", \"Topic3\", \"Topic3\", \"Topic3\", \"Topic3\", \"Topic3\", \"Topic3\", \"Topic3\", \"Topic3\", \"Topic3\", \"Topic3\", \"Topic3\", \"Topic3\", \"Topic3\", \"Topic3\", \"Topic3\", \"Topic3\", \"Topic3\", \"Topic3\", \"Topic3\", \"Topic4\", \"Topic4\", \"Topic4\", \"Topic4\", \"Topic4\", \"Topic4\", \"Topic4\", \"Topic4\", \"Topic4\", \"Topic4\", \"Topic4\", \"Topic4\", \"Topic4\", \"Topic4\", \"Topic4\", \"Topic4\", \"Topic4\", \"Topic4\", \"Topic4\", \"Topic4\", \"Topic4\", \"Topic4\", \"Topic4\", \"Topic4\", \"Topic4\", \"Topic4\", \"Topic4\", \"Topic4\", \"Topic4\", \"Topic4\", \"Topic4\", \"Topic4\", \"Topic4\", \"Topic4\", \"Topic4\", \"Topic4\", \"Topic4\", \"Topic4\", \"Topic4\", \"Topic4\", \"Topic4\", \"Topic4\", \"Topic4\", \"Topic4\", \"Topic4\", \"Topic4\", \"Topic4\", \"Topic4\", \"Topic4\", \"Topic4\", \"Topic4\", \"Topic4\", \"Topic4\", \"Topic4\", \"Topic4\", \"Topic4\", \"Topic4\", \"Topic4\", \"Topic4\", \"Topic4\", \"Topic4\", \"Topic4\", \"Topic4\", \"Topic4\", \"Topic4\", \"Topic5\", \"Topic5\", \"Topic5\", \"Topic5\", \"Topic5\", \"Topic5\", \"Topic5\", \"Topic5\", \"Topic5\", \"Topic5\", \"Topic5\", \"Topic5\", \"Topic5\", \"Topic5\", \"Topic5\", \"Topic5\", \"Topic5\", \"Topic5\", \"Topic5\", \"Topic5\", \"Topic5\", \"Topic5\", \"Topic5\", \"Topic5\", \"Topic5\", \"Topic5\", \"Topic5\", \"Topic5\", \"Topic5\", \"Topic5\", \"Topic5\", \"Topic5\", \"Topic5\", \"Topic5\", \"Topic5\", \"Topic5\", \"Topic5\", \"Topic5\", \"Topic5\", \"Topic5\", \"Topic5\", \"Topic5\", \"Topic5\", \"Topic5\", \"Topic5\", \"Topic5\", \"Topic5\", \"Topic5\", \"Topic5\", \"Topic5\", \"Topic5\", \"Topic5\", \"Topic5\", \"Topic5\", \"Topic5\", \"Topic5\", \"Topic5\", \"Topic5\", \"Topic5\", \"Topic6\", \"Topic6\", \"Topic6\", \"Topic6\", \"Topic6\", \"Topic6\", \"Topic6\", \"Topic6\", \"Topic6\", \"Topic6\", \"Topic6\", \"Topic6\", \"Topic6\", \"Topic6\", \"Topic6\", \"Topic6\", \"Topic6\", \"Topic6\", \"Topic6\", \"Topic6\", \"Topic6\", \"Topic6\", \"Topic6\", \"Topic6\", \"Topic6\", \"Topic6\", \"Topic6\", \"Topic6\", \"Topic6\", \"Topic6\", \"Topic6\", \"Topic6\", \"Topic6\", \"Topic6\", \"Topic6\", \"Topic6\", \"Topic6\", \"Topic6\", \"Topic6\", \"Topic6\", \"Topic6\", \"Topic6\", \"Topic6\", \"Topic6\", \"Topic6\", \"Topic6\", \"Topic6\", \"Topic6\", \"Topic6\", \"Topic6\", \"Topic6\", \"Topic6\", \"Topic6\", \"Topic6\", \"Topic6\", \"Topic6\", \"Topic6\", \"Topic6\", \"Topic6\", \"Topic6\", \"Topic6\", \"Topic6\", \"Topic6\", \"Topic6\", \"Topic6\", \"Topic6\", \"Topic6\", \"Topic6\", \"Topic7\", \"Topic7\", \"Topic7\", \"Topic7\", \"Topic7\", \"Topic7\", \"Topic7\", \"Topic7\", \"Topic7\", \"Topic7\", \"Topic7\", \"Topic7\", \"Topic7\", \"Topic7\", \"Topic7\", \"Topic7\", \"Topic7\", \"Topic7\", \"Topic7\", \"Topic7\", \"Topic7\", \"Topic7\", \"Topic7\", \"Topic7\", \"Topic7\", \"Topic7\", \"Topic7\", \"Topic7\", \"Topic7\", \"Topic7\", \"Topic7\", \"Topic7\", \"Topic7\", \"Topic7\", \"Topic7\", \"Topic7\", \"Topic7\", \"Topic7\", \"Topic7\", \"Topic7\", \"Topic7\", \"Topic7\", \"Topic7\", \"Topic7\", \"Topic7\", \"Topic7\", \"Topic7\", \"Topic7\", \"Topic7\", \"Topic7\", \"Topic7\", \"Topic7\", \"Topic7\", \"Topic7\", \"Topic7\", \"Topic7\", \"Topic7\", \"Topic7\", \"Topic7\", \"Topic8\", \"Topic8\", \"Topic8\", \"Topic8\", \"Topic8\", \"Topic8\", \"Topic8\", \"Topic8\", \"Topic8\", \"Topic8\", \"Topic8\", \"Topic8\", \"Topic8\", \"Topic8\", \"Topic8\", \"Topic8\", \"Topic8\", \"Topic8\", \"Topic8\", \"Topic8\", \"Topic8\", \"Topic8\", \"Topic8\", \"Topic8\", \"Topic8\", \"Topic8\", \"Topic8\", \"Topic8\", \"Topic8\", \"Topic8\", \"Topic8\", \"Topic8\", \"Topic8\", \"Topic8\", \"Topic8\", \"Topic8\", \"Topic8\", \"Topic8\", \"Topic8\", \"Topic8\", \"Topic8\", \"Topic8\", \"Topic8\", \"Topic8\", \"Topic8\", \"Topic8\", \"Topic8\", \"Topic8\", \"Topic8\", \"Topic8\", \"Topic8\", \"Topic8\", \"Topic8\", \"Topic8\", \"Topic8\", \"Topic8\", \"Topic8\", \"Topic8\", \"Topic8\", \"Topic8\"], \"logprob\": [30.0, 29.0, 28.0, 27.0, 26.0, 25.0, 24.0, 23.0, 22.0, 21.0, 20.0, 19.0, 18.0, 17.0, 16.0, 15.0, 14.0, 13.0, 12.0, 11.0, 10.0, 9.0, 8.0, 7.0, 6.0, 5.0, 4.0, 3.0, 2.0, 1.0, -5.0891, -5.3954, -5.3613, -5.6005, -5.7905, -5.8927, -5.9452, -5.2902, -6.1595, -6.1653, -3.7075, -6.5633, -6.6079, -6.4849, -6.7301, -6.7549, -6.8831, -6.8947, -5.3915, -6.9595, -6.915, -6.9985, -7.0359, -7.0857, -6.3191, -7.2354, -7.2438, -7.2495, -7.2777, -7.2989, -4.3324, -4.96, -5.3824, -4.4348, -4.6963, -3.6104, -5.0644, -5.0243, -3.9615, -5.2344, -5.2651, -4.7467, -4.8586, -4.673, -3.8764, -4.1719, -4.6565, -5.0354, -5.4213, -4.7857, -3.4369, -4.7936, -3.5614, -3.8651, -3.9953, -4.2294, -4.6113, -3.9395, -4.1414, -4.7328, -4.9977, -5.0088, -4.4536, -4.2915, -4.9317, -4.801, -4.9649, -4.9419, -4.8898, -4.9057, -5.3729, -5.3854, -5.4795, -5.539, -5.6219, -5.646, -5.4915, -5.7905, -5.8288, -5.8337, -5.8913, -5.8988, -5.9515, -5.9809, -5.9855, -5.9932, -6.1259, -6.2771, -6.2845, -6.2922, -6.3147, -6.3225, -6.3263, -6.4328, -6.433, -6.4525, -6.4957, -6.5361, -6.5417, -5.0744, -6.1629, -4.441, -5.107, -5.7131, -5.4088, -3.935, -4.9265, -5.8864, -5.448, -5.656, -4.5676, -5.0022, -4.7068, -4.0463, -4.7813, -3.4062, -5.1472, -4.5602, -4.9721, -3.8555, -4.9899, -3.9948, -5.1465, -5.031, -4.7152, -4.3122, -4.7707, -4.4627, -4.1689, -4.3292, -5.1971, -5.0718, -5.0881, -5.1958, -5.0878, -5.0909, -4.1035, -4.8448, -5.0002, -5.2214, -5.0295, -5.5013, -4.8509, -5.8622, -5.9185, -6.0732, -6.0845, -6.0528, -5.2769, -6.1845, -6.1963, -6.1983, -3.9103, -6.252, -6.3631, -6.3959, -6.4213, -6.4406, -6.4948, -6.5561, -6.5586, -6.5948, -6.5988, -6.4881, -6.6683, -6.6753, -3.0639, -3.6919, -4.5153, -5.6403, -5.4669, -5.7468, -3.0649, -4.4314, -6.1034, -3.9066, -4.0457, -4.033, -5.333, -3.7053, -4.5441, -3.9325, -5.3221, -3.2143, -5.4638, -3.4396, -4.698, -4.2199, -4.5938, -3.526, -4.8538, -4.9656, -4.9465, -5.0699, -4.4147, -4.4478, -4.8573, -4.9513, -4.7999, -4.9399, -4.9537, -3.7876, -5.1756, -5.3327, -5.5604, -5.6547, -5.8069, -5.814, -5.9674, -6.0532, -6.0551, -5.7833, -6.1145, -6.1761, -6.1776, -6.2093, -6.2106, -6.2544, -6.2777, -6.3908, -6.3919, -6.4348, -6.4391, -6.4457, -6.4825, -6.4848, -6.5063, -6.4843, -6.5629, -6.6141, -6.6373, -3.1707, -4.9511, -5.0291, -5.456, -4.6087, -3.2035, -5.6492, -5.2262, -4.699, -4.1103, -4.9051, -5.4448, -4.5847, -3.2134, -5.3049, -4.8698, -5.6293, -5.0303, -3.1771, -3.5976, -4.4121, -3.8153, -4.8265, -4.7441, -4.9716, -3.6527, -4.3698, -4.1501, -4.4825, -4.9469, -4.4886, -4.8725, -4.5176, -4.6247, -4.633, -3.6655, -4.4223, -4.674, -4.7599, -4.8984, -4.8758, -4.94, -4.9855, -5.0726, -5.0763, -5.2347, -5.3818, -4.9375, -5.6444, -5.7177, -5.7286, -5.7763, -5.8178, -5.8293, -5.5312, -5.9086, -5.9938, -6.051, -6.0542, -6.0884, -6.1103, -6.1984, -6.2188, -6.2321, -6.3558, -5.7525, -5.1079, -3.4148, -6.088, -3.33, -5.1384, -4.6088, -3.4087, -4.9677, -5.592, -5.2488, -4.9639, -5.2953, -3.912, -5.4542, -4.8165, -4.7152, -4.8645, -4.7904, -3.5013, -4.8463, -4.247, -4.1449, -4.6865, -4.7223, -4.4195, -4.7782, -4.7011, -4.8825, -3.5886, -4.8894, -5.1772, -5.2513, -5.3269, -3.8013, -5.3493, -5.5288, -5.5784, -4.9847, -5.4396, -5.7006, -5.7355, -4.2469, -5.8258, -5.8342, -5.879, -5.7377, -5.1293, -6.0244, -6.1801, -6.2214, -6.2813, -6.293, -6.3172, -6.3284, -6.3463, -6.392, -6.4404, -6.4477, -5.78, -5.1819, -5.4472, -5.5235, -5.2588, -3.4555, -5.1902, -5.3142, -5.093, -4.5572, -4.1868, -3.5301, -5.2291, -5.1635, -4.2034, -4.954, -4.5755, -5.3191, -4.8503, -4.6555, -3.0749, -4.6538, -4.334, -5.1366, -4.2425, -4.0331, -3.8028, -4.6706, -4.86, -4.8894, -4.7726, -4.6317, -4.818, -4.7433, -4.7795, -4.9163, -5.0102, -4.9876, -3.5587, -3.7563, -3.9532, -3.9711, -4.6735, -5.0012, -4.7717, -3.4407, -5.7415, -5.7475, -5.798, -5.8804, -5.8934, -5.8718, -5.9789, -6.0116, -6.0551, -6.086, -6.1513, -6.3851, -6.483, -6.5017, -6.5754, -6.6385, -6.2178, -6.6566, -6.6768, -5.6843, -6.8346, -6.8703, -4.7805, -5.5163, -4.8171, -5.426, -2.6357, -6.0018, -5.5125, -4.3797, -3.7313, -3.5194, -4.4273, -3.391, -4.412, -5.685, -4.4715, -4.7203, -5.5727, -4.4829, -3.7912, -3.8206, -3.9476, -4.4065, -3.7286, -3.9451, -4.2193, -4.3211, -4.3176, -4.4958, -4.7418, -3.6839, -3.6752, -4.0427, -4.7498, -4.8943, -4.8995, -5.0334, -5.1475, -5.2165, -5.3243, -5.3455, -5.3864, -5.4325, -4.7205, -5.4705, -5.1769, -5.6396, -5.475, -5.6527, -5.6645, -5.6871, -5.6738, -5.7366, -5.8243, -5.8441, -5.976, -6.0986, -6.278, -6.3069, -5.968, -5.4364, -5.3184, -4.3345, -4.4676, -5.8196, -4.3676, -3.8644, -3.3781, -4.7244, -4.7313, -5.4743, -4.113, -5.0308, -4.9482, -2.9635, -4.0957, -4.6535, -5.0984, -4.2181, -4.6685, -4.0369, -4.8234, -5.1286, -4.4022, -4.4494, -4.9383, -4.9919, -5.0561, -4.9637, -5.0303], \"loglift\": [30.0, 29.0, 28.0, 27.0, 26.0, 25.0, 24.0, 23.0, 22.0, 21.0, 20.0, 19.0, 18.0, 17.0, 16.0, 15.0, 14.0, 13.0, 12.0, 11.0, 10.0, 9.0, 8.0, 7.0, 6.0, 5.0, 4.0, 3.0, 2.0, 1.0, 1.3846, 1.3843, 1.3842, 1.384, 1.3836, 1.3834, 1.3833, 1.3831, 1.3827, 1.3827, 1.382, 1.381, 1.381, 1.3806, 1.3803, 1.3802, 1.3795, 1.3794, 1.3791, 1.379, 1.379, 1.3787, 1.3784, 1.3781, 1.377, 1.3768, 1.3767, 1.3767, 1.3764, 1.3762, 1.3621, 1.3672, 1.3668, 1.331, 1.3363, 1.2965, 1.3353, 1.3138, 1.2136, 1.2795, 1.2773, 1.2171, 1.217, 1.1738, 1.0824, 1.0916, 1.1253, 1.1813, 1.231, 1.0702, 0.7476, 1.0704, 0.6188, 0.6384, 0.6536, 0.737, 0.8335, -0.1143, 0.0796, 0.6582, 0.9566, 0.9309, -0.041, -0.5244, 0.6882, 0.0571, 0.7831, 0.6009, -0.4429, 1.6589, 1.6582, 1.6582, 1.658, 1.6579, 1.6577, 1.6577, 1.6575, 1.6573, 1.6572, 1.6572, 1.657, 1.657, 1.6568, 1.6567, 1.6567, 1.6566, 1.6562, 1.6556, 1.6555, 1.6555, 1.6554, 1.6553, 1.6553, 1.6548, 1.6548, 1.6546, 1.6545, 1.6542, 1.6542, 1.6438, 1.6525, 1.6224, 1.6106, 1.6265, 1.608, 1.5265, 1.5668, 1.6256, 1.5881, 1.5502, 1.2556, 1.3512, 1.2695, 0.92, 1.1787, 0.3609, 1.234, 0.9116, 1.0845, 0.3247, 1.0285, 0.2262, 1.1183, 1.0112, 0.6868, 0.1913, 0.6741, 0.2948, -0.3437, -0.1447, 0.8624, 0.3193, 0.1754, 0.6108, -0.0562, -0.644, 2.0735, 2.0732, 2.0729, 2.0724, 2.0722, 2.0717, 2.071, 2.0703, 2.0701, 2.0692, 2.0692, 2.0691, 2.0687, 2.0686, 2.0686, 2.0685, 2.0684, 2.0682, 2.0674, 2.0672, 2.0669, 2.0668, 2.0664, 2.0658, 2.0658, 2.0655, 2.0655, 2.0649, 2.0648, 2.0647, 1.9797, 1.9952, 2.0177, 2.0427, 2.032, 2.0283, 1.8293, 1.9186, 2.0383, 1.8316, 1.7801, 1.7364, 1.9215, 1.6409, 1.7752, 1.6017, 1.8304, 1.1983, 1.8687, 1.1856, 1.5942, 1.2975, 1.1706, 0.2992, 1.2726, 1.2815, 1.1824, 1.3677, 0.0322, 0.0558, 0.8049, 1.0132, -0.6154, 0.8289, 0.2126, 2.1484, 2.1466, 2.1462, 2.1455, 2.1451, 2.1445, 2.1445, 2.1437, 2.1432, 2.143, 2.143, 2.1428, 2.1425, 2.1424, 2.1422, 2.1422, 2.1419, 2.1412, 2.1409, 2.1409, 2.1405, 2.1405, 2.1404, 2.1401, 2.1401, 2.1399, 2.1396, 2.139, 2.1388, 2.1386, 2.1371, 2.1327, 2.1301, 2.1239, 2.1032, 1.9942, 2.0981, 2.069, 1.9028, 1.7784, 1.8853, 1.9386, 1.747, 1.4117, 1.9071, 1.79, 1.962, 1.5822, 0.59, 0.6234, 1.1053, 0.6316, 1.3086, 1.2204, 1.4038, 0.1724, 0.7965, 0.4988, 0.8615, 1.2136, 0.4056, 0.7966, -0.3331, -0.2121, -0.4528, 2.1543, 2.1537, 2.1534, 2.1532, 2.153, 2.1529, 2.1529, 2.1528, 2.1526, 2.1524, 2.1522, 2.1518, 2.1517, 2.1509, 2.1506, 2.1504, 2.1504, 2.1502, 2.1501, 2.1501, 2.1498, 2.1493, 2.149, 2.149, 2.1487, 2.1486, 2.148, 2.1479, 2.1478, 2.1468, 2.1464, 2.1372, 2.0931, 2.1455, 2.0414, 2.1154, 2.0636, 1.9326, 2.0615, 2.1101, 2.0749, 1.953, 1.9763, 1.4321, 2.0239, 1.6352, 1.5668, 1.6184, 1.541, 0.3239, 1.3958, 0.5105, 0.302, 0.9757, 1.0466, -0.1985, 0.756, -0.2885, 0.4637, 2.5417, 2.5397, 2.5388, 2.5385, 2.5382, 2.5382, 2.5381, 2.5373, 2.537, 2.5363, 2.5362, 2.5362, 2.5361, 2.5357, 2.5352, 2.5352, 2.5351, 2.5349, 2.5332, 2.5329, 2.5326, 2.5322, 2.5315, 2.5314, 2.5311, 2.531, 2.5307, 2.5303, 2.5297, 2.5296, 2.523, 2.5123, 2.5167, 2.4999, 2.4852, 2.3795, 2.4676, 2.4704, 2.4388, 2.387, 2.3001, 2.1304, 2.4187, 2.3963, 2.0934, 2.2891, 2.1521, 2.3869, 2.1006, 1.9384, 0.6922, 1.867, 1.4141, 2.1502, 0.789, 0.4138, 0.0224, 1.3798, 1.3583, 1.3275, 0.7701, -0.4515, 0.3483, -0.3307, -0.1306, -0.1588, 0.3918, -0.7666, 2.6699, 2.6697, 2.6695, 2.6695, 2.6682, 2.6673, 2.6672, 2.6668, 2.6635, 2.6635, 2.6631, 2.6624, 2.6623, 2.6622, 2.6616, 2.6613, 2.6608, 2.6605, 2.6599, 2.657, 2.6556, 2.6553, 2.6542, 2.6531, 2.6531, 2.6528, 2.6524, 2.6515, 2.6493, 2.6486, 2.5831, 2.5637, 2.4873, 2.5346, 2.2224, 2.5869, 2.4868, 2.2847, 2.1691, 2.042, 2.2077, 1.8052, 2.0621, 2.51, 1.9661, 1.8363, 2.3836, 1.3403, 0.3932, 0.4004, 0.4993, 0.9846, 0.0966, -0.178, 0.1933, 0.3277, -0.1374, 0.2617, 0.2898, 2.9222, 2.9222, 2.9217, 2.9199, 2.9194, 2.919, 2.9188, 2.9182, 2.9179, 2.9173, 2.9171, 2.9169, 2.9166, 2.9165, 2.9163, 2.9154, 2.915, 2.915, 2.9149, 2.9148, 2.9146, 2.9144, 2.9142, 2.9134, 2.9132, 2.9117, 2.9102, 2.9077, 2.9072, 2.9069, 2.9038, 2.8891, 2.8641, 2.8214, 2.8915, 2.6666, 2.5398, 2.3864, 2.6672, 2.5994, 2.8219, 2.134, 2.5801, 2.4353, 0.8036, 1.6738, 1.9209, 2.4175, 0.9797, 1.6319, 0.1433, 1.6721, 2.3997, 0.3553, -0.2649, 1.7214, 1.3229, 1.9384, -1.1385, 0.4415]}, \"token.table\": {\"Topic\": [7, 8, 1, 2, 3, 4, 5, 6, 7, 8, 1, 1, 1, 2, 2, 3, 4, 5, 8, 4, 4, 4, 2, 2, 5, 4, 8, 8, 1, 2, 3, 4, 5, 6, 7, 8, 1, 2, 3, 4, 5, 6, 7, 8, 1, 2, 5, 6, 7, 1, 3, 4, 5, 6, 7, 8, 3, 5, 6, 1, 5, 6, 7, 6, 7, 4, 2, 3, 4, 5, 6, 8, 2, 3, 4, 6, 8, 1, 2, 3, 4, 6, 3, 4, 5, 6, 2, 4, 6, 2, 1, 2, 5, 6, 1, 3, 3, 4, 5, 6, 7, 4, 1, 2, 3, 4, 5, 6, 7, 8, 1, 7, 8, 3, 2, 5, 6, 6, 4, 3, 4, 5, 6, 8, 2, 3, 3, 5, 5, 7, 3, 5, 1, 8, 1, 1, 4, 6, 7, 1, 8, 4, 1, 2, 1, 6, 7, 5, 4, 5, 6, 4, 6, 7, 6, 8, 6, 8, 5, 3, 5, 7, 5, 5, 5, 4, 4, 3, 6, 1, 2, 4, 5, 6, 7, 6, 2, 3, 4, 5, 8, 1, 2, 3, 4, 5, 6, 7, 8, 1, 2, 6, 8, 2, 1, 2, 3, 4, 5, 6, 7, 8, 1, 2, 3, 4, 5, 6, 7, 8, 3, 4, 5, 4, 1, 2, 3, 4, 5, 6, 7, 8, 5, 6, 7, 3, 1, 2, 3, 4, 5, 6, 7, 8, 7, 7, 6, 1, 6, 1, 7, 3, 4, 5, 6, 7, 8, 1, 5, 1, 2, 3, 4, 6, 6, 4, 5, 1, 2, 5, 7, 2, 6, 7, 1, 4, 6, 7, 8, 1, 2, 3, 4, 5, 7, 8, 1, 3, 7, 1, 2, 4, 6, 8, 1, 2, 3, 4, 5, 6, 7, 8, 2, 1, 3, 4, 5, 6, 7, 7, 4, 5, 6, 7, 1, 2, 8, 1, 3, 4, 5, 6, 7, 3, 4, 6, 6, 6, 4, 1, 3, 4, 5, 6, 3, 6, 1, 2, 3, 5, 2, 5, 7, 5, 3, 4, 6, 5, 2, 3, 4, 5, 6, 7, 3, 4, 6, 3, 3, 4, 5, 6, 4, 8, 2, 1, 2, 5, 1, 1, 2, 7, 4, 4, 4, 8, 8, 1, 2, 3, 4, 5, 5, 3, 7, 4, 5, 7, 4, 2, 5, 5, 8, 6, 3, 5, 8, 1, 2, 3, 4, 5, 6, 7, 8, 1, 3, 4, 6, 8, 3, 1, 2, 3, 5, 8, 1, 6, 4, 6, 4, 6, 5, 6, 2, 4, 5, 6, 8, 4, 7, 4, 6, 7, 2, 4, 5, 4, 5, 6, 7, 3, 4, 5, 3, 3, 5, 6, 8, 2, 6, 8, 8, 3, 1, 8, 8, 1, 2, 3, 4, 5, 6, 7, 8, 1, 2, 7, 6, 8, 3, 5, 4, 7, 7, 4, 2, 2, 4, 1, 2, 3, 4, 5, 6, 7, 8, 6, 4, 6, 3, 8, 8, 6, 8, 2, 7, 2, 4, 8, 1, 1, 2, 1, 2, 6, 1, 8, 1, 3, 5, 6, 7, 3, 4, 7, 8, 3, 7, 4, 5, 6, 7, 1, 1, 2, 4, 6, 8, 8, 1, 2, 4, 5, 6, 7, 4, 7, 3, 3, 6, 3, 5, 1, 2, 4, 6, 8, 1, 3, 4, 6, 8, 1, 2, 8, 2, 4, 5, 6, 7, 8, 1, 3, 4, 5, 6, 7, 8, 4, 8, 3, 4, 5, 1, 2, 3, 4, 5, 6, 7, 8, 1, 2, 5, 6, 7, 1, 2, 2, 3, 5, 6, 7, 5, 1, 2, 3, 4, 7, 3, 5, 3, 4, 5, 6, 7, 1, 2, 3, 4, 5, 6, 7, 8, 1, 4, 2, 2, 1, 4, 1, 2, 4, 6, 7, 1, 1, 2, 8, 1, 2, 3, 5, 6, 7, 8, 1, 2, 3, 6, 7, 8, 5, 1, 2, 3, 2, 6, 6, 5, 4, 6, 3, 7, 6, 7, 1, 4, 6, 7, 8, 5, 6, 7, 1, 2, 3, 4, 5, 6, 7, 8, 2, 1, 7, 6, 7, 6, 7, 2, 4, 7, 5, 5, 1, 1, 4, 5, 6, 7, 4, 5, 2, 3, 5, 6, 7, 1, 2, 3, 4, 5, 6, 7, 8, 1, 4, 5, 6, 8, 5, 8, 1, 2, 3, 4, 5, 6, 1, 8, 1, 3, 4, 5, 6, 7, 8, 7, 2, 3, 5, 6, 8, 1, 2, 3, 4, 5, 6, 7, 8, 4, 5, 4, 5, 7, 8, 4, 4, 3, 8, 2, 4, 8, 1, 2, 4, 5, 6, 7, 1, 2, 7, 2, 5, 6, 7, 2, 7, 1, 2, 3, 4, 5, 6, 7, 8, 4, 6, 6, 6, 1, 6, 8, 2, 8, 1, 2, 3, 4, 5, 6, 7, 8, 1, 8, 8, 8, 1, 3, 4, 5, 6, 7, 8, 2, 2, 6, 3, 5, 3, 3, 4, 5, 6, 3, 4, 5, 3, 4, 3, 2, 1, 2, 3, 5, 1, 2, 3, 4, 5, 6, 7, 8, 8, 3, 5, 7, 1, 6, 8, 7, 1, 2, 3, 4, 5, 6, 7, 2, 2, 5, 3, 1, 2, 3, 4, 5, 6, 7, 8, 1, 3, 6, 5, 6, 7, 1, 2, 3, 4, 5, 7, 2, 8, 2, 4, 8, 2, 3, 6, 1, 1, 5, 8, 5, 6, 2, 3, 4, 7, 1, 1, 2, 3, 4, 5, 8, 5, 6, 7, 6, 3, 4, 1, 2, 5, 6, 7, 1, 2, 5, 6, 7, 8, 2, 3, 4, 5, 6, 7, 7, 5, 6, 2, 3, 4, 5, 6, 7, 1, 3, 4, 5, 6, 7, 4, 8, 4, 8, 3, 7, 1, 2, 3, 4, 5, 6, 7, 8, 1, 5, 4, 1, 6, 7, 1, 2, 5, 7, 7, 8, 3, 1, 2, 5, 6, 7, 4, 5, 4, 8, 3, 4, 6, 8, 3, 6, 4, 1, 2, 3, 4, 5, 6, 8, 2, 2, 1, 2, 8, 3, 6, 7, 1, 3, 6, 7, 5, 6, 5, 7, 2, 5, 8, 3, 4, 5, 7, 1, 3, 4, 5, 6, 7, 1, 2, 3, 4, 5, 6, 7, 8, 1, 2, 4, 5, 8, 1, 2, 5, 7, 2, 3, 6, 1, 3, 7, 3, 2, 8, 1, 2, 8, 2, 7, 5, 2, 6, 5, 3, 1, 8, 5, 5, 3, 5, 6, 5, 2, 2, 7, 3, 4], \"Freq\": [0.9875093069377799, 0.9918872028118536, 0.6508077257480867, 0.18242337767181216, 0.01831277150373404, 0.004226024193169394, 0.08381614649785964, 0.0035216868276411613, 0.038738555104052774, 0.01831277150373404, 0.9994347874571438, 0.9961567246374785, 0.08815117999512445, 0.9104930098126552, 0.9940780460031389, 0.4521431064524187, 0.08967347622751518, 0.0028317939861320584, 0.45403096910984003, 0.9904597346799302, 0.9876332160892627, 0.9931533614388552, 0.9931282029165015, 0.9970941451540655, 0.9976405017814306, 0.015311408064106488, 0.9799301161028152, 0.9875045786821148, 0.20990111790835755, 0.10000006089030243, 0.026072623136415483, 0.08613866631144862, 0.11452152187767307, 0.03003302158751657, 0.4207923354294904, 0.012541261761820107, 0.1754827616050677, 0.14764756493667763, 0.16459072812613246, 0.13312485363143067, 0.06656242681571534, 0.0012102259421039152, 0.026624970726286133, 0.285613322336524, 0.72962078698535, 0.005106707170501138, 0.0740472539722665, 0.1602229374744732, 0.030640243023006823, 0.0003728961781852795, 0.41093158836017807, 0.47842579661171364, 0.00018644808909263976, 0.052578361124124416, 0.05500218628232873, 0.002610273247296957, 0.05964044782264558, 0.07367349436915042, 0.8630323626100479, 0.010233880523144459, 0.0682258701542964, 0.9005814860367124, 0.0170564675385741, 0.08072897249854065, 0.9168504733762831, 0.9963875151624073, 0.9986836477400034, 0.6480188491464856, 0.09854487824298626, 0.1844361339878459, 0.06748598665667542, 0.0015337724240153505, 0.07116234024828808, 0.029650975103453367, 0.07116234024828808, 0.053371755186216056, 0.7738904502001328, 0.2334895284336449, 0.5813216654417909, 0.01153034708314296, 0.08936018989435793, 0.08263415409585786, 0.1665468149145799, 0.8291134916399738, 0.00362058293292565, 0.00362058293292565, 0.35624027983080386, 0.13405557568545928, 0.5089146854725769, 0.9987179493529104, 0.1784355092975686, 0.52300063069977, 0.1199824976311237, 0.17920462787212707, 0.9940976225223013, 0.997062851933913, 0.7842778252414265, 0.18954326601348515, 0.02496977157063876, 0.0005674948084236082, 0.0005674948084236082, 0.9872165773201759, 0.4736876289273479, 0.2301570424275786, 0.13274480782767087, 0.04573421861724481, 0.06604219294908999, 0.03302109647454499, 0.006769324777281723, 0.011722489248463471, 0.9984965680994885, 0.9912159822789461, 0.99801398212777, 0.9866395643509284, 0.9964962956863794, 0.028088589149294643, 0.9710626534470433, 0.9965979486052963, 0.9946480158565452, 0.0816605226205451, 0.085858026119732, 0.8005783946631011, 0.0007631824543976178, 0.03090888940310352, 0.997268094167423, 0.9974793715528837, 0.9965042722016023, 0.9905855628300855, 0.06870688207032272, 0.9226352735157621, 0.995432349791526, 0.0018536915266136424, 0.9927200595104736, 0.00478035341658334, 0.9964783510178634, 0.951452074484365, 0.03427969844018929, 0.012950108299627065, 0.0007617710764486509, 0.05622570002639188, 0.943613922182055, 0.9941865350485456, 0.9511470046895563, 0.048382044169179746, 0.9953136303567525, 0.9892471092639215, 0.9978737091590466, 0.9973066342776444, 0.9964223040306656, 0.007775300467400459, 0.9913508095935586, 0.22236439387461565, 0.7769974222745191, 0.9991482209070435, 0.9844292321607263, 0.9988421379726311, 0.022186899804246603, 0.9651301414847272, 0.9966928027401752, 0.16031895494058535, 0.005434540845443571, 0.8314847493528664, 0.999440747345334, 0.9977456518109815, 0.9993973105434822, 0.99206039818934, 0.9923733303069996, 0.9951084054622382, 0.9942094598132651, 0.052491468237431976, 0.733830725959299, 0.06508942061441565, 0.09763413092162347, 0.03779385713095102, 0.013647781741732314, 0.9927906565759389, 0.18404948979081104, 0.07586269292452784, 0.6900206678178793, 0.042878913392124435, 0.006596755906480682, 0.1149997046143447, 0.13966537942020693, 0.15536171793302836, 0.2585090853029977, 0.13454004439561218, 0.11147603678493581, 0.054136351197282044, 0.031072343586605673, 0.39351949926438606, 0.5317019188534071, 0.005256939875669279, 0.06909120979451053, 0.9986485623013291, 0.16069098017646585, 0.09984682263392053, 0.1296448587637312, 0.21919497781352865, 0.15679071366732833, 0.11903613385887712, 0.1140437927271811, 0.0007800533018275041, 0.005090523498993468, 0.031931465584595385, 0.6228949663313824, 0.016659895087614986, 0.24665900226941073, 0.00694162295317291, 0.06201183171501133, 0.007404397816717771, 0.782021715200698, 0.025678324976739338, 0.18908584755598967, 0.9911126904464055, 0.04169985253534653, 0.006949975422557754, 0.02432491397895214, 0.07876638812232122, 0.594222898628688, 0.001158329237092959, 0.0451748402466254, 0.20734093343963966, 0.0010353257766205866, 0.9959833971090044, 0.00310597732986176, 0.9944985968507748, 0.5282507413245225, 0.16452334537844626, 0.06792138109715579, 0.08352169831028343, 0.008400170807068737, 0.0036000732030294583, 0.10248208384623858, 0.04128083939473779, 0.9965771807324039, 0.9985937388573333, 0.9865820744086543, 0.9975028937216023, 0.001445656367712467, 0.9945523862241004, 0.9703939281705082, 0.45958737006027983, 0.35219863804619467, 0.13014058201706935, 0.036857997004834324, 0.01183096200155176, 0.009555777001253343, 0.07479764276037873, 0.9225042607113376, 0.856443470809821, 0.11041750532754717, 0.031143398938538944, 0.9823234746672003, 0.016450393116436368, 0.992592658706962, 0.9919715176866766, 0.9952318260100828, 0.5227058335157543, 0.4770707030432298, 0.991523414623312, 0.9937609291373395, 0.004837939135183017, 0.9933901690909129, 0.9886433477005426, 0.1793901125728607, 0.14704107587939402, 0.058816430351757605, 0.0029408215175878803, 0.614631697175867, 0.770627524639242, 0.08239786609604202, 0.06639252519968854, 0.014226969685647545, 0.002371161614274591, 0.062242992374708005, 0.001778371210705943, 0.8150309147083656, 0.040293663199065265, 0.14377511641484653, 0.7451970918954925, 0.22663028564514742, 0.00035300667545973117, 0.013414253667469785, 0.014120267018389247, 0.27083572185036475, 0.2383503710218054, 0.029622657077383648, 0.21744026014365223, 0.09509121851731557, 0.036592694036768035, 0.10330590493373289, 0.008712546199230484, 0.9980092864955782, 0.15389286622391957, 0.28789083719455677, 0.018724607297206944, 0.33002120361327236, 0.0965487563762233, 0.11234764378324166, 0.9921131687247066, 0.004392356514992044, 0.04831592166491248, 0.9311795811783132, 0.017569426059968175, 0.5525718801914744, 0.24446507313772722, 0.2020372505270473, 0.027241335308989915, 0.17941707048334737, 0.11178341040585517, 0.4677994822026544, 0.04884653227818881, 0.16532672463386983, 0.41766019167432555, 0.5673104232188722, 0.013604566504049691, 0.9931543237070561, 0.9967318891899312, 0.9951164405404045, 0.001983265543673421, 0.9091855899497155, 0.0008499709472886091, 0.08726368392163053, 0.00028332364909620304, 0.9682414561556428, 0.027777418824137295, 0.03360752731793758, 0.07497063786309152, 0.8582845438119443, 0.03360752731793758, 0.9953579471142695, 0.013015516670628748, 0.9761637502971561, 0.9933577345742826, 0.9236622140329551, 0.0711753720095447, 0.004852866273378048, 0.9945060798419088, 0.15310344500996728, 0.4484341340182648, 0.22505369785618143, 0.12131147282210522, 0.033465233881960064, 0.018405878635078036, 0.9944396305538684, 0.9986473655144805, 0.9948334773797786, 0.9960444189206316, 0.782315784458688, 0.17495958124044894, 0.020253340645686558, 0.022449486016905582, 0.9962965854876021, 0.9985249192590993, 0.9945158010045931, 0.3556158575909255, 0.6177231629866275, 0.026210730539570206, 0.9971570304456632, 0.9967778400418393, 0.9945852792812884, 0.9887816296676482, 0.9948402784325373, 0.9887801736520793, 0.026816736352764943, 0.9654025086995379, 0.9861245715671648, 0.06824289053250691, 0.03873245138331473, 0.07193169542615593, 0.003688804893649022, 0.8170702839432584, 0.995736191941604, 0.9931349268106745, 0.9850914400249735, 0.9236151585669945, 0.07539715580138731, 0.9880364876816828, 0.9862491380410633, 0.9939846055381717, 0.9983607696752517, 0.9970769392717238, 0.002191377888509283, 0.9979419858856509, 0.4049095503074182, 0.009904262381620302, 0.5843514805155978, 0.05855383731354775, 0.07169857630230336, 0.05138397968331741, 0.04540909832479213, 0.5843433968637725, 0.07767345766082864, 0.08006341020423877, 0.029874406792626405, 0.08097676578798688, 0.6181884802838998, 0.12047762714798047, 0.17972891918797088, 0.9961469659403485, 0.9983488073461714, 0.5755194525130248, 0.37324129199741757, 0.028352796557626958, 0.011002577768631358, 0.011848929904679922, 0.14210849370686526, 0.8567112049185307, 0.9556520299109584, 0.043575328407889614, 0.7687587304442003, 0.23079014740608128, 0.9908892912852755, 0.006881175633925524, 0.014381702516577116, 0.6687491670208359, 0.19518024843926085, 0.12018994245996589, 0.001027264465469794, 0.4548915600795989, 0.5437375679076456, 0.12549673620004245, 0.6755462608215052, 0.19759060593198174, 0.9950987259645756, 0.7819651906287928, 0.21668914921038837, 0.4104082152791113, 0.07333312937589136, 0.08105240615230097, 0.4335660456083401, 0.02263149504330194, 0.09699212161415117, 0.8761621652478323, 0.9942655101200356, 0.4519008258045992, 0.541253943634145, 0.006162283988244535, 0.9971692346158154, 0.9520442009772909, 0.021156537799495355, 0.02569008161367293, 0.9928007946349843, 0.9887498034653671, 0.9964279873600329, 0.0035597308271272388, 0.9970409039294359, 0.2231007288995081, 0.13479875058179067, 0.16939905138370462, 0.13856875914374253, 0.1602672528669767, 0.08042684932164017, 0.07623795091947141, 0.017258261416935285, 0.8418098648406503, 0.15705166768236317, 0.0009694547387800196, 0.9952659648337799, 0.9917918336256879, 0.03616500009035262, 0.9609557166865124, 0.9965560458683935, 0.9944210475977424, 0.9989250511907466, 0.9994526736690524, 0.9980970181676901, 0.9665332632729944, 0.03009965179742889, 0.9935582139680027, 0.4414192407765786, 0.003376055378788364, 0.4312910746402135, 0.05148484452652255, 0.05570491375000801, 0.014348235359850548, 0.001688027689394182, 0.9995087865503931, 0.9735703285262722, 0.021475816070432478, 0.7131350498283503, 0.28689341085048575, 0.9948423719608354, 0.9889192929599911, 0.9909406694831105, 0.9932808660095552, 0.9930292680459246, 0.9940664523286588, 0.013068227610441917, 0.9801170707831439, 0.9885330532465412, 0.0685678505398622, 0.9308605164199473, 0.04891867984180061, 0.9498377002616284, 0.9939826109452776, 0.9992104992558609, 0.9910704190670648, 0.15026659992385077, 0.001391357406702322, 0.21148632581875293, 0.008348144440213931, 0.6288935478294495, 0.8132535278860239, 0.00558937132567714, 0.10340336952502709, 0.07545651289664139, 0.8558245103484562, 0.14438115211257574, 0.1604120117208386, 0.8362462250365029, 0.3195392736151742, 0.6792000703748545, 0.9917796829882813, 0.5473184906628203, 0.11863343200754325, 0.0005731083671861992, 0.3238062274602026, 0.009742842242165388, 0.9898955092563538, 0.1209459441122291, 0.5625937142252722, 0.17478639665251172, 0.08895379115351043, 0.0007802964136272845, 0.05306015612665534, 0.015245261913329294, 0.9833193934097395, 0.9926200105659173, 0.9939308124029573, 0.002831711716247742, 0.08521844784754502, 0.9128484582991264, 0.006714759831644459, 0.15443947612782255, 0.21151493469680047, 0.023501659410755608, 0.6043283848480013, 0.0011046280928136353, 0.16127570155079074, 0.15464793299390894, 0.0011046280928136353, 0.6815555332660129, 0.9818588480382867, 0.01738708376734466, 0.9897292661986501, 0.002146274743317254, 0.47432671827311323, 0.2586261065697292, 0.1652631552354286, 0.0987286381925937, 0.9946115887882789, 0.998508230537772, 0.7445780064465799, 0.09167848997844745, 0.007433391079333576, 0.12698709760528193, 0.028494665804112043, 0.0006194492566111313, 0.6988241650757694, 0.3009222425122191, 0.005860371146250781, 0.053644935877218684, 0.9403641700830099, 0.4644624491812122, 0.2630002188443139, 0.007169474389213464, 0.07408456868853912, 0.01876012465177523, 0.05006682948467402, 0.060343076109213314, 0.06201595346669646, 0.4559979260805324, 0.21142994934952017, 0.16055607632722943, 0.16989073192764975, 0.0018669311200840632, 0.3226119804003987, 0.6769090660186936, 0.22968819164426088, 0.037092502998452064, 0.19877777247888415, 0.0009510898204731299, 0.5330858443751894, 0.9945519244889558, 0.7297883984222264, 0.029603409459808126, 0.2104416281164621, 0.010296838072976738, 0.019306571386831384, 0.9938555489656014, 0.005774033690431961, 0.3458346524152315, 0.3949346339309743, 0.22059411985333696, 0.01138550296017223, 0.026328975595398284, 0.47770758902415184, 0.013240232511755871, 0.07308608346489241, 0.2584493386294746, 0.009532967408464228, 0.043957571939029494, 0.04978327424420207, 0.07467491136630311, 0.9962492632840806, 0.9929772803114025, 0.9985092359870849, 0.9965551257540369, 0.9984656999847398, 0.9892597987569673, 0.9147190112394131, 0.0042016274496271344, 0.013346346016462661, 0.0627772571885466, 0.004943091117208393, 0.9985500644388682, 0.8445109557867277, 0.14711349041482544, 0.007156872506667184, 0.48327646971670357, 0.26149067075127863, 0.028475211078743533, 0.020855084170347375, 0.0008021186219364375, 0.18528940166731706, 0.0192508469264745, 0.047705891888080804, 0.26524475889772925, 0.003816471351046464, 0.6430754226513292, 0.038164713510464646, 0.001908235675523232, 0.9989088079223557, 0.32797027547012714, 0.26170518144930865, 0.4093337453437904, 0.003374743970871629, 0.9955494714071306, 0.9822300039343665, 0.9942390161316427, 0.9878986838976186, 0.9978379356766236, 0.9528583762410568, 0.04350951489685191, 0.9892074832317185, 0.9942926491041955, 0.8447657014896381, 0.0007110822403111432, 0.08532986883733719, 0.06826389506986975, 0.9982708179765946, 0.02530430998954811, 0.9446942396097961, 0.02530430998954811, 0.31910071251948896, 0.4729994212822942, 0.0004347421151491675, 0.05999441189058512, 0.004782163266640843, 0.0021737105757458374, 0.05695121708454094, 0.08347048610864016, 0.9957709405248236, 0.09442844113751554, 0.8970701908063976, 0.8567356443842651, 0.14215746311685815, 0.9945119963826231, 0.9923599500745361, 0.042316805642666065, 0.9521281269599864, 0.004231680564266606, 0.993791579883895, 0.9927412247077183, 0.9915707346900666, 0.10281423782940333, 0.04139274510014939, 0.057415743203433026, 0.5461171853535839, 0.25102697028477694, 0.9945065766031851, 0.9983818819592558, 0.258290900807448, 0.3498834188242735, 0.0009159251801682551, 0.2967597583745147, 0.09342436837716203, 0.2606270888142232, 0.17972351344654272, 0.12289505047201287, 0.07558465518779835, 0.09518067690315347, 0.17328482059721176, 0.09238124522953131, 0.0002799431673622161, 0.9468425307538076, 0.0005833903455045025, 0.0005833903455045025, 0.028586126929720627, 0.023919004165684606, 0.08791677781839795, 0.9011469726385789, 0.05892297050978318, 0.006121867065951499, 0.16720349423880032, 0.27586663465943945, 0.48554058166827824, 0.006121867065951499, 0.899766924359244, 0.09983715188095721, 0.480941495629558, 0.07350634212678835, 0.1920711173494781, 0.05670489249780815, 0.0691150541555776, 0.09603555867473905, 0.03169364361830354, 0.9884152666337384, 0.0026188556561382173, 0.39544720407687084, 0.23176872556823225, 0.0013094278280691087, 0.3666397918593505, 0.2868290431134355, 0.3500286627824975, 0.04436127149847625, 0.024915234677226387, 0.1409837669540615, 0.01701528221859363, 0.06866881752503858, 0.06745344022371046, 0.04044608772637437, 0.9545276703424351, 0.005122289793840186, 0.9834796404173157, 0.012805724484600465, 0.9919869109638006, 0.9945548432049457, 0.9936110230318617, 0.005975099540160182, 0.9918665236665902, 0.002789767394619632, 0.27339720467272394, 0.7225497552064847, 0.0574593197740799, 0.6672695199570569, 0.001235684296216772, 0.008031947925409018, 0.001235684296216772, 0.2644364393903892, 0.2776407560631702, 0.11612858546872983, 0.6053369368973446, 0.2701681089269481, 0.003052746993524837, 0.6761834590657514, 0.04884395189639739, 0.12570490896807365, 0.8746966582361791, 0.15026270708387357, 0.25540403470346784, 0.09300963597117953, 0.07449284345517812, 0.19304288289670443, 0.06704355910966031, 0.08981708553738618, 0.07662121041104035, 0.9829644345681396, 0.015256654195070904, 0.9936437171016774, 0.9949365147578879, 0.9930426996473031, 0.9973597208387806, 0.9949905423208094, 0.9682093842143125, 0.030960183797550687, 0.263534528620656, 0.3778679702683868, 0.011757694353844654, 0.14798477376390684, 0.03567852079787343, 0.11636063032942813, 0.04135464910662603, 0.005270690572413121, 0.9810421965362334, 0.01715654079793095, 0.9964150394968933, 0.992224074980693, 0.21642427084563054, 0.30991955585094294, 0.3921607787722825, 0.04674764250265619, 0.02077673000118053, 0.0017313941667650443, 0.011254062083972787, 0.9973402877182542, 0.03904191949997484, 0.9593157362850961, 0.995341031603085, 0.9981519079507621, 0.9975832800482303, 0.7407348003688665, 0.0071029364418932405, 0.2384557234064159, 0.012176462471816984, 0.9448074609977447, 0.013820321902892544, 0.041460965708677626, 0.9572170852582009, 0.039608982838270385, 0.9934925511795689, 0.9979325116234012, 0.04926555617878639, 0.8966331224539122, 0.05172883398772571, 0.9946360483240775, 0.24014103481343235, 0.020953925824900875, 0.4162143108097217, 0.09436804004595646, 0.08683065665570436, 0.05653037542689086, 0.08396645096740855, 0.001055233674635296, 0.9961166460987878, 0.4933976134126878, 0.011421241051219624, 0.4945397375178097, 0.09364752038499777, 0.0026756434395713647, 0.9043674825751212, 0.9935714038020227, 0.7384574530521152, 0.054922285017270464, 0.1116666363621281, 0.011713283534488961, 0.05804582729313419, 0.013535349862076135, 0.011973578724144273, 0.9979110798816122, 0.9843906237897202, 0.015121207738705381, 0.9954067856603074, 0.4976337243589979, 0.28537050454629465, 0.05293975791053169, 0.005041881705764923, 0.029747102064013046, 0.12705541898527606, 0.0005041881705764923, 0.0015125645117294768, 0.9930466834954115, 0.9989817889604204, 0.9954576526664056, 0.9907217701415102, 0.9721443484759034, 0.021019337264343855, 0.809059868042996, 0.06578751077128349, 0.10437441612751708, 0.01201887216013833, 0.004428005532682543, 0.004428005532682543, 0.28798607017051736, 0.7088887881120428, 0.9932448492490954, 0.9960016501433667, 0.9950799874639424, 0.9952733438069263, 0.9911280655303604, 0.9946739105149447, 0.9917723416541603, 0.9948363759197079, 0.9932541697298136, 0.9906474315418592, 0.06965141232347453, 0.9286854976463271, 0.021775762765624904, 0.11432275451953075, 0.03266364414843736, 0.8329229257851526, 0.9953635911666715, 0.6345069430013196, 0.18674219657259844, 0.06664405528241431, 0.002082626727575447, 0.07428035328352428, 0.0354046543687826, 0.22223987298768286, 0.6379474925494646, 0.13790777832717818, 0.9917246453079226, 0.9905411454784625, 0.9924338520870921, 0.2551785498938898, 0.058281520654777284, 0.0010501174892752665, 0.6620990769880555, 0.023102584764055863, 0.33294170954448543, 0.2724068532636699, 0.024764259387606357, 0.30634306057261196, 0.062369245865082676, 0.0009171947921335687, 0.025589137694192157, 0.1798993922743206, 0.2334039529076315, 0.21634452777817004, 0.3124976512351345, 0.032567993428971834, 0.998963680804995, 0.910069861972328, 0.08667332018784077, 0.012096616388771058, 0.28085187615668455, 0.19985714033621746, 0.3076748081491769, 0.11938834435874043, 0.07994285613448698, 0.019661027317981066, 0.0023593232781577277, 0.04482714228499683, 0.8926106402363404, 0.006684749288113562, 0.03303052589420819, 0.22399563600367584, 0.7736145576793619, 0.8564804241218048, 0.14313239044567405, 0.9955349596295677, 0.9876764244813685, 0.14806836042563443, 0.2727367023323218, 0.01620609390670318, 0.21036300432066907, 0.017391905655974142, 0.15723863795332987, 0.057946667481041124, 0.12008320314283966, 0.9955512379096841, 0.997417546198188, 0.9920778649090658, 0.9766882151033132, 0.02281474139840887, 0.0005432081285335446, 0.03613822322097666, 0.9631622101938561, 0.2450937857330633, 0.7509256413949174, 0.987706014247578, 0.9807172033570193, 0.9867426239857557, 0.5211802612515989, 0.45075049621759905, 0.0007825529448222205, 0.005477870613755544, 0.021911482455022176, 0.8115799179978208, 0.1881924447531179, 0.003789506598552321, 0.9928507288207081, 0.00036900023335278005, 0.988182624918745, 0.00036900023335278005, 0.010701006767230622, 0.9989611265797689, 0.990774082801478, 0.9939284994392161, 0.011959820658717925, 0.04584597919175205, 0.07973213772478617, 0.19733704086884576, 0.05182588952111101, 0.2391964131743585, 0.37274774386337534, 0.9981002282680027, 0.9966852474855458, 0.896685359424032, 0.031707403091373126, 0.06975628680102088, 0.99646040609274, 0.003284057992562411, 0.9958905862445512, 0.996037050385404, 0.9985025568534066, 0.7846937629103865, 0.21477092287608437, 0.1149181014772693, 0.8848693813749736, 0.14567343014529407, 0.854176022215588, 0.06798498093725586, 0.3365256556394165, 0.591469334154126, 0.002477734974931091, 0.7854419870531558, 0.21060747286914272, 0.9931115151916738, 0.2647973613912396, 0.05649010376346445, 0.00023537543234776855, 0.03860157090503404, 0.0007061262970433056, 0.6388089233918438, 0.03982701119533814, 0.320607440122472, 0.013939453918368348, 0.19515235485715687, 0.018917830317785614, 0.12147238414578132, 0.014935129198251802, 0.27480637724783313, 0.01764410770566015, 0.8748895357465144, 0.04948957039392482, 0.00043034409038195494, 0.05723576402080001, 0.9305847869483335, 0.06824288437621112, 0.9897681690403867, 0.0049242197464695854, 0.14942190255802934, 0.000625196245012675, 0.8496416969722254, 0.9930740806667568, 0.004020542836707518, 0.9866841927057145, 0.9930967785662189, 0.9919547078802562, 0.004529473551964641, 0.2903675128905305, 0.6530570457203381, 0.05613052293794641, 0.9980999662009302, 0.9973080359331724, 0.9975517419666042, 0.014752829616006671, 0.9810631694644436, 0.9978944615785386, 0.9940471776134647, 0.989375053154718, 0.9944203752977596, 0.9944169278368135, 0.9979741779617013, 0.4193616299871885, 0.5552387082347857, 0.02541585636285991, 0.9985178439379201, 0.9978875636462686, 0.9948646925559607, 0.9991633223747799, 0.9667212833946631, 0.031387054655670876], \"Term\": [\"abnormality\", \"accessory\", \"accord\", \"accord\", \"accord\", \"accord\", \"accord\", \"accord\", \"accord\", \"accord\", \"acquire\", \"acquisition\", \"action\", \"action\", \"activity\", \"actuator\", \"actuator\", \"actuator\", \"actuator\", \"adapter\", \"additive\", \"adhesive\", \"aerial\", \"agent\", \"air\", \"anatomical\", \"anatomical\", \"anatomy\", \"apparatus\", \"apparatus\", \"apparatus\", \"apparatus\", \"apparatus\", \"apparatus\", \"apparatus\", \"apparatus\", \"apply\", \"apply\", \"apply\", \"apply\", \"apply\", \"apply\", \"apply\", \"apply\", \"area\", \"area\", \"area\", \"area\", \"area\", \"arm\", \"arm\", \"arm\", \"arm\", \"arm\", \"arm\", \"arm\", \"arrangement\", \"arrangement\", \"arrangement\", \"array\", \"array\", \"array\", \"array\", \"article\", \"article\", \"articulation\", \"artificial\", \"assembly\", \"assembly\", \"assembly\", \"assembly\", \"assembly\", \"assist\", \"assist\", \"assist\", \"assist\", \"assist\", \"associate\", \"associate\", \"associate\", \"associate\", \"associate\", \"attachment\", \"attachment\", \"attachment\", \"attachment\", \"automate\", \"automate\", \"automate\", \"automation\", \"autonomous\", \"autonomous\", \"autonomous\", \"autonomous\", \"avoidance\", \"axial\", \"axis\", \"axis\", \"axis\", \"axis\", \"axis\", \"ball\", \"base\", \"base\", \"base\", \"base\", \"base\", \"base\", \"base\", \"base\", \"basis\", \"batch\", \"battery\", \"bearing\", \"behavior\", \"bin\", \"bin\", \"blade\", \"block\", \"body\", \"body\", \"body\", \"body\", \"body\", \"bot\", \"bracket\", \"brake\", \"brush\", \"buffer\", \"buffer\", \"cable\", \"cable\", \"calculate\", \"calculate\", \"calibration\", \"camera\", \"camera\", \"camera\", \"camera\", \"candidate\", \"candidate\", \"cannula\", \"capture\", \"capture\", \"capturing\", \"cargo\", \"carrier\", \"cart\", \"cartridge\", \"catheter\", \"catheter\", \"cell\", \"cell\", \"chamber\", \"changer\", \"charge\", \"charging\", \"charging\", \"chassis\", \"circuit\", \"circuit\", \"circuit\", \"clean\", \"cleaner\", \"cleaning\", \"coat\", \"coating\", \"coil\", \"column\", \"communication\", \"communication\", \"communication\", \"communication\", \"communication\", \"communication\", \"compartment\", \"component\", \"component\", \"component\", \"component\", \"component\", \"comprise\", \"comprise\", \"comprise\", \"comprise\", \"comprise\", \"comprise\", \"comprise\", \"comprise\", \"computer\", \"computer\", \"computer\", \"computer\", \"computing\", \"configure\", \"configure\", \"configure\", \"configure\", \"configure\", \"configure\", \"configure\", \"configure\", \"connect\", \"connect\", \"connect\", \"connect\", \"connect\", \"connect\", \"connect\", \"connect\", \"connector\", \"connector\", \"connector\", \"console\", \"contact\", \"contact\", \"contact\", \"contact\", \"contact\", \"contact\", \"contact\", \"contact\", \"container\", \"container\", \"container\", \"continuum\", \"control\", \"control\", \"control\", \"control\", \"control\", \"control\", \"control\", \"control\", \"conveying\", \"conveyor\", \"cooking\", \"coordinate\", \"coordinate\", \"correction\", \"counter\", \"couple\", \"couple\", \"couple\", \"couple\", \"couple\", \"couple\", \"cover\", \"cover\", \"current\", \"current\", \"current\", \"cut\", \"cut\", \"cutter\", \"cutting\", \"cylinder\", \"datum\", \"datum\", \"debris\", \"defect\", \"delivery\", \"delivery\", \"deposition\", \"desire\", \"desire\", \"desire\", \"desire\", \"desire\", \"detect\", \"detect\", \"detect\", \"detect\", \"detect\", \"detect\", \"detect\", \"detection\", \"detection\", \"detection\", \"determine\", \"determine\", \"determine\", \"determine\", \"determine\", \"device\", \"device\", \"device\", \"device\", \"device\", \"device\", \"device\", \"device\", \"digital\", \"direction\", \"direction\", \"direction\", \"direction\", \"direction\", \"direction\", \"directional\", \"dispense\", \"dispense\", \"dispense\", \"dispense\", \"display\", \"display\", \"display\", \"dispose\", \"dispose\", \"dispose\", \"dispose\", \"dispose\", \"dispose\", \"distal\", \"distal\", \"distal\", \"dock\", \"door\", \"drape\", \"drive\", \"drive\", \"drive\", \"drive\", \"drive\", \"driver\", \"driver\", \"driving\", \"driving\", \"driving\", \"driving\", \"drone\", \"dry\", \"dry\", \"dust\", \"effector\", \"effector\", \"effector\", \"electrode\", \"element\", \"element\", \"element\", \"element\", \"element\", \"element\", \"elevator\", \"elongate\", \"enclosure\", \"encoder\", \"end\", \"end\", \"end\", \"end\", \"endoscope\", \"energy\", \"engine\", \"environment\", \"environment\", \"environment\", \"estimate\", \"estimation\", \"event\", \"exoskeleton\", \"extended\", \"extension\", \"eye\", \"eye\", \"fabric\", \"face\", \"face\", \"face\", \"face\", \"face\", \"fasten\", \"fastener\", \"filling\", \"finger\", \"finger\", \"fire\", \"fixture\", \"fleet\", \"floor\", \"fluid\", \"fluid\", \"food\", \"force\", \"force\", \"force\", \"form\", \"form\", \"form\", \"form\", \"form\", \"form\", \"form\", \"form\", \"frame\", \"frame\", \"frame\", \"frame\", \"gait\", \"gear\", \"generate\", \"generate\", \"generate\", \"generate\", \"generate\", \"grid\", \"grid\", \"grip\", \"grip\", \"gripper\", \"gripper\", \"groove\", \"groove\", \"guide\", \"guide\", \"guide\", \"guide\", \"guide\", \"hand\", \"hand\", \"handling\", \"handling\", \"handling\", \"hardware\", \"head\", \"head\", \"hold\", \"hold\", \"hold\", \"hold\", \"hole\", \"hole\", \"hole\", \"hollow\", \"housing\", \"housing\", \"housing\", \"hub\", \"human\", \"human\", \"human\", \"humanoid\", \"hydraulic\", \"image\", \"image\", \"implant\", \"include\", \"include\", \"include\", \"include\", \"include\", \"include\", \"include\", \"include\", \"information\", \"information\", \"information\", \"ingredient\", \"inlet\", \"inner\", \"inner\", \"insertion\", \"inspect\", \"inspection\", \"instrument\", \"intelligence\", \"interaction\", \"interaction\", \"interest\", \"interface\", \"interface\", \"interface\", \"interface\", \"interface\", \"interface\", \"interface\", \"item\", \"jaw\", \"jaw\", \"joint\", \"joint\", \"kinematic\", \"kitchen\", \"knee\", \"label\", \"landing\", \"language\", \"laparoscopic\", \"laparoscopic\", \"lawn\", \"learn\", \"learn\", \"learning\", \"learning\", \"lid\", \"light\", \"limb\", \"line\", \"line\", \"line\", \"line\", \"line\", \"linear\", \"linear\", \"linear\", \"linear\", \"link\", \"link\", \"liquid\", \"liquid\", \"load\", \"load\", \"localization\", \"location\", \"location\", \"location\", \"location\", \"location\", \"loop\", \"machine\", \"machine\", \"machine\", \"machine\", \"machine\", \"machine\", \"machining\", \"machining\", \"magnet\", \"magnetic\", \"magnetic\", \"main\", \"main\", \"manipulation\", \"manipulation\", \"manipulation\", \"manipulation\", \"manipulation\", \"manipulator\", \"manipulator\", \"manipulator\", \"manipulator\", \"manipulator\", \"map\", \"map\", \"mass\", \"material\", \"material\", \"material\", \"material\", \"material\", \"matrix\", \"measurement\", \"mechanism\", \"mechanism\", \"mechanism\", \"mechanism\", \"mechanism\", \"mechanism\", \"medical\", \"medical\", \"member\", \"member\", \"member\", \"method\", \"method\", \"method\", \"method\", \"method\", \"method\", \"method\", \"method\", \"mobile\", \"mobile\", \"mobile\", \"mobile\", \"mobile\", \"model\", \"model\", \"module\", \"module\", \"module\", \"module\", \"module\", \"mop\", \"motion\", \"motion\", \"motion\", \"motion\", \"motion\", \"motor\", \"motor\", \"mount\", \"mount\", \"mount\", \"mount\", \"mount\", \"movement\", \"movement\", \"movement\", \"movement\", \"movement\", \"movement\", \"movement\", \"movement\", \"mower\", \"needle\", \"network\", \"neural\", \"node\", \"nut\", \"object\", \"object\", \"object\", \"object\", \"object\", \"obstacle\", \"obtain\", \"obtain\", \"obtain\", \"operation\", \"operation\", \"operation\", \"operation\", \"operation\", \"operation\", \"operation\", \"order\", \"order\", \"order\", \"order\", \"order\", \"order\", \"outer\", \"output\", \"output\", \"output\", \"package\", \"package\", \"packaging\", \"pad\", \"paint\", \"pallet\", \"panel\", \"panel\", \"parcel\", \"particle\", \"path\", \"path\", \"path\", \"path\", \"patient\", \"payload\", \"payload\", \"payload\", \"perform\", \"perform\", \"perform\", \"perform\", \"perform\", \"perform\", \"perform\", \"perform\", \"performance\", \"phase\", \"phase\", \"pick\", \"pick\", \"picking\", \"pickup\", \"piece\", \"piece\", \"piece\", \"piezoelectric\", \"pipe\", \"pixel\", \"place\", \"place\", \"place\", \"place\", \"place\", \"plant\", \"plate\", \"platform\", \"platform\", \"platform\", \"platform\", \"platform\", \"plurality\", \"plurality\", \"plurality\", \"plurality\", \"plurality\", \"plurality\", \"plurality\", \"plurality\", \"point\", \"point\", \"point\", \"point\", \"point\", \"pool\", \"pool\", \"portion\", \"portion\", \"portion\", \"portion\", \"portion\", \"portion\", \"pose\", \"pose\", \"position\", \"position\", \"position\", \"position\", \"position\", \"position\", \"position\", \"post\", \"power\", \"power\", \"power\", \"power\", \"power\", \"present\", \"present\", \"present\", \"present\", \"present\", \"present\", \"present\", \"present\", \"press\", \"press\", \"pressure\", \"pressure\", \"pressure\", \"primary\", \"print\", \"printing\", \"probe\", \"probe\", \"procedure\", \"procedure\", \"procedure\", \"process\", \"process\", \"process\", \"process\", \"process\", \"process\", \"processing\", \"processing\", \"processing\", \"product\", \"product\", \"product\", \"product\", \"production\", \"production\", \"provide\", \"provide\", \"provide\", \"provide\", \"provide\", \"provide\", \"provide\", \"provide\", \"proximal\", \"proximal\", \"pulley\", \"rack\", \"radar\", \"rail\", \"reaction\", \"reality\", \"reality\", \"receive\", \"receive\", \"receive\", \"receive\", \"receive\", \"receive\", \"receive\", \"receive\", \"reference\", \"reference\", \"registration\", \"rehabilitation\", \"relative\", \"relative\", \"relative\", \"relative\", \"relative\", \"relative\", \"relative\", \"request\", \"retrieval\", \"retrieval\", \"rod\", \"roller\", \"rotary\", \"rotate\", \"rotate\", \"rotate\", \"rotate\", \"rotation\", \"rotation\", \"rotation\", \"rotational\", \"rotational\", \"rotor\", \"rpa\", \"safety\", \"safety\", \"safety\", \"seal\", \"second\", \"second\", \"second\", \"second\", \"second\", \"second\", \"second\", \"second\", \"secondary\", \"section\", \"section\", \"section\", \"segment\", \"segment\", \"segment\", \"semiconductor\", \"sensor\", \"sensor\", \"sensor\", \"sensor\", \"sensor\", \"sensor\", \"sensor\", \"server\", \"service\", \"service\", \"servo\", \"set\", \"set\", \"set\", \"set\", \"set\", \"set\", \"set\", \"set\", \"setting\", \"shaft\", \"sheath\", \"sheet\", \"shelf\", \"shelf\", \"signal\", \"signal\", \"signal\", \"signal\", \"signal\", \"signal\", \"site\", \"site\", \"skill\", \"slot\", \"soft\", \"software\", \"solar\", \"sort\", \"sound\", \"speech\", \"spray\", \"stable\", \"stack\", \"stack\", \"stage\", \"stage\", \"stage\", \"stage\", \"start\", \"state\", \"state\", \"state\", \"state\", \"state\", \"state\", \"station\", \"station\", \"station\", \"steerable\", \"steering\", \"sterile\", \"storage\", \"storage\", \"storage\", \"storage\", \"storage\", \"store\", \"store\", \"store\", \"store\", \"store\", \"store\", \"structure\", \"structure\", \"structure\", \"structure\", \"structure\", \"structure\", \"substrate\", \"suction\", \"suction\", \"support\", \"support\", \"support\", \"support\", \"support\", \"support\", \"surface\", \"surface\", \"surface\", \"surface\", \"surface\", \"surface\", \"surgery\", \"surgery\", \"surgical\", \"surgical\", \"suspension\", \"swing\", \"system\", \"system\", \"system\", \"system\", \"system\", \"system\", \"system\", \"system\", \"tactile\", \"tank\", \"tape\", \"target\", \"target\", \"target\", \"task\", \"task\", \"temperature\", \"temperature\", \"temporary\", \"tendon\", \"thread\", \"time\", \"time\", \"time\", \"time\", \"time\", \"tip\", \"tip\", \"tissue\", \"tissue\", \"tool\", \"tool\", \"tool\", \"tool\", \"torque\", \"tote\", \"tower\", \"track\", \"track\", \"track\", \"track\", \"track\", \"track\", \"track\", \"train\", \"training\", \"trajectory\", \"trajectory\", \"trajectory\", \"transducer\", \"transfer\", \"transfer\", \"transitory\", \"transmission\", \"transport\", \"transport\", \"tray\", \"tray\", \"treat\", \"treat\", \"treatment\", \"treatment\", \"treatment\", \"tube\", \"tube\", \"tube\", \"underwater\", \"unit\", \"unit\", \"unit\", \"unit\", \"unit\", \"unit\", \"use\", \"use\", \"use\", \"use\", \"use\", \"use\", \"use\", \"use\", \"user\", \"user\", \"user\", \"user\", \"user\", \"value\", \"value\", \"valve\", \"valve\", \"vehicle\", \"vehicle\", \"vehicle\", \"velocity\", \"velocity\", \"vibrate\", \"vibration\", \"video\", \"video\", \"virtual\", \"virtual\", \"virtual\", \"voice\", \"wafer\", \"wall\", \"warehouse\", \"warehouse\", \"water\", \"wave\", \"waypoint\", \"wearable\", \"weld\", \"welding\", \"wheel\", \"wheel\", \"wheel\", \"wire\", \"wireless\", \"workflow\", \"workpiece\", \"wrist\", \"wrist\"]}, \"R\": 30, \"lambda.step\": 0.01, \"plot.opts\": {\"xlab\": \"PC1\", \"ylab\": \"PC2\"}, \"topic.order\": [3, 7, 4, 8, 6, 5, 1, 2]};\n",
       "\n",
       "function LDAvis_load_lib(url, callback){\n",
       "  var s = document.createElement('script');\n",
       "  s.src = url;\n",
       "  s.async = true;\n",
       "  s.onreadystatechange = s.onload = callback;\n",
       "  s.onerror = function(){console.warn(\"failed to load library \" + url);};\n",
       "  document.getElementsByTagName(\"head\")[0].appendChild(s);\n",
       "}\n",
       "\n",
       "if(typeof(LDAvis) !== \"undefined\"){\n",
       "   // already loaded: just create the visualization\n",
       "   !function(LDAvis){\n",
       "       new LDAvis(\"#\" + \"ldavis_el1356823878315864807030274576\", ldavis_el1356823878315864807030274576_data);\n",
       "   }(LDAvis);\n",
       "}else if(typeof define === \"function\" && define.amd){\n",
       "   // require.js is available: use it to load d3/LDAvis\n",
       "   require.config({paths: {d3: \"https://d3js.org/d3.v5\"}});\n",
       "   require([\"d3\"], function(d3){\n",
       "      window.d3 = d3;\n",
       "      LDAvis_load_lib(\"https://cdn.jsdelivr.net/gh/bmabey/pyLDAvis@3.4.0/pyLDAvis/js/ldavis.v3.0.0.js\", function(){\n",
       "        new LDAvis(\"#\" + \"ldavis_el1356823878315864807030274576\", ldavis_el1356823878315864807030274576_data);\n",
       "      });\n",
       "    });\n",
       "}else{\n",
       "    // require.js not available: dynamically load d3 & LDAvis\n",
       "    LDAvis_load_lib(\"https://d3js.org/d3.v5.js\", function(){\n",
       "         LDAvis_load_lib(\"https://cdn.jsdelivr.net/gh/bmabey/pyLDAvis@3.4.0/pyLDAvis/js/ldavis.v3.0.0.js\", function(){\n",
       "                 new LDAvis(\"#\" + \"ldavis_el1356823878315864807030274576\", ldavis_el1356823878315864807030274576_data);\n",
       "            })\n",
       "         });\n",
       "}\n",
       "</script>"
      ]
     },
     "execution_count": 11,
     "metadata": {},
     "output_type": "execute_result"
    }
   ],
   "execution_count": 11
  }
 ],
 "metadata": {
  "kernelspec": {
   "display_name": "ml_angew_programm",
   "language": "python",
   "name": "python3"
  },
  "language_info": {
   "codemirror_mode": {
    "name": "ipython",
    "version": 3
   },
   "file_extension": ".py",
   "mimetype": "text/x-python",
   "name": "python",
   "nbconvert_exporter": "python",
   "pygments_lexer": "ipython3",
   "version": "3.8.19"
  }
 },
 "nbformat": 4,
 "nbformat_minor": 2
}
