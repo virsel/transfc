{
 "cells": [
  {
   "cell_type": "code",
   "metadata": {
    "ExecuteTime": {
     "end_time": "2024-05-18T14:40:00.778964Z",
     "start_time": "2024-05-18T14:40:00.756061Z"
    }
   },
   "source": [
    "from utils import keys_to_counts, get_keys"
   ],
   "outputs": [],
   "execution_count": 1
  },
  {
   "cell_type": "code",
   "metadata": {
    "ExecuteTime": {
     "end_time": "2024-05-18T14:40:00.810219Z",
     "start_time": "2024-05-18T14:40:00.778964Z"
    }
   },
   "source": [
    "import pandas as pd\n",
    "\n",
    "data_path = \"D:\\\\studium\\\\analyse\\\\data_prep\\\\src\\\\_2_preproc_pipeline_de\\\\data_preprocessed\\\\2_tokenize.csv\"\n",
    "df = pd.read_csv(data_path)"
   ],
   "outputs": [],
   "execution_count": 2
  },
  {
   "cell_type": "code",
   "metadata": {
    "ExecuteTime": {
     "end_time": "2024-05-18T14:40:00.828746Z",
     "start_time": "2024-05-18T14:40:00.810219Z"
    }
   },
   "source": [
    "df.head()"
   ],
   "outputs": [
    {
     "data": {
      "text/plain": [
       "                 id  pub_year  \\\n",
       "0  DE102018121415B4      2024   \n",
       "1  DE102022128419B4      2024   \n",
       "2  DE102016012333B4      2024   \n",
       "3  DE102020135010B4      2024   \n",
       "4  DE102021104544B4      2024   \n",
       "\n",
       "                                       text_preproc2  \n",
       "0  hohl handgelenkelement umfassend hohl handgele...  \n",
       "1  wellgetrieb wellgetriebe erfindung betreffen w...  \n",
       "2  robotersystem vielzahl vernetzt controllern ro...  \n",
       "3  massedat schätzung extern last robotermanipula...  \n",
       "4  fügesystem robotergeführt fügeprozessgerät zug...  "
      ],
      "text/html": [
       "<div>\n",
       "<style scoped>\n",
       "    .dataframe tbody tr th:only-of-type {\n",
       "        vertical-align: middle;\n",
       "    }\n",
       "\n",
       "    .dataframe tbody tr th {\n",
       "        vertical-align: top;\n",
       "    }\n",
       "\n",
       "    .dataframe thead th {\n",
       "        text-align: right;\n",
       "    }\n",
       "</style>\n",
       "<table border=\"1\" class=\"dataframe\">\n",
       "  <thead>\n",
       "    <tr style=\"text-align: right;\">\n",
       "      <th></th>\n",
       "      <th>id</th>\n",
       "      <th>pub_year</th>\n",
       "      <th>text_preproc2</th>\n",
       "    </tr>\n",
       "  </thead>\n",
       "  <tbody>\n",
       "    <tr>\n",
       "      <th>0</th>\n",
       "      <td>DE102018121415B4</td>\n",
       "      <td>2024</td>\n",
       "      <td>hohl handgelenkelement umfassend hohl handgele...</td>\n",
       "    </tr>\n",
       "    <tr>\n",
       "      <th>1</th>\n",
       "      <td>DE102022128419B4</td>\n",
       "      <td>2024</td>\n",
       "      <td>wellgetrieb wellgetriebe erfindung betreffen w...</td>\n",
       "    </tr>\n",
       "    <tr>\n",
       "      <th>2</th>\n",
       "      <td>DE102016012333B4</td>\n",
       "      <td>2024</td>\n",
       "      <td>robotersystem vielzahl vernetzt controllern ro...</td>\n",
       "    </tr>\n",
       "    <tr>\n",
       "      <th>3</th>\n",
       "      <td>DE102020135010B4</td>\n",
       "      <td>2024</td>\n",
       "      <td>massedat schätzung extern last robotermanipula...</td>\n",
       "    </tr>\n",
       "    <tr>\n",
       "      <th>4</th>\n",
       "      <td>DE102021104544B4</td>\n",
       "      <td>2024</td>\n",
       "      <td>fügesystem robotergeführt fügeprozessgerät zug...</td>\n",
       "    </tr>\n",
       "  </tbody>\n",
       "</table>\n",
       "</div>"
      ]
     },
     "execution_count": 3,
     "metadata": {},
     "output_type": "execute_result"
    }
   ],
   "execution_count": 3
  },
  {
   "cell_type": "code",
   "metadata": {
    "ExecuteTime": {
     "end_time": "2024-05-18T14:40:00.951075Z",
     "start_time": "2024-05-18T14:40:00.828746Z"
    }
   },
   "source": [
    "# vectorize the text data with tf-idf\n",
    "from sklearn.feature_extraction.text import CountVectorizer\n",
    "\n",
    "vectorizer = CountVectorizer(min_df=10, max_df=0.9)\n",
    "\n",
    "x_vec = vectorizer.fit_transform(df['text_preproc2'])"
   ],
   "outputs": [],
   "execution_count": 4
  },
  {
   "cell_type": "code",
   "metadata": {
    "ExecuteTime": {
     "end_time": "2024-05-18T14:40:00.966699Z",
     "start_time": "2024-05-18T14:40:00.951075Z"
    }
   },
   "source": [
    "vectorizer.get_feature_names_out().__len__()"
   ],
   "outputs": [
    {
     "data": {
      "text/plain": [
       "972"
      ]
     },
     "execution_count": 5,
     "metadata": {},
     "output_type": "execute_result"
    }
   ],
   "execution_count": 5
  },
  {
   "cell_type": "code",
   "metadata": {
    "ExecuteTime": {
     "end_time": "2024-05-18T14:40:00.982705Z",
     "start_time": "2024-05-18T14:40:00.966699Z"
    }
   },
   "source": [
    "\"roboter\" in set(vectorizer.get_feature_names_out())"
   ],
   "outputs": [
    {
     "data": {
      "text/plain": [
       "False"
      ]
     },
     "execution_count": 6,
     "metadata": {},
     "output_type": "execute_result"
    }
   ],
   "execution_count": 6
  },
  {
   "cell_type": "code",
   "metadata": {
    "ExecuteTime": {
     "end_time": "2024-05-18T14:52:13.812264Z",
     "start_time": "2024-05-18T14:51:47.778922Z"
    }
   },
   "source": [
    "# Define Search Param\n",
    "from sklearn.decomposition import LatentDirichletAllocation\n",
    "from sklearn.model_selection import GridSearchCV\n",
    "\n",
    "\n",
    "search_params = {\n",
    "    'n_components': list([6, 8]),\n",
    "    'learning_decay': [i/10 for i in range(2, 8, 2)]\n",
    "}\n",
    "# Init the Model\n",
    "lda = LatentDirichletAllocation(max_iter=5, learning_method='online', learning_offset=50., random_state=0)\n",
    "# Init Grid Search Class\n",
    "model = GridSearchCV(lda, param_grid=search_params)\n",
    "# Do the Grid Search\n",
    "model.fit(x_vec)"
   ],
   "outputs": [
    {
     "data": {
      "text/plain": [
       "GridSearchCV(estimator=LatentDirichletAllocation(learning_method='online',\n",
       "                                                 learning_offset=50.0,\n",
       "                                                 max_iter=5, random_state=0),\n",
       "             param_grid={'learning_decay': [0.2, 0.4, 0.6],\n",
       "                         'n_components': [6, 8]})"
      ],
      "text/html": [
       "<style>#sk-container-id-2 {color: black;}#sk-container-id-2 pre{padding: 0;}#sk-container-id-2 div.sk-toggleable {background-color: white;}#sk-container-id-2 label.sk-toggleable__label {cursor: pointer;display: block;width: 100%;margin-bottom: 0;padding: 0.3em;box-sizing: border-box;text-align: center;}#sk-container-id-2 label.sk-toggleable__label-arrow:before {content: \"▸\";float: left;margin-right: 0.25em;color: #696969;}#sk-container-id-2 label.sk-toggleable__label-arrow:hover:before {color: black;}#sk-container-id-2 div.sk-estimator:hover label.sk-toggleable__label-arrow:before {color: black;}#sk-container-id-2 div.sk-toggleable__content {max-height: 0;max-width: 0;overflow: hidden;text-align: left;background-color: #f0f8ff;}#sk-container-id-2 div.sk-toggleable__content pre {margin: 0.2em;color: black;border-radius: 0.25em;background-color: #f0f8ff;}#sk-container-id-2 input.sk-toggleable__control:checked~div.sk-toggleable__content {max-height: 200px;max-width: 100%;overflow: auto;}#sk-container-id-2 input.sk-toggleable__control:checked~label.sk-toggleable__label-arrow:before {content: \"▾\";}#sk-container-id-2 div.sk-estimator input.sk-toggleable__control:checked~label.sk-toggleable__label {background-color: #d4ebff;}#sk-container-id-2 div.sk-label input.sk-toggleable__control:checked~label.sk-toggleable__label {background-color: #d4ebff;}#sk-container-id-2 input.sk-hidden--visually {border: 0;clip: rect(1px 1px 1px 1px);clip: rect(1px, 1px, 1px, 1px);height: 1px;margin: -1px;overflow: hidden;padding: 0;position: absolute;width: 1px;}#sk-container-id-2 div.sk-estimator {font-family: monospace;background-color: #f0f8ff;border: 1px dotted black;border-radius: 0.25em;box-sizing: border-box;margin-bottom: 0.5em;}#sk-container-id-2 div.sk-estimator:hover {background-color: #d4ebff;}#sk-container-id-2 div.sk-parallel-item::after {content: \"\";width: 100%;border-bottom: 1px solid gray;flex-grow: 1;}#sk-container-id-2 div.sk-label:hover label.sk-toggleable__label {background-color: #d4ebff;}#sk-container-id-2 div.sk-serial::before {content: \"\";position: absolute;border-left: 1px solid gray;box-sizing: border-box;top: 0;bottom: 0;left: 50%;z-index: 0;}#sk-container-id-2 div.sk-serial {display: flex;flex-direction: column;align-items: center;background-color: white;padding-right: 0.2em;padding-left: 0.2em;position: relative;}#sk-container-id-2 div.sk-item {position: relative;z-index: 1;}#sk-container-id-2 div.sk-parallel {display: flex;align-items: stretch;justify-content: center;background-color: white;position: relative;}#sk-container-id-2 div.sk-item::before, #sk-container-id-2 div.sk-parallel-item::before {content: \"\";position: absolute;border-left: 1px solid gray;box-sizing: border-box;top: 0;bottom: 0;left: 50%;z-index: -1;}#sk-container-id-2 div.sk-parallel-item {display: flex;flex-direction: column;z-index: 1;position: relative;background-color: white;}#sk-container-id-2 div.sk-parallel-item:first-child::after {align-self: flex-end;width: 50%;}#sk-container-id-2 div.sk-parallel-item:last-child::after {align-self: flex-start;width: 50%;}#sk-container-id-2 div.sk-parallel-item:only-child::after {width: 0;}#sk-container-id-2 div.sk-dashed-wrapped {border: 1px dashed gray;margin: 0 0.4em 0.5em 0.4em;box-sizing: border-box;padding-bottom: 0.4em;background-color: white;}#sk-container-id-2 div.sk-label label {font-family: monospace;font-weight: bold;display: inline-block;line-height: 1.2em;}#sk-container-id-2 div.sk-label-container {text-align: center;}#sk-container-id-2 div.sk-container {/* jupyter's `normalize.less` sets `[hidden] { display: none; }` but bootstrap.min.css set `[hidden] { display: none !important; }` so we also need the `!important` here to be able to override the default hidden behavior on the sphinx rendered scikit-learn.org. See: https://github.com/scikit-learn/scikit-learn/issues/21755 */display: inline-block !important;position: relative;}#sk-container-id-2 div.sk-text-repr-fallback {display: none;}</style><div id=\"sk-container-id-2\" class=\"sk-top-container\"><div class=\"sk-text-repr-fallback\"><pre>GridSearchCV(estimator=LatentDirichletAllocation(learning_method=&#x27;online&#x27;,\n",
       "                                                 learning_offset=50.0,\n",
       "                                                 max_iter=5, random_state=0),\n",
       "             param_grid={&#x27;learning_decay&#x27;: [0.2, 0.4, 0.6],\n",
       "                         &#x27;n_components&#x27;: [6, 8]})</pre><b>In a Jupyter environment, please rerun this cell to show the HTML representation or trust the notebook. <br />On GitHub, the HTML representation is unable to render, please try loading this page with nbviewer.org.</b></div><div class=\"sk-container\" hidden><div class=\"sk-item sk-dashed-wrapped\"><div class=\"sk-label-container\"><div class=\"sk-label sk-toggleable\"><input class=\"sk-toggleable__control sk-hidden--visually\" id=\"sk-estimator-id-4\" type=\"checkbox\" ><label for=\"sk-estimator-id-4\" class=\"sk-toggleable__label sk-toggleable__label-arrow\">GridSearchCV</label><div class=\"sk-toggleable__content\"><pre>GridSearchCV(estimator=LatentDirichletAllocation(learning_method=&#x27;online&#x27;,\n",
       "                                                 learning_offset=50.0,\n",
       "                                                 max_iter=5, random_state=0),\n",
       "             param_grid={&#x27;learning_decay&#x27;: [0.2, 0.4, 0.6],\n",
       "                         &#x27;n_components&#x27;: [6, 8]})</pre></div></div></div><div class=\"sk-parallel\"><div class=\"sk-parallel-item\"><div class=\"sk-item\"><div class=\"sk-label-container\"><div class=\"sk-label sk-toggleable\"><input class=\"sk-toggleable__control sk-hidden--visually\" id=\"sk-estimator-id-5\" type=\"checkbox\" ><label for=\"sk-estimator-id-5\" class=\"sk-toggleable__label sk-toggleable__label-arrow\">estimator: LatentDirichletAllocation</label><div class=\"sk-toggleable__content\"><pre>LatentDirichletAllocation(learning_method=&#x27;online&#x27;, learning_offset=50.0,\n",
       "                          max_iter=5, random_state=0)</pre></div></div></div><div class=\"sk-serial\"><div class=\"sk-item\"><div class=\"sk-estimator sk-toggleable\"><input class=\"sk-toggleable__control sk-hidden--visually\" id=\"sk-estimator-id-6\" type=\"checkbox\" ><label for=\"sk-estimator-id-6\" class=\"sk-toggleable__label sk-toggleable__label-arrow\">LatentDirichletAllocation</label><div class=\"sk-toggleable__content\"><pre>LatentDirichletAllocation(learning_method=&#x27;online&#x27;, learning_offset=50.0,\n",
       "                          max_iter=5, random_state=0)</pre></div></div></div></div></div></div></div></div></div></div>"
      ]
     },
     "execution_count": 13,
     "metadata": {},
     "output_type": "execute_result"
    }
   ],
   "execution_count": 13
  },
  {
   "cell_type": "code",
   "metadata": {
    "ExecuteTime": {
     "end_time": "2024-05-18T14:52:13.969105Z",
     "start_time": "2024-05-18T14:52:13.812264Z"
    }
   },
   "source": [
    "# Best Model\n",
    "best_lda_model = model.best_estimator_\n",
    "# Model Parameters\n",
    "print(\"Best Model's Params: \", model.best_params_)\n",
    "# Log Likelihood Score\n",
    "print(\"Best Log Likelihood Score: \", model.best_score_)\n",
    "# Perplexity\n",
    "print(\"Model Perplexity: \", best_lda_model.perplexity(x_vec))"
   ],
   "outputs": [
    {
     "name": "stdout",
     "output_type": "stream",
     "text": [
      "Best Model's Params:  {'learning_decay': 0.4, 'n_components': 6}\n",
      "Best Log Likelihood Score:  -82757.3218719993\n",
      "Model Perplexity:  450.03785094445027\n"
     ]
    }
   ],
   "execution_count": 14
  },
  {
   "cell_type": "markdown",
   "metadata": {},
   "source": [
    "#### 1\n",
    "```\n",
    "Best Model's Params:  {'learning_decay': 0.7, 'n_components': 4}\n",
    "Best Log Likelihood Score:  -16133.781235803111\n",
    "Model Perplexity:  2756.7305690617686\n",
    "```\n",
    "\n",
    "#### 2\n",
    "```\n",
    "Best Model's Params:  {'learning_decay': 0.7, 'n_components': 4}\n",
    "Best Log Likelihood Score:  -13680.405833094293\n",
    "Model Perplexity:  1452.4892164519924\n",
    "\n",
    "tfidf = TfidfVectorizer(min_df=10, max_df=0.9)\n",
    "```\n",
    "\n",
    "#### 3\n",
    "```\n",
    "Best Model's Params:  {'learning_decay': 0.5, 'n_components': 4}\n",
    "Best Log Likelihood Score:  -81158.2175760758\n",
    "Model Perplexity:  436.3635163522717\n",
    "\n",
    "tfidf = CountVec(min_df=10, max_df=0.9)\n",
    "```\n",
    "\n",
    "#### 4\n",
    "```\n",
    "Best Model's Params:  {'learning_decay': 0.4, 'n_components': 6}\n",
    "Best Log Likelihood Score:  -82757.3218719993\n",
    "Model Perplexity:  450.03785094445027\n",
    "\n",
    "tfidf = CountVec(min_df=10, max_df=0.9)\n",
    "```\n"
   ]
  },
  {
   "cell_type": "code",
   "metadata": {
    "ExecuteTime": {
     "end_time": "2024-05-18T14:52:14.084074Z",
     "start_time": "2024-05-18T14:52:13.969105Z"
    }
   },
   "source": [
    "lda_output = best_lda_model.transform(x_vec)"
   ],
   "outputs": [],
   "execution_count": 15
  },
  {
   "cell_type": "code",
   "metadata": {
    "ExecuteTime": {
     "end_time": "2024-05-18T14:52:14.150368Z",
     "start_time": "2024-05-18T14:52:14.084074Z"
    }
   },
   "source": [
    "import seaborn as sns\n",
    "import matplotlib.pyplot as plt\n",
    "\n",
    "lda_keys = get_keys(lda_output)\n",
    "lda_categories, lda_counts = keys_to_counts(lda_keys)\n",
    "\n",
    "topics_df_lda = pd.DataFrame({'topic' : lda_categories, 'count' : lda_counts})\n",
    "sns.barplot(x=topics_df_lda['topic'], y = topics_df_lda['count'])\n",
    "plt.show()"
   ],
   "outputs": [
    {
     "data": {
      "text/plain": [
       "<Figure size 640x480 with 1 Axes>"
      ],
      "image/png": "[encoded data removed]"
     },
     "metadata": {},
     "output_type": "display_data"
    }
   ],
   "execution_count": 16
  },
  {
   "cell_type": "code",
   "metadata": {
    "ExecuteTime": {
     "end_time": "2024-05-18T14:52:14.165994Z",
     "start_time": "2024-05-18T14:52:14.150368Z"
    }
   },
   "source": [
    "import numpy as np\n",
    "\n",
    "# Show top n keywords for each topic\n",
    "def show_topics(vectorizer, lda_model, n_words=10):\n",
    "    keywords = np.array(vectorizer.get_feature_names_out())\n",
    "    topic_keywords = []\n",
    "    for topic_weights in lda_model.components_:\n",
    "        top_keyword_locs = (-topic_weights).argsort()[:n_words]\n",
    "        topic_keywords.append(keywords.take(top_keyword_locs))\n",
    "    return topic_keywords\n",
    "topic_keywords = show_topics(vectorizer=vectorizer, lda_model=best_lda_model, n_words=15)\n",
    "# Topic - Keywords Dataframe\n",
    "df_topic_keywords = pd.DataFrame(topic_keywords)\n",
    "df_topic_keywords.columns = ['Word '+str(i) for i in range(df_topic_keywords.shape[1])]\n",
    "df_topic_keywords.index = ['Topic '+str(i) for i in range(df_topic_keywords.shape[0])]\n",
    "df_topic_keywords"
   ],
   "outputs": [
    {
     "data": {
      "text/plain": [
       "                Word 0     Word 1         Word 2     Word 3      Word 4  \\\n",
       "Topic 0      werkstück  verfahren       umfassen    greifer   abschnitt   \n",
       "Topic 1      aufweisen  erfindung      betreffen  ausbilden  roboterarm   \n",
       "Topic 2          basis   position      berechnen   erzeugen       datum   \n",
       "Topic 3      verfahren      mobil      erfindung  betreffen      system   \n",
       "Topic 4  konfigurieren   umfassen  robotersystem    mehrere   verbinden   \n",
       "Topic 5         objekt       bild       position     sensor      kamera   \n",
       "\n",
       "                     Word 5       Word 6         Word 7             Word 8  \\\n",
       "Topic 0         automatisch    erfindung     oberfläche               hand   \n",
       "Topic 1            anordnen  vorrichtung        bauteil           umfassen   \n",
       "Topic 2            mehrzahl         pose      verfahren  steuervorrichtung   \n",
       "Topic 3             mehrere    ermitteln        schritt            autonom   \n",
       "Topic 4               achse       gelenk     roboterarm          beweglich   \n",
       "Topic 5  robotermanipulator    bestimmen  steuereinheit           erfassen   \n",
       "\n",
       "            Word 9     Word 10        Word 11             Word 12  \\\n",
       "Topic 0    greifen     artikel      aufweisen           umfassend   \n",
       "Topic 1   richtung     gehäuse      umfassend           verbinden   \n",
       "Topic 2   erfassen   speichern       umfassen              signal   \n",
       "Topic 3  aufweisen    fahrzeug    vorrichtung  robotervorrichtung   \n",
       "Topic 4   vielzahl  elektrisch          basis           steuerung   \n",
       "Topic 5  basierend    erzeugen  robotersystem     dreidimensional   \n",
       "\n",
       "                Word 13            Word 14  \n",
       "Topic 0  schweißbrenner     transportieren  \n",
       "Topic 1             arm  reinigungsroboter  \n",
       "Topic 2       robotisch              kraft  \n",
       "Topic 3      vorgegeben          bestimmen  \n",
       "Topic 4      beinhalten            bewegen  \n",
       "Topic 5        vielzahl        information  "
      ],
      "text/html": [
       "<div>\n",
       "<style scoped>\n",
       "    .dataframe tbody tr th:only-of-type {\n",
       "        vertical-align: middle;\n",
       "    }\n",
       "\n",
       "    .dataframe tbody tr th {\n",
       "        vertical-align: top;\n",
       "    }\n",
       "\n",
       "    .dataframe thead th {\n",
       "        text-align: right;\n",
       "    }\n",
       "</style>\n",
       "<table border=\"1\" class=\"dataframe\">\n",
       "  <thead>\n",
       "    <tr style=\"text-align: right;\">\n",
       "      <th></th>\n",
       "      <th>Word 0</th>\n",
       "      <th>Word 1</th>\n",
       "      <th>Word 2</th>\n",
       "      <th>Word 3</th>\n",
       "      <th>Word 4</th>\n",
       "      <th>Word 5</th>\n",
       "      <th>Word 6</th>\n",
       "      <th>Word 7</th>\n",
       "      <th>Word 8</th>\n",
       "      <th>Word 9</th>\n",
       "      <th>Word 10</th>\n",
       "      <th>Word 11</th>\n",
       "      <th>Word 12</th>\n",
       "      <th>Word 13</th>\n",
       "      <th>Word 14</th>\n",
       "    </tr>\n",
       "  </thead>\n",
       "  <tbody>\n",
       "    <tr>\n",
       "      <th>Topic 0</th>\n",
       "      <td>werkstück</td>\n",
       "      <td>verfahren</td>\n",
       "      <td>umfassen</td>\n",
       "      <td>greifer</td>\n",
       "      <td>abschnitt</td>\n",
       "      <td>automatisch</td>\n",
       "      <td>erfindung</td>\n",
       "      <td>oberfläche</td>\n",
       "      <td>hand</td>\n",
       "      <td>greifen</td>\n",
       "      <td>artikel</td>\n",
       "      <td>aufweisen</td>\n",
       "      <td>umfassend</td>\n",
       "      <td>schweißbrenner</td>\n",
       "      <td>transportieren</td>\n",
       "    </tr>\n",
       "    <tr>\n",
       "      <th>Topic 1</th>\n",
       "      <td>aufweisen</td>\n",
       "      <td>erfindung</td>\n",
       "      <td>betreffen</td>\n",
       "      <td>ausbilden</td>\n",
       "      <td>roboterarm</td>\n",
       "      <td>anordnen</td>\n",
       "      <td>vorrichtung</td>\n",
       "      <td>bauteil</td>\n",
       "      <td>umfassen</td>\n",
       "      <td>richtung</td>\n",
       "      <td>gehäuse</td>\n",
       "      <td>umfassend</td>\n",
       "      <td>verbinden</td>\n",
       "      <td>arm</td>\n",
       "      <td>reinigungsroboter</td>\n",
       "    </tr>\n",
       "    <tr>\n",
       "      <th>Topic 2</th>\n",
       "      <td>basis</td>\n",
       "      <td>position</td>\n",
       "      <td>berechnen</td>\n",
       "      <td>erzeugen</td>\n",
       "      <td>datum</td>\n",
       "      <td>mehrzahl</td>\n",
       "      <td>pose</td>\n",
       "      <td>verfahren</td>\n",
       "      <td>steuervorrichtung</td>\n",
       "      <td>erfassen</td>\n",
       "      <td>speichern</td>\n",
       "      <td>umfassen</td>\n",
       "      <td>signal</td>\n",
       "      <td>robotisch</td>\n",
       "      <td>kraft</td>\n",
       "    </tr>\n",
       "    <tr>\n",
       "      <th>Topic 3</th>\n",
       "      <td>verfahren</td>\n",
       "      <td>mobil</td>\n",
       "      <td>erfindung</td>\n",
       "      <td>betreffen</td>\n",
       "      <td>system</td>\n",
       "      <td>mehrere</td>\n",
       "      <td>ermitteln</td>\n",
       "      <td>schritt</td>\n",
       "      <td>autonom</td>\n",
       "      <td>aufweisen</td>\n",
       "      <td>fahrzeug</td>\n",
       "      <td>vorrichtung</td>\n",
       "      <td>robotervorrichtung</td>\n",
       "      <td>vorgegeben</td>\n",
       "      <td>bestimmen</td>\n",
       "    </tr>\n",
       "    <tr>\n",
       "      <th>Topic 4</th>\n",
       "      <td>konfigurieren</td>\n",
       "      <td>umfassen</td>\n",
       "      <td>robotersystem</td>\n",
       "      <td>mehrere</td>\n",
       "      <td>verbinden</td>\n",
       "      <td>achse</td>\n",
       "      <td>gelenk</td>\n",
       "      <td>roboterarm</td>\n",
       "      <td>beweglich</td>\n",
       "      <td>vielzahl</td>\n",
       "      <td>elektrisch</td>\n",
       "      <td>basis</td>\n",
       "      <td>steuerung</td>\n",
       "      <td>beinhalten</td>\n",
       "      <td>bewegen</td>\n",
       "    </tr>\n",
       "    <tr>\n",
       "      <th>Topic 5</th>\n",
       "      <td>objekt</td>\n",
       "      <td>bild</td>\n",
       "      <td>position</td>\n",
       "      <td>sensor</td>\n",
       "      <td>kamera</td>\n",
       "      <td>robotermanipulator</td>\n",
       "      <td>bestimmen</td>\n",
       "      <td>steuereinheit</td>\n",
       "      <td>erfassen</td>\n",
       "      <td>basierend</td>\n",
       "      <td>erzeugen</td>\n",
       "      <td>robotersystem</td>\n",
       "      <td>dreidimensional</td>\n",
       "      <td>vielzahl</td>\n",
       "      <td>information</td>\n",
       "    </tr>\n",
       "  </tbody>\n",
       "</table>\n",
       "</div>"
      ]
     },
     "execution_count": 17,
     "metadata": {},
     "output_type": "execute_result"
    }
   ],
   "execution_count": 17
  },
  {
   "cell_type": "code",
   "metadata": {
    "ExecuteTime": {
     "end_time": "2024-05-18T14:52:15.359685Z",
     "start_time": "2024-05-18T14:52:14.165994Z"
    }
   },
   "source": [
    "#this is by far the easiest way to load a pre-trained sklearn lda model onto pyLDAvis\n",
    "#there are other means of using this visible on pyLDAvis' main repo\n",
    "\n",
    "import pyLDAvis\n",
    "import pyLDAvis.sklearn\n",
    "pyLDAvis.enable_notebook()\n",
    "\n",
    "feature_names = vectorizer.get_feature_names_out()\n",
    "\n",
    "vectorizer.get_feature_names = lambda: feature_names\n",
    "\n",
    "display_data = pyLDAvis.sklearn.prepare(best_lda_model, #our pre-trained LDA model\n",
    "                         x_vec, #this gives us our document-term matrix\n",
    "                        vectorizer) #the vectoriser object\n",
    "                        \n",
    "pyLDAvis.display(display_data)  "
   ],
   "outputs": [
    {
     "name": "stderr",
     "output_type": "stream",
     "text": [
      "C:\\Users\\paul-\\anaconda3\\envs\\ml_angew_programm\\lib\\site-packages\\pyLDAvis\\_prepare.py:243: FutureWarning: In a future version of pandas all arguments of DataFrame.drop except for the argument 'labels' will be keyword-only.\n",
      "  default_term_info = default_term_info.sort_values(\n"
     ]
    },
    {
     "data": {
      "text/plain": [
       "<IPython.core.display.HTML object>"
      ],
      "text/html": [
       "\n",
       "<link rel=\"stylesheet\" type=\"text/css\" href=\"https://cdn.jsdelivr.net/gh/bmabey/pyLDAvis@3.4.0/pyLDAvis/js/ldavis.v1.0.0.css\">\n",
       "\n",
       "\n",
       "<div id=\"ldavis_el2322420590749565288537691920\" style=\"background-color:white;\"></div>\n",
       "<script type=\"text/javascript\">\n",
       "\n",
       "var ldavis_el2322420590749565288537691920_data = {\"mdsDat\": {\"x\": [-0.2742601183168171, 0.16757574814112053, 0.10252443831646527, 0.21764251009014426, -0.10427353122296978, -0.10920904700794304], \"y\": [-0.061630362215244365, 0.09123940994153387, -0.21118487885341417, 0.03015013072489582, -0.11458689431964181, 0.26601259472187044], \"topics\": [1, 2, 3, 4, 5, 6], \"cluster\": [1, 1, 1, 1, 1, 1], \"Freq\": [23.301557629620504, 18.713596789956885, 18.656879313004787, 14.560540935117173, 12.58338927516708, 12.184036057133572]}, \"tinfo\": {\"Term\": [\"verfahren\", \"objekt\", \"werkst\\u00fcck\", \"konfigurieren\", \"verbinden\", \"betreffen\", \"mobil\", \"roboterarm\", \"bild\", \"erfindung\", \"achse\", \"gelenk\", \"basis\", \"robotersystem\", \"aufweisen\", \"ausbilden\", \"kamera\", \"sensor\", \"mehrere\", \"robotermanipulator\", \"position\", \"greifer\", \"abschnitt\", \"autonom\", \"beweglich\", \"automatisch\", \"fahrzeug\", \"anordnen\", \"oberfl\\u00e4che\", \"hand\", \"geh\\u00e4use\", \"arm\", \"reinigungsroboter\", \"welle\", \"antriebseinheit\", \"axial\", \"manipulator\", \"fl\\u00e4che\", \"l\\u00f6sbar\", \"\\u00f6ffnung\", \"rad\", \"k\\u00f6rper\", \"radial\", \"angetrieben\", \"oberer\", \"segment\", \"haltevorrichtung\", \"horizontal\", \"verfahrbar\", \"feder\", \"wand\", \"saugroboter\", \"instrument\", \"gegen\\u00fcberliegend\", \"greifvorrichtung\", \"befestigung\", \"\\u00fcbertragung\", \"antriebswelle\", \"rotor\", \"pneumatisch\", \"bauteil\", \"seite\", \"modular\", \"drehbar\", \"industrieroboter\", \"ausgebildet\", \"ausbilden\", \"angeordnet\", \"anordnen\", \"antrieb\", \"beh\\u00e4lter\", \"aufweisen\", \"richtung\", \"verbunden\", \"roboterarm\", \"betreffen\", \"werkzeug\", \"erfindung\", \"bewegbar\", \"vorsehen\", \"befestigen\", \"vorrichtung\", \"bilden\", \"weisen\", \"verbinden\", \"aufweisend\", \"umfassend\", \"umfassen\", \"kennzeichnen\", \"relativ\", \"komponente\", \"einrichten\", \"vorliegend\", \"robotermanipulator\", \"dreidimensional\", \"person\", \"arbeitsraum\", \"anzeigen\", \"satz\", \"visuell\", \"ger\\u00e4t\", \"zielposition\", \"orientierung\", \"steuersignal\", \"senden\", \"prozessor\", \"ort\", \"vision\", \"kalibrierung\", \"recheneinheit\", \"erfassungseinheit\", \"real\", \"anzeigevorrichtung\", \"zentral\", \"haltung\", \"detektion\", \"\\u00fcbermitteln\", \"gew\\u00fcnscht\", \"drehmomentsensor\", \"unterscheiden\", \"ergebnis\", \"lernvorrichtung\", \"wartung\", \"objekt\", \"kamera\", \"bild\", \"bilddat\", \"ziel\", \"robotersteuerung\", \"sensor\", \"darstellen\", \"steuereinheit\", \"basierend\", \"information\", \"extern\", \"position\", \"veranlassen\", \"virtuell\", \"erkennen\", \"erhalten\", \"erzeugen\", \"bestimmen\", \"erfassen\", \"aufnehmen\", \"vielzahl\", \"robotersystem\", \"lage\", \"bewegen\", \"steuerung\", \"empfangen\", \"verwendung\", \"einrichten\", \"endeffektor\", \"system\", \"umfassen\", \"autonom\", \"fahrzeug\", \"glied\", \"bahn\", \"zugeordnet\", \"\\u00fcberwachung\", \"mobil\", \"fahrgestell\", \"zuf\\u00fchren\", \"stapel\", \"menge\", \"ermittlung\", \"robotereinheit\", \"erf\\u00fcllen\", \"karte\", \"robotervorrichtung\", \"roboterfahrzeug\", \"\\u00fcberwachen\", \"gebiet\", \"referenzpunkt\", \"offenbaren\", \"fahrend\", \"geometrisch\", \"station\\u00e4r\", \"technisch\", \"abfolge\", \"planen\", \"geplant\", \"ausf\\u00fchrungsbeispiel\", \"lokal\", \"durchf\\u00fchrung\", \"ansteuern\", \"verfahrensschritt\", \"abh\\u00e4ngigkeit\", \"verfahren\", \"zuordnen\", \"selbstfahrend\", \"schritt\", \"maschine\", \"ermitteln\", \"vorgegeben\", \"umgebung\", \"system\", \"einrichtung\", \"betreiben\", \"mehrere\", \"jeweilig\", \"betreffen\", \"beschreiben\", \"erfindung\", \"steuer\", \"modell\", \"parameter\", \"vorrichtung\", \"aufweisen\", \"bestimmen\", \"folgend\", \"durchf\\u00fchren\", \"erfassen\", \"bewegung\", \"umfassen\", \"verwendung\", \"pose\", \"robotisch\", \"neuronal\", \"robotersteuervorrichtung\", \"wert\", \"programm\", \"netz\", \"roboterprogramm\", \"speichereinheit\", \"bull\", \"referenz\", \"numerisch\", \"kamerabild\", \"moment\", \"steuerprogramm\", \"netzwerk\", \"menschlich\", \"tats\\u00e4chlich\", \"koordinatensystem\", \"berechnen\", \"robotergest\\u00fctzt\", \"erzeugung\", \"k\\u00fcnstlich\", \"training\", \"erfassungseinrichtung\", \"berechnungseinheit\", \"steuersystem\", \"gewicht\", \"differenz\", \"verarbeitungseinheit\", \"signal\", \"intelligent\", \"speichern\", \"steuervorrichtung\", \"datum\", \"optisch\", \"stellung\", \"basis\", \"mehrzahl\", \"kraft\", \"erzeugen\", \"grundlage\", \"lernen\", \"position\", \"trainieren\", \"erfasst\", \"steuer\", \"erfassen\", \"steuereinrichtung\", \"betrieb\", \"ausf\\u00fchren\", \"steuern\", \"ausw\\u00e4hlen\", \"umfassen\", \"vorrichtung\", \"verfahren\", \"bestimmen\", \"steuerung\", \"bereitstellen\", \"bewegung\", \"werkst\\u00fcck\", \"abschnitt\", \"hand\", \"oberfl\\u00e4che\", \"artikel\", \"greifer\", \"schwei\\u00dfbrenner\", \"k\\u00fcchenmaschine\", \"werkst\\u00fccke\", \"auslegen\", \"roboterhand\", \"kraftsensor\", \"bearbeiten\", \"aufnahmebereich\", \"transporteinrichtung\", \"produkt\", \"handhabung\", \"entnehmen\", \"gruppe\", \"finger\", \"ablegen\", \"kraftfahrzeug\", \"schlie\\u00dfen\", \"handhabungsvorrichtung\", \"\\u00f6ffnen\", \"transportieren\", \"paket\", \"kontrollieren\", \"detektiere\", \"ausge\\u00fcbt\", \"bewirken\", \"greifen\", \"automatisch\", \"entfernen\", \"bearbeitung\", \"gegenstand\", \"paar\", \"verfahren\", \"umfassen\", \"erfindung\", \"herstellen\", \"einzeln\", \"umfassend\", \"ausf\\u00fchren\", \"halten\", \"robotersystem\", \"aufweisen\", \"unterschiedlich\", \"bewegen\", \"betreffen\", \"roboterarm\", \"position\", \"achse\", \"gelenk\", \"fest\", \"ausgestalten\", \"energie\", \"vorder\", \"dynamisch\", \"physisch\", \"robotereinrichtung\", \"kabel\", \"elastisch\", \"hinterer\", \"seriell\", \"roboterachse\", \"gemessen\", \"selektiv\", \"f\\u00f6rdereinrichtung\", \"prozess\", \"batterie\", \"servomotor\", \"steuerungsvorrichtung\", \"effektor\", \"bewegungsbahn\", \"stoppen\", \"eigenschaft\", \"spannung\", \"schwei\\u00dfroboter\", \"freiheitsgrad\", \"aktiv\", \"schwei\\u00dfvorrichtung\", \"bet\\u00e4tigen\", \"konfigurieren\", \"linear\", \"winkel\", \"plattform\", \"beweglich\", \"koppeln\", \"verbinden\", \"motor\", \"robotersystem\", \"elektrisch\", \"beinhalten\", \"element\", \"kommunikation\", \"vielzahl\", \"einheit\", \"mehrere\", \"positionieren\", \"undein\", \"umfassen\", \"roboterarm\", \"basis\", \"steuerung\", \"bewegen\", \"bezug\", \"steuern\", \"position\", \"sensor\", \"relativ\", \"system\"], \"Freq\": [1694.0, 640.0, 429.0, 371.0, 377.0, 778.0, 297.0, 592.0, 331.0, 918.0, 205.0, 201.0, 393.0, 414.0, 1019.0, 452.0, 277.0, 349.0, 533.0, 218.0, 640.0, 175.0, 168.0, 205.0, 223.0, 212.0, 187.0, 456.0, 147.0, 146.0, 172.98577881144226, 159.21476667874012, 153.74883091855818, 96.03722983129353, 93.51216788059365, 86.85751465051284, 84.14216969653795, 111.29423858389264, 68.85578182269994, 65.35025590564373, 60.42818541631077, 60.61092150757717, 57.99848500624455, 51.46033082647225, 50.295239478706144, 47.62487351111356, 46.89803136379361, 46.940303674909586, 43.95088322051815, 42.946256793904126, 41.533842692714195, 41.29370052232932, 39.593938029736734, 38.42133812588168, 37.61386984588109, 37.634205994265336, 37.98846409849956, 37.44726962489149, 37.26578673360707, 37.54390090549644, 207.3605691002585, 68.61247724355793, 69.6784405718755, 130.82611107154983, 75.11952874471571, 69.74073354003059, 375.8455749165517, 148.61248648252248, 353.1982493407084, 89.08729260879292, 88.63557486173434, 659.3572659364289, 186.84199035132306, 90.18090634348783, 357.5618654710099, 443.25220698216674, 147.33571053850025, 470.22756881537885, 127.24244384488966, 152.93350881138582, 119.3209870759684, 256.5313745562611, 89.08671990800174, 132.7991940902895, 170.39752916914628, 144.56420890468658, 170.43262185549608, 197.26709650817594, 113.61444176354992, 111.55051325077457, 97.68200220984001, 103.50121186158646, 94.15046110200859, 217.87925791445252, 122.82033039608167, 106.4174682893138, 83.65703006855904, 69.5998116788145, 60.38981591710782, 56.141514787738075, 110.84275839506252, 54.45917806759808, 48.30011810220119, 48.507682076279785, 44.68413383320272, 41.61150931997879, 39.35325409498111, 36.04170331991336, 33.48647240968787, 33.36914553029596, 58.227121717229004, 31.932940836998238, 30.346860154529455, 29.927583636133146, 29.047220622246993, 27.14850230799031, 26.95622408734342, 26.94487258808402, 26.33252430029208, 25.304121198235404, 24.48394528095712, 23.87384371958074, 24.011554856696613, 609.6959083144126, 265.17382275450205, 308.93525842298624, 80.46309658140191, 55.117326094859784, 91.64658108802374, 281.2635238398984, 60.79330967955054, 153.1369095589325, 144.3594217455864, 115.34761856598006, 93.17834409587313, 304.15521780618053, 65.50356936097748, 82.2470185342849, 82.02034152149001, 62.19634440877034, 142.76084643348918, 160.0026789451462, 151.6222024647079, 105.78519389953544, 119.29716452399211, 123.93570766112897, 74.199879996214, 110.1582260940967, 110.70292562271209, 78.39850166893632, 93.16221682691372, 95.58072789254953, 85.44561519019975, 99.48726151329265, 112.69736666579135, 204.69570430944913, 187.13679008259513, 108.76622209097202, 81.67671519589551, 81.65387017186221, 74.43344843748059, 293.607787756073, 57.951734475457215, 58.50717376402577, 52.49893081929499, 47.19366016618065, 43.463401034262475, 40.87543718455059, 40.0372615712189, 38.52063457965221, 157.56331564580762, 37.62655209742913, 34.22123500434473, 33.282161866844326, 30.143724808261272, 29.539584522578288, 28.165624101336824, 28.093816401599593, 27.500975280862118, 26.989389474413375, 26.906064636094904, 26.41776141315369, 25.61323662150018, 25.332647112646466, 25.06694552662505, 98.90877649683387, 69.24324437847122, 49.493762192871614, 96.11488456090653, 1101.3328898211673, 94.23722958717912, 49.39025008034771, 208.43695491493392, 82.54137486855726, 210.5169202784184, 124.56458462988516, 122.61249800060341, 242.26879933977008, 56.988259231850236, 114.52025809977174, 222.2105609434607, 108.04567522360885, 257.88721378709823, 66.34810008561156, 273.43730908256265, 122.61374194486055, 89.0657154205543, 83.17700702831242, 177.33096314152257, 195.6142139936867, 124.01132224720706, 91.46233326853991, 96.80225626170319, 100.88856168681447, 93.10016115254118, 106.57983439951863, 87.36905476042392, 128.77631014231562, 119.76250624050239, 101.43969508498346, 90.50818829975022, 82.34902958274292, 70.0994549869546, 61.76507295923572, 51.80367434613362, 49.56542319429525, 49.95566438885768, 48.31205701252431, 47.21587147434081, 47.298362587368594, 45.959007816581945, 44.06436985647388, 43.872151019838014, 43.52632735892166, 43.4454786433525, 38.76502078520041, 160.1770060035198, 40.009610629028565, 37.46514954206227, 41.89152618808132, 33.87529648535102, 34.08123942038452, 34.10978257913024, 32.20921633369618, 28.91780797463857, 26.953359089160728, 26.893174850853878, 121.10781116056044, 45.529530186717224, 122.88681254116831, 125.87909437654203, 132.7729250158064, 79.32297194296154, 67.82703753257621, 223.86226771224955, 130.9796253074917, 113.32000076600714, 145.46123136565677, 110.11314609929828, 67.16203996209839, 201.88270170957605, 73.30371071888118, 86.55266137669922, 102.64192326400176, 125.206466983298, 62.44214546203267, 80.48986014992033, 101.22732088866627, 88.3248702657702, 60.59272115882058, 121.68237422511784, 104.6649960585769, 128.6262257587042, 90.66168422247327, 90.634236440437, 81.44599533228201, 78.88563948793248, 428.7596432848539, 167.64771087167838, 145.22816895830007, 146.4666084178522, 105.57395496375382, 173.9298843167312, 93.39429562060097, 79.50008450300587, 85.21741630208682, 62.97075979231773, 61.44608822656428, 61.479002578038184, 55.97987965987649, 51.484278194395195, 50.65286998729208, 44.11935504016751, 41.74521364694325, 41.53504280490365, 42.05712021266817, 37.85145985433742, 37.2349772271687, 37.1634392541868, 36.70607045671243, 33.291633122776354, 32.70075437782457, 88.31723886191531, 29.220333631351416, 28.824541372240414, 27.532302293883028, 27.643054194870956, 35.63980260701792, 133.99297692105688, 166.57133925220614, 32.83709376039488, 66.69415673805337, 86.68922117890672, 46.701213662642765, 324.8936663855979, 192.39816535231344, 146.5908815974616, 46.65010248988425, 51.39443495595612, 94.00586857926774, 82.35525206393235, 59.1149741858608, 77.35024893862497, 95.49512935164465, 53.13536016716366, 69.90875717867037, 76.67971712964581, 61.459805463647825, 53.2878098047983, 205.1525244517231, 200.72829912766127, 72.50310147332216, 72.35622115960314, 61.714015802059755, 53.06656456381072, 47.167198075649935, 44.0375006595587, 41.285139674267, 37.404307713795724, 35.334702604315716, 32.56164137726413, 32.52122593233978, 30.402019301841374, 30.375348991151007, 26.594672208397714, 26.483907711656084, 25.467853047748733, 25.121595681048, 25.03929579823049, 24.687687931317, 24.460353799128185, 24.294129641070885, 23.734623163742217, 21.665008772548706, 21.335727134941884, 23.60988749840898, 25.95959116183619, 20.542240228964047, 20.402174061048836, 25.148681538780785, 336.0346493870407, 54.306255600006274, 36.50125689748275, 50.806218284390425, 157.52966141219656, 69.97257211972098, 205.86203274245932, 90.75027623172964, 211.04357976644243, 130.35956346873857, 108.02840774006496, 86.59320243756127, 32.552308217468756, 156.41270395798097, 61.881140488573514, 209.20796501176912, 51.327838375184406, 84.1463256775935, 254.6412343336246, 171.1940818904303, 128.15435658840485, 108.60666872832054, 103.0013493467955, 55.48317707899797, 59.6243054908707, 69.95185879161184, 59.87709661705686, 57.2158968272028, 56.55784753649294], \"Total\": [1694.0, 640.0, 429.0, 371.0, 377.0, 778.0, 297.0, 592.0, 331.0, 918.0, 205.0, 201.0, 393.0, 414.0, 1019.0, 452.0, 277.0, 349.0, 533.0, 218.0, 640.0, 175.0, 168.0, 205.0, 223.0, 212.0, 187.0, 456.0, 147.0, 146.0, 173.8264831855595, 160.0637201286221, 154.5948688059588, 96.87866952002794, 94.35551089701211, 87.6994051059925, 84.98611155643654, 112.48512367233194, 69.69808008210592, 66.19266635735744, 61.27361519527384, 61.464473158708884, 58.840422598052506, 52.311756369311965, 51.13865933394032, 48.472724732118344, 47.74158693022208, 47.79861635893098, 44.809901983328636, 43.79451352806691, 42.381141133284174, 42.13717630535094, 40.435418641393845, 39.27164012440413, 38.4545483942611, 38.47546695774859, 38.83955907871616, 38.288110859428365, 38.106656196504055, 38.39271974442072, 212.20284245872267, 70.4843129709468, 71.64637917010334, 136.1556677302853, 77.58915350049415, 72.46799744435013, 452.44668324932064, 173.62250367917062, 456.40299600298863, 100.25502391293728, 100.22231381453356, 1019.5400545266286, 246.14041244742853, 106.06873995874871, 592.067721147461, 778.4832305180233, 201.9522414176504, 918.3675759889029, 169.6888722279666, 233.45180904089773, 165.75953405206994, 596.1816934472672, 109.34004559830669, 228.85762733326635, 377.06622150793555, 289.9359796960731, 438.23818279758683, 985.2660714845417, 213.22321798942568, 234.16021512961214, 169.49890334108406, 311.82613277343967, 243.881991797403, 218.71070235089292, 123.66002329249035, 107.24886275765499, 84.49020867429002, 70.44741858188284, 61.22086848651864, 56.96913916563334, 112.51144387389431, 55.356982086125534, 49.130781706492094, 49.34440449375837, 45.516438967249236, 42.43932946438398, 40.183587188775434, 36.86980073813837, 34.314482401118006, 34.198013673072836, 59.71429234369939, 32.76395210948363, 31.174851590342637, 30.761153331164518, 29.879708339892897, 27.984623650363908, 27.787230486487474, 27.77678879027191, 27.160895574679703, 26.151852717916142, 25.315997532492997, 24.70172252460996, 24.844431844918756, 640.761207452778, 277.5966187777049, 331.88922345794776, 84.76104563644982, 58.12575436381049, 102.58865033184847, 349.17783860046075, 71.25023989339977, 213.8147857780091, 228.7443932123863, 171.75810246132778, 130.7336750145081, 640.5643384458662, 84.8615319524458, 120.73368399258716, 120.42504628924912, 80.59139576260513, 313.1761866210101, 381.9055559530405, 408.4015882549578, 249.4418889565934, 328.11371841654136, 414.2779453537721, 118.76485303799595, 362.69985707384046, 399.74642688434795, 151.95799858831649, 273.5219439391628, 311.82613277343967, 208.45335776474843, 428.0575110028584, 985.2660714845417, 205.5354754182762, 187.97305482751244, 109.6075025188297, 82.51302718332767, 82.49134157571537, 75.2778527773001, 297.1792287742728, 58.78780345433289, 59.35335909385982, 53.33764632509825, 48.03002657754361, 44.299915201099466, 41.71274026481959, 40.875198385463236, 39.357376209320584, 160.9960819626689, 38.46450282209378, 35.05972915803188, 34.11923345483234, 30.98304515726179, 30.379104839026482, 28.999698110184504, 28.935009681665818, 28.3414559930864, 27.822551413707572, 27.741423606800915, 27.25516222463187, 26.448326824336448, 26.173085690629073, 25.90803598945852, 103.76886318073835, 75.04881549541581, 53.078324105074664, 108.63994827136844, 1694.997771181168, 111.57902290385567, 54.54649929251313, 277.20145292227244, 97.19374720265994, 298.77711117602803, 161.9254087778532, 171.75123911012793, 428.0575110028584, 67.30927868038656, 192.16321710330556, 533.5510529531756, 185.24259530906812, 778.4832305180233, 88.164199083907, 918.3675759889029, 253.29118057249622, 149.53819501198092, 135.68538622841686, 596.1816934472672, 1019.5400545266286, 381.9055559530405, 200.48995873192175, 264.2652267117727, 408.4015882549578, 272.71594956847457, 985.2660714845417, 273.5219439391628, 129.6011745897197, 120.59132729936879, 102.2610825245963, 91.33204897117554, 83.17125062390565, 70.92308864445538, 62.5856958645393, 52.62514466543976, 50.394652974342556, 50.79896624024704, 49.13411513911792, 48.03544675988981, 48.11999770751743, 46.785725144756825, 44.88945489792212, 44.69479387280058, 44.35054108446622, 44.285283621592235, 39.58710536777522, 163.60391728847674, 40.86746529239856, 38.29458511456219, 42.88694458389296, 34.69622297471641, 34.90719339081938, 34.95619888308642, 33.0328857546447, 29.742488520301887, 27.776222394535303, 27.716551171889346, 131.9439876672994, 48.107602562487635, 141.06143078567035, 155.602354186828, 169.3711988857543, 94.25495542854465, 81.09396051145214, 393.9281803255292, 197.18144089253946, 206.1038557807687, 313.1761866210101, 200.52414251804643, 92.96930359968165, 640.5643384458662, 114.11008852280989, 164.6654319398319, 253.29118057249622, 408.4015882549578, 89.9198832734028, 167.8065072956952, 319.34947738369414, 246.25735103251264, 86.46996963201164, 985.2660714845417, 596.1816934472672, 1694.997771181168, 381.9055559530405, 399.74642688434795, 276.2152783193665, 272.71594956847457, 429.59519443761883, 168.48247325505253, 146.06051051803, 147.3170932689169, 106.40478720347615, 175.36925565842841, 94.22647673133582, 80.32874943740916, 86.14239097269801, 63.803756274251334, 62.274853779179004, 62.31169207104363, 56.81120011761038, 52.32622663595064, 51.5107910994678, 44.94999730158672, 42.576075556699934, 42.365497800972186, 42.90843330869148, 38.680587184576645, 38.06649043518006, 37.99676345316795, 37.54222281902418, 34.12030158037515, 33.53238372936404, 90.7487466338172, 30.05232361846307, 29.671347035425434, 28.36876901838552, 28.49424835473653, 37.055941457776136, 148.4266976314623, 212.19057544653907, 34.55530275246032, 82.27953348307805, 128.8870565191402, 59.90204651113259, 1694.997771181168, 985.2660714845417, 918.3675759889029, 65.55753983815748, 83.09112579771298, 438.23818279758683, 319.34947738369414, 146.72472107000175, 414.2779453537721, 1019.5400545266286, 102.52515561247627, 362.69985707384046, 778.4832305180233, 592.067721147461, 640.5643384458662, 205.99333975219005, 201.59494765722684, 73.34267173240796, 73.19783342605051, 62.55240712541382, 53.909525176683005, 48.014341277282696, 44.88114543321186, 42.12470358433005, 38.24136572390039, 36.1736808198781, 33.399264871288054, 33.36509504807401, 31.24330430610207, 31.242789379766773, 27.433163279529193, 27.339970536704715, 26.312021115661164, 25.95786559104933, 25.879040218847404, 25.526831364131013, 25.298015996447436, 25.130365994800677, 24.6053913063196, 22.51310882909835, 22.172603029750302, 24.550289714596754, 27.013140153380846, 21.383707896229637, 21.245248120865853, 26.206805899006262, 371.0149555459728, 60.09957600992602, 39.76506300876576, 57.64914264291167, 223.34020567558704, 87.66729094619164, 377.06622150793555, 137.29079106246678, 414.2779453537721, 222.8089081829374, 183.60087971531397, 138.18115538758974, 36.913825686513086, 328.11371841654136, 90.27086841592005, 533.5510529531756, 70.40365275898584, 160.70977439880562, 985.2660714845417, 592.067721147461, 393.9281803255292, 399.74642688434795, 362.69985707384046, 118.19692551808662, 246.25735103251264, 640.5643384458662, 349.17783860046075, 234.16021512961214, 428.0575110028584], \"Category\": [\"Default\", \"Default\", \"Default\", \"Default\", \"Default\", \"Default\", \"Default\", \"Default\", \"Default\", \"Default\", \"Default\", \"Default\", \"Default\", \"Default\", \"Default\", \"Default\", \"Default\", \"Default\", \"Default\", \"Default\", \"Default\", \"Default\", \"Default\", \"Default\", \"Default\", \"Default\", \"Default\", \"Default\", \"Default\", \"Default\", \"Topic1\", \"Topic1\", \"Topic1\", \"Topic1\", \"Topic1\", \"Topic1\", \"Topic1\", \"Topic1\", \"Topic1\", \"Topic1\", \"Topic1\", \"Topic1\", \"Topic1\", \"Topic1\", \"Topic1\", \"Topic1\", \"Topic1\", \"Topic1\", \"Topic1\", \"Topic1\", \"Topic1\", \"Topic1\", \"Topic1\", \"Topic1\", \"Topic1\", \"Topic1\", \"Topic1\", \"Topic1\", \"Topic1\", \"Topic1\", \"Topic1\", \"Topic1\", \"Topic1\", \"Topic1\", \"Topic1\", \"Topic1\", \"Topic1\", \"Topic1\", \"Topic1\", \"Topic1\", \"Topic1\", \"Topic1\", \"Topic1\", \"Topic1\", \"Topic1\", \"Topic1\", \"Topic1\", \"Topic1\", \"Topic1\", \"Topic1\", \"Topic1\", \"Topic1\", \"Topic1\", \"Topic1\", \"Topic1\", \"Topic1\", \"Topic1\", \"Topic1\", \"Topic1\", \"Topic1\", \"Topic1\", \"Topic1\", \"Topic1\", \"Topic2\", \"Topic2\", \"Topic2\", \"Topic2\", \"Topic2\", \"Topic2\", \"Topic2\", \"Topic2\", \"Topic2\", \"Topic2\", \"Topic2\", \"Topic2\", \"Topic2\", \"Topic2\", \"Topic2\", \"Topic2\", \"Topic2\", \"Topic2\", \"Topic2\", \"Topic2\", \"Topic2\", \"Topic2\", \"Topic2\", \"Topic2\", \"Topic2\", \"Topic2\", \"Topic2\", \"Topic2\", \"Topic2\", \"Topic2\", \"Topic2\", \"Topic2\", \"Topic2\", \"Topic2\", \"Topic2\", \"Topic2\", \"Topic2\", \"Topic2\", \"Topic2\", \"Topic2\", \"Topic2\", \"Topic2\", \"Topic2\", \"Topic2\", \"Topic2\", \"Topic2\", \"Topic2\", \"Topic2\", \"Topic2\", \"Topic2\", \"Topic2\", \"Topic2\", \"Topic2\", \"Topic2\", \"Topic2\", \"Topic2\", \"Topic2\", \"Topic2\", \"Topic2\", \"Topic2\", \"Topic2\", \"Topic2\", \"Topic3\", \"Topic3\", \"Topic3\", \"Topic3\", \"Topic3\", \"Topic3\", \"Topic3\", \"Topic3\", \"Topic3\", \"Topic3\", \"Topic3\", \"Topic3\", \"Topic3\", \"Topic3\", \"Topic3\", \"Topic3\", \"Topic3\", \"Topic3\", \"Topic3\", \"Topic3\", \"Topic3\", \"Topic3\", \"Topic3\", \"Topic3\", \"Topic3\", \"Topic3\", \"Topic3\", \"Topic3\", \"Topic3\", \"Topic3\", \"Topic3\", \"Topic3\", \"Topic3\", \"Topic3\", \"Topic3\", \"Topic3\", \"Topic3\", \"Topic3\", \"Topic3\", \"Topic3\", \"Topic3\", \"Topic3\", \"Topic3\", \"Topic3\", \"Topic3\", \"Topic3\", \"Topic3\", \"Topic3\", \"Topic3\", \"Topic3\", \"Topic3\", \"Topic3\", \"Topic3\", \"Topic3\", \"Topic3\", \"Topic3\", \"Topic3\", \"Topic3\", \"Topic3\", \"Topic3\", \"Topic3\", \"Topic3\", \"Topic4\", \"Topic4\", \"Topic4\", \"Topic4\", \"Topic4\", \"Topic4\", \"Topic4\", \"Topic4\", \"Topic4\", \"Topic4\", \"Topic4\", \"Topic4\", \"Topic4\", \"Topic4\", \"Topic4\", \"Topic4\", \"Topic4\", \"Topic4\", \"Topic4\", \"Topic4\", \"Topic4\", \"Topic4\", \"Topic4\", \"Topic4\", \"Topic4\", \"Topic4\", \"Topic4\", \"Topic4\", \"Topic4\", \"Topic4\", \"Topic4\", \"Topic4\", \"Topic4\", \"Topic4\", \"Topic4\", \"Topic4\", \"Topic4\", \"Topic4\", \"Topic4\", \"Topic4\", \"Topic4\", \"Topic4\", \"Topic4\", \"Topic4\", \"Topic4\", \"Topic4\", \"Topic4\", \"Topic4\", \"Topic4\", \"Topic4\", \"Topic4\", \"Topic4\", \"Topic4\", \"Topic4\", \"Topic4\", \"Topic4\", \"Topic4\", \"Topic4\", \"Topic4\", \"Topic4\", \"Topic5\", \"Topic5\", \"Topic5\", \"Topic5\", \"Topic5\", \"Topic5\", \"Topic5\", \"Topic5\", \"Topic5\", \"Topic5\", \"Topic5\", \"Topic5\", \"Topic5\", \"Topic5\", \"Topic5\", \"Topic5\", \"Topic5\", \"Topic5\", \"Topic5\", \"Topic5\", \"Topic5\", \"Topic5\", \"Topic5\", \"Topic5\", \"Topic5\", \"Topic5\", \"Topic5\", \"Topic5\", \"Topic5\", \"Topic5\", \"Topic5\", \"Topic5\", \"Topic5\", \"Topic5\", \"Topic5\", \"Topic5\", \"Topic5\", \"Topic5\", \"Topic5\", \"Topic5\", \"Topic5\", \"Topic5\", \"Topic5\", \"Topic5\", \"Topic5\", \"Topic5\", \"Topic5\", \"Topic5\", \"Topic5\", \"Topic5\", \"Topic5\", \"Topic5\", \"Topic6\", \"Topic6\", \"Topic6\", \"Topic6\", \"Topic6\", \"Topic6\", \"Topic6\", \"Topic6\", \"Topic6\", \"Topic6\", \"Topic6\", \"Topic6\", \"Topic6\", \"Topic6\", \"Topic6\", \"Topic6\", \"Topic6\", \"Topic6\", \"Topic6\", \"Topic6\", \"Topic6\", \"Topic6\", \"Topic6\", \"Topic6\", \"Topic6\", \"Topic6\", \"Topic6\", \"Topic6\", \"Topic6\", \"Topic6\", \"Topic6\", \"Topic6\", \"Topic6\", \"Topic6\", \"Topic6\", \"Topic6\", \"Topic6\", \"Topic6\", \"Topic6\", \"Topic6\", \"Topic6\", \"Topic6\", \"Topic6\", \"Topic6\", \"Topic6\", \"Topic6\", \"Topic6\", \"Topic6\", \"Topic6\", \"Topic6\", \"Topic6\", \"Topic6\", \"Topic6\", \"Topic6\", \"Topic6\", \"Topic6\", \"Topic6\", \"Topic6\", \"Topic6\", \"Topic6\"], \"logprob\": [30.0, 29.0, 28.0, 27.0, 26.0, 25.0, 24.0, 23.0, 22.0, 21.0, 20.0, 19.0, 18.0, 17.0, 16.0, 15.0, 14.0, 13.0, 12.0, 11.0, 10.0, 9.0, 8.0, 7.0, 6.0, 5.0, 4.0, 3.0, 2.0, 1.0, -4.4172, -4.5001, -4.5351, -5.0057, -5.0323, -5.1061, -5.1379, -4.8582, -5.3384, -5.3906, -5.4689, -5.4659, -5.51, -5.6296, -5.6525, -5.707, -5.7224, -5.7215, -5.7873, -5.8105, -5.8439, -5.8497, -5.8917, -5.9218, -5.943, -5.9425, -5.9331, -5.9475, -5.9523, -5.9449, -4.2359, -5.3419, -5.3265, -4.6965, -5.2513, -5.3256, -3.6412, -4.5691, -3.7034, -5.0808, -5.0859, -3.0791, -4.3401, -5.0686, -3.6911, -3.4763, -4.5777, -3.4172, -4.7243, -4.5404, -4.7886, -4.0232, -5.0808, -4.6816, -4.4323, -4.5967, -4.4321, -4.2858, -4.8376, -4.8559, -4.9887, -4.9308, -5.0255, -3.9672, -4.5404, -4.6838, -4.9244, -5.1084, -5.2503, -5.3233, -4.643, -5.3537, -5.4737, -5.4694, -5.5515, -5.6228, -5.6786, -5.7665, -5.84, -5.8435, -5.2868, -5.8875, -5.9384, -5.9524, -5.9822, -6.0498, -6.0569, -6.0573, -6.0803, -6.1202, -6.1531, -6.1783, -6.1726, -2.9382, -3.7707, -3.618, -4.9633, -5.3417, -4.8332, -3.7118, -5.2437, -4.3198, -4.3788, -4.6032, -4.8166, -3.6336, -5.169, -4.9414, -4.9442, -5.2208, -4.39, -4.2759, -4.3297, -4.6897, -4.5695, -4.5314, -5.0444, -4.6492, -4.6443, -4.9893, -4.8168, -4.7912, -4.9033, -4.7511, -4.6264, -4.0266, -4.1163, -4.6589, -4.9453, -4.9456, -5.0382, -3.6659, -5.2885, -5.2789, -5.3873, -5.4938, -5.5762, -5.6376, -5.6583, -5.6969, -4.2883, -5.7204, -5.8153, -5.8431, -5.9421, -5.9624, -6.01, -6.0125, -6.0339, -6.0527, -6.0557, -6.0741, -6.105, -6.116, -6.1265, -4.7539, -5.1105, -5.4463, -4.7826, -2.3438, -4.8023, -5.4483, -4.0085, -4.9348, -3.9985, -4.5233, -4.5391, -3.858, -5.3053, -4.6073, -3.9445, -4.6655, -3.7956, -5.1532, -3.737, -4.5391, -4.8587, -4.9271, -4.1701, -4.072, -4.5277, -4.8322, -4.7754, -4.7341, -4.8144, -4.6792, -4.878, -4.2421, -4.3147, -4.4807, -4.5948, -4.6892, -4.8503, -4.9769, -5.1527, -5.1969, -5.1891, -5.2225, -5.2455, -5.2437, -5.2724, -5.3145, -5.3189, -5.3268, -5.3287, -5.4427, -4.0239, -5.4111, -5.4768, -5.3651, -5.5775, -5.5715, -5.5706, -5.6279, -5.7357, -5.8061, -5.8083, -4.3035, -5.2818, -4.2889, -4.2649, -4.2116, -4.7267, -4.8832, -3.6892, -4.2252, -4.37, -4.1203, -4.3987, -4.8931, -3.7925, -4.8056, -4.6394, -4.469, -4.2702, -4.966, -4.7121, -4.4828, -4.6192, -4.996, -4.2988, -4.4494, -4.2433, -4.5931, -4.5934, -4.7003, -4.7322, -2.8934, -3.8324, -3.976, -3.9675, -4.2948, -3.7956, -4.4174, -4.5785, -4.5091, -4.8116, -4.8361, -4.8356, -4.9293, -5.013, -5.0293, -5.1674, -5.2227, -5.2277, -5.2152, -5.3206, -5.337, -5.3389, -5.3513, -5.449, -5.4669, -4.4733, -5.5794, -5.593, -5.6389, -5.6349, -5.3808, -4.0565, -3.8388, -5.4627, -4.7541, -4.4919, -5.1105, -3.1708, -3.6947, -3.9666, -5.1116, -5.0147, -4.4109, -4.5432, -4.8748, -4.6059, -4.3952, -4.9814, -4.7071, -4.6146, -4.8359, -4.9786, -3.5983, -3.6201, -4.6384, -4.6404, -4.7995, -4.9505, -5.0683, -5.137, -5.2015, -5.3002, -5.3571, -5.4389, -5.4401, -5.5075, -5.5084, -5.6413, -5.6455, -5.6846, -5.6983, -5.7016, -5.7157, -5.725, -5.7318, -5.7551, -5.8463, -5.8616, -5.7603, -5.6655, -5.8995, -5.9064, -5.6972, -3.1048, -4.9274, -5.3247, -4.994, -3.8624, -4.6739, -3.5948, -4.4139, -3.5699, -4.0517, -4.2396, -4.4608, -5.4392, -3.8695, -4.7968, -3.5787, -4.9838, -4.4895, -3.3822, -3.7792, -4.0688, -4.2343, -4.2873, -4.9059, -4.8339, -4.6742, -4.8297, -4.8752, -4.8867], \"loglift\": [30.0, 29.0, 28.0, 27.0, 26.0, 25.0, 24.0, 23.0, 22.0, 21.0, 20.0, 19.0, 18.0, 17.0, 16.0, 15.0, 14.0, 13.0, 12.0, 11.0, 10.0, 9.0, 8.0, 7.0, 6.0, 5.0, 4.0, 3.0, 2.0, 1.0, 1.4518, 1.4513, 1.4512, 1.4479, 1.4477, 1.447, 1.4467, 1.446, 1.4445, 1.4438, 1.4428, 1.4427, 1.4422, 1.4402, 1.44, 1.439, 1.4388, 1.4385, 1.4373, 1.4371, 1.4365, 1.4364, 1.4356, 1.4348, 1.4345, 1.4345, 1.4345, 1.4344, 1.4343, 1.4343, 1.4336, 1.4297, 1.4288, 1.4167, 1.4243, 1.4183, 1.2712, 1.3011, 1.2003, 1.3385, 1.3338, 1.0208, 1.181, 1.2944, 0.9523, 0.8934, 1.1413, 0.7873, 1.1688, 1.0337, 1.1279, 0.6134, 1.2518, 0.9124, 0.6624, 0.7607, 0.5122, -0.1517, 0.8271, 0.7151, 0.9055, 0.3538, 0.5049, 1.6721, 1.6691, 1.6681, 1.666, 1.6638, 1.6623, 1.6613, 1.661, 1.6596, 1.6589, 1.6588, 1.6575, 1.6562, 1.655, 1.6532, 1.6515, 1.6514, 1.6507, 1.6502, 1.649, 1.6484, 1.6477, 1.6456, 1.6456, 1.6455, 1.6449, 1.643, 1.6425, 1.6418, 1.6418, 1.6262, 1.6301, 1.6043, 1.6239, 1.6228, 1.5631, 1.4596, 1.5172, 1.3421, 1.2156, 1.2778, 1.3373, 0.9311, 1.417, 1.2921, 1.2919, 1.4168, 0.8903, 0.8059, 0.6851, 0.8181, 0.6642, 0.4691, 1.2055, 0.4843, 0.3919, 1.0141, 0.5989, 0.4934, 0.7841, 0.2167, -0.4923, 1.6749, 1.6745, 1.6713, 1.6688, 1.6688, 1.6677, 1.6669, 1.6646, 1.6646, 1.6631, 1.6614, 1.6599, 1.6587, 1.6582, 1.6575, 1.6574, 1.6569, 1.6547, 1.6541, 1.6515, 1.6509, 1.6498, 1.6495, 1.6489, 1.6486, 1.6484, 1.6477, 1.6469, 1.6463, 1.646, 1.631, 1.5984, 1.609, 1.5565, 1.2478, 1.51, 1.5797, 1.3938, 1.5155, 1.3288, 1.4166, 1.3419, 1.1097, 1.5125, 1.1614, 0.803, 1.1398, 0.5741, 1.3947, 0.4674, 0.9535, 1.1608, 1.1896, 0.4664, 0.028, 0.5542, 0.8941, 0.6747, 0.2807, 0.6042, -0.5451, 0.5377, 1.9205, 1.92, 1.9188, 1.9178, 1.9169, 1.9152, 1.9137, 1.9111, 1.9103, 1.9101, 1.91, 1.9096, 1.9096, 1.909, 1.9083, 1.9083, 1.9081, 1.9077, 1.9059, 1.9057, 1.9056, 1.905, 1.9034, 1.9029, 1.9029, 1.9023, 1.9016, 1.8987, 1.8968, 1.8967, 1.8412, 1.8718, 1.7889, 1.7149, 1.6834, 1.7544, 1.7482, 1.3617, 1.5178, 1.3287, 1.16, 1.3274, 1.6017, 0.7722, 1.4843, 1.2837, 1.0236, 0.7446, 1.5622, 1.1922, 0.7779, 0.9015, 1.5712, -0.1646, 0.1871, -0.6517, 0.4888, 0.4429, 0.7056, 0.6864, 2.0708, 2.0678, 2.0671, 2.067, 2.065, 2.0646, 2.0639, 2.0624, 2.062, 2.0597, 2.0594, 2.0593, 2.0581, 2.0566, 2.056, 2.0541, 2.0531, 2.053, 2.0528, 2.0511, 2.0507, 2.0506, 2.0503, 2.0482, 2.0477, 2.0456, 2.0447, 2.0438, 2.0429, 2.0425, 2.0338, 1.9705, 1.8307, 2.0218, 1.8628, 1.6762, 1.8239, 0.4209, 0.4394, 0.2378, 1.7325, 1.5924, 0.5334, 0.7175, 1.1637, 0.3946, -0.2952, 1.4155, 0.4264, -0.2449, -0.1924, -0.4138, 2.101, 2.1007, 2.0935, 2.0935, 2.0915, 2.0893, 2.0872, 2.0861, 2.0849, 2.0829, 2.0816, 2.0796, 2.0794, 2.0777, 2.0769, 2.074, 2.0732, 2.0724, 2.0723, 2.0721, 2.0716, 2.0714, 2.0712, 2.069, 2.0666, 2.0666, 2.066, 2.0653, 2.0649, 2.0646, 2.0638, 2.006, 2.0037, 2.0194, 1.9787, 1.756, 1.8796, 1.4998, 1.6911, 1.4306, 1.569, 1.5747, 1.6377, 1.9793, 1.3642, 1.7274, 1.1688, 1.789, 1.458, 0.752, 0.8642, 0.9821, 0.8019, 0.8462, 1.3488, 0.6867, -0.1095, 0.3418, 0.6959, 0.0811]}, \"token.table\": {\"Topic\": [3, 3, 4, 5, 5, 5, 6, 6, 1, 3, 4, 5, 1, 1, 2, 5, 6, 2, 3, 4, 5, 1, 4, 5, 1, 1, 2, 2, 2, 1, 5, 5, 1, 2, 3, 4, 5, 1, 2, 3, 4, 5, 6, 1, 2, 3, 4, 5, 6, 1, 3, 5, 6, 2, 3, 4, 5, 3, 1, 5, 6, 5, 5, 2, 3, 4, 2, 3, 4, 5, 3, 1, 3, 2, 3, 4, 5, 2, 4, 5, 6, 6, 1, 4, 5, 1, 5, 1, 5, 6, 1, 1, 5, 2, 3, 5, 6, 2, 4, 5, 6, 4, 1, 2, 3, 4, 5, 6, 2, 3, 4, 2, 3, 4, 5, 6, 1, 3, 5, 3, 4, 5, 6, 1, 2, 3, 4, 6, 6, 1, 3, 5, 6, 1, 2, 3, 4, 5, 6, 1, 2, 6, 1, 2, 3, 4, 5, 6, 6, 5, 6, 2, 4, 5, 6, 2, 4, 2, 4, 1, 2, 3, 5, 4, 2, 6, 3, 4, 5, 2, 4, 1, 6, 2, 2, 2, 3, 4, 5, 6, 3, 5, 6, 6, 6, 4, 6, 1, 2, 3, 4, 5, 6, 3, 6, 3, 4, 5, 6, 1, 6, 1, 4, 6, 2, 3, 4, 6, 1, 2, 5, 6, 6, 2, 5, 5, 1, 2, 3, 4, 5, 6, 2, 3, 4, 2, 6, 4, 1, 2, 3, 4, 5, 3, 2, 2, 3, 2, 3, 6, 2, 3, 4, 3, 1, 2, 3, 4, 5, 4, 2, 6, 3, 3, 3, 1, 6, 5, 1, 3, 1, 2, 3, 4, 5, 6, 6, 6, 3, 2, 5, 1, 1, 6, 6, 3, 3, 2, 3, 4, 2, 3, 1, 5, 6, 5, 1, 2, 4, 6, 5, 1, 2, 4, 5, 6, 1, 2, 5, 5, 5, 1, 5, 6, 6, 1, 1, 4, 2, 3, 1, 3, 4, 1, 2, 3, 4, 6, 6, 2, 2, 4, 4, 3, 1, 2, 3, 4, 5, 6, 3, 6, 1, 3, 4, 2, 6, 5, 4, 5, 6, 1, 4, 5, 6, 5, 5, 1, 5, 4, 1, 2, 4, 2, 3, 4, 2, 3, 5, 6, 3, 1, 1, 3, 6, 1, 2, 3, 4, 5, 6, 1, 3, 4, 3, 4, 2, 3, 6, 2, 3, 4, 1, 3, 4, 1, 6, 4, 4, 4, 4, 1, 5, 2, 3, 4, 3, 2, 4, 2, 2, 2, 5, 5, 2, 3, 4, 2, 6, 3, 1, 6, 1, 4, 2, 3, 4, 5, 6, 2, 6, 5, 4, 6, 2, 1, 1, 2, 2, 4, 3, 1, 1, 2, 5, 6, 1, 2, 6, 6, 1, 3, 5, 6, 3, 6, 3, 4, 5, 2, 4, 2, 5, 4, 2, 4, 5, 6, 3, 4, 4, 1, 2, 1, 5, 2, 3, 4, 5, 6, 6, 1, 1, 5, 3, 4, 6, 2, 2, 4, 6, 6, 6, 4, 6, 6, 4, 3, 4, 5, 3, 3, 4, 6, 2, 3, 4, 1, 2, 4, 5, 6, 4, 5, 2, 4, 5, 6, 4, 2, 4, 2, 3, 4, 5, 6, 6, 4, 6, 6, 1, 2, 3, 4, 5, 6, 4, 3, 3, 4, 4, 5, 5, 6, 1, 2, 3, 4, 5, 6, 1, 2, 3, 4, 5, 6, 2, 3, 2, 5, 6, 2, 1, 3, 4, 5, 6, 2, 4, 4, 1, 6, 1, 2, 6, 1, 1, 2, 3, 4, 5, 2, 3, 1, 2, 3, 4, 5, 6, 2, 3, 5, 6, 2, 3, 4, 2, 2, 6, 2, 3, 4, 5, 1, 2, 3, 4, 5, 1, 2, 3, 4, 5, 6, 1, 2, 3, 4, 5, 6, 1, 2, 1, 2, 3, 4, 5, 1, 5, 5, 1, 4, 5, 6, 4, 4, 6, 2, 2, 6, 2, 3, 3, 2, 3, 5, 5, 1, 2, 1, 3, 3], \"Freq\": [0.9732737722003874, 0.8836528507930113, 0.10125188915336587, 0.009204717195760534, 0.9719834840830393, 0.9971363593747692, 0.9951778064602232, 0.9820560635184653, 0.8581836849636182, 0.06335584251409263, 0.005759622046735692, 0.074875086607564, 0.9749242529719095, 0.773439269880885, 0.11393439669633433, 0.09202393579319311, 0.019719414812827095, 0.013324660667843356, 0.9194015860811916, 0.013324660667843356, 0.05329864267137342, 0.8877360607612913, 0.06982193736324763, 0.029923687441391844, 0.9962322190444165, 0.9663574193002743, 0.9936489002593786, 0.9623141240323793, 0.994198041619476, 0.9933543958133215, 0.9961957801513002, 0.9746546479420808, 0.30067123173947385, 0.4249486741917897, 0.016035799026105274, 0.07216109561747372, 0.18441168880021064, 0.6463698969688572, 0.00980834441530891, 0.19224355054005465, 0.013731682181432475, 0.09317927194543466, 0.0441375498688901, 0.5001104042071529, 0.11036919265261305, 0.2138403107644378, 0.031041335433547423, 0.024143260892759106, 0.12071630446379553, 0.8310371451939792, 0.154714362137177, 0.013261231040329455, 0.0022102051733882424, 0.21293286764424202, 0.2098015019435914, 0.3162679357657124, 0.25677198745335067, 0.9551796947255218, 0.9659436229592882, 0.027598389227408232, 0.9836356710303367, 0.9826544519236503, 0.9874026809519411, 0.15034121158274735, 0.15034121158274735, 0.7054472235805838, 0.1696588075329958, 0.037701957229554627, 0.004712744653694328, 0.7870283571669529, 0.9973947299502118, 0.9920249732008193, 0.9937824704675079, 0.6295236266897165, 0.11803568000432184, 0.218584592600596, 0.03497353481609536, 0.10407988574495726, 0.5686315708992787, 0.0025385337986574942, 0.32493232622815926, 0.9630992160087455, 0.9754817494504829, 0.018849888878270202, 0.9857211233712536, 0.1823053603370875, 0.8142972761723242, 0.7179074234283176, 0.10255820334690251, 0.1749522292388337, 0.987642334314728, 0.8880257959789172, 0.10975599725582123, 0.2069706858644777, 0.19607749187161044, 0.010893193992867247, 0.5882324756148313, 0.006112323082317992, 0.9779716931708787, 0.006112323082317992, 0.012224646164635984, 0.9726457992104777, 0.014481458173993935, 0.2461847889578969, 0.25704588258839234, 0.29324952802337717, 0.09412947813096058, 0.0905091135874621, 0.0453698898369524, 0.7486031823097146, 0.1928220318070477, 0.4189517473782805, 0.3246876042181674, 0.23827880632139703, 0.00785534526334276, 0.010473793684457012, 0.5690552893544233, 0.33141368996262127, 0.09891028731442572, 0.5984495978654273, 0.1925446532262679, 0.187340743679612, 0.026019547733279445, 0.17877733398703305, 0.1013071559259854, 0.08342942252728208, 0.4767395572987548, 0.1549403561220953, 0.9539506682478988, 0.7484285700796177, 0.07661079851208685, 0.06482452181791964, 0.10607649024750487, 0.08547011915058143, 0.30328106795367604, 0.03584230803088899, 0.0964985216216242, 0.1929970432432484, 0.2839813636293512, 0.25521602717065367, 0.03581979328710928, 0.7074409174204084, 0.08067001594446956, 0.07700319703790276, 0.34101415831071225, 0.28967869361877707, 0.11367138610357075, 0.09533729157073675, 0.9550199151482894, 0.9715041254860751, 0.02698622570794653, 0.0846045695026965, 0.338418278010786, 0.10998594035350544, 0.46532513226483074, 0.9310335442065115, 0.06628717790467073, 0.9438297911416701, 0.0471914895570835, 0.8139744181831429, 0.05487467987751525, 0.027437339938757625, 0.09145779979585875, 0.9842719980468021, 0.8561374683266254, 0.14035040464370907, 0.21255089552907414, 0.7852574751490795, 0.987000880505371, 0.9648155478999588, 0.972054429018108, 0.9621340204471083, 0.03672267253614917, 0.957258567874252, 0.9946625977020139, 0.21190831914135175, 0.3670554813698414, 0.21947647339640003, 0.16271531648353796, 0.04162484840276552, 0.9540434092215867, 0.038547208453397444, 0.9788742019509363, 0.9486909962967169, 0.9772084418463276, 0.31017758543089363, 0.6868217963112645, 0.3335191924903941, 0.30786386999113297, 0.1827941728072352, 0.003206915312407635, 0.12186278187149013, 0.054517560310929795, 0.8468371837805684, 0.14856792697904708, 0.3008744888216222, 0.07220987731718934, 0.6137839571961093, 0.9675542882759904, 0.41290988206119367, 0.5834596159560345, 0.05065813772048312, 0.3184225799573225, 0.6296082830974331, 0.5132997323248316, 0.27639216355952473, 0.046065360593254126, 0.15793837917687129, 0.3501982447430024, 0.4077650794952767, 0.062364070981630555, 0.17749774048617928, 0.9911688910019677, 0.028939118466522494, 0.9549909093952422, 0.9913727485821304, 0.022037132711593327, 0.37218268579579844, 0.2473056004301029, 0.30607128766101843, 0.0514199763270511, 0.0024485703012881474, 0.103239640522801, 0.36437520184518, 0.528344042675511, 0.9712917581969759, 0.01674640962408579, 0.9740112766826458, 0.5117776501352431, 0.020688883728871527, 0.2972665925253646, 0.00979999755578125, 0.1600666267444271, 0.978588522624162, 0.9480171567087602, 0.76931289517098, 0.22334890504963933, 0.6809214737858108, 0.27402937359672874, 0.04151960206011041, 0.12718511083538744, 0.7062120627964934, 0.16734883004656242, 0.970656485566654, 0.03831708958932369, 0.456611984272774, 0.03831708958932369, 0.46299816587099457, 0.0031930907991103074, 0.9661940425600825, 0.7113698898901096, 0.2830181282358501, 0.9655272925122825, 0.9865992024188339, 0.994823434516158, 0.9818581492506425, 0.9953277986155425, 0.982404941752073, 0.9867971548250408, 0.00889006445788325, 0.019951123863257723, 0.1645967718718762, 0.4538880678891132, 0.10474340028210305, 0.1596089909060618, 0.09476783835047418, 0.9624945434840886, 0.9509885888536066, 0.9671964067916707, 0.3258667017022213, 0.6750095963831727, 0.9676193782491425, 0.9952453551932173, 0.9970487967871178, 0.960221561376603, 0.9676858694034489, 0.9830489532546187, 0.9865663098627694, 0.008887984773538462, 0.9750360996257905, 0.9720346078829688, 0.994457473212426, 0.08758532128956, 0.902802542523157, 0.006737332406889231, 0.9921921567535454, 0.9881795934878554, 0.3042027719655264, 0.5485623756755394, 0.14462098995082404, 0.97882856029359, 0.32032775156939297, 0.08178580891133438, 0.06133935668350078, 0.4021135604807274, 0.13630968151889064, 0.9844666468396628, 0.9705583357813977, 0.992739238591809, 0.9864695007896452, 0.967166129005744, 0.1372839801831854, 0.716927452067746, 0.1525377557590949, 0.9880456988252072, 0.9832920611564573, 0.9666299555584447, 0.02577679881489186, 0.6695462883673441, 0.3260399317267067, 0.989231751369872, 0.04157347058403445, 0.9561898234327924, 0.24832301622232875, 0.12416150811116437, 0.583019255478511, 0.02699163219807921, 0.016194979318847526, 0.967538666561677, 0.9616930721625812, 0.9546225784983638, 0.04322819223388817, 0.9767249010624441, 0.9909197145810764, 0.5346509684778024, 0.05627904931345287, 0.08910849474630039, 0.05627904931345287, 0.1219379401791479, 0.14538754405975327, 0.10836048352098733, 0.8939739890481455, 0.5781748322158391, 0.005899743185875909, 0.41298202301131365, 0.09164051069037574, 0.9056238703519486, 0.9773738942615617, 0.9851692776645109, 0.19391496892990848, 0.7984734014760938, 0.08733461065932935, 0.548267278028012, 0.208632681019509, 0.15526153006102994, 0.9737671484994639, 0.9789495032561766, 0.9924432255766749, 0.9959074498269724, 0.9793190073926117, 0.1768199889346182, 0.6230799610077022, 0.19365998788077232, 0.2581497233037484, 0.010756238470989518, 0.7206679775562976, 0.9715921622910774, 0.08319526246198812, 0.016639052492397624, 0.8985088345894717, 0.9649515698593293, 0.9899842279545783, 0.988396791683054, 0.853964399859341, 0.14404218792808163, 0.03373622805235037, 0.07684363056368695, 0.4160801459789879, 0.0018742348917972428, 0.07871786545548419, 0.39171509238562374, 0.23835914671915906, 0.09635795292902175, 0.664362728089571, 0.9785545282620103, 0.9920961260923827, 0.01009491818245042, 0.9893019818801413, 0.0033649727274834736, 0.2808646981236799, 0.5951656698335123, 0.12037058491014854, 0.977020762400365, 0.013957439462862356, 0.9832058786665001, 0.33505524765364764, 0.6628266855756942, 0.9906416976523361, 0.9844547023803727, 0.9876680111977791, 0.9784441109694347, 0.977733883743319, 0.9910594674406681, 0.9519927125815509, 0.0452586699424016, 0.0031212875822345934, 0.987520868668274, 0.14853330454984406, 0.8381522185312629, 0.9769842516805982, 0.9705455069699191, 0.21702096601297244, 0.784614261739208, 0.964983618843484, 0.2210997133434628, 0.6117092069169137, 0.16950978022998814, 0.9883554685285849, 0.9803671358048759, 0.9539477250479355, 0.10407787045793539, 0.8846618988924508, 0.9897709840033464, 0.9953613492190726, 0.4745815240629274, 0.01717235777859277, 0.3153469337523399, 0.0827395420241288, 0.1092786404092267, 0.2556685526192759, 0.7243942324212816, 0.9788654647693786, 0.9869846525003597, 0.9501360572076982, 0.9896480583004339, 0.9792142965415875, 0.985716917708196, 0.9766831514424505, 0.964968325806123, 0.9769179696040766, 0.9682715126201407, 0.9961520792342373, 0.47830499275039473, 0.179364372281398, 0.09822334672552749, 0.2434230766676116, 0.7597289617768073, 0.020313608603657947, 0.21532425119877424, 0.9602057357979501, 0.6046605602922848, 0.001688995978470069, 0.10302875468667422, 0.28881831231838184, 0.9829131277328066, 0.9733006172475852, 0.9879238573746241, 0.9787736947669247, 0.9795285945800929, 0.9967504912048031, 0.9881207991082196, 0.8967853627316779, 0.0974766698621389, 0.996364376197447, 0.29931595777832287, 0.004827676738360046, 0.18586555442686178, 0.5093198958969849, 0.9813903423850797, 0.01863399384275468, 0.9950964359327366, 0.9709589791663331, 0.9800579685211835, 0.9730125175661917, 0.9855569868188674, 0.03968233169067988, 0.7503568174237651, 0.20562662785170485, 0.9869837356348065, 0.9775852048593312, 0.9413869815131581, 0.9902476137924816, 0.9789412294965743, 0.01418755405067499, 0.8983161272592534, 0.07333192875585742, 0.9842102321516665, 0.9886537923667351, 0.8047475209946764, 0.020047091270330015, 0.171832210888543, 0.9890575750631622, 0.9660327349309032, 0.9170558063252189, 0.07578973605993544, 0.9471147781711985, 0.9921687530114854, 0.12051487004856706, 0.871960530351397, 0.007089110002856886, 0.9749211594950186, 0.9879520659358612, 0.8385334687211016, 0.1603078690202106, 0.1105447095975216, 0.48560711716054134, 0.40664661030516874, 0.11224668075536058, 0.7155725898154237, 0.11224668075536058, 0.0327386152203135, 0.028061670188840145, 0.689502674413934, 0.3002672936963906, 0.28831626630559376, 0.35734973851960916, 0.10964139704578918, 0.24364754899064262, 0.9801856605310818, 0.9930203941603565, 0.96873159183498, 0.27767602793886587, 0.20262845282025346, 0.22764431119312425, 0.022514272535583718, 0.2726728562642917, 0.9793616623772863, 0.8097563861322743, 0.18637250157012664, 0.9753959894893396, 0.04905882845228189, 0.23127733413218607, 0.5653445945453437, 0.014016808129223398, 0.0046722693764078, 0.1331596772276223, 0.970977184371795, 0.97043580218519, 0.35053868170476665, 0.6397330941111992, 0.9799337531574039, 0.9900838040230937, 0.9697103625584081, 0.022038871876327457, 0.19994598992247023, 0.11468983178293977, 0.10860010620154474, 0.12382442015503231, 0.19487121860464102, 0.25881333720928884, 0.38791690608693374, 0.15744862658822606, 0.05476473968286124, 0.10268388690536481, 0.21449523042453986, 0.0798652453708393, 0.27947396623567944, 0.7161520384789286, 0.3546766225839691, 0.11822554086132303, 0.5226813385447966, 0.9559552154740062, 0.22433518742400363, 0.10729074181147999, 0.05852222280626181, 0.5169463014553127, 0.09753703801043635, 0.7777375505898796, 0.223894143351632, 0.9741471741038227, 0.4508491885593689, 0.5463231343719411, 0.8485063557368738, 0.02828354519122913, 0.11313418076491652, 0.9819258255992178, 0.03480830535776194, 0.04719770218001619, 0.6495583762524728, 0.07610629476527611, 0.1917406651063158, 0.0565202472116707, 0.9231640377906214, 0.0475281793218444, 0.3400092828408869, 0.31807320007695866, 0.17548866211142547, 0.04021615173386834, 0.07677628967374865, 0.36267913628935544, 0.0883839911965656, 0.07009764819037963, 0.47544491816083573, 0.6791807993288324, 0.30645962896544876, 0.008282692674741857, 0.9764088570937502, 0.9829883480806049, 0.9831286739457985, 0.06793251339010661, 0.7719603794330298, 0.012351366070928476, 0.14821639285114172, 0.3854323121900998, 0.25422131229559775, 0.11480962490768931, 0.053304468707141464, 0.1927161560950499, 0.4310766379188258, 0.05199757111083113, 0.29688935763281, 0.17612080537539576, 0.04193352508937994, 0.0016773410035751976, 0.6553815137632811, 0.004283539305642361, 0.025701235833854162, 0.017134157222569443, 0.20132634736519095, 0.09423786472413193, 0.9910068223013268, 0.966011223352187, 0.5811473340424138, 0.07428199006557169, 0.12234680716682397, 0.06117340358341199, 0.1616725666133031, 0.9909302065730136, 0.998614522589346, 0.9867383414855517, 0.7278948674602448, 0.1634049702461774, 0.07922665224057086, 0.024758328825178394, 0.985917602355146, 0.07544310942846197, 0.9304650162843642, 0.9752560210285294, 0.9462242787552257, 0.03440815559109912, 0.9754867040256221, 0.9940465190301861, 0.9940437194215785, 0.06273580658643778, 0.8424522598750216, 0.08962258083776825, 0.9841232960453736, 0.9819818958354308, 0.9716693433384701, 0.978383918390664, 0.9697736068280749, 0.9830248508670876], \"Term\": [\"abfolge\", \"abh\\u00e4ngigkeit\", \"abh\\u00e4ngigkeit\", \"abh\\u00e4ngigkeit\", \"ablegen\", \"abschnitt\", \"achse\", \"aktiv\", \"angeordnet\", \"angeordnet\", \"angeordnet\", \"angeordnet\", \"angetrieben\", \"anordnen\", \"anordnen\", \"anordnen\", \"anordnen\", \"ansteuern\", \"ansteuern\", \"ansteuern\", \"ansteuern\", \"antrieb\", \"antrieb\", \"antrieb\", \"antriebseinheit\", \"antriebswelle\", \"anzeigen\", \"anzeigevorrichtung\", \"arbeitsraum\", \"arm\", \"artikel\", \"aufnahmebereich\", \"aufnehmen\", \"aufnehmen\", \"aufnehmen\", \"aufnehmen\", \"aufnehmen\", \"aufweisen\", \"aufweisen\", \"aufweisen\", \"aufweisen\", \"aufweisen\", \"aufweisen\", \"aufweisend\", \"aufweisend\", \"aufweisend\", \"aufweisend\", \"aufweisend\", \"aufweisend\", \"ausbilden\", \"ausbilden\", \"ausbilden\", \"ausbilden\", \"ausf\\u00fchren\", \"ausf\\u00fchren\", \"ausf\\u00fchren\", \"ausf\\u00fchren\", \"ausf\\u00fchrungsbeispiel\", \"ausgebildet\", \"ausgebildet\", \"ausgestalten\", \"ausge\\u00fcbt\", \"auslegen\", \"ausw\\u00e4hlen\", \"ausw\\u00e4hlen\", \"ausw\\u00e4hlen\", \"automatisch\", \"automatisch\", \"automatisch\", \"automatisch\", \"autonom\", \"axial\", \"bahn\", \"basierend\", \"basierend\", \"basierend\", \"basierend\", \"basis\", \"basis\", \"basis\", \"basis\", \"batterie\", \"bauteil\", \"bauteil\", \"bearbeiten\", \"bearbeitung\", \"bearbeitung\", \"befestigen\", \"befestigen\", \"befestigen\", \"befestigung\", \"beh\\u00e4lter\", \"beh\\u00e4lter\", \"beinhalten\", \"beinhalten\", \"beinhalten\", \"beinhalten\", \"berechnen\", \"berechnen\", \"berechnen\", \"berechnen\", \"berechnungseinheit\", \"bereitstellen\", \"bereitstellen\", \"bereitstellen\", \"bereitstellen\", \"bereitstellen\", \"bereitstellen\", \"beschreiben\", \"beschreiben\", \"beschreiben\", \"bestimmen\", \"bestimmen\", \"bestimmen\", \"bestimmen\", \"bestimmen\", \"betreffen\", \"betreffen\", \"betreffen\", \"betreiben\", \"betreiben\", \"betreiben\", \"betreiben\", \"betrieb\", \"betrieb\", \"betrieb\", \"betrieb\", \"betrieb\", \"bet\\u00e4tigen\", \"bewegbar\", \"bewegbar\", \"bewegbar\", \"bewegbar\", \"bewegen\", \"bewegen\", \"bewegen\", \"bewegen\", \"bewegen\", \"bewegen\", \"beweglich\", \"beweglich\", \"beweglich\", \"bewegung\", \"bewegung\", \"bewegung\", \"bewegung\", \"bewegung\", \"bewegung\", \"bewegungsbahn\", \"bewirken\", \"bewirken\", \"bezug\", \"bezug\", \"bezug\", \"bezug\", \"bild\", \"bild\", \"bilddat\", \"bilddat\", \"bilden\", \"bilden\", \"bilden\", \"bilden\", \"bull\", \"darstellen\", \"darstellen\", \"datum\", \"datum\", \"detektiere\", \"detektion\", \"differenz\", \"drehbar\", \"drehbar\", \"drehmomentsensor\", \"dreidimensional\", \"durchf\\u00fchren\", \"durchf\\u00fchren\", \"durchf\\u00fchren\", \"durchf\\u00fchren\", \"durchf\\u00fchren\", \"durchf\\u00fchrung\", \"durchf\\u00fchrung\", \"dynamisch\", \"effektor\", \"eigenschaft\", \"einheit\", \"einheit\", \"einrichten\", \"einrichten\", \"einrichten\", \"einrichten\", \"einrichten\", \"einrichten\", \"einrichtung\", \"einrichtung\", \"einzeln\", \"einzeln\", \"einzeln\", \"elastisch\", \"elektrisch\", \"elektrisch\", \"element\", \"element\", \"element\", \"empfangen\", \"empfangen\", \"empfangen\", \"empfangen\", \"endeffektor\", \"endeffektor\", \"endeffektor\", \"endeffektor\", \"energie\", \"entfernen\", \"entfernen\", \"entnehmen\", \"erfassen\", \"erfassen\", \"erfassen\", \"erfassen\", \"erfassen\", \"erfassen\", \"erfasst\", \"erfasst\", \"erfasst\", \"erfassungseinheit\", \"erfassungseinheit\", \"erfassungseinrichtung\", \"erfindung\", \"erfindung\", \"erfindung\", \"erfindung\", \"erfindung\", \"erf\\u00fcllen\", \"ergebnis\", \"erhalten\", \"erhalten\", \"erkennen\", \"erkennen\", \"erkennen\", \"ermitteln\", \"ermitteln\", \"ermitteln\", \"ermittlung\", \"erzeugen\", \"erzeugen\", \"erzeugen\", \"erzeugen\", \"erzeugen\", \"erzeugung\", \"extern\", \"extern\", \"fahrend\", \"fahrgestell\", \"fahrzeug\", \"feder\", \"fest\", \"finger\", \"fl\\u00e4che\", \"fl\\u00e4che\", \"folgend\", \"folgend\", \"folgend\", \"folgend\", \"folgend\", \"folgend\", \"freiheitsgrad\", \"f\\u00f6rdereinrichtung\", \"gebiet\", \"gegenstand\", \"gegenstand\", \"gegen\\u00fcberliegend\", \"geh\\u00e4use\", \"gelenk\", \"gemessen\", \"geometrisch\", \"geplant\", \"ger\\u00e4t\", \"ger\\u00e4t\", \"gewicht\", \"gew\\u00fcnscht\", \"glied\", \"greifen\", \"greifen\", \"greifen\", \"greifer\", \"greifvorrichtung\", \"grundlage\", \"grundlage\", \"grundlage\", \"gruppe\", \"halten\", \"halten\", \"halten\", \"halten\", \"halten\", \"haltevorrichtung\", \"haltung\", \"hand\", \"handhabung\", \"handhabungsvorrichtung\", \"herstellen\", \"herstellen\", \"herstellen\", \"hinterer\", \"horizontal\", \"industrieroboter\", \"industrieroboter\", \"information\", \"information\", \"instrument\", \"intelligent\", \"intelligent\", \"jeweilig\", \"jeweilig\", \"jeweilig\", \"jeweilig\", \"jeweilig\", \"kabel\", \"kalibrierung\", \"kamera\", \"kamera\", \"kamerabild\", \"karte\", \"kennzeichnen\", \"kennzeichnen\", \"kennzeichnen\", \"kennzeichnen\", \"kennzeichnen\", \"kennzeichnen\", \"kommunikation\", \"kommunikation\", \"komponente\", \"komponente\", \"komponente\", \"konfigurieren\", \"konfigurieren\", \"kontrollieren\", \"koordinatensystem\", \"koppeln\", \"koppeln\", \"kraft\", \"kraft\", \"kraft\", \"kraft\", \"kraftfahrzeug\", \"kraftsensor\", \"k\\u00f6rper\", \"k\\u00fcchenmaschine\", \"k\\u00fcnstlich\", \"lage\", \"lage\", \"lage\", \"lernen\", \"lernen\", \"lernen\", \"lernvorrichtung\", \"linear\", \"linear\", \"linear\", \"lokal\", \"l\\u00f6sbar\", \"manipulator\", \"maschine\", \"maschine\", \"mehrere\", \"mehrere\", \"mehrere\", \"mehrere\", \"mehrere\", \"mehrere\", \"mehrzahl\", \"mehrzahl\", \"mehrzahl\", \"menge\", \"menschlich\", \"mobil\", \"mobil\", \"mobil\", \"modell\", \"modell\", \"modell\", \"modular\", \"modular\", \"moment\", \"motor\", \"motor\", \"netz\", \"netzwerk\", \"neuronal\", \"numerisch\", \"oberer\", \"oberfl\\u00e4che\", \"objekt\", \"objekt\", \"objekt\", \"offenbaren\", \"optisch\", \"optisch\", \"orientierung\", \"ort\", \"paar\", \"paar\", \"paket\", \"parameter\", \"parameter\", \"parameter\", \"person\", \"physisch\", \"planen\", \"plattform\", \"plattform\", \"pneumatisch\", \"pose\", \"position\", \"position\", \"position\", \"position\", \"position\", \"positionieren\", \"positionieren\", \"produkt\", \"programm\", \"prozess\", \"prozessor\", \"rad\", \"radial\", \"real\", \"recheneinheit\", \"referenz\", \"referenzpunkt\", \"reinigungsroboter\", \"relativ\", \"relativ\", \"relativ\", \"relativ\", \"richtung\", \"richtung\", \"richtung\", \"roboterachse\", \"roboterarm\", \"roboterarm\", \"roboterarm\", \"roboterarm\", \"robotereinheit\", \"robotereinrichtung\", \"roboterfahrzeug\", \"robotergest\\u00fctzt\", \"roboterhand\", \"robotermanipulator\", \"roboterprogramm\", \"robotersteuerung\", \"robotersteuerung\", \"robotersteuervorrichtung\", \"robotersystem\", \"robotersystem\", \"robotersystem\", \"robotersystem\", \"robotervorrichtung\", \"robotervorrichtung\", \"robotisch\", \"rotor\", \"satz\", \"saugroboter\", \"schlie\\u00dfen\", \"schritt\", \"schritt\", \"schritt\", \"schwei\\u00dfbrenner\", \"schwei\\u00dfroboter\", \"schwei\\u00dfvorrichtung\", \"segment\", \"seite\", \"seite\", \"selbstfahrend\", \"selbstfahrend\", \"selektiv\", \"senden\", \"sensor\", \"sensor\", \"sensor\", \"seriell\", \"servomotor\", \"signal\", \"signal\", \"spannung\", \"speichereinheit\", \"speichern\", \"speichern\", \"speichern\", \"stapel\", \"station\\u00e4r\", \"stellung\", \"stellung\", \"steuer\", \"steuer\", \"steuer\", \"steuereinheit\", \"steuereinheit\", \"steuereinheit\", \"steuereinheit\", \"steuereinheit\", \"steuereinrichtung\", \"steuereinrichtung\", \"steuern\", \"steuern\", \"steuern\", \"steuern\", \"steuerprogramm\", \"steuersignal\", \"steuersystem\", \"steuerung\", \"steuerung\", \"steuerung\", \"steuerung\", \"steuerung\", \"steuerungsvorrichtung\", \"steuervorrichtung\", \"steuervorrichtung\", \"stoppen\", \"system\", \"system\", \"system\", \"system\", \"system\", \"system\", \"tats\\u00e4chlich\", \"technisch\", \"trainieren\", \"trainieren\", \"training\", \"transporteinrichtung\", \"transportieren\", \"transportieren\", \"umfassen\", \"umfassen\", \"umfassen\", \"umfassen\", \"umfassen\", \"umfassen\", \"umfassend\", \"umfassend\", \"umfassend\", \"umfassend\", \"umfassend\", \"umfassend\", \"umgebung\", \"umgebung\", \"undein\", \"undein\", \"undein\", \"unterscheiden\", \"unterschiedlich\", \"unterschiedlich\", \"unterschiedlich\", \"unterschiedlich\", \"unterschiedlich\", \"veranlassen\", \"veranlassen\", \"verarbeitungseinheit\", \"verbinden\", \"verbinden\", \"verbunden\", \"verbunden\", \"verbunden\", \"verfahrbar\", \"verfahren\", \"verfahren\", \"verfahren\", \"verfahren\", \"verfahren\", \"verfahrensschritt\", \"verfahrensschritt\", \"verwendung\", \"verwendung\", \"verwendung\", \"verwendung\", \"verwendung\", \"verwendung\", \"vielzahl\", \"vielzahl\", \"vielzahl\", \"vielzahl\", \"virtuell\", \"virtuell\", \"virtuell\", \"vision\", \"visuell\", \"vorder\", \"vorgegeben\", \"vorgegeben\", \"vorgegeben\", \"vorgegeben\", \"vorliegend\", \"vorliegend\", \"vorliegend\", \"vorliegend\", \"vorliegend\", \"vorrichtung\", \"vorrichtung\", \"vorrichtung\", \"vorrichtung\", \"vorrichtung\", \"vorrichtung\", \"vorsehen\", \"vorsehen\", \"vorsehen\", \"vorsehen\", \"vorsehen\", \"vorsehen\", \"wand\", \"wartung\", \"weisen\", \"weisen\", \"weisen\", \"weisen\", \"weisen\", \"welle\", \"werkst\\u00fcck\", \"werkst\\u00fccke\", \"werkzeug\", \"werkzeug\", \"werkzeug\", \"werkzeug\", \"wert\", \"winkel\", \"winkel\", \"zentral\", \"ziel\", \"ziel\", \"zielposition\", \"zuf\\u00fchren\", \"zugeordnet\", \"zuordnen\", \"zuordnen\", \"zuordnen\", \"\\u00f6ffnen\", \"\\u00f6ffnung\", \"\\u00fcbermitteln\", \"\\u00fcbertragung\", \"\\u00fcberwachen\", \"\\u00fcberwachung\"]}, \"R\": 30, \"lambda.step\": 0.01, \"plot.opts\": {\"xlab\": \"PC1\", \"ylab\": \"PC2\"}, \"topic.order\": [2, 6, 4, 3, 1, 5]};\n",
       "\n",
       "function LDAvis_load_lib(url, callback){\n",
       "  var s = document.createElement('script');\n",
       "  s.src = url;\n",
       "  s.async = true;\n",
       "  s.onreadystatechange = s.onload = callback;\n",
       "  s.onerror = function(){console.warn(\"failed to load library \" + url);};\n",
       "  document.getElementsByTagName(\"head\")[0].appendChild(s);\n",
       "}\n",
       "\n",
       "if(typeof(LDAvis) !== \"undefined\"){\n",
       "   // already loaded: just create the visualization\n",
       "   !function(LDAvis){\n",
       "       new LDAvis(\"#\" + \"ldavis_el2322420590749565288537691920\", ldavis_el2322420590749565288537691920_data);\n",
       "   }(LDAvis);\n",
       "}else if(typeof define === \"function\" && define.amd){\n",
       "   // require.js is available: use it to load d3/LDAvis\n",
       "   require.config({paths: {d3: \"https://d3js.org/d3.v5\"}});\n",
       "   require([\"d3\"], function(d3){\n",
       "      window.d3 = d3;\n",
       "      LDAvis_load_lib(\"https://cdn.jsdelivr.net/gh/bmabey/pyLDAvis@3.4.0/pyLDAvis/js/ldavis.v3.0.0.js\", function(){\n",
       "        new LDAvis(\"#\" + \"ldavis_el2322420590749565288537691920\", ldavis_el2322420590749565288537691920_data);\n",
       "      });\n",
       "    });\n",
       "}else{\n",
       "    // require.js not available: dynamically load d3 & LDAvis\n",
       "    LDAvis_load_lib(\"https://d3js.org/d3.v5.js\", function(){\n",
       "         LDAvis_load_lib(\"https://cdn.jsdelivr.net/gh/bmabey/pyLDAvis@3.4.0/pyLDAvis/js/ldavis.v3.0.0.js\", function(){\n",
       "                 new LDAvis(\"#\" + \"ldavis_el2322420590749565288537691920\", ldavis_el2322420590749565288537691920_data);\n",
       "            })\n",
       "         });\n",
       "}\n",
       "</script>"
      ]
     },
     "execution_count": 18,
     "metadata": {},
     "output_type": "execute_result"
    }
   ],
   "execution_count": 18
  }
 ],
 "metadata": {
  "kernelspec": {
   "display_name": "ml_angew_programm",
   "language": "python",
   "name": "python3"
  },
  "language_info": {
   "codemirror_mode": {
    "name": "ipython",
    "version": 3
   },
   "file_extension": ".py",
   "mimetype": "text/x-python",
   "name": "python",
   "nbconvert_exporter": "python",
   "pygments_lexer": "ipython3",
   "version": "3.8.19"
  }
 },
 "nbformat": 4,
 "nbformat_minor": 2
}
