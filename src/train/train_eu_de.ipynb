{
 "cells": [
  {
   "cell_type": "code",
   "execution_count": 17,
   "metadata": {},
   "outputs": [],
   "source": [
    "import pandas as pd\n",
    "\n",
    "data_path = \"../../data_input/2_europe_tokenize.csv\"\n",
    "df = pd.read_csv(data_path)"
   ]
  },
  {
   "cell_type": "code",
   "execution_count": 6,
   "metadata": {},
   "outputs": [
    {
     "data": {
      "text/html": [
       "<div>\n",
       "<style scoped>\n",
       "    .dataframe tbody tr th:only-of-type {\n",
       "        vertical-align: middle;\n",
       "    }\n",
       "\n",
       "    .dataframe tbody tr th {\n",
       "        vertical-align: top;\n",
       "    }\n",
       "\n",
       "    .dataframe thead th {\n",
       "        text-align: right;\n",
       "    }\n",
       "</style>\n",
       "<table border=\"1\" class=\"dataframe\">\n",
       "  <thead>\n",
       "    <tr style=\"text-align: right;\">\n",
       "      <th></th>\n",
       "      <th>id</th>\n",
       "      <th>pub_year</th>\n",
       "      <th>text_preproc1</th>\n",
       "    </tr>\n",
       "  </thead>\n",
       "  <tbody>\n",
       "    <tr>\n",
       "      <th>0</th>\n",
       "      <td>11</td>\n",
       "      <td>2024</td>\n",
       "      <td>Roboter mit hohlem Handgelenkelement. Roboter, umfassend: ein hohles erstes Handgelenkelement, das um eine erste Achsenlinie drehbar mit einem vorderen Ende eines Roboterarms gekoppelt ist, ein hohles zweites Handgelenkelement, das um eine die erste Achsenlinie orthogonal kreuzende zweite Achsenlinie drehbar mit dem ersten Handgelenkelement gekoppelt ist, ein drittes Handgelenkelement, das um eine die zweite Achsenlinie orthogonal kreuzende dritte Achsenlinie mit dem zweiten Handgelenkelement gekoppelt ist und einen Endeffektor trägt, der eine Tätigkeit in Bezug auf ein Werkstück durchführt, einen ersten Leitungskörper, der so verlegt ist, dass er durch das Innere des ersten Handgelenkelements, des zweiten Handgelenkelements und des dritten Handgelenkelements verläuft und an den Endeffektor angeschlossen ist, undeinen zweiten Leitungskörper, der so verlegt ist, dass er durch das Innere des ersten Handgelenkelements und außerhalb des zweiten Handgelenkelements und des dritten.</td>\n",
       "    </tr>\n",
       "    <tr>\n",
       "      <th>1</th>\n",
       "      <td>6</td>\n",
       "      <td>2024</td>\n",
       "      <td>Wellgetriebe für einen Roboter sowie Roboter mit einem Wellgetriebe. Die Erfindung betrifft ein Wellgetriebe für einen Roboter, umfassend ein von einem Wellgenerator umlaufend in radialer Richtung verformbares, flexibles Ringelement mit einer Außenverzahnung und ein starres Ringelement mit einer Innenverzahnung, wobei die Außenverzahnung des flexiblen Ringelements zur Übertragung eines Drehmoments an mindestens einem Zahneingriffsbereich mit der Innenverzahnung des starren Ringelements im Zahneingriff steht, wobei der Wellgenerator einen unrund ausgebildeten Innenring und einen umlaufend in radialer Richtung verformbaren, flexiblen Außenring umfasst, wobei der Innenring zumindest teilweise in das flexible Ringelement hineinragt und zumindest mittelbar drehfest mit einer Welle verbunden ist, wobei der flexible Außenring an einem Innenumfang des flexiblen Ringelements angeordnet ist, und wobei das Wellgetriebe eine Temperatursensoreinrichtung mit wenigstens.</td>\n",
       "    </tr>\n",
       "    <tr>\n",
       "      <th>2</th>\n",
       "      <td>12</td>\n",
       "      <td>2024</td>\n",
       "      <td>Robotersystem mit einer Vielzahl von vernetzten Controllern. Ein Robotersystem, das es ermöglicht, eine einzige Einlernkonsole zu verwenden, um mühelose eine Vielzahl von Robotern einzulernen. Das Robotersystem umfasst eine Vielzahl von Roboter Controllern, die über ein Netzwerk verbunden sind, und eine einzige Einlernkonsole. Die Einlernkonsole ist konfiguriert, um in der Lage zu sein, mit einem der Roboter Controller selektiv zu kommunizieren. Der Roboter Controller ist konfiguriert, um eine Verbindungsanfrage an die Einlernkonsole zu senden, wenn beurteilt wird, dass der Zustand des Roboters auf die Einlernphase oder Wartungsphase umgeschaltet wurde. Die Einlernkonsole ist konfiguriert, um auf eine Verbindungsanfrage von dem Roboter Controller zu antworten und die Ziele umzuschalten, um eine Kommunikation mit dem Roboter Controller zu ermöglichen.</td>\n",
       "    </tr>\n",
       "    <tr>\n",
       "      <th>3</th>\n",
       "      <td>10</td>\n",
       "      <td>2024</td>\n",
       "      <td>Massedaten Schätzung einer externen Last für einen Robotermanipulator. Verfahren zum Schätzen von Massedaten von einer an einem distalen Ende des Robotermanipulators aufzunehmenden externen Last, aufweisend die Schritte: Aufnehmen eines Bildes von der Last durch eine Kameraeinheit, Übermitteln von Bilddaten aus dem aufgenommenen Bild an eine Recheneinheit, Ermitteln einer Schätzung einer räumlichen Ausdehnung der Last durch Auswerten von räumlichen Informationen in den Bilddaten durch die Recheneinheit, Ermitteln einer Schätzung eines Stoffes der Last mit Bilddaten des Bildes als Eingangsgröße einer Bilderkennungsfunktion oder aus einer Vorgabe eines Anwenders, jeweils durch die Recheneinheit, und Ermitteln einer Schätzung einer Masse der Last und oder eines Trägheitstensors der Last auf Basis der Schätzung der räumlichen Ausdehnung der Last und auf Basis einer aus dem geschätzten Stoff ermittelten Dichte der Last durch die Recheneinheit.</td>\n",
       "    </tr>\n",
       "    <tr>\n",
       "      <th>4</th>\n",
       "      <td>9</td>\n",
       "      <td>2024</td>\n",
       "      <td>Fügesystem mit robotergeführtem Fügeprozessgerät sowie zugehöriges Betriebsverfahren für das Fügesystem. Fügesystem, umfassend: ein Fügeprozessgerät zur Durchführung eines Fügeprozesses an Bauteilen unter Berücksichtigung vorgegebener Fügeparameter, einen Roboter zum Bewegen des Fügeprozessgerätes längs eines durch Bewegungsparameter vorgegebenen Bewegungspfades, wobei ein Positionsregler des Roboters dazu eingerichtet ist, für eine geometrische Sollbauteilesituation ausgelegte Bewegungsparameter zu empfangen und zu speichern, und eine Erfassungsvorrichtung zur Erfassung von während des Fügeprozesses erzeugten, aktuellen Prozessparametern, wobeieine Auswertevorrichtung vorhanden ist, welche dazu ausgebildet ist, anhand der erfassten Prozessparameter eine tatsächliche, aktuelle geometrische Bauteilesituation zu ermitteln, undeine Regelvorrichtung vorhanden ist, welche dazu ausgebildet ist, basierend auf der aktuellen geometrischen Bauteilesituation angepasste Bewegungsparameter für den Bewegungspfad.</td>\n",
       "    </tr>\n",
       "  </tbody>\n",
       "</table>\n",
       "</div>"
      ],
      "text/plain": [
       "   id  pub_year  \\\n",
       "0  11      2024   \n",
       "1   6      2024   \n",
       "2  12      2024   \n",
       "3  10      2024   \n",
       "4   9      2024   \n",
       "\n",
       "                                                                                                                                                                                                                                                                                                                                                                                                                                                                                                                                                                                                                                                                                                                                                                                                                                                                                                                                                                                                                                            text_preproc1  \n",
       "0                          Roboter mit hohlem Handgelenkelement. Roboter, umfassend: ein hohles erstes Handgelenkelement, das um eine erste Achsenlinie drehbar mit einem vorderen Ende eines Roboterarms gekoppelt ist, ein hohles zweites Handgelenkelement, das um eine die erste Achsenlinie orthogonal kreuzende zweite Achsenlinie drehbar mit dem ersten Handgelenkelement gekoppelt ist, ein drittes Handgelenkelement, das um eine die zweite Achsenlinie orthogonal kreuzende dritte Achsenlinie mit dem zweiten Handgelenkelement gekoppelt ist und einen Endeffektor trägt, der eine Tätigkeit in Bezug auf ein Werkstück durchführt, einen ersten Leitungskörper, der so verlegt ist, dass er durch das Innere des ersten Handgelenkelements, des zweiten Handgelenkelements und des dritten Handgelenkelements verläuft und an den Endeffektor angeschlossen ist, undeinen zweiten Leitungskörper, der so verlegt ist, dass er durch das Innere des ersten Handgelenkelements und außerhalb des zweiten Handgelenkelements und des dritten.  \n",
       "1                                              Wellgetriebe für einen Roboter sowie Roboter mit einem Wellgetriebe. Die Erfindung betrifft ein Wellgetriebe für einen Roboter, umfassend ein von einem Wellgenerator umlaufend in radialer Richtung verformbares, flexibles Ringelement mit einer Außenverzahnung und ein starres Ringelement mit einer Innenverzahnung, wobei die Außenverzahnung des flexiblen Ringelements zur Übertragung eines Drehmoments an mindestens einem Zahneingriffsbereich mit der Innenverzahnung des starren Ringelements im Zahneingriff steht, wobei der Wellgenerator einen unrund ausgebildeten Innenring und einen umlaufend in radialer Richtung verformbaren, flexiblen Außenring umfasst, wobei der Innenring zumindest teilweise in das flexible Ringelement hineinragt und zumindest mittelbar drehfest mit einer Welle verbunden ist, wobei der flexible Außenring an einem Innenumfang des flexiblen Ringelements angeordnet ist, und wobei das Wellgetriebe eine Temperatursensoreinrichtung mit wenigstens.  \n",
       "2                                                                                                                                                          Robotersystem mit einer Vielzahl von vernetzten Controllern. Ein Robotersystem, das es ermöglicht, eine einzige Einlernkonsole zu verwenden, um mühelose eine Vielzahl von Robotern einzulernen. Das Robotersystem umfasst eine Vielzahl von Roboter Controllern, die über ein Netzwerk verbunden sind, und eine einzige Einlernkonsole. Die Einlernkonsole ist konfiguriert, um in der Lage zu sein, mit einem der Roboter Controller selektiv zu kommunizieren. Der Roboter Controller ist konfiguriert, um eine Verbindungsanfrage an die Einlernkonsole zu senden, wenn beurteilt wird, dass der Zustand des Roboters auf die Einlernphase oder Wartungsphase umgeschaltet wurde. Die Einlernkonsole ist konfiguriert, um auf eine Verbindungsanfrage von dem Roboter Controller zu antworten und die Ziele umzuschalten, um eine Kommunikation mit dem Roboter Controller zu ermöglichen.  \n",
       "3                                                                Massedaten Schätzung einer externen Last für einen Robotermanipulator. Verfahren zum Schätzen von Massedaten von einer an einem distalen Ende des Robotermanipulators aufzunehmenden externen Last, aufweisend die Schritte: Aufnehmen eines Bildes von der Last durch eine Kameraeinheit, Übermitteln von Bilddaten aus dem aufgenommenen Bild an eine Recheneinheit, Ermitteln einer Schätzung einer räumlichen Ausdehnung der Last durch Auswerten von räumlichen Informationen in den Bilddaten durch die Recheneinheit, Ermitteln einer Schätzung eines Stoffes der Last mit Bilddaten des Bildes als Eingangsgröße einer Bilderkennungsfunktion oder aus einer Vorgabe eines Anwenders, jeweils durch die Recheneinheit, und Ermitteln einer Schätzung einer Masse der Last und oder eines Trägheitstensors der Last auf Basis der Schätzung der räumlichen Ausdehnung der Last und auf Basis einer aus dem geschätzten Stoff ermittelten Dichte der Last durch die Recheneinheit.  \n",
       "4  Fügesystem mit robotergeführtem Fügeprozessgerät sowie zugehöriges Betriebsverfahren für das Fügesystem. Fügesystem, umfassend: ein Fügeprozessgerät zur Durchführung eines Fügeprozesses an Bauteilen unter Berücksichtigung vorgegebener Fügeparameter, einen Roboter zum Bewegen des Fügeprozessgerätes längs eines durch Bewegungsparameter vorgegebenen Bewegungspfades, wobei ein Positionsregler des Roboters dazu eingerichtet ist, für eine geometrische Sollbauteilesituation ausgelegte Bewegungsparameter zu empfangen und zu speichern, und eine Erfassungsvorrichtung zur Erfassung von während des Fügeprozesses erzeugten, aktuellen Prozessparametern, wobeieine Auswertevorrichtung vorhanden ist, welche dazu ausgebildet ist, anhand der erfassten Prozessparameter eine tatsächliche, aktuelle geometrische Bauteilesituation zu ermitteln, undeine Regelvorrichtung vorhanden ist, welche dazu ausgebildet ist, basierend auf der aktuellen geometrischen Bauteilesituation angepasste Bewegungsparameter für den Bewegungspfad.  "
      ]
     },
     "execution_count": 6,
     "metadata": {},
     "output_type": "execute_result"
    }
   ],
   "source": [
    "pd.set_option('display.max_colwidth', None)\n",
    "df.head()"
   ]
  },
  {
   "cell_type": "code",
   "execution_count": 7,
   "metadata": {},
   "outputs": [],
   "source": [
    "from bertopic import BERTopic"
   ]
  },
  {
   "cell_type": "code",
   "execution_count": null,
   "metadata": {},
   "outputs": [],
   "source": [
    "from sentence_transformers import SentenceTransformer\n",
    "\n",
    "model = SentenceTransformer('distiluse-base-multilingual-cased-v1')"
   ]
  },
  {
   "cell_type": "code",
   "execution_count": 19,
   "metadata": {},
   "outputs": [],
   "source": [
    "texts = df['text_preproc2'].tolist()"
   ]
  },
  {
   "cell_type": "code",
   "execution_count": 27,
   "metadata": {},
   "outputs": [],
   "source": [
    "topic_model = BERTopic(embedding_model=model, min_topic_size=10)"
   ]
  },
  {
   "cell_type": "code",
   "execution_count": 28,
   "metadata": {},
   "outputs": [],
   "source": [
    "topics, probabilities = topic_model.fit_transform(texts)"
   ]
  },
  {
   "cell_type": "code",
   "execution_count": 29,
   "metadata": {},
   "outputs": [
    {
     "data": {
      "text/html": [
       "<div>\n",
       "<style scoped>\n",
       "    .dataframe tbody tr th:only-of-type {\n",
       "        vertical-align: middle;\n",
       "    }\n",
       "\n",
       "    .dataframe tbody tr th {\n",
       "        vertical-align: top;\n",
       "    }\n",
       "\n",
       "    .dataframe thead th {\n",
       "        text-align: right;\n",
       "    }\n",
       "</style>\n",
       "<table border=\"1\" class=\"dataframe\">\n",
       "  <thead>\n",
       "    <tr style=\"text-align: right;\">\n",
       "      <th></th>\n",
       "      <th>Topic</th>\n",
       "      <th>Count</th>\n",
       "      <th>Name</th>\n",
       "      <th>Representation</th>\n",
       "      <th>Representative_Docs</th>\n",
       "    </tr>\n",
       "  </thead>\n",
       "  <tbody>\n",
       "    <tr>\n",
       "      <th>0</th>\n",
       "      <td>-1</td>\n",
       "      <td>6</td>\n",
       "      <td>-1_ultraschallsensor_nahbereich_ausgesendet_zeitlich</td>\n",
       "      <td>[ultraschallsensor, nahbereich, ausgesendet, zeitlich, länge, objekt, ultraschallmessystem, ultraschallbursts, ultraschallburst, einparkhilfe]</td>\n",
       "      <td>[verfahren erkennung objekt nahbereich ultraschallsensor erfindung betreffen verfahren betreiben zugehörig ultraschallmessystem umfelderfassungsvorrichtunge einparkhilfe fahrzeug roboter ultraschallmessystem umfassen ultraschallsensor weisen nahbereich abstand ultraschallsensor objekt ausgesendet ultraschallbursts zeitlich länge zusatzmaßnahmen erfassen verfahren verwenden ausgesendet ultraschallbursts zeitlich länge ultraschallhauptmessung objekt nahbereich ultraschallsensor aufhalten erfassen vorhandensein objekt nahbereich ultraschalsensor objekt befinden verfahren verkürzen zeitlich läng ausgesendet ultraschallburst zeitlich länge ausgesendet ultraschallburst erfassen, ultraschallsensor objekterkennung objekt nahbereich erfindung betreffen ultraschallmessystem umfelderfassungsvorrichtunge einparkhilfe fahrzeug roboter ultraschallmessystem umfassen ultraschallsensor weisen nahbereich abstand ultraschallsensor objekt ausgesendet ultraschallbursts zeitlich länge zusatzmaßnahmen erfassen verfahren verwenden ausgesendet ultraschallbursts zeitlich länge ultraschallhauptmessung objekt nahbereich ultraschallsensor aufhalten erfassen vorhandensein objekt nahbereich ultraschalsensor objekt befinden verfahren verkürzen zeitlich länge ausgesendet ultraschallburst erfassen abstand ultraschallsensor objekt, ultraschallsensor objekterkennung objekt nahbereich erfindung betreffen ultraschallmessystem umfelderfassungsvorrichtunge einparkhilfe fahrzeug roboter ultraschallmessystem umfassen ultraschallsensor weisen nahbereich abstand ultraschallsensor objekt ausgesendet ultraschallbursts zeitlich länge zusatzmaßnahmen erfassen verfahren verwenden ausgesendet ultraschallbursts zeitlich länge ultraschallhauptmessung objekt nahbereich ultraschallsensor aufhalten erfassen vorhandensein objekt nahbereich ultraschalsensor objekt befinden verfahren verkürzen zeitlich läng ausgesendet ultraschallburst zeitlich länge ausgesendet ultraschallburst erfassen abstand ultraschallsensor]</td>\n",
       "    </tr>\n",
       "    <tr>\n",
       "      <th>1</th>\n",
       "      <td>0</td>\n",
       "      <td>2109</td>\n",
       "      <td>0_roboter_verfahren_umfassen_aufweisen</td>\n",
       "      <td>[roboter, verfahren, umfassen, aufweisen, erfindung, betreffen, roboterarm, objekt, position, mehrere]</td>\n",
       "      <td>[roboter anbauteil steuervorrichtung roboter zugehörig verfahren erfindung betreffen roboter anbauteil aufweisend gehäuse angeordnet formschlüssig verbindbares kopplungsmittel ausbilden lösbar ankoppel gegenkopplungsmittel außenoberfläche glied roboter gehäuse angeordnet steuerungskomponent datum speicher umfassen physikalisch datum roboter anbauteil speichern steuerungstechnisch schnittstelle ausbilden einrichten datum speicher vorhanden physikalisch datum roboter anbauteil steuervorrichtung roboter übermitteln roboter anbauteil glied roboter ankoppeln erfindung betreffen zugehörig steuervorrichtung roboter entsprechend verfahren, robotersystem roboterlernverfahr robotersystem umfassend roboter enthaltend sensor aufgebracht extern kraft erfassen steuerung roboter steuern steuerung betriebsmodus roboter durchführen lead through lernen position muster extern kraft sensor erfassen ändern roboter bewegen, robotersystem roboter robotersystem umfassend sensor datum detektieren position objekt bewegungsmittel bewegen objekt erhalten roboter werkzeug befestigen vorbestimmt operation objekt verwendung werkzeug durchführen steuerung verwendung datum werkzeugbewegungseinrichtung werkzeug roboter bewegen werkzeug armglied seite distal arm roboter befinden werkzeugsteuerzyklus steuerzyklus roboter steuern sensor datum zyklus steuerzyklus roboter erhalten undein robotersteuerung steuer roboter sequenziell sensor erhalten datum zyklus werkzeugsteuerzyklus]</td>\n",
       "    </tr>\n",
       "    <tr>\n",
       "      <th>2</th>\n",
       "      <td>1</td>\n",
       "      <td>89</td>\n",
       "      <td>1_reinigungsroboter_reinigung_reinigen_erfindung</td>\n",
       "      <td>[reinigungsroboter, reinigung, reinigen, erfindung, verfahren, saugroboter, betreffen, bodenfläche, aufweisen, autonom]</td>\n",
       "      <td>[wagen verfahren ausbringen reinigungsrobotern wagen erfindung betreffen wagen verstauung entleerung energieversorgung reinigungsroboter aufweisend energieversorgungseinheit ausbilden stromnetz verbinden staufächer verstauen reinigungsroboter staufach ladekontakt aufweisen ausbilden entsprechend staufach angeordnet reinigungsroboter kontaktieren reinigungsroboter energieversorgungseinheit energie versorgen transporträd ausbilden wagen untergrund bewegen absaugsystem klappbar absaugplattform aufweisen ausbilden reinigungsroboter entleeren absaugplattform anordnen liftsystem klappbar aufnahmeelement liftsystem ausbilden reinigungsroboter einzeln, verfahren reinigen reinigungsroboter erfindung betreffen verfahren reinigung fläche privathaushalt reinigungsroboter sensor detektion hindernissen kartierung umgebung ausstatten reinigungsfahrt basis sensorsignale sensor geplant route durchführen reinigungsroboter rad fortbewegen fahrtrichtung reinigungsmechanismus reinigen aufweisen rad reinigungsmechanismus motor antreiben akku reinigungsroboter elektrisch energie versorgen reinigungsroboter bauhöhe gewicht maximal betriebsgeschwindigkeit smax flächenleistung dpu, steuerung reinigungsroboters reinigungsroboter einrichten vorbestimmt bodenfläche reinigen verfahren steuer reinigungsroboter umfasst schritt bestimmen abschnitt bodenfläche bearbeitung reinigungsroboter unterschiedlich restlich bodenfläche deaktivieren reinigungseinrichtung reinigungsroboter steuern reinigungsroboter begrenzung abschnitt fahren erfassen benutzergesteuert bestätigung gefahren begrenzung freigeben reinigungseinrichtung]</td>\n",
       "    </tr>\n",
       "    <tr>\n",
       "      <th>3</th>\n",
       "      <td>2</td>\n",
       "      <td>39</td>\n",
       "      <td>2_küchenmaschine_küchengerät_hochfrequenz_topf</td>\n",
       "      <td>[küchenmaschine, küchengerät, hochfrequenz, topf, speise, betreffen, speisenzubereitungsgefäß, erfindung, zubehörteil, behandlungsraum]</td>\n",
       "      <td>[hochfrequenz haushaltsgerät vorzugsweise hochfrequenz küchengerät erfindung betreffen hochfrequenz haushaltsgerät hochfrequenz küchengerät behandlungsraum ausbilden hochfrequent energie behandelnd aufnehmen hochfrequenz heizmodul ausbilden hochfrequent energie erzeugen behandlungsraum abgeben hochfrequenz heizmodul aufweisen bull hochfrequenz signalgenerator ausbilden hochfrequent energie erzeugen bull übergang behandlungsraum hochfrequenz pfade vorzugsweise übergang behandlungsraum mehrere hochfrequenz pfad ausbilden hochfrequent energie behandlungsraum abgeben hochfrequenz haushaltsgerät kennzeichnen hochfrequenz heizmodul vorzugsweise, hochfrequenz haushaltsgerät vorzugsweise hochfrequenz küchengerät erfindung betreffen hochfrequenz haushaltsgerät hochfrequenz küchengerät behandlungsraum ausbilden hochfrequent energie behandelnd aufnehmen hochfrequenz heizmodul ausbilden hochfrequent energie erzeugen behandlungsraum abgeben hochfrequenz heizmodul aufweisen bull hochfrequenz signalgenerator ausbilden hochfrequent energie erzeugen bull übergang behandlungsraum hochfrequenz pfade vorzugsweise übergang behandlungsraum mehrere hochfrequenz pfad ausbilden hochfrequent energie behandlungsraum abgeben hochfrequenz haushaltsgerät kennzeichnen hochfrequenz heizmodul vorzugsweise, küchenmaschine ladungssteuerung hilfsgeräts erfindung betreffen küchenmaschine zubereiten speise speisenzubereitungsgefäß system küchenmaschine batteriebetrieben hilfsgerät verfahren betreiben küchenmaschine computerprogrammprodukt küchenmaschine zubereiten speise speisenzubereitungsgefäß umfassen werkzeug misch zerkleinern speise speisenzubereitungsgefäß heizelement erhitzen speise speisenzubereitungsgefäß küchenmaschine einrichten zustandsinformation speisenzubereitung batteriebetrieben hilfsgerät empfangen speisenzubereitungsvorgang nutzen küchenmaschine weisen empfangseinheit empfangen ladezustands batteriebetrieben hilfsgeräts steuerungseinheit verarbeitung empfangen ladezustand]</td>\n",
       "    </tr>\n",
       "  </tbody>\n",
       "</table>\n",
       "</div>"
      ],
      "text/plain": [
       "   Topic  Count                                                  Name  \\\n",
       "0     -1      6  -1_ultraschallsensor_nahbereich_ausgesendet_zeitlich   \n",
       "1      0   2109                0_roboter_verfahren_umfassen_aufweisen   \n",
       "2      1     89      1_reinigungsroboter_reinigung_reinigen_erfindung   \n",
       "3      2     39        2_küchenmaschine_küchengerät_hochfrequenz_topf   \n",
       "\n",
       "                                                                                                                                   Representation  \\\n",
       "0  [ultraschallsensor, nahbereich, ausgesendet, zeitlich, länge, objekt, ultraschallmessystem, ultraschallbursts, ultraschallburst, einparkhilfe]   \n",
       "1                                          [roboter, verfahren, umfassen, aufweisen, erfindung, betreffen, roboterarm, objekt, position, mehrere]   \n",
       "2                         [reinigungsroboter, reinigung, reinigen, erfindung, verfahren, saugroboter, betreffen, bodenfläche, aufweisen, autonom]   \n",
       "3         [küchenmaschine, küchengerät, hochfrequenz, topf, speise, betreffen, speisenzubereitungsgefäß, erfindung, zubehörteil, behandlungsraum]   \n",
       "\n",
       "                                                                                                                                                                                                                                                                                                                                                                                                                                                                                                                                                                                                                                                                                                                                                                                                                                                                                                                                                                                                                                                                                                                                                                                                                                                                                                                                                                                                                                                                                                                                                                                                                                                                                                                                                                                                                                                                                                                                                                                                                                                       Representative_Docs  \n",
       "0  [verfahren erkennung objekt nahbereich ultraschallsensor erfindung betreffen verfahren betreiben zugehörig ultraschallmessystem umfelderfassungsvorrichtunge einparkhilfe fahrzeug roboter ultraschallmessystem umfassen ultraschallsensor weisen nahbereich abstand ultraschallsensor objekt ausgesendet ultraschallbursts zeitlich länge zusatzmaßnahmen erfassen verfahren verwenden ausgesendet ultraschallbursts zeitlich länge ultraschallhauptmessung objekt nahbereich ultraschallsensor aufhalten erfassen vorhandensein objekt nahbereich ultraschalsensor objekt befinden verfahren verkürzen zeitlich läng ausgesendet ultraschallburst zeitlich länge ausgesendet ultraschallburst erfassen, ultraschallsensor objekterkennung objekt nahbereich erfindung betreffen ultraschallmessystem umfelderfassungsvorrichtunge einparkhilfe fahrzeug roboter ultraschallmessystem umfassen ultraschallsensor weisen nahbereich abstand ultraschallsensor objekt ausgesendet ultraschallbursts zeitlich länge zusatzmaßnahmen erfassen verfahren verwenden ausgesendet ultraschallbursts zeitlich länge ultraschallhauptmessung objekt nahbereich ultraschallsensor aufhalten erfassen vorhandensein objekt nahbereich ultraschalsensor objekt befinden verfahren verkürzen zeitlich länge ausgesendet ultraschallburst erfassen abstand ultraschallsensor objekt, ultraschallsensor objekterkennung objekt nahbereich erfindung betreffen ultraschallmessystem umfelderfassungsvorrichtunge einparkhilfe fahrzeug roboter ultraschallmessystem umfassen ultraschallsensor weisen nahbereich abstand ultraschallsensor objekt ausgesendet ultraschallbursts zeitlich länge zusatzmaßnahmen erfassen verfahren verwenden ausgesendet ultraschallbursts zeitlich länge ultraschallhauptmessung objekt nahbereich ultraschallsensor aufhalten erfassen vorhandensein objekt nahbereich ultraschalsensor objekt befinden verfahren verkürzen zeitlich läng ausgesendet ultraschallburst zeitlich länge ausgesendet ultraschallburst erfassen abstand ultraschallsensor]  \n",
       "1                                                                                                                                                                                                                                                                                                                                                                                                                                                                                                                                               [roboter anbauteil steuervorrichtung roboter zugehörig verfahren erfindung betreffen roboter anbauteil aufweisend gehäuse angeordnet formschlüssig verbindbares kopplungsmittel ausbilden lösbar ankoppel gegenkopplungsmittel außenoberfläche glied roboter gehäuse angeordnet steuerungskomponent datum speicher umfassen physikalisch datum roboter anbauteil speichern steuerungstechnisch schnittstelle ausbilden einrichten datum speicher vorhanden physikalisch datum roboter anbauteil steuervorrichtung roboter übermitteln roboter anbauteil glied roboter ankoppeln erfindung betreffen zugehörig steuervorrichtung roboter entsprechend verfahren, robotersystem roboterlernverfahr robotersystem umfassend roboter enthaltend sensor aufgebracht extern kraft erfassen steuerung roboter steuern steuerung betriebsmodus roboter durchführen lead through lernen position muster extern kraft sensor erfassen ändern roboter bewegen, robotersystem roboter robotersystem umfassend sensor datum detektieren position objekt bewegungsmittel bewegen objekt erhalten roboter werkzeug befestigen vorbestimmt operation objekt verwendung werkzeug durchführen steuerung verwendung datum werkzeugbewegungseinrichtung werkzeug roboter bewegen werkzeug armglied seite distal arm roboter befinden werkzeugsteuerzyklus steuerzyklus roboter steuern sensor datum zyklus steuerzyklus roboter erhalten undein robotersteuerung steuer roboter sequenziell sensor erhalten datum zyklus werkzeugsteuerzyklus]  \n",
       "2                                                                                                                                                                                                                                                                                                                                                                                           [wagen verfahren ausbringen reinigungsrobotern wagen erfindung betreffen wagen verstauung entleerung energieversorgung reinigungsroboter aufweisend energieversorgungseinheit ausbilden stromnetz verbinden staufächer verstauen reinigungsroboter staufach ladekontakt aufweisen ausbilden entsprechend staufach angeordnet reinigungsroboter kontaktieren reinigungsroboter energieversorgungseinheit energie versorgen transporträd ausbilden wagen untergrund bewegen absaugsystem klappbar absaugplattform aufweisen ausbilden reinigungsroboter entleeren absaugplattform anordnen liftsystem klappbar aufnahmeelement liftsystem ausbilden reinigungsroboter einzeln, verfahren reinigen reinigungsroboter erfindung betreffen verfahren reinigung fläche privathaushalt reinigungsroboter sensor detektion hindernissen kartierung umgebung ausstatten reinigungsfahrt basis sensorsignale sensor geplant route durchführen reinigungsroboter rad fortbewegen fahrtrichtung reinigungsmechanismus reinigen aufweisen rad reinigungsmechanismus motor antreiben akku reinigungsroboter elektrisch energie versorgen reinigungsroboter bauhöhe gewicht maximal betriebsgeschwindigkeit smax flächenleistung dpu, steuerung reinigungsroboters reinigungsroboter einrichten vorbestimmt bodenfläche reinigen verfahren steuer reinigungsroboter umfasst schritt bestimmen abschnitt bodenfläche bearbeitung reinigungsroboter unterschiedlich restlich bodenfläche deaktivieren reinigungseinrichtung reinigungsroboter steuern reinigungsroboter begrenzung abschnitt fahren erfassen benutzergesteuert bestätigung gefahren begrenzung freigeben reinigungseinrichtung]  \n",
       "3     [hochfrequenz haushaltsgerät vorzugsweise hochfrequenz küchengerät erfindung betreffen hochfrequenz haushaltsgerät hochfrequenz küchengerät behandlungsraum ausbilden hochfrequent energie behandelnd aufnehmen hochfrequenz heizmodul ausbilden hochfrequent energie erzeugen behandlungsraum abgeben hochfrequenz heizmodul aufweisen bull hochfrequenz signalgenerator ausbilden hochfrequent energie erzeugen bull übergang behandlungsraum hochfrequenz pfade vorzugsweise übergang behandlungsraum mehrere hochfrequenz pfad ausbilden hochfrequent energie behandlungsraum abgeben hochfrequenz haushaltsgerät kennzeichnen hochfrequenz heizmodul vorzugsweise, hochfrequenz haushaltsgerät vorzugsweise hochfrequenz küchengerät erfindung betreffen hochfrequenz haushaltsgerät hochfrequenz küchengerät behandlungsraum ausbilden hochfrequent energie behandelnd aufnehmen hochfrequenz heizmodul ausbilden hochfrequent energie erzeugen behandlungsraum abgeben hochfrequenz heizmodul aufweisen bull hochfrequenz signalgenerator ausbilden hochfrequent energie erzeugen bull übergang behandlungsraum hochfrequenz pfade vorzugsweise übergang behandlungsraum mehrere hochfrequenz pfad ausbilden hochfrequent energie behandlungsraum abgeben hochfrequenz haushaltsgerät kennzeichnen hochfrequenz heizmodul vorzugsweise, küchenmaschine ladungssteuerung hilfsgeräts erfindung betreffen küchenmaschine zubereiten speise speisenzubereitungsgefäß system küchenmaschine batteriebetrieben hilfsgerät verfahren betreiben küchenmaschine computerprogrammprodukt küchenmaschine zubereiten speise speisenzubereitungsgefäß umfassen werkzeug misch zerkleinern speise speisenzubereitungsgefäß heizelement erhitzen speise speisenzubereitungsgefäß küchenmaschine einrichten zustandsinformation speisenzubereitung batteriebetrieben hilfsgerät empfangen speisenzubereitungsvorgang nutzen küchenmaschine weisen empfangseinheit empfangen ladezustands batteriebetrieben hilfsgeräts steuerungseinheit verarbeitung empfangen ladezustand]  "
      ]
     },
     "execution_count": 29,
     "metadata": {},
     "output_type": "execute_result"
    }
   ],
   "source": [
    "topic_model.get_topic_info()"
   ]
  },
  {
   "cell_type": "code",
   "execution_count": 30,
   "metadata": {},
   "outputs": [
    {
     "data": {
      "text/html": [
       "<div>\n",
       "<style scoped>\n",
       "    .dataframe tbody tr th:only-of-type {\n",
       "        vertical-align: middle;\n",
       "    }\n",
       "\n",
       "    .dataframe tbody tr th {\n",
       "        vertical-align: top;\n",
       "    }\n",
       "\n",
       "    .dataframe thead th {\n",
       "        text-align: right;\n",
       "    }\n",
       "</style>\n",
       "<table border=\"1\" class=\"dataframe\">\n",
       "  <thead>\n",
       "    <tr style=\"text-align: right;\">\n",
       "      <th></th>\n",
       "      <th>Topic</th>\n",
       "      <th>Count</th>\n",
       "      <th>Name</th>\n",
       "      <th>Representation</th>\n",
       "      <th>Representative_Docs</th>\n",
       "    </tr>\n",
       "  </thead>\n",
       "  <tbody>\n",
       "    <tr>\n",
       "      <th>0</th>\n",
       "      <td>-1</td>\n",
       "      <td>6</td>\n",
       "      <td>-1_ultraschallsensor_nahbereich_ausgesendet_zeitlich</td>\n",
       "      <td>[ultraschallsensor, nahbereich, ausgesendet, zeitlich, länge, objekt, ultraschallmessystem, ultraschallbursts, ultraschallburst, einparkhilfe]</td>\n",
       "      <td>[verfahren erkennung objekt nahbereich ultraschallsensor erfindung betreffen verfahren betreiben zugehörig ultraschallmessystem umfelderfassungsvorrichtunge einparkhilfe fahrzeug roboter ultraschallmessystem umfassen ultraschallsensor weisen nahbereich abstand ultraschallsensor objekt ausgesendet ultraschallbursts zeitlich länge zusatzmaßnahmen erfassen verfahren verwenden ausgesendet ultraschallbursts zeitlich länge ultraschallhauptmessung objekt nahbereich ultraschallsensor aufhalten erfassen vorhandensein objekt nahbereich ultraschalsensor objekt befinden verfahren verkürzen zeitlich läng ausgesendet ultraschallburst zeitlich länge ausgesendet ultraschallburst erfassen, ultraschallsensor objekterkennung objekt nahbereich erfindung betreffen ultraschallmessystem umfelderfassungsvorrichtunge einparkhilfe fahrzeug roboter ultraschallmessystem umfassen ultraschallsensor weisen nahbereich abstand ultraschallsensor objekt ausgesendet ultraschallbursts zeitlich länge zusatzmaßnahmen erfassen verfahren verwenden ausgesendet ultraschallbursts zeitlich länge ultraschallhauptmessung objekt nahbereich ultraschallsensor aufhalten erfassen vorhandensein objekt nahbereich ultraschalsensor objekt befinden verfahren verkürzen zeitlich länge ausgesendet ultraschallburst erfassen abstand ultraschallsensor objekt, ultraschallsensor objekterkennung objekt nahbereich erfindung betreffen ultraschallmessystem umfelderfassungsvorrichtunge einparkhilfe fahrzeug roboter ultraschallmessystem umfassen ultraschallsensor weisen nahbereich abstand ultraschallsensor objekt ausgesendet ultraschallbursts zeitlich länge zusatzmaßnahmen erfassen verfahren verwenden ausgesendet ultraschallbursts zeitlich länge ultraschallhauptmessung objekt nahbereich ultraschallsensor aufhalten erfassen vorhandensein objekt nahbereich ultraschalsensor objekt befinden verfahren verkürzen zeitlich läng ausgesendet ultraschallburst zeitlich länge ausgesendet ultraschallburst erfassen abstand ultraschallsensor]</td>\n",
       "    </tr>\n",
       "    <tr>\n",
       "      <th>1</th>\n",
       "      <td>0</td>\n",
       "      <td>2109</td>\n",
       "      <td>0_roboter_verfahren_umfassen_aufweisen</td>\n",
       "      <td>[roboter, verfahren, umfassen, aufweisen, erfindung, betreffen, roboterarm, objekt, position, mehrere]</td>\n",
       "      <td>[roboter anbauteil steuervorrichtung roboter zugehörig verfahren erfindung betreffen roboter anbauteil aufweisend gehäuse angeordnet formschlüssig verbindbares kopplungsmittel ausbilden lösbar ankoppel gegenkopplungsmittel außenoberfläche glied roboter gehäuse angeordnet steuerungskomponent datum speicher umfassen physikalisch datum roboter anbauteil speichern steuerungstechnisch schnittstelle ausbilden einrichten datum speicher vorhanden physikalisch datum roboter anbauteil steuervorrichtung roboter übermitteln roboter anbauteil glied roboter ankoppeln erfindung betreffen zugehörig steuervorrichtung roboter entsprechend verfahren, robotersystem roboterlernverfahr robotersystem umfassend roboter enthaltend sensor aufgebracht extern kraft erfassen steuerung roboter steuern steuerung betriebsmodus roboter durchführen lead through lernen position muster extern kraft sensor erfassen ändern roboter bewegen, robotersystem roboter robotersystem umfassend sensor datum detektieren position objekt bewegungsmittel bewegen objekt erhalten roboter werkzeug befestigen vorbestimmt operation objekt verwendung werkzeug durchführen steuerung verwendung datum werkzeugbewegungseinrichtung werkzeug roboter bewegen werkzeug armglied seite distal arm roboter befinden werkzeugsteuerzyklus steuerzyklus roboter steuern sensor datum zyklus steuerzyklus roboter erhalten undein robotersteuerung steuer roboter sequenziell sensor erhalten datum zyklus werkzeugsteuerzyklus]</td>\n",
       "    </tr>\n",
       "  </tbody>\n",
       "</table>\n",
       "</div>"
      ],
      "text/plain": [
       "   Topic  Count                                                  Name  \\\n",
       "0     -1      6  -1_ultraschallsensor_nahbereich_ausgesendet_zeitlich   \n",
       "1      0   2109                0_roboter_verfahren_umfassen_aufweisen   \n",
       "\n",
       "                                                                                                                                   Representation  \\\n",
       "0  [ultraschallsensor, nahbereich, ausgesendet, zeitlich, länge, objekt, ultraschallmessystem, ultraschallbursts, ultraschallburst, einparkhilfe]   \n",
       "1                                          [roboter, verfahren, umfassen, aufweisen, erfindung, betreffen, roboterarm, objekt, position, mehrere]   \n",
       "\n",
       "                                                                                                                                                                                                                                                                                                                                                                                                                                                                                                                                                                                                                                                                                                                                                                                                                                                                                                                                                                                                                                                                                                                                                                                                                                                                                                                                                                                                                                                                                                                                                                                                                                                                                                                                                                                                                                                                                                                                                                                                                                                       Representative_Docs  \n",
       "0  [verfahren erkennung objekt nahbereich ultraschallsensor erfindung betreffen verfahren betreiben zugehörig ultraschallmessystem umfelderfassungsvorrichtunge einparkhilfe fahrzeug roboter ultraschallmessystem umfassen ultraschallsensor weisen nahbereich abstand ultraschallsensor objekt ausgesendet ultraschallbursts zeitlich länge zusatzmaßnahmen erfassen verfahren verwenden ausgesendet ultraschallbursts zeitlich länge ultraschallhauptmessung objekt nahbereich ultraschallsensor aufhalten erfassen vorhandensein objekt nahbereich ultraschalsensor objekt befinden verfahren verkürzen zeitlich läng ausgesendet ultraschallburst zeitlich länge ausgesendet ultraschallburst erfassen, ultraschallsensor objekterkennung objekt nahbereich erfindung betreffen ultraschallmessystem umfelderfassungsvorrichtunge einparkhilfe fahrzeug roboter ultraschallmessystem umfassen ultraschallsensor weisen nahbereich abstand ultraschallsensor objekt ausgesendet ultraschallbursts zeitlich länge zusatzmaßnahmen erfassen verfahren verwenden ausgesendet ultraschallbursts zeitlich länge ultraschallhauptmessung objekt nahbereich ultraschallsensor aufhalten erfassen vorhandensein objekt nahbereich ultraschalsensor objekt befinden verfahren verkürzen zeitlich länge ausgesendet ultraschallburst erfassen abstand ultraschallsensor objekt, ultraschallsensor objekterkennung objekt nahbereich erfindung betreffen ultraschallmessystem umfelderfassungsvorrichtunge einparkhilfe fahrzeug roboter ultraschallmessystem umfassen ultraschallsensor weisen nahbereich abstand ultraschallsensor objekt ausgesendet ultraschallbursts zeitlich länge zusatzmaßnahmen erfassen verfahren verwenden ausgesendet ultraschallbursts zeitlich länge ultraschallhauptmessung objekt nahbereich ultraschallsensor aufhalten erfassen vorhandensein objekt nahbereich ultraschalsensor objekt befinden verfahren verkürzen zeitlich läng ausgesendet ultraschallburst zeitlich länge ausgesendet ultraschallburst erfassen abstand ultraschallsensor]  \n",
       "1                                                                                                                                                                                                                                                                                                                                                                                                                                                                                                                                               [roboter anbauteil steuervorrichtung roboter zugehörig verfahren erfindung betreffen roboter anbauteil aufweisend gehäuse angeordnet formschlüssig verbindbares kopplungsmittel ausbilden lösbar ankoppel gegenkopplungsmittel außenoberfläche glied roboter gehäuse angeordnet steuerungskomponent datum speicher umfassen physikalisch datum roboter anbauteil speichern steuerungstechnisch schnittstelle ausbilden einrichten datum speicher vorhanden physikalisch datum roboter anbauteil steuervorrichtung roboter übermitteln roboter anbauteil glied roboter ankoppeln erfindung betreffen zugehörig steuervorrichtung roboter entsprechend verfahren, robotersystem roboterlernverfahr robotersystem umfassend roboter enthaltend sensor aufgebracht extern kraft erfassen steuerung roboter steuern steuerung betriebsmodus roboter durchführen lead through lernen position muster extern kraft sensor erfassen ändern roboter bewegen, robotersystem roboter robotersystem umfassend sensor datum detektieren position objekt bewegungsmittel bewegen objekt erhalten roboter werkzeug befestigen vorbestimmt operation objekt verwendung werkzeug durchführen steuerung verwendung datum werkzeugbewegungseinrichtung werkzeug roboter bewegen werkzeug armglied seite distal arm roboter befinden werkzeugsteuerzyklus steuerzyklus roboter steuern sensor datum zyklus steuerzyklus roboter erhalten undein robotersteuerung steuer roboter sequenziell sensor erhalten datum zyklus werkzeugsteuerzyklus]  "
      ]
     },
     "execution_count": 30,
     "metadata": {},
     "output_type": "execute_result"
    }
   ],
   "source": [
    "freq = topic_model.get_topic_info(); freq.head(2)"
   ]
  },
  {
   "cell_type": "code",
   "execution_count": 31,
   "metadata": {},
   "outputs": [
    {
     "data": {
      "text/plain": [
       "False"
      ]
     },
     "execution_count": 31,
     "metadata": {},
     "output_type": "execute_result"
    }
   ],
   "source": [
    "topic_model.get_topic(5)"
   ]
  },
  {
   "cell_type": "code",
   "execution_count": 33,
   "metadata": {},
   "outputs": [
    {
     "name": "stderr",
     "output_type": "stream",
     "text": [
      "c:\\Users\\paul-\\anaconda3\\envs\\ml_angew_programm\\lib\\site-packages\\scipy\\sparse\\linalg\\_eigen\\arpack\\arpack.py:1600: RuntimeWarning:\n",
      "\n",
      "k >= N for N * N square matrix. Attempting to use scipy.linalg.eigh instead.\n",
      "\n"
     ]
    },
    {
     "ename": "TypeError",
     "evalue": "Cannot use scipy.linalg.eigh for sparse A with k >= N. Use scipy.linalg.eigh(A.toarray()) or reduce k.",
     "output_type": "error",
     "traceback": [
      "\u001b[1;31m---------------------------------------------------------------------------\u001b[0m",
      "\u001b[1;31mTypeError\u001b[0m                                 Traceback (most recent call last)",
      "Cell \u001b[1;32mIn[33], line 1\u001b[0m\n\u001b[1;32m----> 1\u001b[0m fig \u001b[38;5;241m=\u001b[39m \u001b[43mtopic_model\u001b[49m\u001b[38;5;241;43m.\u001b[39;49m\u001b[43mvisualize_topics\u001b[49m\u001b[43m(\u001b[49m\u001b[43m)\u001b[49m; fig\n",
      "File \u001b[1;32mc:\\Users\\paul-\\anaconda3\\envs\\ml_angew_programm\\lib\\site-packages\\bertopic\\_bertopic.py:2249\u001b[0m, in \u001b[0;36mBERTopic.visualize_topics\u001b[1;34m(self, topics, top_n_topics, custom_labels, title, width, height)\u001b[0m\n\u001b[0;32m   2216\u001b[0m \u001b[38;5;250m\u001b[39m\u001b[38;5;124;03m\"\"\" Visualize topics, their sizes, and their corresponding words\u001b[39;00m\n\u001b[0;32m   2217\u001b[0m \n\u001b[0;32m   2218\u001b[0m \u001b[38;5;124;03mThis visualization is highly inspired by LDAvis, a great visualization\u001b[39;00m\n\u001b[1;32m   (...)\u001b[0m\n\u001b[0;32m   2246\u001b[0m \u001b[38;5;124;03m```\u001b[39;00m\n\u001b[0;32m   2247\u001b[0m \u001b[38;5;124;03m\"\"\"\u001b[39;00m\n\u001b[0;32m   2248\u001b[0m check_is_fitted(\u001b[38;5;28mself\u001b[39m)\n\u001b[1;32m-> 2249\u001b[0m \u001b[38;5;28;01mreturn\u001b[39;00m \u001b[43mplotting\u001b[49m\u001b[38;5;241;43m.\u001b[39;49m\u001b[43mvisualize_topics\u001b[49m\u001b[43m(\u001b[49m\u001b[38;5;28;43mself\u001b[39;49m\u001b[43m,\u001b[49m\n\u001b[0;32m   2250\u001b[0m \u001b[43m                                 \u001b[49m\u001b[43mtopics\u001b[49m\u001b[38;5;241;43m=\u001b[39;49m\u001b[43mtopics\u001b[49m\u001b[43m,\u001b[49m\n\u001b[0;32m   2251\u001b[0m \u001b[43m                                 \u001b[49m\u001b[43mtop_n_topics\u001b[49m\u001b[38;5;241;43m=\u001b[39;49m\u001b[43mtop_n_topics\u001b[49m\u001b[43m,\u001b[49m\n\u001b[0;32m   2252\u001b[0m \u001b[43m                                 \u001b[49m\u001b[43mcustom_labels\u001b[49m\u001b[38;5;241;43m=\u001b[39;49m\u001b[43mcustom_labels\u001b[49m\u001b[43m,\u001b[49m\n\u001b[0;32m   2253\u001b[0m \u001b[43m                                 \u001b[49m\u001b[43mtitle\u001b[49m\u001b[38;5;241;43m=\u001b[39;49m\u001b[43mtitle\u001b[49m\u001b[43m,\u001b[49m\n\u001b[0;32m   2254\u001b[0m \u001b[43m                                 \u001b[49m\u001b[43mwidth\u001b[49m\u001b[38;5;241;43m=\u001b[39;49m\u001b[43mwidth\u001b[49m\u001b[43m,\u001b[49m\n\u001b[0;32m   2255\u001b[0m \u001b[43m                                 \u001b[49m\u001b[43mheight\u001b[49m\u001b[38;5;241;43m=\u001b[39;49m\u001b[43mheight\u001b[49m\u001b[43m)\u001b[49m\n",
      "File \u001b[1;32mc:\\Users\\paul-\\anaconda3\\envs\\ml_angew_programm\\lib\\site-packages\\bertopic\\plotting\\_topics.py:79\u001b[0m, in \u001b[0;36mvisualize_topics\u001b[1;34m(topic_model, topics, top_n_topics, custom_labels, title, width, height)\u001b[0m\n\u001b[0;32m     77\u001b[0m \u001b[38;5;28;01mif\u001b[39;00m topic_model\u001b[38;5;241m.\u001b[39mtopic_embeddings_ \u001b[38;5;129;01mis\u001b[39;00m \u001b[38;5;129;01mnot\u001b[39;00m \u001b[38;5;28;01mNone\u001b[39;00m:\n\u001b[0;32m     78\u001b[0m     embeddings \u001b[38;5;241m=\u001b[39m topic_model\u001b[38;5;241m.\u001b[39mtopic_embeddings_[indices]\n\u001b[1;32m---> 79\u001b[0m     embeddings \u001b[38;5;241m=\u001b[39m \u001b[43mUMAP\u001b[49m\u001b[43m(\u001b[49m\u001b[43mn_neighbors\u001b[49m\u001b[38;5;241;43m=\u001b[39;49m\u001b[38;5;241;43m2\u001b[39;49m\u001b[43m,\u001b[49m\u001b[43m \u001b[49m\u001b[43mn_components\u001b[49m\u001b[38;5;241;43m=\u001b[39;49m\u001b[38;5;241;43m2\u001b[39;49m\u001b[43m,\u001b[49m\u001b[43m \u001b[49m\u001b[43mmetric\u001b[49m\u001b[38;5;241;43m=\u001b[39;49m\u001b[38;5;124;43m'\u001b[39;49m\u001b[38;5;124;43mcosine\u001b[39;49m\u001b[38;5;124;43m'\u001b[39;49m\u001b[43m,\u001b[49m\u001b[43m \u001b[49m\u001b[43mrandom_state\u001b[49m\u001b[38;5;241;43m=\u001b[39;49m\u001b[38;5;241;43m42\u001b[39;49m\u001b[43m)\u001b[49m\u001b[38;5;241;43m.\u001b[39;49m\u001b[43mfit_transform\u001b[49m\u001b[43m(\u001b[49m\u001b[43membeddings\u001b[49m\u001b[43m)\u001b[49m\n\u001b[0;32m     80\u001b[0m \u001b[38;5;28;01melse\u001b[39;00m:\n\u001b[0;32m     81\u001b[0m     embeddings \u001b[38;5;241m=\u001b[39m topic_model\u001b[38;5;241m.\u001b[39mc_tf_idf_\u001b[38;5;241m.\u001b[39mtoarray()[indices]\n",
      "File \u001b[1;32mc:\\Users\\paul-\\anaconda3\\envs\\ml_angew_programm\\lib\\site-packages\\umap\\umap_.py:2891\u001b[0m, in \u001b[0;36mUMAP.fit_transform\u001b[1;34m(self, X, y, force_all_finite)\u001b[0m\n\u001b[0;32m   2855\u001b[0m \u001b[38;5;28;01mdef\u001b[39;00m \u001b[38;5;21mfit_transform\u001b[39m(\u001b[38;5;28mself\u001b[39m, X, y\u001b[38;5;241m=\u001b[39m\u001b[38;5;28;01mNone\u001b[39;00m, force_all_finite\u001b[38;5;241m=\u001b[39m\u001b[38;5;28;01mTrue\u001b[39;00m):\n\u001b[0;32m   2856\u001b[0m \u001b[38;5;250m    \u001b[39m\u001b[38;5;124;03m\"\"\"Fit X into an embedded space and return that transformed\u001b[39;00m\n\u001b[0;32m   2857\u001b[0m \u001b[38;5;124;03m    output.\u001b[39;00m\n\u001b[0;32m   2858\u001b[0m \n\u001b[1;32m   (...)\u001b[0m\n\u001b[0;32m   2889\u001b[0m \u001b[38;5;124;03m        Local radii of data points in the embedding (log-transformed).\u001b[39;00m\n\u001b[0;32m   2890\u001b[0m \u001b[38;5;124;03m    \"\"\"\u001b[39;00m\n\u001b[1;32m-> 2891\u001b[0m     \u001b[38;5;28;43mself\u001b[39;49m\u001b[38;5;241;43m.\u001b[39;49m\u001b[43mfit\u001b[49m\u001b[43m(\u001b[49m\u001b[43mX\u001b[49m\u001b[43m,\u001b[49m\u001b[43m \u001b[49m\u001b[43my\u001b[49m\u001b[43m,\u001b[49m\u001b[43m \u001b[49m\u001b[43mforce_all_finite\u001b[49m\u001b[43m)\u001b[49m\n\u001b[0;32m   2892\u001b[0m     \u001b[38;5;28;01mif\u001b[39;00m \u001b[38;5;28mself\u001b[39m\u001b[38;5;241m.\u001b[39mtransform_mode \u001b[38;5;241m==\u001b[39m \u001b[38;5;124m\"\u001b[39m\u001b[38;5;124membedding\u001b[39m\u001b[38;5;124m\"\u001b[39m:\n\u001b[0;32m   2893\u001b[0m         \u001b[38;5;28;01mif\u001b[39;00m \u001b[38;5;28mself\u001b[39m\u001b[38;5;241m.\u001b[39moutput_dens:\n",
      "File \u001b[1;32mc:\\Users\\paul-\\anaconda3\\envs\\ml_angew_programm\\lib\\site-packages\\umap\\umap_.py:2784\u001b[0m, in \u001b[0;36mUMAP.fit\u001b[1;34m(self, X, y, force_all_finite)\u001b[0m\n\u001b[0;32m   2780\u001b[0m \u001b[38;5;28;01mif\u001b[39;00m \u001b[38;5;28mself\u001b[39m\u001b[38;5;241m.\u001b[39mtransform_mode \u001b[38;5;241m==\u001b[39m \u001b[38;5;124m\"\u001b[39m\u001b[38;5;124membedding\u001b[39m\u001b[38;5;124m\"\u001b[39m:\n\u001b[0;32m   2781\u001b[0m     epochs \u001b[38;5;241m=\u001b[39m (\n\u001b[0;32m   2782\u001b[0m         \u001b[38;5;28mself\u001b[39m\u001b[38;5;241m.\u001b[39mn_epochs_list \u001b[38;5;28;01mif\u001b[39;00m \u001b[38;5;28mself\u001b[39m\u001b[38;5;241m.\u001b[39mn_epochs_list \u001b[38;5;129;01mis\u001b[39;00m \u001b[38;5;129;01mnot\u001b[39;00m \u001b[38;5;28;01mNone\u001b[39;00m \u001b[38;5;28;01melse\u001b[39;00m \u001b[38;5;28mself\u001b[39m\u001b[38;5;241m.\u001b[39mn_epochs\n\u001b[0;32m   2783\u001b[0m     )\n\u001b[1;32m-> 2784\u001b[0m     \u001b[38;5;28mself\u001b[39m\u001b[38;5;241m.\u001b[39membedding_, aux_data \u001b[38;5;241m=\u001b[39m \u001b[38;5;28;43mself\u001b[39;49m\u001b[38;5;241;43m.\u001b[39;49m\u001b[43m_fit_embed_data\u001b[49m\u001b[43m(\u001b[49m\n\u001b[0;32m   2785\u001b[0m \u001b[43m        \u001b[49m\u001b[38;5;28;43mself\u001b[39;49m\u001b[38;5;241;43m.\u001b[39;49m\u001b[43m_raw_data\u001b[49m\u001b[43m[\u001b[49m\u001b[43mindex\u001b[49m\u001b[43m]\u001b[49m\u001b[43m,\u001b[49m\n\u001b[0;32m   2786\u001b[0m \u001b[43m        \u001b[49m\u001b[43mepochs\u001b[49m\u001b[43m,\u001b[49m\n\u001b[0;32m   2787\u001b[0m \u001b[43m        \u001b[49m\u001b[43minit\u001b[49m\u001b[43m,\u001b[49m\n\u001b[0;32m   2788\u001b[0m \u001b[43m        \u001b[49m\u001b[43mrandom_state\u001b[49m\u001b[43m,\u001b[49m\u001b[43m  \u001b[49m\u001b[38;5;66;43;03m# JH why raw data?\u001b[39;49;00m\n\u001b[0;32m   2789\u001b[0m \u001b[43m    \u001b[49m\u001b[43m)\u001b[49m\n\u001b[0;32m   2791\u001b[0m     \u001b[38;5;28;01mif\u001b[39;00m \u001b[38;5;28mself\u001b[39m\u001b[38;5;241m.\u001b[39mn_epochs_list \u001b[38;5;129;01mis\u001b[39;00m \u001b[38;5;129;01mnot\u001b[39;00m \u001b[38;5;28;01mNone\u001b[39;00m:\n\u001b[0;32m   2792\u001b[0m         \u001b[38;5;28;01mif\u001b[39;00m \u001b[38;5;124m\"\u001b[39m\u001b[38;5;124membedding_list\u001b[39m\u001b[38;5;124m\"\u001b[39m \u001b[38;5;129;01mnot\u001b[39;00m \u001b[38;5;129;01min\u001b[39;00m aux_data:\n",
      "File \u001b[1;32mc:\\Users\\paul-\\anaconda3\\envs\\ml_angew_programm\\lib\\site-packages\\umap\\umap_.py:2830\u001b[0m, in \u001b[0;36mUMAP._fit_embed_data\u001b[1;34m(self, X, n_epochs, init, random_state)\u001b[0m\n\u001b[0;32m   2826\u001b[0m \u001b[38;5;28;01mdef\u001b[39;00m \u001b[38;5;21m_fit_embed_data\u001b[39m(\u001b[38;5;28mself\u001b[39m, X, n_epochs, init, random_state):\n\u001b[0;32m   2827\u001b[0m \u001b[38;5;250m    \u001b[39m\u001b[38;5;124;03m\"\"\"A method wrapper for simplicial_set_embedding that can be\u001b[39;00m\n\u001b[0;32m   2828\u001b[0m \u001b[38;5;124;03m    replaced by subclasses.\u001b[39;00m\n\u001b[0;32m   2829\u001b[0m \u001b[38;5;124;03m    \"\"\"\u001b[39;00m\n\u001b[1;32m-> 2830\u001b[0m     \u001b[38;5;28;01mreturn\u001b[39;00m \u001b[43msimplicial_set_embedding\u001b[49m\u001b[43m(\u001b[49m\n\u001b[0;32m   2831\u001b[0m \u001b[43m        \u001b[49m\u001b[43mX\u001b[49m\u001b[43m,\u001b[49m\n\u001b[0;32m   2832\u001b[0m \u001b[43m        \u001b[49m\u001b[38;5;28;43mself\u001b[39;49m\u001b[38;5;241;43m.\u001b[39;49m\u001b[43mgraph_\u001b[49m\u001b[43m,\u001b[49m\n\u001b[0;32m   2833\u001b[0m \u001b[43m        \u001b[49m\u001b[38;5;28;43mself\u001b[39;49m\u001b[38;5;241;43m.\u001b[39;49m\u001b[43mn_components\u001b[49m\u001b[43m,\u001b[49m\n\u001b[0;32m   2834\u001b[0m \u001b[43m        \u001b[49m\u001b[38;5;28;43mself\u001b[39;49m\u001b[38;5;241;43m.\u001b[39;49m\u001b[43m_initial_alpha\u001b[49m\u001b[43m,\u001b[49m\n\u001b[0;32m   2835\u001b[0m \u001b[43m        \u001b[49m\u001b[38;5;28;43mself\u001b[39;49m\u001b[38;5;241;43m.\u001b[39;49m\u001b[43m_a\u001b[49m\u001b[43m,\u001b[49m\n\u001b[0;32m   2836\u001b[0m \u001b[43m        \u001b[49m\u001b[38;5;28;43mself\u001b[39;49m\u001b[38;5;241;43m.\u001b[39;49m\u001b[43m_b\u001b[49m\u001b[43m,\u001b[49m\n\u001b[0;32m   2837\u001b[0m \u001b[43m        \u001b[49m\u001b[38;5;28;43mself\u001b[39;49m\u001b[38;5;241;43m.\u001b[39;49m\u001b[43mrepulsion_strength\u001b[49m\u001b[43m,\u001b[49m\n\u001b[0;32m   2838\u001b[0m \u001b[43m        \u001b[49m\u001b[38;5;28;43mself\u001b[39;49m\u001b[38;5;241;43m.\u001b[39;49m\u001b[43mnegative_sample_rate\u001b[49m\u001b[43m,\u001b[49m\n\u001b[0;32m   2839\u001b[0m \u001b[43m        \u001b[49m\u001b[43mn_epochs\u001b[49m\u001b[43m,\u001b[49m\n\u001b[0;32m   2840\u001b[0m \u001b[43m        \u001b[49m\u001b[43minit\u001b[49m\u001b[43m,\u001b[49m\n\u001b[0;32m   2841\u001b[0m \u001b[43m        \u001b[49m\u001b[43mrandom_state\u001b[49m\u001b[43m,\u001b[49m\n\u001b[0;32m   2842\u001b[0m \u001b[43m        \u001b[49m\u001b[38;5;28;43mself\u001b[39;49m\u001b[38;5;241;43m.\u001b[39;49m\u001b[43m_input_distance_func\u001b[49m\u001b[43m,\u001b[49m\n\u001b[0;32m   2843\u001b[0m \u001b[43m        \u001b[49m\u001b[38;5;28;43mself\u001b[39;49m\u001b[38;5;241;43m.\u001b[39;49m\u001b[43m_metric_kwds\u001b[49m\u001b[43m,\u001b[49m\n\u001b[0;32m   2844\u001b[0m \u001b[43m        \u001b[49m\u001b[38;5;28;43mself\u001b[39;49m\u001b[38;5;241;43m.\u001b[39;49m\u001b[43mdensmap\u001b[49m\u001b[43m,\u001b[49m\n\u001b[0;32m   2845\u001b[0m \u001b[43m        \u001b[49m\u001b[38;5;28;43mself\u001b[39;49m\u001b[38;5;241;43m.\u001b[39;49m\u001b[43m_densmap_kwds\u001b[49m\u001b[43m,\u001b[49m\n\u001b[0;32m   2846\u001b[0m \u001b[43m        \u001b[49m\u001b[38;5;28;43mself\u001b[39;49m\u001b[38;5;241;43m.\u001b[39;49m\u001b[43moutput_dens\u001b[49m\u001b[43m,\u001b[49m\n\u001b[0;32m   2847\u001b[0m \u001b[43m        \u001b[49m\u001b[38;5;28;43mself\u001b[39;49m\u001b[38;5;241;43m.\u001b[39;49m\u001b[43m_output_distance_func\u001b[49m\u001b[43m,\u001b[49m\n\u001b[0;32m   2848\u001b[0m \u001b[43m        \u001b[49m\u001b[38;5;28;43mself\u001b[39;49m\u001b[38;5;241;43m.\u001b[39;49m\u001b[43m_output_metric_kwds\u001b[49m\u001b[43m,\u001b[49m\n\u001b[0;32m   2849\u001b[0m \u001b[43m        \u001b[49m\u001b[38;5;28;43mself\u001b[39;49m\u001b[38;5;241;43m.\u001b[39;49m\u001b[43moutput_metric\u001b[49m\u001b[43m \u001b[49m\u001b[38;5;129;43;01min\u001b[39;49;00m\u001b[43m \u001b[49m\u001b[43m(\u001b[49m\u001b[38;5;124;43m\"\u001b[39;49m\u001b[38;5;124;43meuclidean\u001b[39;49m\u001b[38;5;124;43m\"\u001b[39;49m\u001b[43m,\u001b[49m\u001b[43m \u001b[49m\u001b[38;5;124;43m\"\u001b[39;49m\u001b[38;5;124;43ml2\u001b[39;49m\u001b[38;5;124;43m\"\u001b[39;49m\u001b[43m)\u001b[49m\u001b[43m,\u001b[49m\n\u001b[0;32m   2850\u001b[0m \u001b[43m        \u001b[49m\u001b[38;5;28;43mself\u001b[39;49m\u001b[38;5;241;43m.\u001b[39;49m\u001b[43mrandom_state\u001b[49m\u001b[43m \u001b[49m\u001b[38;5;129;43;01mis\u001b[39;49;00m\u001b[43m \u001b[49m\u001b[38;5;28;43;01mNone\u001b[39;49;00m\u001b[43m,\u001b[49m\n\u001b[0;32m   2851\u001b[0m \u001b[43m        \u001b[49m\u001b[38;5;28;43mself\u001b[39;49m\u001b[38;5;241;43m.\u001b[39;49m\u001b[43mverbose\u001b[49m\u001b[43m,\u001b[49m\n\u001b[0;32m   2852\u001b[0m \u001b[43m        \u001b[49m\u001b[43mtqdm_kwds\u001b[49m\u001b[38;5;241;43m=\u001b[39;49m\u001b[38;5;28;43mself\u001b[39;49m\u001b[38;5;241;43m.\u001b[39;49m\u001b[43mtqdm_kwds\u001b[49m\u001b[43m,\u001b[49m\n\u001b[0;32m   2853\u001b[0m \u001b[43m    \u001b[49m\u001b[43m)\u001b[49m\n",
      "File \u001b[1;32mc:\\Users\\paul-\\anaconda3\\envs\\ml_angew_programm\\lib\\site-packages\\umap\\umap_.py:1107\u001b[0m, in \u001b[0;36msimplicial_set_embedding\u001b[1;34m(data, graph, n_components, initial_alpha, a, b, gamma, negative_sample_rate, n_epochs, init, random_state, metric, metric_kwds, densmap, densmap_kwds, output_dens, output_metric, output_metric_kwds, euclidean_output, parallel, verbose, tqdm_kwds)\u001b[0m\n\u001b[0;32m   1103\u001b[0m     embedding \u001b[38;5;241m=\u001b[39m noisy_scale_coords(\n\u001b[0;32m   1104\u001b[0m         embedding, random_state, max_coord\u001b[38;5;241m=\u001b[39m\u001b[38;5;241m10\u001b[39m, noise\u001b[38;5;241m=\u001b[39m\u001b[38;5;241m0.0001\u001b[39m\n\u001b[0;32m   1105\u001b[0m     )\n\u001b[0;32m   1106\u001b[0m \u001b[38;5;28;01melif\u001b[39;00m \u001b[38;5;28misinstance\u001b[39m(init, \u001b[38;5;28mstr\u001b[39m) \u001b[38;5;129;01mand\u001b[39;00m init \u001b[38;5;241m==\u001b[39m \u001b[38;5;124m\"\u001b[39m\u001b[38;5;124mspectral\u001b[39m\u001b[38;5;124m\"\u001b[39m:\n\u001b[1;32m-> 1107\u001b[0m     embedding \u001b[38;5;241m=\u001b[39m \u001b[43mspectral_layout\u001b[49m\u001b[43m(\u001b[49m\n\u001b[0;32m   1108\u001b[0m \u001b[43m        \u001b[49m\u001b[43mdata\u001b[49m\u001b[43m,\u001b[49m\n\u001b[0;32m   1109\u001b[0m \u001b[43m        \u001b[49m\u001b[43mgraph\u001b[49m\u001b[43m,\u001b[49m\n\u001b[0;32m   1110\u001b[0m \u001b[43m        \u001b[49m\u001b[43mn_components\u001b[49m\u001b[43m,\u001b[49m\n\u001b[0;32m   1111\u001b[0m \u001b[43m        \u001b[49m\u001b[43mrandom_state\u001b[49m\u001b[43m,\u001b[49m\n\u001b[0;32m   1112\u001b[0m \u001b[43m        \u001b[49m\u001b[43mmetric\u001b[49m\u001b[38;5;241;43m=\u001b[39;49m\u001b[43mmetric\u001b[49m\u001b[43m,\u001b[49m\n\u001b[0;32m   1113\u001b[0m \u001b[43m        \u001b[49m\u001b[43mmetric_kwds\u001b[49m\u001b[38;5;241;43m=\u001b[39;49m\u001b[43mmetric_kwds\u001b[49m\u001b[43m,\u001b[49m\n\u001b[0;32m   1114\u001b[0m \u001b[43m    \u001b[49m\u001b[43m)\u001b[49m\n\u001b[0;32m   1115\u001b[0m     \u001b[38;5;66;03m# We add a little noise to avoid local minima for optimization to come\u001b[39;00m\n\u001b[0;32m   1116\u001b[0m     embedding \u001b[38;5;241m=\u001b[39m noisy_scale_coords(\n\u001b[0;32m   1117\u001b[0m         embedding, random_state, max_coord\u001b[38;5;241m=\u001b[39m\u001b[38;5;241m10\u001b[39m, noise\u001b[38;5;241m=\u001b[39m\u001b[38;5;241m0.0001\u001b[39m\n\u001b[0;32m   1118\u001b[0m     )\n",
      "File \u001b[1;32mc:\\Users\\paul-\\anaconda3\\envs\\ml_angew_programm\\lib\\site-packages\\umap\\spectral.py:304\u001b[0m, in \u001b[0;36mspectral_layout\u001b[1;34m(data, graph, dim, random_state, metric, metric_kwds, tol, maxiter)\u001b[0m\n\u001b[0;32m    263\u001b[0m \u001b[38;5;28;01mdef\u001b[39;00m \u001b[38;5;21mspectral_layout\u001b[39m(\n\u001b[0;32m    264\u001b[0m     data,\n\u001b[0;32m    265\u001b[0m     graph,\n\u001b[1;32m   (...)\u001b[0m\n\u001b[0;32m    271\u001b[0m     maxiter\u001b[38;5;241m=\u001b[39m\u001b[38;5;241m0\u001b[39m\n\u001b[0;32m    272\u001b[0m ):\n\u001b[0;32m    273\u001b[0m \u001b[38;5;250m    \u001b[39m\u001b[38;5;124;03m\"\"\"\u001b[39;00m\n\u001b[0;32m    274\u001b[0m \u001b[38;5;124;03m    Given a graph compute the spectral embedding of the graph. This is\u001b[39;00m\n\u001b[0;32m    275\u001b[0m \u001b[38;5;124;03m    simply the eigenvectors of the laplacian of the graph. Here we use the\u001b[39;00m\n\u001b[1;32m   (...)\u001b[0m\n\u001b[0;32m    302\u001b[0m \u001b[38;5;124;03m        The spectral embedding of the graph.\u001b[39;00m\n\u001b[0;32m    303\u001b[0m \u001b[38;5;124;03m    \"\"\"\u001b[39;00m\n\u001b[1;32m--> 304\u001b[0m     \u001b[38;5;28;01mreturn\u001b[39;00m \u001b[43m_spectral_layout\u001b[49m\u001b[43m(\u001b[49m\n\u001b[0;32m    305\u001b[0m \u001b[43m        \u001b[49m\u001b[43mdata\u001b[49m\u001b[38;5;241;43m=\u001b[39;49m\u001b[43mdata\u001b[49m\u001b[43m,\u001b[49m\n\u001b[0;32m    306\u001b[0m \u001b[43m        \u001b[49m\u001b[43mgraph\u001b[49m\u001b[38;5;241;43m=\u001b[39;49m\u001b[43mgraph\u001b[49m\u001b[43m,\u001b[49m\n\u001b[0;32m    307\u001b[0m \u001b[43m        \u001b[49m\u001b[43mdim\u001b[49m\u001b[38;5;241;43m=\u001b[39;49m\u001b[43mdim\u001b[49m\u001b[43m,\u001b[49m\n\u001b[0;32m    308\u001b[0m \u001b[43m        \u001b[49m\u001b[43mrandom_state\u001b[49m\u001b[38;5;241;43m=\u001b[39;49m\u001b[43mrandom_state\u001b[49m\u001b[43m,\u001b[49m\n\u001b[0;32m    309\u001b[0m \u001b[43m        \u001b[49m\u001b[43mmetric\u001b[49m\u001b[38;5;241;43m=\u001b[39;49m\u001b[43mmetric\u001b[49m\u001b[43m,\u001b[49m\n\u001b[0;32m    310\u001b[0m \u001b[43m        \u001b[49m\u001b[43mmetric_kwds\u001b[49m\u001b[38;5;241;43m=\u001b[39;49m\u001b[43mmetric_kwds\u001b[49m\u001b[43m,\u001b[49m\n\u001b[0;32m    311\u001b[0m \u001b[43m        \u001b[49m\u001b[43minit\u001b[49m\u001b[38;5;241;43m=\u001b[39;49m\u001b[38;5;124;43m\"\u001b[39;49m\u001b[38;5;124;43mrandom\u001b[39;49m\u001b[38;5;124;43m\"\u001b[39;49m\u001b[43m,\u001b[49m\n\u001b[0;32m    312\u001b[0m \u001b[43m        \u001b[49m\u001b[43mtol\u001b[49m\u001b[38;5;241;43m=\u001b[39;49m\u001b[43mtol\u001b[49m\u001b[43m,\u001b[49m\n\u001b[0;32m    313\u001b[0m \u001b[43m        \u001b[49m\u001b[43mmaxiter\u001b[49m\u001b[38;5;241;43m=\u001b[39;49m\u001b[43mmaxiter\u001b[49m\n\u001b[0;32m    314\u001b[0m \u001b[43m    \u001b[49m\u001b[43m)\u001b[49m\n",
      "File \u001b[1;32mc:\\Users\\paul-\\anaconda3\\envs\\ml_angew_programm\\lib\\site-packages\\umap\\spectral.py:521\u001b[0m, in \u001b[0;36m_spectral_layout\u001b[1;34m(data, graph, dim, random_state, metric, metric_kwds, init, method, tol, maxiter)\u001b[0m\n\u001b[0;32m    518\u001b[0m X[:, \u001b[38;5;241m0\u001b[39m] \u001b[38;5;241m=\u001b[39m sqrt_deg \u001b[38;5;241m/\u001b[39m np\u001b[38;5;241m.\u001b[39mlinalg\u001b[38;5;241m.\u001b[39mnorm(sqrt_deg)\n\u001b[0;32m    520\u001b[0m \u001b[38;5;28;01mif\u001b[39;00m method \u001b[38;5;241m==\u001b[39m \u001b[38;5;124m\"\u001b[39m\u001b[38;5;124meigsh\u001b[39m\u001b[38;5;124m\"\u001b[39m:\n\u001b[1;32m--> 521\u001b[0m     eigenvalues, eigenvectors \u001b[38;5;241m=\u001b[39m \u001b[43mscipy\u001b[49m\u001b[38;5;241;43m.\u001b[39;49m\u001b[43msparse\u001b[49m\u001b[38;5;241;43m.\u001b[39;49m\u001b[43mlinalg\u001b[49m\u001b[38;5;241;43m.\u001b[39;49m\u001b[43meigsh\u001b[49m\u001b[43m(\u001b[49m\n\u001b[0;32m    522\u001b[0m \u001b[43m        \u001b[49m\u001b[43mL\u001b[49m\u001b[43m,\u001b[49m\n\u001b[0;32m    523\u001b[0m \u001b[43m        \u001b[49m\u001b[43mk\u001b[49m\u001b[43m,\u001b[49m\n\u001b[0;32m    524\u001b[0m \u001b[43m        \u001b[49m\u001b[43mwhich\u001b[49m\u001b[38;5;241;43m=\u001b[39;49m\u001b[38;5;124;43m\"\u001b[39;49m\u001b[38;5;124;43mSM\u001b[39;49m\u001b[38;5;124;43m\"\u001b[39;49m\u001b[43m,\u001b[49m\n\u001b[0;32m    525\u001b[0m \u001b[43m        \u001b[49m\u001b[43mncv\u001b[49m\u001b[38;5;241;43m=\u001b[39;49m\u001b[43mnum_lanczos_vectors\u001b[49m\u001b[43m,\u001b[49m\n\u001b[0;32m    526\u001b[0m \u001b[43m        \u001b[49m\u001b[43mtol\u001b[49m\u001b[38;5;241;43m=\u001b[39;49m\u001b[43mtol\u001b[49m\u001b[43m \u001b[49m\u001b[38;5;129;43;01mor\u001b[39;49;00m\u001b[43m \u001b[49m\u001b[38;5;241;43m1e-4\u001b[39;49m\u001b[43m,\u001b[49m\n\u001b[0;32m    527\u001b[0m \u001b[43m        \u001b[49m\u001b[43mv0\u001b[49m\u001b[38;5;241;43m=\u001b[39;49m\u001b[43mnp\u001b[49m\u001b[38;5;241;43m.\u001b[39;49m\u001b[43mones\u001b[49m\u001b[43m(\u001b[49m\u001b[43mL\u001b[49m\u001b[38;5;241;43m.\u001b[39;49m\u001b[43mshape\u001b[49m\u001b[43m[\u001b[49m\u001b[38;5;241;43m0\u001b[39;49m\u001b[43m]\u001b[49m\u001b[43m)\u001b[49m\u001b[43m,\u001b[49m\n\u001b[0;32m    528\u001b[0m \u001b[43m        \u001b[49m\u001b[43mmaxiter\u001b[49m\u001b[38;5;241;43m=\u001b[39;49m\u001b[43mmaxiter\u001b[49m\u001b[43m \u001b[49m\u001b[38;5;129;43;01mor\u001b[39;49;00m\u001b[43m \u001b[49m\u001b[43mgraph\u001b[49m\u001b[38;5;241;43m.\u001b[39;49m\u001b[43mshape\u001b[49m\u001b[43m[\u001b[49m\u001b[38;5;241;43m0\u001b[39;49m\u001b[43m]\u001b[49m\u001b[43m \u001b[49m\u001b[38;5;241;43m*\u001b[39;49m\u001b[43m \u001b[49m\u001b[38;5;241;43m5\u001b[39;49m\u001b[43m,\u001b[49m\n\u001b[0;32m    529\u001b[0m \u001b[43m    \u001b[49m\u001b[43m)\u001b[49m\n\u001b[0;32m    530\u001b[0m \u001b[38;5;28;01melif\u001b[39;00m method \u001b[38;5;241m==\u001b[39m \u001b[38;5;124m\"\u001b[39m\u001b[38;5;124mlobpcg\u001b[39m\u001b[38;5;124m\"\u001b[39m:\n\u001b[0;32m    531\u001b[0m     \u001b[38;5;28;01mwith\u001b[39;00m warnings\u001b[38;5;241m.\u001b[39mcatch_warnings():\n",
      "File \u001b[1;32mc:\\Users\\paul-\\anaconda3\\envs\\ml_angew_programm\\lib\\site-packages\\scipy\\sparse\\linalg\\_eigen\\arpack\\arpack.py:1605\u001b[0m, in \u001b[0;36meigsh\u001b[1;34m(A, k, M, sigma, which, v0, ncv, maxiter, tol, return_eigenvectors, Minv, OPinv, mode)\u001b[0m\n\u001b[0;32m   1600\u001b[0m warnings\u001b[38;5;241m.\u001b[39mwarn(\u001b[38;5;124m\"\u001b[39m\u001b[38;5;124mk >= N for N * N square matrix. \u001b[39m\u001b[38;5;124m\"\u001b[39m\n\u001b[0;32m   1601\u001b[0m               \u001b[38;5;124m\"\u001b[39m\u001b[38;5;124mAttempting to use scipy.linalg.eigh instead.\u001b[39m\u001b[38;5;124m\"\u001b[39m,\n\u001b[0;32m   1602\u001b[0m               \u001b[38;5;167;01mRuntimeWarning\u001b[39;00m)\n\u001b[0;32m   1604\u001b[0m \u001b[38;5;28;01mif\u001b[39;00m issparse(A):\n\u001b[1;32m-> 1605\u001b[0m     \u001b[38;5;28;01mraise\u001b[39;00m \u001b[38;5;167;01mTypeError\u001b[39;00m(\u001b[38;5;124m\"\u001b[39m\u001b[38;5;124mCannot use scipy.linalg.eigh for sparse A with \u001b[39m\u001b[38;5;124m\"\u001b[39m\n\u001b[0;32m   1606\u001b[0m                     \u001b[38;5;124m\"\u001b[39m\u001b[38;5;124mk >= N. Use scipy.linalg.eigh(A.toarray()) or\u001b[39m\u001b[38;5;124m\"\u001b[39m\n\u001b[0;32m   1607\u001b[0m                     \u001b[38;5;124m\"\u001b[39m\u001b[38;5;124m reduce k.\u001b[39m\u001b[38;5;124m\"\u001b[39m)\n\u001b[0;32m   1608\u001b[0m \u001b[38;5;28;01mif\u001b[39;00m \u001b[38;5;28misinstance\u001b[39m(A, LinearOperator):\n\u001b[0;32m   1609\u001b[0m     \u001b[38;5;28;01mraise\u001b[39;00m \u001b[38;5;167;01mTypeError\u001b[39;00m(\u001b[38;5;124m\"\u001b[39m\u001b[38;5;124mCannot use scipy.linalg.eigh for LinearOperator \u001b[39m\u001b[38;5;124m\"\u001b[39m\n\u001b[0;32m   1610\u001b[0m                     \u001b[38;5;124m\"\u001b[39m\u001b[38;5;124mA with k >= N.\u001b[39m\u001b[38;5;124m\"\u001b[39m)\n",
      "\u001b[1;31mTypeError\u001b[0m: Cannot use scipy.linalg.eigh for sparse A with k >= N. Use scipy.linalg.eigh(A.toarray()) or reduce k."
     ]
    }
   ],
   "source": [
    "fig = topic_model.visualize_topics(); fig"
   ]
  }
 ],
 "metadata": {
  "kernelspec": {
   "display_name": "ml_angew_programm",
   "language": "python",
   "name": "python3"
  },
  "language_info": {
   "codemirror_mode": {
    "name": "ipython",
    "version": 3
   },
   "file_extension": ".py",
   "mimetype": "text/x-python",
   "name": "python",
   "nbconvert_exporter": "python",
   "pygments_lexer": "ipython3",
   "version": "3.8.19"
  }
 },
 "nbformat": 4,
 "nbformat_minor": 2
}
